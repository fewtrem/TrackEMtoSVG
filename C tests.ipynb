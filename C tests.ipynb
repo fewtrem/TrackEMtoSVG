{
 "metadata": {
  "name": ""
 },
 "nbformat": 3,
 "nbformat_minor": 0,
 "worksheets": [
  {
   "cells": [
    {
     "cell_type": "code",
     "collapsed": false,
     "input": [
      "import ctypes\n",
      "lib = ctypes.cdll.LoadLibrary('./cVersion.so')\n",
      "cgetRotMat = lib.getRotMat\n",
      "cdoRot = lib.doRot\n",
      "caddSphere = lib.addSphere\n",
      "cdoCirc = lib.doCirc"
     ],
     "language": "python",
     "metadata": {},
     "outputs": [],
     "prompt_number": 1
    },
    {
     "cell_type": "code",
     "collapsed": false,
     "input": [
      "from numpy.ctypeslib import ndpointer\n",
      "cgetRotMat.restype = ndpointer(dtype=ctypes.c_float, shape=(9,))\n",
      "cdoRot.restype = ndpointer(dtype=ctypes.c_float, shape=(3,))\n",
      "cdoCirc.restype = ndpointer(dtype=ctypes.c_float, shape=(6,))\n",
      "caddSphere.restype = ndpointer(dtype=ctypes.c_double, shape=(3,))"
     ],
     "language": "python",
     "metadata": {},
     "outputs": [],
     "prompt_number": 2
    },
    {
     "cell_type": "code",
     "collapsed": false,
     "input": [
      "%pylab inline"
     ],
     "language": "python",
     "metadata": {},
     "outputs": [
      {
       "output_type": "stream",
       "stream": "stdout",
       "text": [
        "Populating the interactive namespace from numpy and matplotlib\n"
       ]
      }
     ],
     "prompt_number": 3
    },
    {
     "cell_type": "heading",
     "level": 3,
     "metadata": {},
     "source": [
      "getRotMat"
     ]
    },
    {
     "cell_type": "code",
     "collapsed": false,
     "input": [
      "'''\n",
      "https://en.wikipedia.org/wiki/Euler%E2%80%93Rodrigues_formula\n",
      "'''\n",
      "def getRotMat(vectIn,angIn):\n",
      "    a = np.cos(angIn)\n",
      "    b = vectIn[0]*np.sin(angIn)\n",
      "    c = vectIn[1]*np.sin(angIn)\n",
      "    d = vectIn[2]*np.sin(angIn)\n",
      "    return np.matrix([[a*a+b*b-c*c-d*d,2*(b*c-d*a),2*(b*d+a*c)],\\\n",
      "                      [2*(b*c+a*d),a*a+c*c-b*b-d*d,2*(c*d-a*b)],\\\n",
      "                      [2*(b*d-a*c),2*(c*d+a*b),a*a+d*d-c*c-b*b]])"
     ],
     "language": "python",
     "metadata": {},
     "outputs": [],
     "prompt_number": 4
    },
    {
     "cell_type": "code",
     "collapsed": false,
     "input": [
      "initialVector = np.array((2,3,4))"
     ],
     "language": "python",
     "metadata": {},
     "outputs": [],
     "prompt_number": 5
    },
    {
     "cell_type": "code",
     "collapsed": false,
     "input": [
      "rotMat = getRotMat(initialVector,0.1)\n",
      "print rotMat"
     ],
     "language": "python",
     "metadata": {},
     "outputs": [
      {
       "output_type": "stream",
       "stream": "stdout",
       "text": [
        "[[ 0.78073236 -0.67507679  0.75547537]\n",
        " [ 0.91427786  0.88039947 -0.1581376 ]\n",
        " [-0.43654062  0.63653973  1.01993342]]\n"
       ]
      }
     ],
     "prompt_number": 42
    },
    {
     "cell_type": "markdown",
     "metadata": {},
     "source": [
      "float * getRotMat(float vectIn[3],float angIn)"
     ]
    },
    {
     "cell_type": "code",
     "collapsed": false,
     "input": [
      "initialVectorP = (ctypes.c_float * len(initialVector))(*initialVector)\n",
      "gRM = cgetRotMat(initialVectorP,ctypes.c_float(0.1))\n",
      "print gRM"
     ],
     "language": "python",
     "metadata": {},
     "outputs": [
      {
       "output_type": "stream",
       "stream": "stdout",
       "text": [
        "[ 0.78073239 -0.67507684  0.7554754   0.91427791  0.88039953 -0.1581376\n",
        " -0.4365406   0.63653976  1.01993358]\n"
       ]
      }
     ],
     "prompt_number": 28
    },
    {
     "cell_type": "markdown",
     "metadata": {},
     "source": [
      "Works"
     ]
    },
    {
     "cell_type": "heading",
     "level": 3,
     "metadata": {},
     "source": [
      "doRot"
     ]
    },
    {
     "cell_type": "code",
     "collapsed": false,
     "input": [
      "toRot = np.array((1,2,3))"
     ],
     "language": "python",
     "metadata": {},
     "outputs": [],
     "prompt_number": 38
    },
    {
     "cell_type": "code",
     "collapsed": false,
     "input": [
      "m2 = np.matrix.transpose(np.matrix(toRot))\n",
      "m2 = np.dot(rotMat,m2)\n",
      "print m2"
     ],
     "language": "python",
     "metadata": {},
     "outputs": [
      {
       "output_type": "stream",
       "stream": "stdout",
       "text": [
        "[[ 1.69700488]\n",
        " [ 2.200664  ]\n",
        " [ 3.89633911]]\n"
       ]
      }
     ],
     "prompt_number": 36
    },
    {
     "cell_type": "markdown",
     "metadata": {},
     "source": [
      "float * doRot(float rotMat[9],float vectIn[9]){"
     ]
    },
    {
     "cell_type": "code",
     "collapsed": false,
     "input": [
      "toRotP = (ctypes.c_float * len(toRot))(*toRot)\n",
      "gRMP = (ctypes.c_float * len(gRM))(*gRM)\n",
      "m2c = cdoRot(gRMP,toRotP)\n",
      "print m2c"
     ],
     "language": "python",
     "metadata": {},
     "outputs": [
      {
       "output_type": "stream",
       "stream": "stdout",
       "text": [
        "[ 1.6970048   2.20066404  3.89633942]\n"
       ]
      }
     ],
     "prompt_number": 45
    },
    {
     "cell_type": "markdown",
     "metadata": {},
     "source": [
      "Good, this also seems to work"
     ]
    },
    {
     "cell_type": "heading",
     "level": 3,
     "metadata": {},
     "source": [
      "doCirc"
     ]
    },
    {
     "cell_type": "markdown",
     "metadata": {},
     "source": [
      "* perpDir - perpendicular direction\n",
      "* dirCirc - initial direction\n",
      "* centrePoint - central point\n",
      "* outputImgP - pointer to output image (uint8)\n",
      "* outputSize - outputDims\n",
      "* rotAmount - the amount of rotation to do each time in radians\n",
      "* radius - radius of the pipe\n",
      "* incAmount - increment on position to do each time\n",
      "* */\n",
      "int doCirc(<BR>float perpDir[3],<BR>float dirCirc[3],<BR>float centrePoint[3],<BR> uint8_t * outputImgP,<BR>int outputSize[3],<BR>float rotAmount,<BR>float radius,<BR>float incAmount<BR>){"
     ]
    },
    {
     "cell_type": "code",
     "collapsed": false,
     "input": [
      "# Set params:\n",
      "outputImg = np.zeros((100,100,100),dtype=np.uint8)\n",
      "outputImg = np.ascontiguousarray(outputImg)\n",
      "perpDir = np.array((82.08,25.92,-12.96))\n",
      "centrePoint = np.array((50,50,50))\n",
      "rotAmount = 0.01\n",
      "radius = 10.0\n",
      "incAmount = 0.5\n",
      "# Calculatable things:\n",
      "outputSize = outputImg.shape\n",
      "tDir = perpDir.copy()\n",
      "tMax = np.argmax(np.abs(perpDir))\n",
      "tDir[tMax] = -perpDir[tMax]\n",
      "initDir = np.cross(tDir,perpDir)\n",
      "initDirN = initDir/np.sqrt(np.sum(np.power(initDir,2)))\n",
      "print tMax\n",
      "print tDir\n",
      "print centrePoint\n",
      "print initDirN\n",
      "print perpDir\n",
      "print np.dot(initDirN,perpDir)\n",
      "# Pointers:\n",
      "perpDirP = (ctypes.c_float * len(perpDir))(*perpDir)\n",
      "initDirNP = (ctypes.c_float * len(initDirN))(*initDirN)\n",
      "centrePointP = (ctypes.c_float * len(centrePoint))(*centrePoint)\n",
      "outputSizeP = (ctypes.c_int * len(outputSize))(*outputSize)"
     ],
     "language": "python",
     "metadata": {},
     "outputs": [
      {
       "output_type": "stream",
       "stream": "stdout",
       "text": [
        "0\n",
        "[-82.08  25.92 -12.96]\n",
        "[50 50 50]\n",
        "[ 0.         -0.4472136  -0.89442719]\n",
        "[ 82.08  25.92 -12.96]\n",
        "0.0\n"
       ]
      }
     ],
     "prompt_number": 5
    },
    {
     "cell_type": "code",
     "collapsed": false,
     "input": [
      "# Do the function:\n",
      "print cdoCirc(perpDirP,\n",
      "        initDirNP,\n",
      "        centrePointP,\n",
      "        ctypes.c_void_p(outputImg.ctypes.data),\n",
      "        outputSizeP,\n",
      "        ctypes.c_float(rotAmount),\n",
      "        ctypes.c_float(radius),\n",
      "        ctypes.c_float(incAmount))"
     ],
     "language": "python",
     "metadata": {},
     "outputs": [
      {
       "output_type": "stream",
       "stream": "stdout",
       "text": [
        "[ -39.67332458  276.30273438  426.33944702    8.96733284  -22.63027191\n",
        "  -37.63394547]\n"
       ]
      }
     ],
     "prompt_number": 6
    },
    {
     "cell_type": "code",
     "collapsed": false,
     "input": [
      "import nrrd\n",
      "nrrd.write(\"/media/s1144899/OS/Temp/trackEM2/cOutput1.nrrd\",outputImg*255)"
     ],
     "language": "python",
     "metadata": {},
     "outputs": [],
     "prompt_number": 9
    },
    {
     "cell_type": "markdown",
     "metadata": {},
     "source": [
      "Seems to Work"
     ]
    },
    {
     "cell_type": "code",
     "collapsed": false,
     "input": [
      "import ctypes\n",
      "import numpy as np\n",
      "\n",
      "from numpy.ctypeslib import ndpointer\n",
      "lib2 = ctypes.cdll.LoadLibrary('./cVersion2.so')\n",
      "caddSphere = lib2.addSphere\n",
      "caddSphere.restype = ndpointer(dtype=ctypes.c_double, shape=(3,))"
     ],
     "language": "python",
     "metadata": {},
     "outputs": [],
     "prompt_number": 1
    },
    {
     "cell_type": "code",
     "collapsed": false,
     "input": [
      "# Set params:\n",
      "outputImg = np.zeros((100,100,100),dtype=np.uint8)\n",
      "outputImg = np.ascontiguousarray(outputImg)\n",
      "centrePoint = np.array((50,50,50))\n",
      "rotAmount = 0.01\n",
      "radius = 10.0\n",
      "incAmount = 0.5\n",
      "# Calculatable things:\n",
      "outputSize = outputImg.shape\n",
      "# Pointers:\n",
      "centrePointP = (ctypes.c_double * len(centrePoint))(*centrePoint)\n",
      "outputSizeP = (ctypes.c_int * len(outputSize))(*outputSize)"
     ],
     "language": "python",
     "metadata": {},
     "outputs": [],
     "prompt_number": 2
    },
    {
     "cell_type": "code",
     "collapsed": false,
     "input": [
      "# Do the function:\n",
      "print caddSphere(centrePointP,\n",
      "        ctypes.c_void_p(outputImg.ctypes.data),\n",
      "        outputSizeP,\n",
      "        ctypes.c_double(rotAmount),\n",
      "        ctypes.c_double(radius),\n",
      "        ctypes.c_double(incAmount))"
     ],
     "language": "python",
     "metadata": {},
     "outputs": [
      {
       "output_type": "stream",
       "stream": "stdout",
       "text": [
        "[ 0.  0.  0.]\n"
       ]
      }
     ],
     "prompt_number": 3
    },
    {
     "cell_type": "code",
     "collapsed": false,
     "input": [
      "import nrrd\n",
      "nrrd.write(\"/media/s1144899/OS/Temp/trackEM2/cOutput1.nrrd\",outputImg*255)"
     ],
     "language": "python",
     "metadata": {},
     "outputs": [],
     "prompt_number": 4
    },
    {
     "cell_type": "code",
     "collapsed": false,
     "input": [],
     "language": "python",
     "metadata": {},
     "outputs": []
    }
   ],
   "metadata": {}
  }
 ]
}