{
 "metadata": {
  "name": ""
 },
 "nbformat": 3,
 "nbformat_minor": 0,
 "worksheets": [
  {
   "cells": [
    {
     "cell_type": "heading",
     "level": 3,
     "metadata": {},
     "source": [
      "Disecting the XML File:"
     ]
    },
    {
     "cell_type": "markdown",
     "metadata": {},
     "source": [
      "Load the XML file:"
     ]
    },
    {
     "cell_type": "code",
     "collapsed": false,
     "input": [
      "import xml.etree.ElementTree as ET\n",
      "tree = ET.parse('untitled.xml')\n",
      "root = tree.getroot()"
     ],
     "language": "python",
     "metadata": {},
     "outputs": [],
     "prompt_number": 1
    },
    {
     "cell_type": "markdown",
     "metadata": {},
     "source": [
      "Let's look at it:"
     ]
    },
    {
     "cell_type": "code",
     "collapsed": true,
     "input": [
      "for child in root:\n",
      "    print \"----\",child.tag,\"----\"\n",
      "    for child2 in child.attrib:\n",
      "        print child2.ljust(30),child.attrib[child2]"
     ],
     "language": "python",
     "metadata": {},
     "outputs": [
      {
       "output_type": "stream",
       "stream": "stdout",
       "text": [
        "---- project ----\n",
        "unuid                          1473088232794.1641762737.958893250\n",
        "storage_folder                 \n",
        "title                          untitled.xml\n",
        "mipmaps_folder                 trakem2.1473088232794.1641762737.958893250/trakem2.mipmaps/\n",
        "image_resizing_mode            Area downsampling\n",
        "id                             0\n",
        "mipmaps_format                 4\n",
        "---- t2_layer_set ----\n",
        "layer_height                   404.0\n",
        "paint_edge_confidence_boxes    true\n",
        "links                          \n",
        "oid                            3\n",
        "height                         20.0\n",
        "paint_tags                     true\n",
        "snapshots_mode                 Full\n",
        "snapshots_quality              true\n",
        "paint_arrows                   true\n",
        "area_color_cues                true\n",
        "n_layers_color_cue             0\n",
        "preload_ahead                  0\n",
        "layer_width                    438.0\n",
        "title                          Top Level\n",
        "transform                      matrix(1.0,0.0,0.0,1.0,0.0,0.0)\n",
        "prepaint                       false\n",
        "width                          20.0\n",
        "color_cues                     true\n",
        "avoid_color_cue_colors         false\n",
        "rot_z                          0.0\n",
        "rot_y                          0.0\n",
        "rot_x                          0.0\n",
        "---- t2_display ----\n",
        "srcrect_x                      0\n",
        "c_alphas                       -1\n",
        "srcrect_width                  438\n",
        "filter_clahe_max_slope         3.0\n",
        "srcrect_y                      0\n",
        "layer_id                       222\n",
        "filter_invert                  false\n",
        "filter_clahe_block_size        127\n",
        "scroll_step                    1\n",
        "filter_enabled                 false\n",
        "filter_clahe_histogram_bins    256\n",
        "id                             465\n",
        "filter_min_max_enabled         false\n",
        "c_alphas_state                 -1\n",
        "filter_min                     0\n",
        "magnification                  1.0\n",
        "filter_clahe_enabled           false\n",
        "y                              157\n",
        "x                              547\n",
        "srcrect_height                 404\n",
        "filter_max                     255\n"
       ]
      }
     ],
     "prompt_number": 2
    },
    {
     "cell_type": "code",
     "collapsed": true,
     "input": [
      "for child in root.findall('t2_layer_set')[0]:\n",
      "    print child.tag"
     ],
     "language": "python",
     "metadata": {},
     "outputs": [
      {
       "output_type": "stream",
       "stream": "stdout",
       "text": [
        "t2_calibration\n",
        "t2_pipe\n",
        "t2_pipe\n",
        "t2_layer\n",
        "t2_layer\n",
        "t2_layer\n",
        "t2_layer\n",
        "t2_layer\n",
        "t2_layer\n",
        "t2_layer\n",
        "t2_layer\n",
        "t2_layer\n",
        "t2_layer\n",
        "t2_layer\n",
        "t2_layer\n",
        "t2_layer\n",
        "t2_layer\n",
        "t2_layer\n",
        "t2_layer\n",
        "t2_layer\n",
        "t2_layer\n",
        "t2_layer\n",
        "t2_layer\n",
        "t2_layer\n",
        "t2_layer\n",
        "t2_layer\n",
        "t2_layer\n",
        "t2_layer\n",
        "t2_layer\n",
        "t2_layer\n",
        "t2_layer\n",
        "t2_layer\n",
        "t2_layer\n",
        "t2_layer\n",
        "t2_layer\n",
        "t2_layer\n",
        "t2_layer\n",
        "t2_layer\n",
        "t2_layer\n",
        "t2_layer\n",
        "t2_layer\n",
        "t2_layer\n",
        "t2_layer\n",
        "t2_layer\n",
        "t2_layer\n",
        "t2_layer\n",
        "t2_layer\n",
        "t2_layer\n",
        "t2_layer\n",
        "t2_layer\n",
        "t2_layer\n",
        "t2_layer\n",
        "t2_layer\n",
        "t2_layer\n",
        "t2_layer\n",
        "t2_layer\n",
        "t2_layer\n",
        "t2_layer\n",
        "t2_layer\n",
        "t2_layer\n",
        "t2_layer\n",
        "t2_layer\n",
        "t2_layer\n",
        "t2_layer\n",
        "t2_layer\n",
        "t2_layer\n",
        "t2_layer\n",
        "t2_layer\n",
        "t2_layer\n",
        "t2_layer\n",
        "t2_layer\n",
        "t2_layer\n",
        "t2_layer\n",
        "t2_layer\n",
        "t2_layer\n",
        "t2_layer\n",
        "t2_layer\n",
        "t2_layer\n",
        "t2_layer\n",
        "t2_layer\n",
        "t2_layer\n",
        "t2_layer\n",
        "t2_layer\n",
        "t2_layer\n",
        "t2_layer\n",
        "t2_layer\n",
        "t2_layer\n",
        "t2_layer\n",
        "t2_layer\n",
        "t2_layer\n",
        "t2_layer\n",
        "t2_layer\n",
        "t2_layer\n",
        "t2_layer\n",
        "t2_layer\n",
        "t2_layer\n",
        "t2_layer\n",
        "t2_layer\n",
        "t2_layer\n",
        "t2_layer\n",
        "t2_layer\n",
        "t2_layer\n",
        "t2_layer\n",
        "t2_layer\n",
        "t2_layer\n",
        "t2_layer\n",
        "t2_layer\n",
        "t2_layer\n",
        "t2_layer\n",
        "t2_layer\n",
        "t2_layer\n",
        "t2_layer\n",
        "t2_layer\n",
        "t2_layer\n",
        "t2_layer\n",
        "t2_layer\n",
        "t2_layer\n",
        "t2_layer\n",
        "t2_layer\n",
        "t2_layer\n",
        "t2_layer\n",
        "t2_layer\n",
        "t2_layer\n",
        "t2_layer\n",
        "t2_layer\n",
        "t2_layer\n",
        "t2_layer\n",
        "t2_layer\n",
        "t2_layer\n",
        "t2_layer\n",
        "t2_layer\n",
        "t2_layer\n",
        "t2_layer\n",
        "t2_layer\n",
        "t2_layer\n",
        "t2_layer\n",
        "t2_layer\n",
        "t2_layer\n",
        "t2_layer\n",
        "t2_layer\n",
        "t2_layer\n",
        "t2_layer\n",
        "t2_layer\n",
        "t2_layer\n",
        "t2_layer\n",
        "t2_layer\n",
        "t2_layer\n",
        "t2_layer\n",
        "t2_layer\n",
        "t2_layer\n",
        "t2_layer\n",
        "t2_layer\n",
        "t2_layer\n",
        "t2_layer\n"
       ]
      }
     ],
     "prompt_number": 3
    },
    {
     "cell_type": "markdown",
     "metadata": {},
     "source": [
      "Check layer dimensions:"
     ]
    },
    {
     "cell_type": "code",
     "collapsed": false,
     "input": [
      "origImDims = [0,0,0]\n",
      "layerSet = root.findall('t2_layer_set')[0]\n",
      "origImDims[0] = int(float(layerSet.attrib['layer_width']))\n",
      "origImDims[1] = int(float(layerSet.attrib['layer_height']))\n",
      "origImDims[2] = len(layerSet.findall('t2_layer'))\n",
      "print origImDims"
     ],
     "language": "python",
     "metadata": {},
     "outputs": [
      {
       "output_type": "stream",
       "stream": "stdout",
       "text": [
        "[438, 404, 151]\n"
       ]
      }
     ],
     "prompt_number": 7
    },
    {
     "cell_type": "markdown",
     "metadata": {},
     "source": [
      "Look for the pipes:"
     ]
    },
    {
     "cell_type": "code",
     "collapsed": false,
     "input": [
      "pipes = root.findall('t2_layer_set')[0].findall('t2_pipe')"
     ],
     "language": "python",
     "metadata": {},
     "outputs": [],
     "prompt_number": 8
    },
    {
     "cell_type": "code",
     "collapsed": false,
     "input": [
      "for pipe in pipes:\n",
      "    for attrib in pipe.attrib:\n",
      "        print attrib.ljust(20), pipe.attrib[attrib]\n",
      "    for child in pipe:\n",
      "        print child.tag,child.attrib"
     ],
     "language": "python",
     "metadata": {},
     "outputs": [
      {
       "output_type": "stream",
       "stream": "stdout",
       "text": [
        "style                fill:none;stroke-opacity:1.0;stroke:#ffff00;stroke-width:1.0px;stroke-opacity:1.0\n",
        "d                    M 3.0,10.0 C 3.0,10.0 60.0,28.0 60.0,28.0 C 60.0,28.0 103.0,94.0 103.0,94.0 C 103.0,94.0 119.0,203.0 119.0,203.0\n",
        "links                \n",
        "title                pipe\n",
        "oid                  461\n",
        "transform            matrix(1.0,0.0,0.0,1.0,120.0,106.0)\n",
        "height               204.0\n",
        "width                130.0\n",
        "layer_ids            300,273,222,168\n",
        "p_width              11.342202246984467,11.342202246984467,11.342202246984467,11.342202246984467\n",
        "layer_set_id         3\n",
        "style                fill:none;stroke-opacity:1.0;stroke:#ffff00;stroke-width:1.0px;stroke-opacity:1.0\n",
        "d                    M 11.0,3.000000000000057 C 11.0,3.000000000000057 31.0,116.0 115.0,70.00000000000006 C 197.0,24.000000000000107 195.0,104.0 219.0,177.0 C 243.0,249.0 276.0,206.0 284.0,203.0 C 290.0,200.0 325.0,160.0 298.0,192.0 C 271.0,225.0 259.0,58.0 305.0,137.0\n",
        "links                \n",
        "title                pipe\n",
        "oid                  463\n",
        "transform            matrix(1.0,0.0,0.0,1.0,69.0,138.9999999999999)\n",
        "height               249.0\n",
        "width                351.0\n",
        "layer_ids            225,225,207,204,189,189\n",
        "p_width              11.342202246984467,11.342202246984467,11.342202246984467,11.342202246984467,11.342202246984467,11.342202246984467\n",
        "layer_set_id         3\n"
       ]
      }
     ],
     "prompt_number": 9
    },
    {
     "cell_type": "heading",
     "level": 3,
     "metadata": {},
     "source": [
      "Doing stuff with it:"
     ]
    },
    {
     "cell_type": "code",
     "collapsed": false,
     "input": [
      "pVals = pipes[0].attrib['d']\n",
      "zVals = [int(a) for a in pipes[0].attrib['layer_ids'].split(',')]\n",
      "wVals = [float(a) for a in pipes[0].attrib['p_width'].split(',')]"
     ],
     "language": "python",
     "metadata": {},
     "outputs": [],
     "prompt_number": 7
    },
    {
     "cell_type": "markdown",
     "metadata": {},
     "source": [
      "What we are looking for:<BR>\n",
      "[123,116,99]<BR>\n",
      "[179,133,90]<BR>\n",
      "[223,200,73]<BR>\n",
      "[238,308,55]<BR>\n",
      "Length is approx. 22\n"
     ]
    },
    {
     "cell_type": "code",
     "collapsed": false,
     "input": [
      "print (zVals[0]-zVals[1]),\"=?\",(99-90)*3\n",
      "print (zVals[0]-zVals[2]),\"=?\",(99-73)*3\n",
      "print (zVals[0]-zVals[3]),\"=?\",(99-55)*3"
     ],
     "language": "python",
     "metadata": {},
     "outputs": [
      {
       "output_type": "stream",
       "stream": "stdout",
       "text": [
        "27 =? 27\n",
        "78 =? 78\n",
        "132 =? 132\n"
       ]
      }
     ],
     "prompt_number": 8
    },
    {
     "cell_type": "markdown",
     "metadata": {},
     "source": [
      "So Zs are decypherable!"
     ]
    },
    {
     "cell_type": "code",
     "collapsed": false,
     "input": [
      "wVals[0] "
     ],
     "language": "python",
     "metadata": {},
     "outputs": [
      {
       "metadata": {},
       "output_type": "pyout",
       "prompt_number": 9,
       "text": [
        "11.342202246984467"
       ]
      }
     ],
     "prompt_number": 9
    },
    {
     "cell_type": "markdown",
     "metadata": {},
     "source": [
      "Perhaps width is half actual width?"
     ]
    },
    {
     "cell_type": "code",
     "collapsed": false,
     "input": [
      "for sub in pVals.split(\"C\"):\n",
      "    print sub.strip()"
     ],
     "language": "python",
     "metadata": {},
     "outputs": [
      {
       "output_type": "stream",
       "stream": "stdout",
       "text": [
        "M 3.0,10.0\n",
        "3.0,10.0 60.0,28.0 60.0,28.0\n",
        "60.0,28.0 103.0,94.0 103.0,94.0\n",
        "103.0,94.0 119.0,203.0 119.0,203.0\n"
       ]
      }
     ],
     "prompt_number": 10
    },
    {
     "cell_type": "markdown",
     "metadata": {},
     "source": [
      "The differences seem to match up more or less i.e.:<BR>\n",
      "x:<BR>\n",
      "123>179 = 56 (59)<BR>\n",
      "123>223 = 100 (100)<BR>\n",
      "123>238 = 115 (116)<BR>\n",
      "y:<BR>\n",
      "116>133 = 17 (18)<BR>\n",
      "116>200 = 84 (84)<BR>\n",
      "116>308 = 192 (193)\n",
      "But there is clearly a shift, given by the transform!"
     ]
    },
    {
     "cell_type": "markdown",
     "metadata": {},
     "source": [
      "Now we just need to find how the pincers work!"
     ]
    },
    {
     "cell_type": "code",
     "collapsed": false,
     "input": [
      "for sub in pipes[1].attrib['d'].split(\"C\"):\n",
      "    print sub.strip()"
     ],
     "language": "python",
     "metadata": {},
     "outputs": [
      {
       "output_type": "stream",
       "stream": "stdout",
       "text": [
        "M 11.0,3.000000000000057\n",
        "11.0,3.000000000000057 31.0,116.0 115.0,70.00000000000006\n",
        "197.0,24.000000000000107 195.0,104.0 219.0,177.0\n",
        "243.0,249.0 276.0,206.0 284.0,203.0\n",
        "290.0,200.0 325.0,160.0 298.0,192.0\n",
        "271.0,225.0 259.0,58.0 305.0,137.0\n"
       ]
      }
     ],
     "prompt_number": 11
    },
    {
     "cell_type": "code",
     "collapsed": false,
     "input": [
      "print pipes[1].attrib['transform']\n",
      "trans = [69,138]"
     ],
     "language": "python",
     "metadata": {},
     "outputs": [
      {
       "output_type": "stream",
       "stream": "stdout",
       "text": [
        "matrix(1.0,0.0,0.0,1.0,69.0,138.9999999999999)\n"
       ]
      }
     ],
     "prompt_number": 12
    },
    {
     "cell_type": "code",
     "collapsed": false,
     "input": [
      "b = [int(float(a)) for a in pipes[1].attrib['d'].split(\"C\")[4].strip().replace(' ',',').split(',')]"
     ],
     "language": "python",
     "metadata": {},
     "outputs": [],
     "prompt_number": 13
    },
    {
     "cell_type": "code",
     "collapsed": false,
     "input": [
      "import numpy as np\n",
      "c = np.array(b).reshape(3,2) + np.array(trans)"
     ],
     "language": "python",
     "metadata": {},
     "outputs": [],
     "prompt_number": 14
    },
    {
     "cell_type": "code",
     "collapsed": false,
     "input": [
      "c"
     ],
     "language": "python",
     "metadata": {},
     "outputs": [
      {
       "metadata": {},
       "output_type": "pyout",
       "prompt_number": 15,
       "text": [
        "array([[359, 338],\n",
        "       [394, 298],\n",
        "       [367, 330]])"
       ]
      }
     ],
     "prompt_number": 15
    },
    {
     "cell_type": "heading",
     "level": 3,
     "metadata": {},
     "source": [
      "Bezier Curves"
     ]
    },
    {
     "cell_type": "markdown",
     "metadata": {},
     "source": [
      "parametric equation for points on the curve:<BR>\n",
      "$\\boldsymbol{B}(t) = (1-t)^3\\boldsymbol{P_0}+3(1-t)^2t\\boldsymbol{P_1}+3(1-t)t^2\\boldsymbol{P_2}+t^3\\boldsymbol{P_3}$"
     ]
    },
    {
     "cell_type": "markdown",
     "metadata": {},
     "source": [
      "TrackEM's code:\n",
      "synchronized protected void generateInterpolatedPoints(final double bezier_finess) {\n",
      "\t\tif (0 == n_points) {\n",
      "\t\t\treturn;\n",
      "\t\t}\n",
      "\n",
      "\t\tfinal int n = n_points;\n",
      "\n",
      "\t\t// case there's only one point\n",
      "\t\tif (1 == n_points) {\n",
      "\t\t\tp_i = new double[2][1];\n",
      "\t\t\tp_i[0][0] = p[0][0];\n",
      "\t\t\tp_i[1][0] = p[1][0];\n",
      "\t\t\tp_width_i = new double[1];\n",
      "\t\t\tp_width_i[0] = p_width[0];\n",
      "\t\t\treturn;\n",
      "\t\t}\n",
      "\t\t// case there's more: interpolate!\n",
      "\t\tp_i = new double[2][(int)(n * (1.0D/bezier_finess))];\n",
      "\t\tp_width_i = new double[p_i[0].length];\n",
      "\t\tdouble t, f0, f1, f2, f3;\n",
      "\t\tint next = 0;\n",
      "\t\tfor (int i=0; i<n-1; i++) {\n",
      "\t\t\tfor (t=0.0D; t<1.0D; t += bezier_finess) {\n",
      "\t\t\t\tf0 = (1-t)*(1-t)*(1-t);\n",
      "\t\t\t\tf1 = 3*t*(1-t)*(1-t);\n",
      "\t\t\t\tf2 = 3*t*t*(1-t);\n",
      "\t\t\t\tf3 = t*t*t;\n",
      "\t\t\t\tp_i[0][next] = f0*p[0][i] + f1*p_r[0][i] + f2*p_l[0][i+1] + f3*p[0][i+1];\n",
      "\t\t\t\tp_i[1][next] = f0*p[1][i] + f1*p_r[1][i] + f2*p_l[1][i+1] + f3*p[1][i+1];\n",
      "\t\t\t\tp_width_i[next] = p_width[i]*(1-t) + p_width[i+1]*t;\n",
      "\t\t\t\tnext++;\n",
      "\t\t\t\t//enlarge if needed (when bezier_finess is not 0.05, it's difficult to predict because of int loss of precision.\n",
      "\t\t\t\tif (p_i[0].length == next) {\n",
      "\t\t\t\t\tfinal double[][] p_i_copy = new double[2][p_i[0].length + 5];\n",
      "\t\t\t\t\tfinal double[] p_width_i_copy = new double[p_width_i.length + 5];\n",
      "\t\t\t\t\tSystem.arraycopy(p_i[0], 0, p_i_copy[0], 0, p_i[0].length);\n",
      "\t\t\t\t\tSystem.arraycopy(p_i[1], 0, p_i_copy[1], 0, p_i[1].length);\n",
      "\t\t\t\t\tSystem.arraycopy(p_width_i, 0, p_width_i_copy, 0, p_width_i.length);\n",
      "\t\t\t\t\tp_i = p_i_copy;\n",
      "\t\t\t\t\tp_width_i = p_width_i_copy;\n",
      "\t\t\t\t}\n",
      "\t\t\t}\n",
      "\t\t}\n",
      "\t\t// add the last point\n",
      "\t\tif (p_i[0].length == next) {\n",
      "\t\t\tfinal double[][] p_i_copy = new double[2][p_i[0].length + 1];\n",
      "\t\t\tfinal double[] p_width_i_copy = new double[p_width_i.length + 1];\n",
      "\t\t\tSystem.arraycopy(p_i[0], 0, p_i_copy[0], 0, p_i[0].length);\n",
      "\t\t\tSystem.arraycopy(p_i[1], 0, p_i_copy[1], 0, p_i[1].length);\n",
      "\t\t\tSystem.arraycopy(p_width_i, 0, p_width_i_copy, 0, p_width_i.length);\n",
      "\t\t\tp_i = p_i_copy;\n",
      "\t\t\tp_width_i = p_width_i_copy;\n",
      "\t\t}\n",
      "\t\tp_i[0][next] = p[0][n_points-1];\n",
      "\t\tp_i[1][next] = p[1][n_points-1];\n",
      "\t\tp_width_i[next] = p_width[n_points-1];\n",
      "\t\tnext++;\n",
      "\n",
      "\t\tif (p_i[0].length != next) { // 'next' works as a length here\n",
      "\t\t\t//resize back\n",
      "\t\t\tfinal double[][] p_i_copy = new double[2][next];\n",
      "\t\t\tfinal double[] p_width_i_copy = new double[next];\n",
      "\t\t\tSystem.arraycopy(p_i[0], 0, p_i_copy[0], 0, next);\n",
      "\t\t\tSystem.arraycopy(p_i[1], 0, p_i_copy[1], 0, next);\n",
      "\t\t\tSystem.arraycopy(p_width_i, 0, p_width_i_copy, 0, next);\n",
      "\t\t\tp_i = p_i_copy;\n",
      "\t\t\tp_width_i = p_width_i_copy;\n",
      "\t\t}\n",
      "\t}\n",
      "   "
     ]
    },
    {
     "cell_type": "code",
     "collapsed": false,
     "input": [
      "pipes[1].attrib['d']"
     ],
     "language": "python",
     "metadata": {},
     "outputs": [
      {
       "metadata": {},
       "output_type": "pyout",
       "prompt_number": 16,
       "text": [
        "'M 11.0,3.000000000000057 C 11.0,3.000000000000057 31.0,116.0 115.0,70.00000000000006 C 197.0,24.000000000000107 195.0,104.0 219.0,177.0 C 243.0,249.0 276.0,206.0 284.0,203.0 C 290.0,200.0 325.0,160.0 298.0,192.0 C 271.0,225.0 259.0,58.0 305.0,137.0'"
       ]
      }
     ],
     "prompt_number": 16
    },
    {
     "cell_type": "markdown",
     "metadata": {},
     "source": [
      "Actually extract the points:"
     ]
    },
    {
     "cell_type": "code",
     "collapsed": false,
     "input": [
      "# get the x,y points:\n",
      "thisPipe = pipes[0]\n",
      "import re, numpy as np\n",
      "mSpl = re.split('[a-zA-Z ]',thisPipe.attrib['d'])"
     ],
     "language": "python",
     "metadata": {},
     "outputs": [],
     "prompt_number": 11
    },
    {
     "cell_type": "code",
     "collapsed": false,
     "input": [
      "# get the pipe's tranform info for the bounding box around it:\n",
      "transformInfo = re.findall(r'[\\(].*[\\)]',thisPipe.attrib['transform'])[0].replace('(','').replace(')','').split(',')\n",
      "shifter = np.array([float(transformInfo[4]),float(transformInfo[5])])\n",
      "print shifter\n",
      "print thisPipe.attrib['transform']"
     ],
     "language": "python",
     "metadata": {},
     "outputs": [
      {
       "output_type": "stream",
       "stream": "stdout",
       "text": [
        "[ 120.  106.]\n",
        "matrix(1.0,0.0,0.0,1.0,120.0,106.0)\n"
       ]
      }
     ],
     "prompt_number": 12
    },
    {
     "cell_type": "code",
     "collapsed": false,
     "input": [
      "# get the x,y point values:\n",
      "# there are 2 values for the end points and 3 for the middle points:\n",
      "outList = []\n",
      "for tmSpl in mSpl:\n",
      "    if bool(re.match(tmSpl,'.+,.+'))==False:\n",
      "        nSpl = tmSpl.split(',')\n",
      "        outList.append(np.array([float(nSpl[0])+shifter[0],float(nSpl[1])+shifter[1],0.0]))"
     ],
     "language": "python",
     "metadata": {},
     "outputs": [],
     "prompt_number": 13
    },
    {
     "cell_type": "code",
     "collapsed": false,
     "input": [
      "# add in the z values:\n",
      "zVals = [int(a) for a in thisPipe.attrib['layer_ids'].split(',')]\n",
      "for z in range(len(zVals)):\n",
      "    midList = z*3\n",
      "    for i in range(3):\n",
      "        thisL = midList+i-1\n",
      "        if thisL>=0 and thisL<len(outList):\n",
      "            outList[thisL][2] = zVals[z]/3"
     ],
     "language": "python",
     "metadata": {},
     "outputs": [],
     "prompt_number": 14
    },
    {
     "cell_type": "code",
     "collapsed": false,
     "input": [
      "outList"
     ],
     "language": "python",
     "metadata": {},
     "outputs": [
      {
       "metadata": {},
       "output_type": "pyout",
       "prompt_number": 15,
       "text": [
        "[array([ 123.,  116.,  100.]),\n",
        " array([ 123.,  116.,  100.]),\n",
        " array([ 180.,  134.,   91.]),\n",
        " array([ 180.,  134.,   91.]),\n",
        " array([ 180.,  134.,   91.]),\n",
        " array([ 223.,  200.,   74.]),\n",
        " array([ 223.,  200.,   74.]),\n",
        " array([ 223.,  200.,   74.]),\n",
        " array([ 239.,  309.,   56.]),\n",
        " array([ 239.,  309.,   56.])]"
       ]
      }
     ],
     "prompt_number": 15
    },
    {
     "cell_type": "code",
     "collapsed": false,
     "input": [
      "bezCurvePoints = []\n",
      "i = 0\n",
      "while i < len(outList):\n",
      "    #sanity check:\n",
      "    if i+3<len(outList):\n",
      "        bezCurvePoints.append([outList[i],outList[i+1],outList[i+2],outList[i+3]])\n",
      "    i+=3"
     ],
     "language": "python",
     "metadata": {},
     "outputs": [],
     "prompt_number": 16
    },
    {
     "cell_type": "code",
     "collapsed": false,
     "input": [
      "bezCurvePoints"
     ],
     "language": "python",
     "metadata": {},
     "outputs": [
      {
       "metadata": {},
       "output_type": "pyout",
       "prompt_number": 17,
       "text": [
        "[[array([ 123.,  116.,  100.]),\n",
        "  array([ 123.,  116.,  100.]),\n",
        "  array([ 180.,  134.,   91.]),\n",
        "  array([ 180.,  134.,   91.])],\n",
        " [array([ 180.,  134.,   91.]),\n",
        "  array([ 180.,  134.,   91.]),\n",
        "  array([ 223.,  200.,   74.]),\n",
        "  array([ 223.,  200.,   74.])],\n",
        " [array([ 223.,  200.,   74.]),\n",
        "  array([ 223.,  200.,   74.]),\n",
        "  array([ 239.,  309.,   56.]),\n",
        "  array([ 239.,  309.,   56.])]]"
       ]
      }
     ],
     "prompt_number": 17
    },
    {
     "cell_type": "markdown",
     "metadata": {},
     "source": [
      "Functions to find curve points:"
     ]
    },
    {
     "cell_type": "markdown",
     "metadata": {},
     "source": [
      "For voxels between two points.  Make sure that we check for derivative exisiting (i.e. not same point)"
     ]
    },
    {
     "cell_type": "code",
     "collapsed": false,
     "input": [
      "def interpBez(bezPoints,t):\n",
      "    tm = 1-t\n",
      "    return tm*tm*tm*bezPoints[0]+3*tm*tm*t*bezPoints[1]+3*t*t*tm*bezPoints[2]+t*t*t*bezPoints[3]"
     ],
     "language": "python",
     "metadata": {},
     "outputs": [],
     "prompt_number": 17
    },
    {
     "cell_type": "code",
     "collapsed": false,
     "input": [
      "interpBez(bezCurvePoints[0],0.5)"
     ],
     "language": "python",
     "metadata": {},
     "outputs": [
      {
       "metadata": {},
       "output_type": "pyout",
       "prompt_number": 26,
       "text": [
        "array([ 151.5,  125. ,   95.5])"
       ]
      }
     ],
     "prompt_number": 26
    },
    {
     "cell_type": "markdown",
     "metadata": {},
     "source": [
      "We have the point, but what about the derivative?<BR>\n",
      "$\\frac{d\\boldsymbol{B}(t)}{dt} = 3(1-t)^2(\\boldsymbol{P_1}-\\boldsymbol{P_0})+6(1-t)t(\\boldsymbol{P_2}-\\boldsymbol{P_1})+3t^2(\\boldsymbol{P_3}-\\boldsymbol{P_2})$"
     ]
    },
    {
     "cell_type": "code",
     "collapsed": false,
     "input": [
      "def interpBezDer(bezPoints,t):\n",
      "    tm = 1-t\n",
      "    return 3*tm*tm*(bezPoints[1]-bezPoints[0])+6*tm*t*(bezPoints[2]-bezPoints[1])+3*t*t*(bezPoints[3]-bezPoints[2])"
     ],
     "language": "python",
     "metadata": {},
     "outputs": [],
     "prompt_number": 27
    },
    {
     "cell_type": "code",
     "collapsed": false,
     "input": [
      "interpBezDer(bezCurvePoints[0],0.7)"
     ],
     "language": "python",
     "metadata": {},
     "outputs": [
      {
       "metadata": {},
       "output_type": "pyout",
       "prompt_number": 28,
       "text": [
        "array([ 71.82,  22.68, -11.34])"
       ]
      }
     ],
     "prompt_number": 28
    },
    {
     "cell_type": "markdown",
     "metadata": {},
     "source": [
      "Seems correct"
     ]
    },
    {
     "cell_type": "heading",
     "level": 3,
     "metadata": {},
     "source": [
      "Method 1"
     ]
    },
    {
     "cell_type": "code",
     "collapsed": false,
     "input": [
      "outputImg = np.zeros(origImDims,dtype=np.uint8)"
     ],
     "language": "python",
     "metadata": {},
     "outputs": [],
     "prompt_number": 19
    },
    {
     "cell_type": "code",
     "collapsed": false,
     "input": [
      "# get a neighbour:\n",
      "# coOrds as tuple:\n",
      "def addVoxels(sourceImg,listToPop,coOrds):\n",
      "    for x in range(-1,2):\n",
      "        for y in range(-1,2):\n",
      "            for z in range(-1,2):\n",
      "                coOrdsN = coOrds+np.array((x,y,z))\n",
      "                if coOrdsN[0]<sourceImg.shape[0] and coOrdsN[0]>=0 and \\\n",
      "                coOrdsN[1]<sourceImg.shape[1] and coOrdsN[1]>=0 and \\\n",
      "                coOrdsN[2]<sourceImg.shape[2] and coOrdsN[2]>=0 and \\\n",
      "                sourceImg[tuple(coOrdsN)]==0:\n",
      "                    listToPop.append(coOrdsN)\n",
      "                    sourceImg[tuple(coOrdsN)]=2"
     ],
     "language": "python",
     "metadata": {},
     "outputs": [],
     "prompt_number": 82
    },
    {
     "cell_type": "code",
     "collapsed": false,
     "input": [
      "while len(listToDo)>0:\n",
      "    # get this one from the list:\n",
      "    thisOne = listToDo.pop()\n",
      "    dotProd = np.dot(thisOne-centrePoint,derDir)\n",
      "    if dotProd<0.01:\n",
      "        outputImg[tuple(thisOne)]=1\n",
      "        # now add it's neighbours:\n",
      "        addVoxels(outputImg,listToDo,thisOne)"
     ],
     "language": "python",
     "metadata": {},
     "outputs": [],
     "prompt_number": 142
    },
    {
     "cell_type": "code",
     "collapsed": false,
     "input": [
      "# we know the tangental direction and the centre of the circle.\n",
      "# Let's shade in the centre:\n",
      "def getCrossCirc(i,t,outputImg,radius):\n",
      "    radiusSq = np.power(radius,2)\n",
      "    #print t\n",
      "    outputImg[outputImg==2]=0\n",
      "    centrePoint = interpBez(bezCurvePoints[i],t)\n",
      "    derDir = interpBezDer(bezCurvePoints[i],t)\n",
      "    sumsq = np.sqrt(np.sum(np.power(derDir,2)))\n",
      "    if sumsq !=0:\n",
      "        derDir =derDir/sumsq\n",
      "        listToDo = []\n",
      "        addVoxels(outputImg,listToDo,np.array(np.round(centrePoint)))\n",
      "        j=0\n",
      "        #print len(listToDo)\n",
      "        while len(listToDo)>0 and j<20000:\n",
      "            # get this one from the list:\n",
      "            thisOne = listToDo.pop()\n",
      "            diffH = thisOne-centrePoint\n",
      "            diffN = np.sum(np.power(diffH,2))\n",
      "            dotProd = np.dot(diffH/diffN,derDir)\n",
      "            #print thisOne,\"(\",j,\")\",dotProd\n",
      "            if np.abs(dotProd)<0.3:\n",
      "                #rint diffN\n",
      "                if diffN<=radiusSq:\n",
      "                    outputImg[tuple(thisOne)]=1\n",
      "                    # now add it's neighbours:\n",
      "                    addVoxels(outputImg,listToDo,thisOne)\n",
      "            j+=1\n",
      "        #print \"length\",len(listToDo)"
     ],
     "language": "python",
     "metadata": {},
     "outputs": [],
     "prompt_number": 106
    },
    {
     "cell_type": "code",
     "collapsed": false,
     "input": [
      "i=0\n",
      "t=0.001\n",
      "outputImg[outputImg==2]=0\n",
      "centrePoint = interpBez(bezCurvePoints[i],t)\n",
      "derDir = interpBezDer(bezCurvePoints[i],t)\n",
      "print derDir\n",
      "sumsq = np.sqrt(np.sum(np.power(derDir,2)))\n",
      "if sumsq !=0:\n",
      "    print \"CENTRE\",centrePoint\n",
      "    derDir =derDir/sumsq\n",
      "    listToDo = []\n",
      "    addVoxels(outputImg,listToDo,np.array(np.round(centrePoint)))\n",
      "print derDir\n",
      "j=0\n",
      "while len(listToDo)>0 and j<2000:\n",
      "    # get this one from the list:\n",
      "    thisOne = listToDo.pop()\n",
      "    print thisOne,\":\",np.dot(thisOne-centrePoint,derDir),\"(\",j,\")\"\n",
      "    j+=1\n",
      "print len(listToDo)"
     ],
     "language": "python",
     "metadata": {},
     "outputs": [
      {
       "output_type": "stream",
       "stream": "stdout",
       "text": [
        "[ 0.341658  0.107892 -0.053946]\n",
        "CENTRE [ 123.00017089  116.00005396   99.99997302]\n",
        "[ 122.  115.   99.] (438, 404, 151) 1\n",
        "[ 122.  115.  100.] (438, 404, 151) 1\n",
        "[ 122.  115.  101.] (438, 404, 151) 0\n",
        "[ 122.  116.   99.] (438, 404, 151) 1\n",
        "[ 122.  116.  100.] (438, 404, 151) 1\n",
        "[ 122.  116.  101.] (438, 404, 151) 0\n",
        "[ 122.  117.   99.] (438, 404, 151) 1\n",
        "[ 122.  117.  100.] (438, 404, 151) 1\n",
        "[ 122.  117.  101.] (438, 404, 151) 1\n",
        "[ 123.  115.   99.] (438, 404, 151) 1\n",
        "[ 123.  115.  100.] (438, 404, 151) 1\n",
        "[ 123.  115.  101.] (438, 404, 151) 1\n",
        "[ 123.  116.   99.] (438, 404, 151) 1\n",
        "[ 123.  116.  100.] (438, 404, 151) 1\n",
        "[ 123.  116.  101.] (438, 404, 151) 1\n",
        "[ 123.  117.   99.] (438, 404, 151) 1\n",
        "[ 123.  117.  100.] (438, 404, 151) 1\n",
        "[ 123.  117.  101.] (438, 404, 151) 1\n",
        "[ 124.  115.   99.] (438, 404, 151) 1\n",
        "[ 124.  115.  100.] (438, 404, 151) 1\n",
        "[ 124.  115.  101.] (438, 404, 151) 1\n",
        "[ 124.  116.   99.] (438, 404, 151) 1\n",
        "[ 124.  116.  100.] (438, 404, 151) 1\n",
        "[ 124.  116.  101.] (438, 404, 151) 1\n",
        "[ 124.  117.   99.] (438, 404, 151) 1\n",
        "[ 124.  117.  100.] (438, 404, 151) 0\n",
        "[ 124.  117.  101.] (438, 404, 151) 1\n",
        "[ 0.94295417  0.297775   -0.1488875 ]\n",
        "[ 124.  117.  100.] : 1.24054794339 ( 0 )\n",
        "[ 122.  116.  101.] : -1.09202289145 ( 1 )\n",
        "[ 122.  115.  101.] : -1.38979789164 ( 2 )\n",
        "0\n"
       ]
      }
     ],
     "prompt_number": 80
    },
    {
     "cell_type": "code",
     "collapsed": false,
     "input": [
      "outputImg = np.zeros(origImDims,dtype=np.uint8)\n",
      "i=0\n",
      "for t in np.arange(0,1.0,0.001):\n",
      "    getCrossCirc(i,t,outputImg,10)"
     ],
     "language": "python",
     "metadata": {},
     "outputs": [],
     "prompt_number": 109
    },
    {
     "cell_type": "code",
     "collapsed": false,
     "input": [
      "np.arange(0,0.1,0.01)"
     ],
     "language": "python",
     "metadata": {},
     "outputs": [
      {
       "metadata": {},
       "output_type": "pyout",
       "prompt_number": 51,
       "text": [
        "array([ 0.  ,  0.01,  0.02,  0.03,  0.04,  0.05,  0.06,  0.07,  0.08,  0.09])"
       ]
      }
     ],
     "prompt_number": 51
    },
    {
     "cell_type": "code",
     "collapsed": false,
     "input": [
      "nrrd.write(\"/home/fewtrem/TrackEMTests/ouput3.nrrd\",outputImg*255)"
     ],
     "language": "python",
     "metadata": {},
     "outputs": [],
     "prompt_number": 110
    },
    {
     "cell_type": "code",
     "collapsed": false,
     "input": [
      "import nrrd"
     ],
     "language": "python",
     "metadata": {},
     "outputs": [],
     "prompt_number": 90
    },
    {
     "cell_type": "heading",
     "level": 3,
     "metadata": {},
     "source": [
      "Method 2"
     ]
    },
    {
     "cell_type": "markdown",
     "metadata": {},
     "source": [
      "1) Find a normal by inverting the largest direction!"
     ]
    },
    {
     "cell_type": "markdown",
     "metadata": {},
     "source": [
      "2) Fill in all up to that point"
     ]
    },
    {
     "cell_type": "code",
     "collapsed": false,
     "input": [
      "# is not width (diameter) but radius!!\n",
      "def doCrossCirc2(i,t,outputImg,width):\n",
      "    #print t\n",
      "    centrePoint = interpBez(bezCurvePoints[i],t)\n",
      "    derDir = interpBezDer(bezCurvePoints[i],t)\n",
      "    sumD = np.sum(np.power(derDir,2))\n",
      "    if sumD !=0:\n",
      "        tDir = derDir.copy()\n",
      "        tDir[np.argmax(derDir)] = -derDir[np.argmax(derDir)]\n",
      "        perpI = np.cross(tDir,derDir)\n",
      "        perpIN = perpI/np.sqrt(np.sum(np.power(perpI,2)))\n",
      "        # generate roation matrix:\n",
      "        rotMat = getRotMat(derDir/np.sqrt(np.sum(np.power(derDir,2))),0.1)\n",
      "        #m = np.matrix.transpose(np.matrix(perpIN))*width\n",
      "        m2 = np.matrix.transpose(np.matrix(perpIN))\n",
      "        print centrePoint\n",
      "        for theta in np.arange(0,np.pi/2.0,0.01):\n",
      "            '''\n",
      "            newCo = tuple(np.round(np.array([centrePoint[0]+m[0,0],centrePoint[1]+m[1,0],centrePoint[2]+m[2,0]])))\n",
      "            outputImg[newCo] = 1\n",
      "            newCo = tuple(np.round(np.array([centrePoint[0]-m[0,0],centrePoint[1]-m[1,0],centrePoint[2]-m[2,0]])))\n",
      "            outputImg[newCo] = 1\n",
      "            '''\n",
      "            for intM in np.arange(-width,width,0.5):\n",
      "                m3 = m2*intM\n",
      "                newCo = tuple(np.round(np.array([centrePoint[0]+m3[0,0],centrePoint[1]+m3[1,0],centrePoint[2]+m3[2,0]])))\n",
      "                outputImg[newCo] = 1\n",
      "            #m = np.dot(rotMat,m)\n",
      "            m2 = np.dot(rotMat,m2)"
     ],
     "language": "python",
     "metadata": {},
     "outputs": [],
     "prompt_number": 35
    },
    {
     "cell_type": "code",
     "collapsed": false,
     "input": [
      "'''\n",
      "https://en.wikipedia.org/wiki/Euler%E2%80%93Rodrigues_formula\n",
      "'''\n",
      "def getRotMat(vectIn,angIn):\n",
      "    a = np.cos(angIn)\n",
      "    b = vectIn[0]*np.sin(angIn)\n",
      "    c = vectIn[1]*np.sin(angIn)\n",
      "    d = vectIn[2]*np.sin(angIn)\n",
      "    return np.matrix([[a*a+b*b-c*c-d*d,2*(b*c-d*a),2*(b*d+a*c)],\\\n",
      "                      [2*(b*c+a*d),a*a+c*c-b*b-d*d,2*(c*d-a*b)],\\\n",
      "                      [2*(b*d-a*c),2*(c*d+a*b),a*a+d*d-c*c-b*b]])"
     ],
     "language": "python",
     "metadata": {},
     "outputs": [],
     "prompt_number": 36
    },
    {
     "cell_type": "code",
     "collapsed": false,
     "input": [
      "outputImg = np.zeros(np.array(origImDims)+np.array((20,20,20)),dtype=np.uint8)\n",
      "for i in range(len(bezCurvePoints)):\n",
      "    for t in np.arange(0,1.0,0.001):\n",
      "        doCrossCirc2(i,t,outputImg,10)"
     ],
     "language": "python",
     "metadata": {},
     "outputs": [
      {
       "output_type": "stream",
       "stream": "stdout",
       "text": [
        "[ 123.00017089  116.00005396   99.99997302]\n",
        "[ 123.00068309  116.00021571   99.99989214]"
       ]
      },
      {
       "output_type": "stream",
       "stream": "stdout",
       "text": [
        "\n",
        "[ 123.00153592  116.00048503   99.99975749]"
       ]
      },
      {
       "output_type": "stream",
       "stream": "stdout",
       "text": [
        "\n",
        "[ 123.0027287   116.0008617    99.99956915]"
       ]
      },
      {
       "output_type": "stream",
       "stream": "stdout",
       "text": [
        "\n",
        "[ 123.00426075  116.0013455    99.99932725]"
       ]
      },
      {
       "output_type": "stream",
       "stream": "stdout",
       "text": [
        "\n",
        "[ 123.00613138  116.00193622   99.99903189]"
       ]
      },
      {
       "output_type": "stream",
       "stream": "stdout",
       "text": [
        "\n",
        "[ 123.0083399   116.00263365   99.99868317]"
       ]
      },
      {
       "output_type": "stream",
       "stream": "stdout",
       "text": [
        "\n",
        "[ 123.01088563  116.00343757   99.99828122]"
       ]
      },
      {
       "output_type": "stream",
       "stream": "stdout",
       "text": [
        "\n",
        "[ 123.01376789  116.00434776   99.99782612]"
       ]
      },
      {
       "output_type": "stream",
       "stream": "stdout",
       "text": [
        "\n",
        "[ 123.016986  116.005364   99.997318]"
       ]
      },
      {
       "output_type": "stream",
       "stream": "stdout",
       "text": [
        "\n",
        "[ 123.02053927  116.00648608   99.99675696]"
       ]
      },
      {
       "output_type": "stream",
       "stream": "stdout",
       "text": [
        "\n",
        "[ 123.02442701  116.00771379   99.9961431 ]"
       ]
      },
      {
       "output_type": "stream",
       "stream": "stdout",
       "text": [
        "\n",
        "[ 123.02864854  116.00904691   99.99547655]"
       ]
      },
      {
       "output_type": "stream",
       "stream": "stdout",
       "text": [
        "\n",
        "[ 123.03320318  116.01048522   99.99475739]"
       ]
      },
      {
       "output_type": "stream",
       "stream": "stdout",
       "text": [
        "\n",
        "[ 123.03809025  116.0120285    99.99398575]"
       ]
      },
      {
       "output_type": "stream",
       "stream": "stdout",
       "text": [
        "\n",
        "[ 123.04330906  116.01367654   99.99316173]"
       ]
      },
      {
       "output_type": "stream",
       "stream": "stdout",
       "text": [
        "\n",
        "[ 123.04885892  116.01542913   99.99228543]"
       ]
      },
      {
       "output_type": "stream",
       "stream": "stdout",
       "text": [
        "\n",
        "[ 123.05473915  116.01728605   99.99135698]"
       ]
      },
      {
       "output_type": "stream",
       "stream": "stdout",
       "text": [
        "\n",
        "[ 123.06094907  116.01924708   99.99037646]"
       ]
      },
      {
       "output_type": "stream",
       "stream": "stdout",
       "text": [
        "\n",
        "[ 123.067488  116.021312   99.989344]"
       ]
      },
      {
       "output_type": "stream",
       "stream": "stdout",
       "text": [
        "\n",
        "[ 123.07435525  116.0234806    99.9882597 ]"
       ]
      },
      {
       "output_type": "stream",
       "stream": "stdout",
       "text": [
        "\n",
        "[ 123.08155013  116.02575267   99.98712366]"
       ]
      },
      {
       "output_type": "stream",
       "stream": "stdout",
       "text": [
        "\n",
        "[ 123.08907196  116.02812799   99.98593601]"
       ]
      },
      {
       "output_type": "stream",
       "stream": "stdout",
       "text": [
        "\n",
        "[ 123.09692006  116.03060634   99.98469683]"
       ]
      },
      {
       "output_type": "stream",
       "stream": "stdout",
       "text": [
        "\n",
        "[ 123.10509375  116.0331875    99.98340625]"
       ]
      },
      {
       "output_type": "stream",
       "stream": "stdout",
       "text": [
        "\n",
        "[ 123.11359234  116.03587126   99.98206437]"
       ]
      },
      {
       "output_type": "stream",
       "stream": "stdout",
       "text": [
        "\n",
        "[ 123.12241514  116.03865741   99.98067129]"
       ]
      },
      {
       "output_type": "stream",
       "stream": "stdout",
       "text": [
        "\n",
        "[ 123.13156147  116.04154573   99.97922714]"
       ]
      },
      {
       "output_type": "stream",
       "stream": "stdout",
       "text": [
        "\n",
        "[ 123.14103065  116.044536     99.977732  ]"
       ]
      },
      {
       "output_type": "stream",
       "stream": "stdout",
       "text": [
        "\n",
        "[ 123.150822  116.047628   99.976186]"
       ]
      },
      {
       "output_type": "stream",
       "stream": "stdout",
       "text": [
        "\n",
        "[ 123.16093483  116.05082152   99.97458924]"
       ]
      },
      {
       "output_type": "stream",
       "stream": "stdout",
       "text": [
        "\n",
        "[ 123.17136845  116.05411635   99.97294182]"
       ]
      },
      {
       "output_type": "stream",
       "stream": "stdout",
       "text": [
        "\n",
        "[ 123.18212218  116.05751227   99.97124387]"
       ]
      },
      {
       "output_type": "stream",
       "stream": "stdout",
       "text": [
        "\n",
        "[ 123.19319534  116.06100906   99.96949547]"
       ]
      },
      {
       "output_type": "stream",
       "stream": "stdout",
       "text": [
        "\n",
        "[ 123.20458725  116.0646065    99.96769675]"
       ]
      },
      {
       "output_type": "stream",
       "stream": "stdout",
       "text": [
        "\n",
        "[ 123.21629722  116.06830438   99.96584781]"
       ]
      },
      {
       "output_type": "stream",
       "stream": "stdout",
       "text": [
        "\n",
        "[ 123.22832456  116.07210249   99.96394875]"
       ]
      },
      {
       "output_type": "stream",
       "stream": "stdout",
       "text": [
        "\n",
        "[ 123.24066859  116.07600061   99.9619997 ]"
       ]
      },
      {
       "output_type": "stream",
       "stream": "stdout",
       "text": [
        "\n",
        "[ 123.25332863  116.07999852   99.96000074]"
       ]
      },
      {
       "output_type": "stream",
       "stream": "stdout",
       "text": [
        "\n",
        "[ 123.266304  116.084096   99.957952]"
       ]
      },
      {
       "output_type": "stream",
       "stream": "stdout",
       "text": [
        "\n",
        "[ 123.27959401  116.08829284   99.95585358]"
       ]
      },
      {
       "output_type": "stream",
       "stream": "stdout",
       "text": [
        "\n",
        "[ 123.29319797  116.09258883   99.95370558]"
       ]
      },
      {
       "output_type": "stream",
       "stream": "stdout",
       "text": [
        "\n",
        "[ 123.3071152   116.09698375   99.95150813]"
       ]
      },
      {
       "output_type": "stream",
       "stream": "stdout",
       "text": [
        "\n",
        "[ 123.32134502  116.10147738   99.94926131]"
       ]
      },
      {
       "output_type": "stream",
       "stream": "stdout",
       "text": [
        "\n",
        "[ 123.33588675  116.1060695    99.94696525]"
       ]
      },
      {
       "output_type": "stream",
       "stream": "stdout",
       "text": [
        "\n",
        "[ 123.3507397   116.1107599    99.94462005]"
       ]
      },
      {
       "output_type": "stream",
       "stream": "stdout",
       "text": [
        "\n",
        "[ 123.36590318  116.11554837   99.94222581]"
       ]
      },
      {
       "output_type": "stream",
       "stream": "stdout",
       "text": [
        "\n",
        "[ 123.38137651  116.12043469   99.93978266]"
       ]
      },
      {
       "output_type": "stream",
       "stream": "stdout",
       "text": [
        "\n",
        "[ 123.39715901  116.12541864   99.93729068]"
       ]
      },
      {
       "output_type": "stream",
       "stream": "stdout",
       "text": [
        "\n",
        "[ 123.41325  116.1305    99.93475]"
       ]
      },
      {
       "output_type": "stream",
       "stream": "stdout",
       "text": [
        "\n",
        "[ 123.42964879  116.13567856   99.93216072]"
       ]
      },
      {
       "output_type": "stream",
       "stream": "stdout",
       "text": [
        "\n",
        "[ 123.44635469  116.14095411   99.92952294]"
       ]
      },
      {
       "output_type": "stream",
       "stream": "stdout",
       "text": [
        "\n",
        "[ 123.46336702  116.14632643   99.92683679]"
       ]
      },
      {
       "output_type": "stream",
       "stream": "stdout",
       "text": [
        "\n",
        "[ 123.4806851   116.1517953    99.92410235]"
       ]
      },
      {
       "output_type": "stream",
       "stream": "stdout",
       "text": [
        "\n",
        "[ 123.49830825  116.1573605    99.92131975]"
       ]
      },
      {
       "output_type": "stream",
       "stream": "stdout",
       "text": [
        "\n",
        "[ 123.51623578  116.16302182   99.91848909]"
       ]
      },
      {
       "output_type": "stream",
       "stream": "stdout",
       "text": [
        "\n",
        "[ 123.534467    116.16877905   99.91561047]"
       ]
      },
      {
       "output_type": "stream",
       "stream": "stdout",
       "text": [
        "\n",
        "[ 123.55300123  116.17463197   99.91268402]"
       ]
      },
      {
       "output_type": "stream",
       "stream": "stdout",
       "text": [
        "\n",
        "[ 123.57183779  116.18058036   99.90970982]"
       ]
      },
      {
       "output_type": "stream",
       "stream": "stdout",
       "text": [
        "\n",
        "[ 123.590976  116.186624   99.906688]"
       ]
      },
      {
       "output_type": "stream",
       "stream": "stdout",
       "text": [
        "\n",
        "[ 123.61041517  116.19276268   99.90361866]"
       ]
      },
      {
       "output_type": "stream",
       "stream": "stdout",
       "text": [
        "\n",
        "[ 123.63015461  116.19899619   99.9005019 ]"
       ]
      },
      {
       "output_type": "stream",
       "stream": "stdout",
       "text": [
        "\n",
        "[ 123.65019364  116.20532431   99.89733785]"
       ]
      },
      {
       "output_type": "stream",
       "stream": "stdout",
       "text": [
        "\n",
        "[ 123.67053158  116.21174682   99.89412659]"
       ]
      },
      {
       "output_type": "stream",
       "stream": "stdout",
       "text": [
        "\n",
        "[ 123.69116775  116.2182635    99.89086825]"
       ]
      },
      {
       "output_type": "stream",
       "stream": "stdout",
       "text": [
        "\n",
        "[ 123.71210146  116.22487414   99.88756293]"
       ]
      },
      {
       "output_type": "stream",
       "stream": "stdout",
       "text": [
        "\n",
        "[ 123.73333202  116.23157853   99.88421073]"
       ]
      },
      {
       "output_type": "stream",
       "stream": "stdout",
       "text": [
        "\n",
        "[ 123.75485875  116.23837645   99.88081178]"
       ]
      },
      {
       "output_type": "stream",
       "stream": "stdout",
       "text": [
        "\n",
        "[ 123.77668097  116.24526768   99.87736616]"
       ]
      },
      {
       "output_type": "stream",
       "stream": "stdout",
       "text": [
        "\n",
        "[ 123.798798  116.252252   99.873874]"
       ]
      },
      {
       "output_type": "stream",
       "stream": "stdout",
       "text": [
        "\n",
        "[ 123.82120915  116.2593292    99.8703354 ]"
       ]
      },
      {
       "output_type": "stream",
       "stream": "stdout",
       "text": [
        "\n",
        "[ 123.84391373  116.26649907   99.86675046]"
       ]
      },
      {
       "output_type": "stream",
       "stream": "stdout",
       "text": [
        "\n",
        "[ 123.86691106  116.27376139   99.86311931]"
       ]
      },
      {
       "output_type": "stream",
       "stream": "stdout",
       "text": [
        "\n",
        "[ 123.89020046  116.28111594   99.85944203]"
       ]
      },
      {
       "output_type": "stream",
       "stream": "stdout",
       "text": [
        "\n",
        "[ 123.91378125  116.2885625    99.85571875]"
       ]
      },
      {
       "output_type": "stream",
       "stream": "stdout",
       "text": [
        "\n",
        "[ 123.93765274  116.29610086   99.85194957]"
       ]
      },
      {
       "output_type": "stream",
       "stream": "stdout",
       "text": [
        "\n",
        "[ 123.96181424  116.30373081   99.84813459]"
       ]
      },
      {
       "output_type": "stream",
       "stream": "stdout",
       "text": [
        "\n",
        "[ 123.98626507  116.31145213   99.84427394]"
       ]
      },
      {
       "output_type": "stream",
       "stream": "stdout",
       "text": [
        "\n",
        "[ 124.01100455  116.3192646    99.8403677 ]"
       ]
      },
      {
       "output_type": "stream",
       "stream": "stdout",
       "text": [
        "\n",
        "[ 124.036032  116.327168   99.836416]"
       ]
      },
      {
       "output_type": "stream",
       "stream": "stdout",
       "text": [
        "\n",
        "[ 124.06134673  116.33516212   99.83241894]"
       ]
      },
      {
       "output_type": "stream",
       "stream": "stdout",
       "text": [
        "\n",
        "[ 124.08694805  116.34324675   99.82837662]"
       ]
      },
      {
       "output_type": "stream",
       "stream": "stdout",
       "text": [
        "\n",
        "[ 124.11283528  116.35142167   99.82428917]"
       ]
      },
      {
       "output_type": "stream",
       "stream": "stdout",
       "text": [
        "\n",
        "[ 124.13900774  116.35968666   99.82015667]"
       ]
      },
      {
       "output_type": "stream",
       "stream": "stdout",
       "text": [
        "\n",
        "[ 124.16546475  116.3680415    99.81597925]"
       ]
      },
      {
       "output_type": "stream",
       "stream": "stdout",
       "text": [
        "\n",
        "[ 124.19220562  116.37648598   99.81175701]"
       ]
      },
      {
       "output_type": "stream",
       "stream": "stdout",
       "text": [
        "\n",
        "[ 124.21922966  116.38501989   99.80749005]"
       ]
      },
      {
       "output_type": "stream",
       "stream": "stdout",
       "text": [
        "\n",
        "[ 124.24653619  116.39364301   99.8031785 ]"
       ]
      },
      {
       "output_type": "stream",
       "stream": "stdout",
       "text": [
        "\n",
        "[ 124.27412453  116.40235512   99.79882244]"
       ]
      },
      {
       "output_type": "stream",
       "stream": "stdout",
       "text": [
        "\n",
        "[ 124.301994  116.411156   99.794422]"
       ]
      },
      {
       "output_type": "stream",
       "stream": "stdout",
       "text": [
        "\n",
        "[ 124.33014391  116.42004544   99.78997728]"
       ]
      },
      {
       "output_type": "stream",
       "stream": "stdout",
       "text": [
        "\n",
        "[ 124.35857357  116.42902323   99.78548838]"
       ]
      },
      {
       "output_type": "stream",
       "stream": "stdout",
       "text": [
        "\n",
        "[ 124.3872823   116.43808915   99.78095543]"
       ]
      },
      {
       "output_type": "stream",
       "stream": "stdout",
       "text": [
        "\n",
        "[ 124.41626942  116.44724298   99.77637851]"
       ]
      },
      {
       "output_type": "stream",
       "stream": "stdout",
       "text": [
        "\n",
        "[ 124.44553425  116.4564845    99.77175775]"
       ]
      },
      {
       "output_type": "stream",
       "stream": "stdout",
       "text": [
        "\n",
        "[ 124.4750761   116.4658135    99.76709325]"
       ]
      },
      {
       "output_type": "stream",
       "stream": "stdout",
       "text": [
        "\n",
        "[ 124.50489428  116.47522977   99.76238511]"
       ]
      },
      {
       "output_type": "stream",
       "stream": "stdout",
       "text": [
        "\n",
        "[ 124.53498811  116.48473309   99.75763346]"
       ]
      },
      {
       "output_type": "stream",
       "stream": "stdout",
       "text": [
        "\n",
        "[ 124.56535691  116.49432324   99.75283838]"
       ]
      },
      {
       "output_type": "stream",
       "stream": "stdout",
       "text": [
        "\n",
        "[ 124.596  116.504   99.748]"
       ]
      },
      {
       "output_type": "stream",
       "stream": "stdout",
       "text": [
        "\n",
        "[ 124.62691669  116.51376316   99.74311842]"
       ]
      },
      {
       "output_type": "stream",
       "stream": "stdout",
       "text": [
        "\n",
        "[ 124.65810629  116.52361251   99.73819374]"
       ]
      },
      {
       "output_type": "stream",
       "stream": "stdout",
       "text": [
        "\n",
        "[ 124.68956812  116.53354783   99.73322609]"
       ]
      },
      {
       "output_type": "stream",
       "stream": "stdout",
       "text": [
        "\n",
        "[ 124.7213015   116.5435689    99.72821555]"
       ]
      },
      {
       "output_type": "stream",
       "stream": "stdout",
       "text": [
        "\n",
        "[ 124.75330575  116.5536755    99.72316225]"
       ]
      },
      {
       "output_type": "stream",
       "stream": "stdout",
       "text": [
        "\n",
        "[ 124.78558018  116.56386742   99.71806629]"
       ]
      },
      {
       "output_type": "stream",
       "stream": "stdout",
       "text": [
        "\n",
        "[ 124.8181241   116.57414445   99.71292777]"
       ]
      },
      {
       "output_type": "stream",
       "stream": "stdout",
       "text": [
        "\n",
        "[ 124.85093683  116.58450637   99.70774682]"
       ]
      },
      {
       "output_type": "stream",
       "stream": "stdout",
       "text": [
        "\n",
        "[ 124.88401769  116.59495296   99.70252352]"
       ]
      },
      {
       "output_type": "stream",
       "stream": "stdout",
       "text": [
        "\n",
        "[ 124.917366  116.605484   99.697258]"
       ]
      },
      {
       "output_type": "stream",
       "stream": "stdout",
       "text": [
        "\n",
        "[ 124.95098107  116.61609928   99.69195036]"
       ]
      },
      {
       "output_type": "stream",
       "stream": "stdout",
       "text": [
        "\n",
        "[ 124.98486221  116.62679859   99.6866007 ]"
       ]
      },
      {
       "output_type": "stream",
       "stream": "stdout",
       "text": [
        "\n",
        "[ 125.01900874  116.63758171   99.68120915]"
       ]
      },
      {
       "output_type": "stream",
       "stream": "stdout",
       "text": [
        "\n",
        "[ 125.05341998  116.64844842   99.67577579]"
       ]
      },
      {
       "output_type": "stream",
       "stream": "stdout",
       "text": [
        "\n",
        "[ 125.08809525  116.6593985    99.67030075]"
       ]
      },
      {
       "output_type": "stream",
       "stream": "stdout",
       "text": [
        "\n",
        "[ 125.12303386  116.67043174   99.66478413]"
       ]
      },
      {
       "output_type": "stream",
       "stream": "stdout",
       "text": [
        "\n",
        "[ 125.15823512  116.68154793   99.65922603]"
       ]
      },
      {
       "output_type": "stream",
       "stream": "stdout",
       "text": [
        "\n",
        "[ 125.19369835  116.69274685   99.65362658]"
       ]
      },
      {
       "output_type": "stream",
       "stream": "stdout",
       "text": [
        "\n",
        "[ 125.22942287  116.70402828   99.64798586]"
       ]
      },
      {
       "output_type": "stream",
       "stream": "stdout",
       "text": [
        "\n",
        "[ 125.265408  116.715392   99.642304]"
       ]
      },
      {
       "output_type": "stream",
       "stream": "stdout",
       "text": [
        "\n",
        "[ 125.30165305  116.7268378    99.6365811 ]"
       ]
      },
      {
       "output_type": "stream",
       "stream": "stdout",
       "text": [
        "\n",
        "[ 125.33815733  116.73836547   99.63081726]"
       ]
      },
      {
       "output_type": "stream",
       "stream": "stdout",
       "text": [
        "\n",
        "[ 125.37492016  116.74997479   99.62501261]"
       ]
      },
      {
       "output_type": "stream",
       "stream": "stdout",
       "text": [
        "\n",
        "[ 125.41194086  116.76166554   99.61916723]"
       ]
      },
      {
       "output_type": "stream",
       "stream": "stdout",
       "text": [
        "\n",
        "[ 125.44921875  116.7734375    99.61328125]"
       ]
      },
      {
       "output_type": "stream",
       "stream": "stdout",
       "text": [
        "\n",
        "[ 125.48675314  116.78529046   99.60735477]"
       ]
      },
      {
       "output_type": "stream",
       "stream": "stdout",
       "text": [
        "\n",
        "[ 125.52454334  116.79722421   99.60138789]"
       ]
      },
      {
       "output_type": "stream",
       "stream": "stdout",
       "text": [
        "\n",
        "[ 125.56258867  116.80923853   99.59538074]"
       ]
      },
      {
       "output_type": "stream",
       "stream": "stdout",
       "text": [
        "\n",
        "[ 125.60088845  116.8213332    99.5893334 ]"
       ]
      },
      {
       "output_type": "stream",
       "stream": "stdout",
       "text": [
        "\n",
        "[ 125.639442  116.833508   99.583246]"
       ]
      },
      {
       "output_type": "stream",
       "stream": "stdout",
       "text": [
        "\n",
        "[ 125.67824863  116.84576272   99.57711864]"
       ]
      },
      {
       "output_type": "stream",
       "stream": "stdout",
       "text": [
        "\n",
        "[ 125.71730765  116.85809715   99.57095142]"
       ]
      },
      {
       "output_type": "stream",
       "stream": "stdout",
       "text": [
        "\n",
        "[ 125.75661838  116.87051107   99.56474447]"
       ]
      },
      {
       "output_type": "stream",
       "stream": "stdout",
       "text": [
        "\n",
        "[ 125.79618014  116.88300426   99.55849787]"
       ]
      },
      {
       "output_type": "stream",
       "stream": "stdout",
       "text": [
        "\n",
        "[ 125.83599225  116.8955765    99.55221175]"
       ]
      },
      {
       "output_type": "stream",
       "stream": "stdout",
       "text": [
        "\n",
        "[ 125.87605402  116.90822758   99.54588621]"
       ]
      },
      {
       "output_type": "stream",
       "stream": "stdout",
       "text": [
        "\n",
        "[ 125.91636476  116.92095729   99.53952135]"
       ]
      },
      {
       "output_type": "stream",
       "stream": "stdout",
       "text": [
        "\n",
        "[ 125.95692379  116.93376541   99.5331173 ]"
       ]
      },
      {
       "output_type": "stream",
       "stream": "stdout",
       "text": [
        "\n",
        "[ 125.99773043  116.94665172   99.52667414]"
       ]
      },
      {
       "output_type": "stream",
       "stream": "stdout",
       "text": [
        "\n",
        "[ 126.038784  116.959616   99.520192]"
       ]
      },
      {
       "output_type": "stream",
       "stream": "stdout",
       "text": [
        "\n",
        "[ 126.08008381  116.97265804   99.51367098]"
       ]
      },
      {
       "output_type": "stream",
       "stream": "stdout",
       "text": [
        "\n",
        "[ 126.12162917  116.98577763   99.50711118]"
       ]
      },
      {
       "output_type": "stream",
       "stream": "stdout",
       "text": [
        "\n",
        "[ 126.1634194   116.99897455   99.50051273]"
       ]
      },
      {
       "output_type": "stream",
       "stream": "stdout",
       "text": [
        "\n",
        "[ 126.20545382  117.01224858   99.49387571]"
       ]
      },
      {
       "output_type": "stream",
       "stream": "stdout",
       "text": [
        "\n",
        "[ 126.24773175  117.0255995    99.48720025]"
       ]
      },
      {
       "output_type": "stream",
       "stream": "stdout",
       "text": [
        "\n",
        "[ 126.2902525   117.0390271    99.48048645]"
       ]
      },
      {
       "output_type": "stream",
       "stream": "stdout",
       "text": [
        "\n",
        "[ 126.33301538  117.05253117   99.47373441]"
       ]
      },
      {
       "output_type": "stream",
       "stream": "stdout",
       "text": [
        "\n",
        "[ 126.37601971  117.06611149   99.46694426]"
       ]
      },
      {
       "output_type": "stream",
       "stream": "stdout",
       "text": [
        "\n",
        "[ 126.41926481  117.07976784   99.46011608]"
       ]
      },
      {
       "output_type": "stream",
       "stream": "stdout",
       "text": [
        "\n",
        "[ 126.46275  117.0935    99.45325]"
       ]
      },
      {
       "output_type": "stream",
       "stream": "stdout",
       "text": [
        "\n",
        "[ 126.50647459  117.10730776   99.44634612]"
       ]
      },
      {
       "output_type": "stream",
       "stream": "stdout",
       "text": [
        "\n",
        "[ 126.55043789  117.12119091   99.43940454]"
       ]
      },
      {
       "output_type": "stream",
       "stream": "stdout",
       "text": [
        "\n",
        "[ 126.59463922  117.13514923   99.43242539]"
       ]
      },
      {
       "output_type": "stream",
       "stream": "stdout",
       "text": [
        "\n",
        "[ 126.6390779   117.1491825    99.42540875]"
       ]
      },
      {
       "output_type": "stream",
       "stream": "stdout",
       "text": [
        "\n",
        "[ 126.68375325  117.1632905    99.41835475]"
       ]
      },
      {
       "output_type": "stream",
       "stream": "stdout",
       "text": [
        "\n",
        "[ 126.72866458  117.17747302   99.41126349]"
       ]
      },
      {
       "output_type": "stream",
       "stream": "stdout",
       "text": [
        "\n",
        "[ 126.7738112   117.19172985   99.40413507]"
       ]
      },
      {
       "output_type": "stream",
       "stream": "stdout",
       "text": [
        "\n",
        "[ 126.81919243  117.20606077   99.39696962]"
       ]
      },
      {
       "output_type": "stream",
       "stream": "stdout",
       "text": [
        "\n",
        "[ 126.86480759  117.22046556   99.38976722]"
       ]
      },
      {
       "output_type": "stream",
       "stream": "stdout",
       "text": [
        "\n",
        "[ 126.910656  117.234944   99.382528]"
       ]
      },
      {
       "output_type": "stream",
       "stream": "stdout",
       "text": [
        "\n",
        "[ 126.95673697  117.24949588   99.37525206]"
       ]
      },
      {
       "output_type": "stream",
       "stream": "stdout",
       "text": [
        "\n",
        "[ 127.00304981  117.26412099   99.3679395 ]"
       ]
      },
      {
       "output_type": "stream",
       "stream": "stdout",
       "text": [
        "\n",
        "[ 127.04959384  117.27881911   99.36059045]"
       ]
      },
      {
       "output_type": "stream",
       "stream": "stdout",
       "text": [
        "\n",
        "[ 127.09636838  117.29359002   99.35320499]"
       ]
      },
      {
       "output_type": "stream",
       "stream": "stdout",
       "text": [
        "\n",
        "[ 127.14337275  117.3084335    99.34578325]"
       ]
      },
      {
       "output_type": "stream",
       "stream": "stdout",
       "text": [
        "\n",
        "[ 127.19060626  117.32334934   99.33832533]"
       ]
      },
      {
       "output_type": "stream",
       "stream": "stdout",
       "text": [
        "\n",
        "[ 127.23806822  117.33833733   99.33083133]"
       ]
      },
      {
       "output_type": "stream",
       "stream": "stdout",
       "text": [
        "\n",
        "[ 127.28575795  117.35339725   99.32330138]"
       ]
      },
      {
       "output_type": "stream",
       "stream": "stdout",
       "text": [
        "\n",
        "[ 127.33367477  117.36852888   99.31573556]"
       ]
      },
      {
       "output_type": "stream",
       "stream": "stdout",
       "text": [
        "\n",
        "[ 127.381818  117.383732   99.308134]"
       ]
      },
      {
       "output_type": "stream",
       "stream": "stdout",
       "text": [
        "\n",
        "[ 127.43018695  117.3990064    99.3004968 ]"
       ]
      },
      {
       "output_type": "stream",
       "stream": "stdout",
       "text": [
        "\n",
        "[ 127.47878093  117.41435187   99.29282406]"
       ]
      },
      {
       "output_type": "stream",
       "stream": "stdout",
       "text": [
        "\n",
        "[ 127.52759926  117.42976819   99.28511591]"
       ]
      },
      {
       "output_type": "stream",
       "stream": "stdout",
       "text": [
        "\n",
        "[ 127.57664126  117.44525514   99.27737243]"
       ]
      },
      {
       "output_type": "stream",
       "stream": "stdout",
       "text": [
        "\n",
        "[ 127.62590625  117.4608125    99.26959375]"
       ]
      },
      {
       "output_type": "stream",
       "stream": "stdout",
       "text": [
        "\n",
        "[ 127.67539354  117.47644006   99.26177997]"
       ]
      },
      {
       "output_type": "stream",
       "stream": "stdout",
       "text": [
        "\n",
        "[ 127.72510244  117.49213761   99.25393119]"
       ]
      },
      {
       "output_type": "stream",
       "stream": "stdout",
       "text": [
        "\n",
        "[ 127.77503227  117.50790493   99.24604754]"
       ]
      },
      {
       "output_type": "stream",
       "stream": "stdout",
       "text": [
        "\n",
        "[ 127.82518235  117.5237418    99.2381291 ]"
       ]
      },
      {
       "output_type": "stream",
       "stream": "stdout",
       "text": [
        "\n",
        "[ 127.875552  117.539648   99.230176]"
       ]
      },
      {
       "output_type": "stream",
       "stream": "stdout",
       "text": [
        "\n",
        "[ 127.92614053  117.55562332   99.22218834]"
       ]
      },
      {
       "output_type": "stream",
       "stream": "stdout",
       "text": [
        "\n",
        "[ 127.97694725  117.57166755   99.21416622]"
       ]
      },
      {
       "output_type": "stream",
       "stream": "stdout",
       "text": [
        "\n",
        "[ 128.02797148  117.58778047   99.20610977]"
       ]
      },
      {
       "output_type": "stream",
       "stream": "stdout",
       "text": [
        "\n",
        "[ 128.07921254  117.60396186   99.19801907]"
       ]
      },
      {
       "output_type": "stream",
       "stream": "stdout",
       "text": [
        "\n",
        "[ 128.13066975  117.6202115    99.18989425]"
       ]
      },
      {
       "output_type": "stream",
       "stream": "stdout",
       "text": [
        "\n",
        "[ 128.18234242  117.63652918   99.18173541]"
       ]
      },
      {
       "output_type": "stream",
       "stream": "stdout",
       "text": [
        "\n",
        "[ 128.23422986  117.65291469   99.17354265]"
       ]
      },
      {
       "output_type": "stream",
       "stream": "stdout",
       "text": [
        "\n",
        "[ 128.28633139  117.66936781   99.1653161 ]"
       ]
      },
      {
       "output_type": "stream",
       "stream": "stdout",
       "text": [
        "\n",
        "[ 128.33864633  117.68588832   99.15705584]"
       ]
      },
      {
       "output_type": "stream",
       "stream": "stdout",
       "text": [
        "\n",
        "[ 128.391174  117.702476   99.148762]"
       ]
      },
      {
       "output_type": "stream",
       "stream": "stdout",
       "text": [
        "\n",
        "[ 128.44391371  117.71913064   99.14043468]"
       ]
      },
      {
       "output_type": "stream",
       "stream": "stdout",
       "text": [
        "\n",
        "[ 128.49686477  117.73585203   99.13207398]"
       ]
      },
      {
       "output_type": "stream",
       "stream": "stdout",
       "text": [
        "\n",
        "[ 128.5500265   117.75263995   99.12368003]"
       ]
      },
      {
       "output_type": "stream",
       "stream": "stdout",
       "text": [
        "\n",
        "[ 128.60339822  117.76949418   99.11525291]"
       ]
      },
      {
       "output_type": "stream",
       "stream": "stdout",
       "text": [
        "\n",
        "[ 128.65697925  117.7864145    99.10679275]"
       ]
      },
      {
       "output_type": "stream",
       "stream": "stdout",
       "text": [
        "\n",
        "[ 128.7107689   117.8034007    99.09829965]"
       ]
      },
      {
       "output_type": "stream",
       "stream": "stdout",
       "text": [
        "\n",
        "[ 128.76476648  117.82045257   99.08977371]"
       ]
      },
      {
       "output_type": "stream",
       "stream": "stdout",
       "text": [
        "\n",
        "[ 128.81897131  117.83756989   99.08121506]"
       ]
      },
      {
       "output_type": "stream",
       "stream": "stdout",
       "text": [
        "\n",
        "[ 128.87338271  117.85475244   99.07262378]"
       ]
      },
      {
       "output_type": "stream",
       "stream": "stdout",
       "text": [
        "\n",
        "[ 128.928  117.872   99.064]"
       ]
      },
      {
       "output_type": "stream",
       "stream": "stdout",
       "text": [
        "\n",
        "[ 128.98282249  117.88931236   99.05534382]"
       ]
      },
      {
       "output_type": "stream",
       "stream": "stdout",
       "text": [
        "\n",
        "[ 129.03784949  117.90668931   99.04665534]"
       ]
      },
      {
       "output_type": "stream",
       "stream": "stdout",
       "text": [
        "\n",
        "[ 129.09308032  117.92413063   99.03793469]"
       ]
      },
      {
       "output_type": "stream",
       "stream": "stdout",
       "text": [
        "\n",
        "[ 129.1485143   117.9416361    99.02918195]"
       ]
      },
      {
       "output_type": "stream",
       "stream": "stdout",
       "text": [
        "\n",
        "[ 129.20415075  117.9592055    99.02039725]"
       ]
      },
      {
       "output_type": "stream",
       "stream": "stdout",
       "text": [
        "\n",
        "[ 129.25998898  117.97683862   99.01158069]"
       ]
      },
      {
       "output_type": "stream",
       "stream": "stdout",
       "text": [
        "\n",
        "[ 129.3160283   117.99453525   99.00273237]"
       ]
      },
      {
       "output_type": "stream",
       "stream": "stdout",
       "text": [
        "\n",
        "[ 129.37226803  118.01229517   98.99385242]"
       ]
      },
      {
       "output_type": "stream",
       "stream": "stdout",
       "text": [
        "\n",
        "[ 129.42870749  118.03011816   98.98494092]"
       ]
      },
      {
       "output_type": "stream",
       "stream": "stdout",
       "text": [
        "\n",
        "[ 129.485346  118.048004   98.975998]"
       ]
      },
      {
       "output_type": "stream",
       "stream": "stdout",
       "text": [
        "\n",
        "[ 129.54218287  118.06595248   98.96702376]"
       ]
      },
      {
       "output_type": "stream",
       "stream": "stdout",
       "text": [
        "\n",
        "[ 129.59921741  118.08396339   98.9580183 ]"
       ]
      },
      {
       "output_type": "stream",
       "stream": "stdout",
       "text": [
        "\n",
        "[ 129.65644894  118.10203651   98.94898175]"
       ]
      },
      {
       "output_type": "stream",
       "stream": "stdout",
       "text": [
        "\n",
        "[ 129.71387678  118.12017162   98.93991419]"
       ]
      },
      {
       "output_type": "stream",
       "stream": "stdout",
       "text": [
        "\n",
        "[ 129.77150025  118.1383685    98.93081575]"
       ]
      },
      {
       "output_type": "stream",
       "stream": "stdout",
       "text": [
        "\n",
        "[ 129.82931866  118.15662694   98.92168653]"
       ]
      },
      {
       "output_type": "stream",
       "stream": "stdout",
       "text": [
        "\n",
        "[ 129.88733132  118.17494673   98.91252663]"
       ]
      },
      {
       "output_type": "stream",
       "stream": "stdout",
       "text": [
        "\n",
        "[ 129.94553755  118.19332765   98.90333618]"
       ]
      },
      {
       "output_type": "stream",
       "stream": "stdout",
       "text": [
        "\n",
        "[ 130.00393667  118.21176948   98.89411526]"
       ]
      },
      {
       "output_type": "stream",
       "stream": "stdout",
       "text": [
        "\n",
        "[ 130.062528  118.230272   98.884864]"
       ]
      },
      {
       "output_type": "stream",
       "stream": "stdout",
       "text": [
        "\n",
        "[ 130.12131085  118.248835     98.8755825 ]"
       ]
      },
      {
       "output_type": "stream",
       "stream": "stdout",
       "text": [
        "\n",
        "[ 130.18028453  118.26745827   98.86627086]"
       ]
      },
      {
       "output_type": "stream",
       "stream": "stdout",
       "text": [
        "\n",
        "[ 130.23944836  118.28614159   98.85692921]"
       ]
      },
      {
       "output_type": "stream",
       "stream": "stdout",
       "text": [
        "\n",
        "[ 130.29880166  118.30488474   98.84755763]"
       ]
      },
      {
       "output_type": "stream",
       "stream": "stdout",
       "text": [
        "\n",
        "[ 130.35834375  118.3236875    98.83815625]"
       ]
      },
      {
       "output_type": "stream",
       "stream": "stdout",
       "text": [
        "\n",
        "[ 130.41807394  118.34254966   98.82872517]"
       ]
      },
      {
       "output_type": "stream",
       "stream": "stdout",
       "text": [
        "\n",
        "[ 130.47799154  118.36147101   98.81926449]"
       ]
      },
      {
       "output_type": "stream",
       "stream": "stdout",
       "text": [
        "\n",
        "[ 130.53809587  118.38045133   98.80977434]"
       ]
      },
      {
       "output_type": "stream",
       "stream": "stdout",
       "text": [
        "\n",
        "[ 130.59838625  118.3994904    98.8002548 ]"
       ]
      },
      {
       "output_type": "stream",
       "stream": "stdout",
       "text": [
        "\n",
        "[ 130.658862  118.418588   98.790706]"
       ]
      },
      {
       "output_type": "stream",
       "stream": "stdout",
       "text": [
        "\n",
        "[ 130.71952243  118.43774392   98.78112804]"
       ]
      },
      {
       "output_type": "stream",
       "stream": "stdout",
       "text": [
        "\n",
        "[ 130.78036685  118.45695795   98.77152102]"
       ]
      },
      {
       "output_type": "stream",
       "stream": "stdout",
       "text": [
        "\n",
        "[ 130.84139458  118.47622987   98.76188507]"
       ]
      },
      {
       "output_type": "stream",
       "stream": "stdout",
       "text": [
        "\n",
        "[ 130.90260494  118.49555946   98.75222027]"
       ]
      },
      {
       "output_type": "stream",
       "stream": "stdout",
       "text": [
        "\n",
        "[ 130.96399725  118.5149465    98.74252675]"
       ]
      },
      {
       "output_type": "stream",
       "stream": "stdout",
       "text": [
        "\n",
        "[ 131.02557082  118.53439078   98.73280461]"
       ]
      },
      {
       "output_type": "stream",
       "stream": "stdout",
       "text": [
        "\n",
        "[ 131.08732496  118.55389209   98.72305395]"
       ]
      },
      {
       "output_type": "stream",
       "stream": "stdout",
       "text": [
        "\n",
        "[ 131.14925899  118.57345021   98.7132749 ]"
       ]
      },
      {
       "output_type": "stream",
       "stream": "stdout",
       "text": [
        "\n",
        "[ 131.21137223  118.59306492   98.70346754]"
       ]
      },
      {
       "output_type": "stream",
       "stream": "stdout",
       "text": [
        "\n",
        "[ 131.273664  118.612736   98.693632]"
       ]
      },
      {
       "output_type": "stream",
       "stream": "stdout",
       "text": [
        "\n",
        "[ 131.33613361  118.63246324   98.68376838]"
       ]
      },
      {
       "output_type": "stream",
       "stream": "stdout",
       "text": [
        "\n",
        "[ 131.39878037  118.65224643   98.67387678]"
       ]
      },
      {
       "output_type": "stream",
       "stream": "stdout",
       "text": [
        "\n",
        "[ 131.4616036   118.67208535   98.66395733]"
       ]
      },
      {
       "output_type": "stream",
       "stream": "stdout",
       "text": [
        "\n",
        "[ 131.52460262  118.69197978   98.65401011]"
       ]
      },
      {
       "output_type": "stream",
       "stream": "stdout",
       "text": [
        "\n",
        "[ 131.58777675  118.7119295    98.64403525]"
       ]
      },
      {
       "output_type": "stream",
       "stream": "stdout",
       "text": [
        "\n",
        "[ 131.6511253   118.7319343    98.63403285]"
       ]
      },
      {
       "output_type": "stream",
       "stream": "stdout",
       "text": [
        "\n",
        "[ 131.71464758  118.75199397   98.62400301]"
       ]
      },
      {
       "output_type": "stream",
       "stream": "stdout",
       "text": [
        "\n",
        "[ 131.77834291  118.77210829   98.61394586]"
       ]
      },
      {
       "output_type": "stream",
       "stream": "stdout",
       "text": [
        "\n",
        "[ 131.84221061  118.79227704   98.60386148]"
       ]
      },
      {
       "output_type": "stream",
       "stream": "stdout",
       "text": [
        "\n",
        "[ 131.90625  118.8125    98.59375]"
       ]
      },
      {
       "output_type": "stream",
       "stream": "stdout",
       "text": [
        "\n",
        "[ 131.97046039  118.83277696   98.58361152]"
       ]
      },
      {
       "output_type": "stream",
       "stream": "stdout",
       "text": [
        "\n",
        "[ 132.03484109  118.85310771   98.57344614]"
       ]
      },
      {
       "output_type": "stream",
       "stream": "stdout",
       "text": [
        "\n",
        "[ 132.09939142  118.87349203   98.56325399]"
       ]
      },
      {
       "output_type": "stream",
       "stream": "stdout",
       "text": [
        "\n",
        "[ 132.1641107   118.8939297    98.55303515]"
       ]
      },
      {
       "output_type": "stream",
       "stream": "stdout",
       "text": [
        "\n",
        "[ 132.22899825  118.9144205    98.54278975]"
       ]
      },
      {
       "output_type": "stream",
       "stream": "stdout",
       "text": [
        "\n",
        "[ 132.29405338  118.93496422   98.53251789]"
       ]
      },
      {
       "output_type": "stream",
       "stream": "stdout",
       "text": [
        "\n",
        "[ 132.3592754   118.95556065   98.52221967]"
       ]
      },
      {
       "output_type": "stream",
       "stream": "stdout",
       "text": [
        "\n",
        "[ 132.42466363  118.97620957   98.51189522]"
       ]
      },
      {
       "output_type": "stream",
       "stream": "stdout",
       "text": [
        "\n",
        "[ 132.49021739  118.99691076   98.50154462]"
       ]
      },
      {
       "output_type": "stream",
       "stream": "stdout",
       "text": [
        "\n",
        "[ 132.555936  119.017664   98.491168]"
       ]
      },
      {
       "output_type": "stream",
       "stream": "stdout",
       "text": [
        "\n",
        "[ 132.62181877  119.03846908   98.48076546]"
       ]
      },
      {
       "output_type": "stream",
       "stream": "stdout",
       "text": [
        "\n",
        "[ 132.68786501  119.05932579   98.4703371 ]"
       ]
      },
      {
       "output_type": "stream",
       "stream": "stdout",
       "text": [
        "\n",
        "[ 132.75407404  119.08023391   98.45988305]"
       ]
      },
      {
       "output_type": "stream",
       "stream": "stdout",
       "text": [
        "\n",
        "[ 132.82044518  119.10119322   98.44940339]"
       ]
      },
      {
       "output_type": "stream",
       "stream": "stdout",
       "text": [
        "\n",
        "[ 132.88697775  119.1222035    98.43889825]"
       ]
      },
      {
       "output_type": "stream",
       "stream": "stdout",
       "text": [
        "\n",
        "[ 132.95367106  119.14326454   98.42836773]"
       ]
      },
      {
       "output_type": "stream",
       "stream": "stdout",
       "text": [
        "\n",
        "[ 133.02052442  119.16437613   98.41781193]"
       ]
      },
      {
       "output_type": "stream",
       "stream": "stdout",
       "text": [
        "\n",
        "[ 133.08753715  119.18553805   98.40723098]"
       ]
      },
      {
       "output_type": "stream",
       "stream": "stdout",
       "text": [
        "\n",
        "[ 133.15470857  119.20675008   98.39662496]"
       ]
      },
      {
       "output_type": "stream",
       "stream": "stdout",
       "text": [
        "\n",
        "[ 133.222038  119.228012   98.385994]"
       ]
      },
      {
       "output_type": "stream",
       "stream": "stdout",
       "text": [
        "\n",
        "[ 133.28952475  119.2493236    98.3753382 ]"
       ]
      },
      {
       "output_type": "stream",
       "stream": "stdout",
       "text": [
        "\n",
        "[ 133.35716813  119.27068467   98.36465766]"
       ]
      },
      {
       "output_type": "stream",
       "stream": "stdout",
       "text": [
        "\n",
        "[ 133.42496746  119.29209499   98.35395251]"
       ]
      },
      {
       "output_type": "stream",
       "stream": "stdout",
       "text": [
        "\n",
        "[ 133.49292206  119.31355434   98.34322283]"
       ]
      },
      {
       "output_type": "stream",
       "stream": "stdout",
       "text": [
        "\n",
        "[ 133.56103125  119.3350625    98.33246875]"
       ]
      },
      {
       "output_type": "stream",
       "stream": "stdout",
       "text": [
        "\n",
        "[ 133.62929434  119.35661926   98.32169037]"
       ]
      },
      {
       "output_type": "stream",
       "stream": "stdout",
       "text": [
        "\n",
        "[ 133.69771064  119.37822441   98.31088779]"
       ]
      },
      {
       "output_type": "stream",
       "stream": "stdout",
       "text": [
        "\n",
        "[ 133.76627947  119.39987773   98.30006114]"
       ]
      },
      {
       "output_type": "stream",
       "stream": "stdout",
       "text": [
        "\n",
        "[ 133.83500015  119.421579     98.2892105 ]"
       ]
      },
      {
       "output_type": "stream",
       "stream": "stdout",
       "text": [
        "\n",
        "[ 133.903872  119.443328   98.278336]"
       ]
      },
      {
       "output_type": "stream",
       "stream": "stdout",
       "text": [
        "\n",
        "[ 133.97289433  119.46512452   98.26743774]"
       ]
      },
      {
       "output_type": "stream",
       "stream": "stdout",
       "text": [
        "\n",
        "[ 134.04206645  119.48696835   98.25651582]"
       ]
      },
      {
       "output_type": "stream",
       "stream": "stdout",
       "text": [
        "\n",
        "[ 134.11138768  119.50885927   98.24557037]"
       ]
      },
      {
       "output_type": "stream",
       "stream": "stdout",
       "text": [
        "\n",
        "[ 134.18085734  119.53079706   98.23460147]"
       ]
      },
      {
       "output_type": "stream",
       "stream": "stdout",
       "text": [
        "\n",
        "[ 134.25047475  119.5527815    98.22360925]"
       ]
      },
      {
       "output_type": "stream",
       "stream": "stdout",
       "text": [
        "\n",
        "[ 134.32023922  119.57481238   98.21259381]"
       ]
      },
      {
       "output_type": "stream",
       "stream": "stdout",
       "text": [
        "\n",
        "[ 134.39015006  119.59688949   98.20155525]"
       ]
      },
      {
       "output_type": "stream",
       "stream": "stdout",
       "text": [
        "\n",
        "[ 134.46020659  119.61901261   98.1904937 ]"
       ]
      },
      {
       "output_type": "stream",
       "stream": "stdout",
       "text": [
        "\n",
        "[ 134.53040813  119.64118152   98.17940924]"
       ]
      },
      {
       "output_type": "stream",
       "stream": "stdout",
       "text": [
        "\n",
        "[ 134.600754  119.663396   98.168302]"
       ]
      },
      {
       "output_type": "stream",
       "stream": "stdout",
       "text": [
        "\n",
        "[ 134.67124351  119.68565584   98.15717208]"
       ]
      },
      {
       "output_type": "stream",
       "stream": "stdout",
       "text": [
        "\n",
        "[ 134.74187597  119.70796083   98.14601958]"
       ]
      },
      {
       "output_type": "stream",
       "stream": "stdout",
       "text": [
        "\n",
        "[ 134.8126507   119.73031075   98.13484463]"
       ]
      },
      {
       "output_type": "stream",
       "stream": "stdout",
       "text": [
        "\n",
        "[ 134.88356702  119.75270538   98.12364731]"
       ]
      },
      {
       "output_type": "stream",
       "stream": "stdout",
       "text": [
        "\n",
        "[ 134.95462425  119.7751445    98.11242775]"
       ]
      },
      {
       "output_type": "stream",
       "stream": "stdout",
       "text": [
        "\n",
        "[ 135.0258217   119.7976279    98.10118605]"
       ]
      },
      {
       "output_type": "stream",
       "stream": "stdout",
       "text": [
        "\n",
        "[ 135.09715868  119.82015537   98.08992231]"
       ]
      },
      {
       "output_type": "stream",
       "stream": "stdout",
       "text": [
        "\n",
        "[ 135.16863451  119.84272669   98.07863666]"
       ]
      },
      {
       "output_type": "stream",
       "stream": "stdout",
       "text": [
        "\n",
        "[ 135.24024851  119.86534164   98.06732918]"
       ]
      },
      {
       "output_type": "stream",
       "stream": "stdout",
       "text": [
        "\n",
        "[ 135.312  119.888   98.056]"
       ]
      },
      {
       "output_type": "stream",
       "stream": "stdout",
       "text": [
        "\n",
        "[ 135.38388829  119.91070156   98.04464922]"
       ]
      },
      {
       "output_type": "stream",
       "stream": "stdout",
       "text": [
        "\n",
        "[ 135.45591269  119.93344611   98.03327694]"
       ]
      },
      {
       "output_type": "stream",
       "stream": "stdout",
       "text": [
        "\n",
        "[ 135.52807252  119.95623343   98.02188329]"
       ]
      },
      {
       "output_type": "stream",
       "stream": "stdout",
       "text": [
        "\n",
        "[ 135.6003671   119.9790633    98.01046835]"
       ]
      },
      {
       "output_type": "stream",
       "stream": "stdout",
       "text": [
        "\n",
        "[ 135.67279575  120.0019355    97.99903225]"
       ]
      },
      {
       "output_type": "stream",
       "stream": "stdout",
       "text": [
        "\n",
        "[ 135.74535778  120.02484982   97.98757509]"
       ]
      },
      {
       "output_type": "stream",
       "stream": "stdout",
       "text": [
        "\n",
        "[ 135.8180525   120.04780605   97.97609697]"
       ]
      },
      {
       "output_type": "stream",
       "stream": "stdout",
       "text": [
        "\n",
        "[ 135.89087923  120.07080397   97.96459802]"
       ]
      },
      {
       "output_type": "stream",
       "stream": "stdout",
       "text": [
        "\n",
        "[ 135.96383729  120.09384336   97.95307832]"
       ]
      },
      {
       "output_type": "stream",
       "stream": "stdout",
       "text": [
        "\n",
        "[ 136.036926  120.116924   97.941538]"
       ]
      },
      {
       "output_type": "stream",
       "stream": "stdout",
       "text": [
        "\n",
        "[ 136.11014467  120.14004568   97.92997716]"
       ]
      },
      {
       "output_type": "stream",
       "stream": "stdout",
       "text": [
        "\n",
        "[ 136.18349261  120.16320819   97.9183959 ]"
       ]
      },
      {
       "output_type": "stream",
       "stream": "stdout",
       "text": [
        "\n",
        "[ 136.25696914  120.18641131   97.90679435]"
       ]
      },
      {
       "output_type": "stream",
       "stream": "stdout",
       "text": [
        "\n",
        "[ 136.33057358  120.20965482   97.89517259]"
       ]
      },
      {
       "output_type": "stream",
       "stream": "stdout",
       "text": [
        "\n",
        "[ 136.40430525  120.2329385    97.88353075]"
       ]
      },
      {
       "output_type": "stream",
       "stream": "stdout",
       "text": [
        "\n",
        "[ 136.47816346  120.25626214   97.87186893]"
       ]
      },
      {
       "output_type": "stream",
       "stream": "stdout",
       "text": [
        "\n",
        "[ 136.55214752  120.27962553   97.86018723]"
       ]
      },
      {
       "output_type": "stream",
       "stream": "stdout",
       "text": [
        "\n",
        "[ 136.62625675  120.30302845   97.84848578]"
       ]
      },
      {
       "output_type": "stream",
       "stream": "stdout",
       "text": [
        "\n",
        "[ 136.70049047  120.32647068   97.83676466]"
       ]
      },
      {
       "output_type": "stream",
       "stream": "stdout",
       "text": [
        "\n",
        "[ 136.774848  120.349952   97.825024]"
       ]
      },
      {
       "output_type": "stream",
       "stream": "stdout",
       "text": [
        "\n",
        "[ 136.84932865  120.3734722    97.8132639 ]"
       ]
      },
      {
       "output_type": "stream",
       "stream": "stdout",
       "text": [
        "\n",
        "[ 136.92393173  120.39703107   97.80148446]"
       ]
      },
      {
       "output_type": "stream",
       "stream": "stdout",
       "text": [
        "\n",
        "[ 136.99865656  120.42062839   97.78968581]"
       ]
      },
      {
       "output_type": "stream",
       "stream": "stdout",
       "text": [
        "\n",
        "[ 137.07350246  120.44426394   97.77786803]"
       ]
      },
      {
       "output_type": "stream",
       "stream": "stdout",
       "text": [
        "\n",
        "[ 137.14846875  120.4679375    97.76603125]"
       ]
      },
      {
       "output_type": "stream",
       "stream": "stdout",
       "text": [
        "\n",
        "[ 137.22355474  120.49164886   97.75417557]"
       ]
      },
      {
       "output_type": "stream",
       "stream": "stdout",
       "text": [
        "\n",
        "[ 137.29875974  120.51539781   97.74230109]"
       ]
      },
      {
       "output_type": "stream",
       "stream": "stdout",
       "text": [
        "\n",
        "[ 137.37408307  120.53918413   97.73040794]"
       ]
      },
      {
       "output_type": "stream",
       "stream": "stdout",
       "text": [
        "\n",
        "[ 137.44952405  120.5630076    97.7184962 ]"
       ]
      },
      {
       "output_type": "stream",
       "stream": "stdout",
       "text": [
        "\n",
        "[ 137.525082  120.586868   97.706566]"
       ]
      },
      {
       "output_type": "stream",
       "stream": "stdout",
       "text": [
        "\n",
        "[ 137.60075623  120.61076512   97.69461744]"
       ]
      },
      {
       "output_type": "stream",
       "stream": "stdout",
       "text": [
        "\n",
        "[ 137.67654605  120.63469875   97.68265062]"
       ]
      },
      {
       "output_type": "stream",
       "stream": "stdout",
       "text": [
        "\n",
        "[ 137.75245078  120.65866867   97.67066567]"
       ]
      },
      {
       "output_type": "stream",
       "stream": "stdout",
       "text": [
        "\n",
        "[ 137.82846974  120.68267466   97.65866267]"
       ]
      },
      {
       "output_type": "stream",
       "stream": "stdout",
       "text": [
        "\n",
        "[ 137.90460225  120.7067165    97.64664175]"
       ]
      },
      {
       "output_type": "stream",
       "stream": "stdout",
       "text": [
        "\n",
        "[ 137.98084762  120.73079398   97.63460301]"
       ]
      },
      {
       "output_type": "stream",
       "stream": "stdout",
       "text": [
        "\n",
        "[ 138.05720516  120.75490689   97.62254655]"
       ]
      },
      {
       "output_type": "stream",
       "stream": "stdout",
       "text": [
        "\n",
        "[ 138.13367419  120.77905501   97.6104725 ]"
       ]
      },
      {
       "output_type": "stream",
       "stream": "stdout",
       "text": [
        "\n",
        "[ 138.21025403  120.80323812   97.59838094]"
       ]
      },
      {
       "output_type": "stream",
       "stream": "stdout",
       "text": [
        "\n",
        "[ 138.286944  120.827456   97.586272]"
       ]
      },
      {
       "output_type": "stream",
       "stream": "stdout",
       "text": [
        "\n",
        "[ 138.36374341  120.85170844   97.57414578]"
       ]
      },
      {
       "output_type": "stream",
       "stream": "stdout",
       "text": [
        "\n",
        "[ 138.44065157  120.87599523   97.56200238]"
       ]
      },
      {
       "output_type": "stream",
       "stream": "stdout",
       "text": [
        "\n",
        "[ 138.5176678   120.90031615   97.54984193]"
       ]
      },
      {
       "output_type": "stream",
       "stream": "stdout",
       "text": [
        "\n",
        "[ 138.59479142  120.92467098   97.53766451]"
       ]
      },
      {
       "output_type": "stream",
       "stream": "stdout",
       "text": [
        "\n",
        "[ 138.67202175  120.9490595    97.52547025]"
       ]
      },
      {
       "output_type": "stream",
       "stream": "stdout",
       "text": [
        "\n",
        "[ 138.7493581   120.9734815    97.51325925]"
       ]
      },
      {
       "output_type": "stream",
       "stream": "stdout",
       "text": [
        "\n",
        "[ 138.82679978  120.99793677   97.50103161]"
       ]
      },
      {
       "output_type": "stream",
       "stream": "stdout",
       "text": [
        "\n",
        "[ 138.90434611  121.02242509   97.48878746]"
       ]
      },
      {
       "output_type": "stream",
       "stream": "stdout",
       "text": [
        "\n",
        "[ 138.98199641  121.04694624   97.47652688]"
       ]
      },
      {
       "output_type": "stream",
       "stream": "stdout",
       "text": [
        "\n",
        "[ 139.05975  121.0715    97.46425]"
       ]
      },
      {
       "output_type": "stream",
       "stream": "stdout",
       "text": [
        "\n",
        "[ 139.13760619  121.09608616   97.45195692]"
       ]
      },
      {
       "output_type": "stream",
       "stream": "stdout",
       "text": [
        "\n",
        "[ 139.21556429  121.12070451   97.43964774]"
       ]
      },
      {
       "output_type": "stream",
       "stream": "stdout",
       "text": [
        "\n",
        "[ 139.29362362  121.14535483   97.42732259]"
       ]
      },
      {
       "output_type": "stream",
       "stream": "stdout",
       "text": [
        "\n",
        "[ 139.3717835   121.1700369    97.41498155]"
       ]
      },
      {
       "output_type": "stream",
       "stream": "stdout",
       "text": [
        "\n",
        "[ 139.45004325  121.1947505    97.40262475]"
       ]
      },
      {
       "output_type": "stream",
       "stream": "stdout",
       "text": [
        "\n",
        "[ 139.52840218  121.21949542   97.39025229]"
       ]
      },
      {
       "output_type": "stream",
       "stream": "stdout",
       "text": [
        "\n",
        "[ 139.6068596   121.24427145   97.37786427]"
       ]
      },
      {
       "output_type": "stream",
       "stream": "stdout",
       "text": [
        "\n",
        "[ 139.68541483  121.26907837   97.36546082]"
       ]
      },
      {
       "output_type": "stream",
       "stream": "stdout",
       "text": [
        "\n",
        "[ 139.76406719  121.29391596   97.35304202]"
       ]
      },
      {
       "output_type": "stream",
       "stream": "stdout",
       "text": [
        "\n",
        "[ 139.842816  121.318784   97.340608]"
       ]
      },
      {
       "output_type": "stream",
       "stream": "stdout",
       "text": [
        "\n",
        "[ 139.92166057  121.34368228   97.32815886]"
       ]
      },
      {
       "output_type": "stream",
       "stream": "stdout",
       "text": [
        "\n",
        "[ 140.00060021  121.36861059   97.3156947 ]"
       ]
      },
      {
       "output_type": "stream",
       "stream": "stdout",
       "text": [
        "\n",
        "[ 140.07963424  121.39356871   97.30321565]"
       ]
      },
      {
       "output_type": "stream",
       "stream": "stdout",
       "text": [
        "\n",
        "[ 140.15876198  121.41855642   97.29072179]"
       ]
      },
      {
       "output_type": "stream",
       "stream": "stdout",
       "text": [
        "\n",
        "[ 140.23798275  121.4435735    97.27821325]"
       ]
      },
      {
       "output_type": "stream",
       "stream": "stdout",
       "text": [
        "\n",
        "[ 140.31729586  121.46861974   97.26569013]"
       ]
      },
      {
       "output_type": "stream",
       "stream": "stdout",
       "text": [
        "\n",
        "[ 140.39670062  121.49369493   97.25315253]"
       ]
      },
      {
       "output_type": "stream",
       "stream": "stdout",
       "text": [
        "\n",
        "[ 140.47619635  121.51879885   97.24060058]"
       ]
      },
      {
       "output_type": "stream",
       "stream": "stdout",
       "text": [
        "\n",
        "[ 140.55578237  121.54393128   97.22803436]"
       ]
      },
      {
       "output_type": "stream",
       "stream": "stdout",
       "text": [
        "\n",
        "[ 140.635458  121.569092   97.215454]"
       ]
      },
      {
       "output_type": "stream",
       "stream": "stdout",
       "text": [
        "\n",
        "[ 140.71522255  121.5942808    97.2028596 ]"
       ]
      },
      {
       "output_type": "stream",
       "stream": "stdout",
       "text": [
        "\n",
        "[ 140.79507533  121.61949747   97.19025126]"
       ]
      },
      {
       "output_type": "stream",
       "stream": "stdout",
       "text": [
        "\n",
        "[ 140.87501566  121.64474179   97.17762911]"
       ]
      },
      {
       "output_type": "stream",
       "stream": "stdout",
       "text": [
        "\n",
        "[ 140.95504286  121.67001354   97.16499323]"
       ]
      },
      {
       "output_type": "stream",
       "stream": "stdout",
       "text": [
        "\n",
        "[ 141.03515625  121.6953125    97.15234375]"
       ]
      },
      {
       "output_type": "stream",
       "stream": "stdout",
       "text": [
        "\n",
        "[ 141.11535514  121.72063846   97.13968077]"
       ]
      },
      {
       "output_type": "stream",
       "stream": "stdout",
       "text": [
        "\n",
        "[ 141.19563884  121.74599121   97.12700439]"
       ]
      },
      {
       "output_type": "stream",
       "stream": "stdout",
       "text": [
        "\n",
        "[ 141.27600667  121.77137053   97.11431474]"
       ]
      },
      {
       "output_type": "stream",
       "stream": "stdout",
       "text": [
        "\n",
        "[ 141.35645795  121.7967762    97.1016119 ]"
       ]
      },
      {
       "output_type": "stream",
       "stream": "stdout",
       "text": [
        "\n",
        "[ 141.436992  121.822208   97.088896]"
       ]
      },
      {
       "output_type": "stream",
       "stream": "stdout",
       "text": [
        "\n",
        "[ 141.51760813  121.84766572   97.07616714]"
       ]
      },
      {
       "output_type": "stream",
       "stream": "stdout",
       "text": [
        "\n",
        "[ 141.59830565  121.87314915   97.06342542]"
       ]
      },
      {
       "output_type": "stream",
       "stream": "stdout",
       "text": [
        "\n",
        "[ 141.67908388  121.89865807   97.05067097]"
       ]
      },
      {
       "output_type": "stream",
       "stream": "stdout",
       "text": [
        "\n",
        "[ 141.75994214  121.92419226   97.03790387]"
       ]
      },
      {
       "output_type": "stream",
       "stream": "stdout",
       "text": [
        "\n",
        "[ 141.84087975  121.9497515    97.02512425]"
       ]
      },
      {
       "output_type": "stream",
       "stream": "stdout",
       "text": [
        "\n",
        "[ 141.92189602  121.97533558   97.01233221]"
       ]
      },
      {
       "output_type": "stream",
       "stream": "stdout",
       "text": [
        "\n",
        "[ 142.00299026  122.00094429   96.99952785]"
       ]
      },
      {
       "output_type": "stream",
       "stream": "stdout",
       "text": [
        "\n",
        "[ 142.08416179  122.02657741   96.9867113 ]"
       ]
      },
      {
       "output_type": "stream",
       "stream": "stdout",
       "text": [
        "\n",
        "[ 142.16540993  122.05223472   96.97388264]"
       ]
      },
      {
       "output_type": "stream",
       "stream": "stdout",
       "text": [
        "\n",
        "[ 142.246734  122.077916   96.961042]"
       ]
      },
      {
       "output_type": "stream",
       "stream": "stdout",
       "text": [
        "\n",
        "[ 142.32813331  122.10362104   96.94818948]"
       ]
      },
      {
       "output_type": "stream",
       "stream": "stdout",
       "text": [
        "\n",
        "[ 142.40960717  122.12934963   96.93532518]"
       ]
      },
      {
       "output_type": "stream",
       "stream": "stdout",
       "text": [
        "\n",
        "[ 142.4911549   122.15510155   96.92244923]"
       ]
      },
      {
       "output_type": "stream",
       "stream": "stdout",
       "text": [
        "\n",
        "[ 142.57277582  122.18087658   96.90956171]"
       ]
      },
      {
       "output_type": "stream",
       "stream": "stdout",
       "text": [
        "\n",
        "[ 142.65446925  122.2066745    96.89666275]"
       ]
      },
      {
       "output_type": "stream",
       "stream": "stdout",
       "text": [
        "\n",
        "[ 142.7362345   122.2324951    96.88375245]"
       ]
      },
      {
       "output_type": "stream",
       "stream": "stdout",
       "text": [
        "\n",
        "[ 142.81807088  122.25833817   96.87083091]"
       ]
      },
      {
       "output_type": "stream",
       "stream": "stdout",
       "text": [
        "\n",
        "[ 142.89997771  122.28420349   96.85789826]"
       ]
      },
      {
       "output_type": "stream",
       "stream": "stdout",
       "text": [
        "\n",
        "[ 142.98195431  122.31009084   96.84495458]"
       ]
      },
      {
       "output_type": "stream",
       "stream": "stdout",
       "text": [
        "\n",
        "[ 143.064  122.336   96.832]"
       ]
      },
      {
       "output_type": "stream",
       "stream": "stdout",
       "text": [
        "\n",
        "[ 143.14611409  122.36193076   96.81903462]"
       ]
      },
      {
       "output_type": "stream",
       "stream": "stdout",
       "text": [
        "\n",
        "[ 143.22829589  122.38788291   96.80605854]"
       ]
      },
      {
       "output_type": "stream",
       "stream": "stdout",
       "text": [
        "\n",
        "[ 143.31054472  122.41385623   96.79307189]"
       ]
      },
      {
       "output_type": "stream",
       "stream": "stdout",
       "text": [
        "\n",
        "[ 143.3928599   122.4398505    96.78007475]"
       ]
      },
      {
       "output_type": "stream",
       "stream": "stdout",
       "text": [
        "\n",
        "[ 143.47524075  122.4658655    96.76706725]"
       ]
      },
      {
       "output_type": "stream",
       "stream": "stdout",
       "text": [
        "\n",
        "[ 143.55768658  122.49190102   96.75404949]"
       ]
      },
      {
       "output_type": "stream",
       "stream": "stdout",
       "text": [
        "\n",
        "[ 143.6401967   122.51795685   96.74102157]"
       ]
      },
      {
       "output_type": "stream",
       "stream": "stdout",
       "text": [
        "\n",
        "[ 143.72277043  122.54403277   96.72798362]"
       ]
      },
      {
       "output_type": "stream",
       "stream": "stdout",
       "text": [
        "\n",
        "[ 143.80540709  122.57012856   96.71493572]"
       ]
      },
      {
       "output_type": "stream",
       "stream": "stdout",
       "text": [
        "\n",
        "[ 143.888106  122.596244   96.701878]"
       ]
      },
      {
       "output_type": "stream",
       "stream": "stdout",
       "text": [
        "\n",
        "[ 143.97086647  122.62237888   96.68881056]"
       ]
      },
      {
       "output_type": "stream",
       "stream": "stdout",
       "text": [
        "\n",
        "[ 144.05368781  122.64853299   96.6757335 ]"
       ]
      },
      {
       "output_type": "stream",
       "stream": "stdout",
       "text": [
        "\n",
        "[ 144.13656934  122.67470611   96.66264695]"
       ]
      },
      {
       "output_type": "stream",
       "stream": "stdout",
       "text": [
        "\n",
        "[ 144.21951038  122.70089802   96.64955099]"
       ]
      },
      {
       "output_type": "stream",
       "stream": "stdout",
       "text": [
        "\n",
        "[ 144.30251025  122.7271085    96.63644575]"
       ]
      },
      {
       "output_type": "stream",
       "stream": "stdout",
       "text": [
        "\n",
        "[ 144.38556826  122.75333734   96.62333133]"
       ]
      },
      {
       "output_type": "stream",
       "stream": "stdout",
       "text": [
        "\n",
        "[ 144.46868372  122.77958433   96.61020783]"
       ]
      },
      {
       "output_type": "stream",
       "stream": "stdout",
       "text": [
        "\n",
        "[ 144.55185595  122.80584925   96.59707538]"
       ]
      },
      {
       "output_type": "stream",
       "stream": "stdout",
       "text": [
        "\n",
        "[ 144.63508427  122.83213188   96.58393406]"
       ]
      },
      {
       "output_type": "stream",
       "stream": "stdout",
       "text": [
        "\n",
        "[ 144.718368  122.858432   96.570784]"
       ]
      },
      {
       "output_type": "stream",
       "stream": "stdout",
       "text": [
        "\n",
        "[ 144.80170645  122.8847494    96.5576253 ]"
       ]
      },
      {
       "output_type": "stream",
       "stream": "stdout",
       "text": [
        "\n",
        "[ 144.88509893  122.91108387   96.54445806]"
       ]
      },
      {
       "output_type": "stream",
       "stream": "stdout",
       "text": [
        "\n",
        "[ 144.96854476  122.93743519   96.53128241]"
       ]
      },
      {
       "output_type": "stream",
       "stream": "stdout",
       "text": [
        "\n",
        "[ 145.05204326  122.96380314   96.51809843]"
       ]
      },
      {
       "output_type": "stream",
       "stream": "stdout",
       "text": [
        "\n",
        "[ 145.13559375  122.9901875    96.50490625]"
       ]
      },
      {
       "output_type": "stream",
       "stream": "stdout",
       "text": [
        "\n",
        "[ 145.21919554  123.01658806   96.49170597]"
       ]
      },
      {
       "output_type": "stream",
       "stream": "stdout",
       "text": [
        "\n",
        "[ 145.30284794  123.04300461   96.47849769]"
       ]
      },
      {
       "output_type": "stream",
       "stream": "stdout",
       "text": [
        "\n",
        "[ 145.38655027  123.06943693   96.46528154]"
       ]
      },
      {
       "output_type": "stream",
       "stream": "stdout",
       "text": [
        "\n",
        "[ 145.47030185  123.0958848    96.4520576 ]"
       ]
      },
      {
       "output_type": "stream",
       "stream": "stdout",
       "text": [
        "\n",
        "[ 145.554102  123.122348   96.438826]"
       ]
      },
      {
       "output_type": "stream",
       "stream": "stdout",
       "text": [
        "\n",
        "[ 145.63795003  123.14882632   96.42558684]"
       ]
      },
      {
       "output_type": "stream",
       "stream": "stdout",
       "text": [
        "\n",
        "[ 145.72184525  123.17531955   96.41234022]"
       ]
      },
      {
       "output_type": "stream",
       "stream": "stdout",
       "text": [
        "\n",
        "[ 145.80578698  123.20182747   96.39908627]"
       ]
      },
      {
       "output_type": "stream",
       "stream": "stdout",
       "text": [
        "\n",
        "[ 145.88977454  123.22834986   96.38582507]"
       ]
      },
      {
       "output_type": "stream",
       "stream": "stdout",
       "text": [
        "\n",
        "[ 145.97380725  123.2548865    96.37255675]"
       ]
      },
      {
       "output_type": "stream",
       "stream": "stdout",
       "text": [
        "\n",
        "[ 146.05788442  123.28143718   96.35928141]"
       ]
      },
      {
       "output_type": "stream",
       "stream": "stdout",
       "text": [
        "\n",
        "[ 146.14200536  123.30800169   96.34599915]"
       ]
      },
      {
       "output_type": "stream",
       "stream": "stdout",
       "text": [
        "\n",
        "[ 146.22616939  123.33457981   96.3327101 ]"
       ]
      },
      {
       "output_type": "stream",
       "stream": "stdout",
       "text": [
        "\n",
        "[ 146.31037583  123.36117132   96.31941434]"
       ]
      },
      {
       "output_type": "stream",
       "stream": "stdout",
       "text": [
        "\n",
        "[ 146.394624  123.387776   96.306112]"
       ]
      },
      {
       "output_type": "stream",
       "stream": "stdout",
       "text": [
        "\n",
        "[ 146.47891321  123.41439364   96.29280318]"
       ]
      },
      {
       "output_type": "stream",
       "stream": "stdout",
       "text": [
        "\n",
        "[ 146.56324277  123.44102403   96.27948798]"
       ]
      },
      {
       "output_type": "stream",
       "stream": "stdout",
       "text": [
        "\n",
        "[ 146.647612    123.46766695   96.26616653]"
       ]
      },
      {
       "output_type": "stream",
       "stream": "stdout",
       "text": [
        "\n",
        "[ 146.73202022  123.49432218   96.25283891]"
       ]
      },
      {
       "output_type": "stream",
       "stream": "stdout",
       "text": [
        "\n",
        "[ 146.81646675  123.5209895    96.23950525]"
       ]
      },
      {
       "output_type": "stream",
       "stream": "stdout",
       "text": [
        "\n",
        "[ 146.9009509   123.5476687    96.22616565]"
       ]
      },
      {
       "output_type": "stream",
       "stream": "stdout",
       "text": [
        "\n",
        "[ 146.98547198  123.57435957   96.21282021]"
       ]
      },
      {
       "output_type": "stream",
       "stream": "stdout",
       "text": [
        "\n",
        "[ 147.07002931  123.60106189   96.19946906]"
       ]
      },
      {
       "output_type": "stream",
       "stream": "stdout",
       "text": [
        "\n",
        "[ 147.15462221  123.62777544   96.18611228]"
       ]
      },
      {
       "output_type": "stream",
       "stream": "stdout",
       "text": [
        "\n",
        "[ 147.23925  123.6545    96.17275]"
       ]
      },
      {
       "output_type": "stream",
       "stream": "stdout",
       "text": [
        "\n",
        "[ 147.32391199  123.68123536   96.15938232]"
       ]
      },
      {
       "output_type": "stream",
       "stream": "stdout",
       "text": [
        "\n",
        "[ 147.40860749  123.70798131   96.14600934]"
       ]
      },
      {
       "output_type": "stream",
       "stream": "stdout",
       "text": [
        "\n",
        "[ 147.49333582  123.73473763   96.13263119]"
       ]
      },
      {
       "output_type": "stream",
       "stream": "stdout",
       "text": [
        "\n",
        "[ 147.5780963   123.7615041    96.11924795]"
       ]
      },
      {
       "output_type": "stream",
       "stream": "stdout",
       "text": [
        "\n",
        "[ 147.66288825  123.7882805    96.10585975]"
       ]
      },
      {
       "output_type": "stream",
       "stream": "stdout",
       "text": [
        "\n",
        "[ 147.74771098  123.81506662   96.09246669]"
       ]
      },
      {
       "output_type": "stream",
       "stream": "stdout",
       "text": [
        "\n",
        "[ 147.8325638   123.84186225   96.07906887]"
       ]
      },
      {
       "output_type": "stream",
       "stream": "stdout",
       "text": [
        "\n",
        "[ 147.91744603  123.86866717   96.06566642]"
       ]
      },
      {
       "output_type": "stream",
       "stream": "stdout",
       "text": [
        "\n",
        "[ 148.00235699  123.89548116   96.05225942]"
       ]
      },
      {
       "output_type": "stream",
       "stream": "stdout",
       "text": [
        "\n",
        "[ 148.087296  123.922304   96.038848]"
       ]
      },
      {
       "output_type": "stream",
       "stream": "stdout",
       "text": [
        "\n",
        "[ 148.17226237  123.94913548   96.02543226]"
       ]
      },
      {
       "output_type": "stream",
       "stream": "stdout",
       "text": [
        "\n",
        "[ 148.25725541  123.97597539   96.0120123 ]"
       ]
      },
      {
       "output_type": "stream",
       "stream": "stdout",
       "text": [
        "\n",
        "[ 148.34227444  124.00282351   95.99858825]"
       ]
      },
      {
       "output_type": "stream",
       "stream": "stdout",
       "text": [
        "\n",
        "[ 148.42731878  124.02967962   95.98516019]"
       ]
      },
      {
       "output_type": "stream",
       "stream": "stdout",
       "text": [
        "\n",
        "[ 148.51238775  124.0565435    95.97172825]"
       ]
      },
      {
       "output_type": "stream",
       "stream": "stdout",
       "text": [
        "\n",
        "[ 148.59748066  124.08341494   95.95829253]"
       ]
      },
      {
       "output_type": "stream",
       "stream": "stdout",
       "text": [
        "\n",
        "[ 148.68259682  124.11029373   95.94485313]"
       ]
      },
      {
       "output_type": "stream",
       "stream": "stdout",
       "text": [
        "\n",
        "[ 148.76773555  124.13717965   95.93141018]"
       ]
      },
      {
       "output_type": "stream",
       "stream": "stdout",
       "text": [
        "\n",
        "[ 148.85289617  124.16407248   95.91796376]"
       ]
      },
      {
       "output_type": "stream",
       "stream": "stdout",
       "text": [
        "\n",
        "[ 148.938078  124.190972   95.904514]"
       ]
      },
      {
       "output_type": "stream",
       "stream": "stdout",
       "text": [
        "\n",
        "[ 149.02328035  124.217878     95.891061  ]"
       ]
      },
      {
       "output_type": "stream",
       "stream": "stdout",
       "text": [
        "\n",
        "[ 149.10850253  124.24479027   95.87760486]"
       ]
      },
      {
       "output_type": "stream",
       "stream": "stdout",
       "text": [
        "\n",
        "[ 149.19374386  124.27170859   95.86414571]"
       ]
      },
      {
       "output_type": "stream",
       "stream": "stdout",
       "text": [
        "\n",
        "[ 149.27900366  124.29863274   95.85068363]"
       ]
      },
      {
       "output_type": "stream",
       "stream": "stdout",
       "text": [
        "\n",
        "[ 149.36428125  124.3255625    95.83721875]"
       ]
      },
      {
       "output_type": "stream",
       "stream": "stdout",
       "text": [
        "\n",
        "[ 149.44957594  124.35249766   95.82375117]"
       ]
      },
      {
       "output_type": "stream",
       "stream": "stdout",
       "text": [
        "\n",
        "[ 149.53488704  124.37943801   95.81028099]"
       ]
      },
      {
       "output_type": "stream",
       "stream": "stdout",
       "text": [
        "\n",
        "[ 149.62021387  124.40638333   95.79680834]"
       ]
      },
      {
       "output_type": "stream",
       "stream": "stdout",
       "text": [
        "\n",
        "[ 149.70555575  124.4333334    95.7833333 ]"
       ]
      },
      {
       "output_type": "stream",
       "stream": "stdout",
       "text": [
        "\n",
        "[ 149.790912  124.460288   95.769856]"
       ]
      },
      {
       "output_type": "stream",
       "stream": "stdout",
       "text": [
        "\n",
        "[ 149.87628193  124.48724692   95.75637654]"
       ]
      },
      {
       "output_type": "stream",
       "stream": "stdout",
       "text": [
        "\n",
        "[ 149.96166485  124.51420995   95.74289502]"
       ]
      },
      {
       "output_type": "stream",
       "stream": "stdout",
       "text": [
        "\n",
        "[ 150.04706008  124.54117687   95.72941157]"
       ]
      },
      {
       "output_type": "stream",
       "stream": "stdout",
       "text": [
        "\n",
        "[ 150.13246694  124.56814746   95.71592627]"
       ]
      },
      {
       "output_type": "stream",
       "stream": "stdout",
       "text": [
        "\n",
        "[ 150.21788475  124.5951215    95.70243925]"
       ]
      },
      {
       "output_type": "stream",
       "stream": "stdout",
       "text": [
        "\n",
        "[ 150.30331282  124.62209878   95.68895061]"
       ]
      },
      {
       "output_type": "stream",
       "stream": "stdout",
       "text": [
        "\n",
        "[ 150.38875046  124.64907909   95.67546045]"
       ]
      },
      {
       "output_type": "stream",
       "stream": "stdout",
       "text": [
        "\n",
        "[ 150.47419699  124.67606221   95.6619689 ]"
       ]
      },
      {
       "output_type": "stream",
       "stream": "stdout",
       "text": [
        "\n",
        "[ 150.55965173  124.70304792   95.64847604]"
       ]
      },
      {
       "output_type": "stream",
       "stream": "stdout",
       "text": [
        "\n",
        "[ 150.645114  124.730036   95.634982]"
       ]
      },
      {
       "output_type": "stream",
       "stream": "stdout",
       "text": [
        "\n",
        "[ 150.73058311  124.75702624   95.62148688]"
       ]
      },
      {
       "output_type": "stream",
       "stream": "stdout",
       "text": [
        "\n",
        "[ 150.81605837  124.78401843   95.60799078]"
       ]
      },
      {
       "output_type": "stream",
       "stream": "stdout",
       "text": [
        "\n",
        "[ 150.9015391   124.81101235   95.59449383]"
       ]
      },
      {
       "output_type": "stream",
       "stream": "stdout",
       "text": [
        "\n",
        "[ 150.98702462  124.83800778   95.58099611]"
       ]
      },
      {
       "output_type": "stream",
       "stream": "stdout",
       "text": [
        "\n",
        "[ 151.07251425  124.8650045    95.56749775]"
       ]
      },
      {
       "output_type": "stream",
       "stream": "stdout",
       "text": [
        "\n",
        "[ 151.1580073   124.8920023    95.55399885]"
       ]
      },
      {
       "output_type": "stream",
       "stream": "stdout",
       "text": [
        "\n",
        "[ 151.24350308  124.91900097   95.54049951]"
       ]
      },
      {
       "output_type": "stream",
       "stream": "stdout",
       "text": [
        "\n",
        "[ 151.32900091  124.94600029   95.52699986]"
       ]
      },
      {
       "output_type": "stream",
       "stream": "stdout",
       "text": [
        "\n",
        "[ 151.41450011  124.97300004   95.51349998]"
       ]
      },
      {
       "output_type": "stream",
       "stream": "stdout",
       "text": [
        "\n",
        "[ 151.5  125.    95.5]"
       ]
      },
      {
       "output_type": "stream",
       "stream": "stdout",
       "text": [
        "\n",
        "[ 151.58549989  125.02699996   95.48650002]"
       ]
      },
      {
       "output_type": "stream",
       "stream": "stdout",
       "text": [
        "\n",
        "[ 151.67099909  125.05399971   95.47300014]"
       ]
      },
      {
       "output_type": "stream",
       "stream": "stdout",
       "text": [
        "\n",
        "[ 151.75649692  125.08099903   95.45950049]"
       ]
      },
      {
       "output_type": "stream",
       "stream": "stdout",
       "text": [
        "\n",
        "[ 151.8419927   125.1079977    95.44600115]"
       ]
      },
      {
       "output_type": "stream",
       "stream": "stdout",
       "text": [
        "\n",
        "[ 151.92748575  125.1349955    95.43250225]"
       ]
      },
      {
       "output_type": "stream",
       "stream": "stdout",
       "text": [
        "\n",
        "[ 152.01297538  125.16199222   95.41900389]"
       ]
      },
      {
       "output_type": "stream",
       "stream": "stdout",
       "text": [
        "\n",
        "[ 152.0984609   125.18898765   95.40550617]"
       ]
      },
      {
       "output_type": "stream",
       "stream": "stdout",
       "text": [
        "\n",
        "[ 152.18394163  125.21598157   95.39200922]"
       ]
      },
      {
       "output_type": "stream",
       "stream": "stdout",
       "text": [
        "\n",
        "[ 152.26941689  125.24297376   95.37851312]"
       ]
      },
      {
       "output_type": "stream",
       "stream": "stdout",
       "text": [
        "\n",
        "[ 152.354886  125.269964   95.365018]"
       ]
      },
      {
       "output_type": "stream",
       "stream": "stdout",
       "text": [
        "\n",
        "[ 152.44034827  125.29695208   95.35152396]"
       ]
      },
      {
       "output_type": "stream",
       "stream": "stdout",
       "text": [
        "\n",
        "[ 152.52580301  125.32393779   95.3380311 ]"
       ]
      },
      {
       "output_type": "stream",
       "stream": "stdout",
       "text": [
        "\n",
        "[ 152.61124954  125.35092091   95.32453955]"
       ]
      },
      {
       "output_type": "stream",
       "stream": "stdout",
       "text": [
        "\n",
        "[ 152.69668718  125.37790122   95.31104939]"
       ]
      },
      {
       "output_type": "stream",
       "stream": "stdout",
       "text": [
        "\n",
        "[ 152.78211525  125.4048785    95.29756075]"
       ]
      },
      {
       "output_type": "stream",
       "stream": "stdout",
       "text": [
        "\n",
        "[ 152.86753306  125.43185254   95.28407373]"
       ]
      },
      {
       "output_type": "stream",
       "stream": "stdout",
       "text": [
        "\n",
        "[ 152.95293992  125.45882313   95.27058843]"
       ]
      },
      {
       "output_type": "stream",
       "stream": "stdout",
       "text": [
        "\n",
        "[ 153.03833515  125.48579005   95.25710498]"
       ]
      },
      {
       "output_type": "stream",
       "stream": "stdout",
       "text": [
        "\n",
        "[ 153.12371807  125.51275308   95.24362346]"
       ]
      },
      {
       "output_type": "stream",
       "stream": "stdout",
       "text": [
        "\n",
        "[ 153.209088  125.539712   95.230144]"
       ]
      },
      {
       "output_type": "stream",
       "stream": "stdout",
       "text": [
        "\n",
        "[ 153.29444425  125.5666666    95.2166667 ]"
       ]
      },
      {
       "output_type": "stream",
       "stream": "stdout",
       "text": [
        "\n",
        "[ 153.37978613  125.59361667   95.20319166]"
       ]
      },
      {
       "output_type": "stream",
       "stream": "stdout",
       "text": [
        "\n",
        "[ 153.46511296  125.62056199   95.18971901]"
       ]
      },
      {
       "output_type": "stream",
       "stream": "stdout",
       "text": [
        "\n",
        "[ 153.55042406  125.64750234   95.17624883]"
       ]
      },
      {
       "output_type": "stream",
       "stream": "stdout",
       "text": [
        "\n",
        "[ 153.63571875  125.6744375    95.16278125]"
       ]
      },
      {
       "output_type": "stream",
       "stream": "stdout",
       "text": [
        "\n",
        "[ 153.72099634  125.70136726   95.14931637]"
       ]
      },
      {
       "output_type": "stream",
       "stream": "stdout",
       "text": [
        "\n",
        "[ 153.80625614  125.72829141   95.13585429]"
       ]
      },
      {
       "output_type": "stream",
       "stream": "stdout",
       "text": [
        "\n",
        "[ 153.89149747  125.75520973   95.12239514]"
       ]
      },
      {
       "output_type": "stream",
       "stream": "stdout",
       "text": [
        "\n",
        "[ 153.97671965  125.782122     95.108939  ]"
       ]
      },
      {
       "output_type": "stream",
       "stream": "stdout",
       "text": [
        "\n",
        "[ 154.061922  125.809028   95.095486]"
       ]
      },
      {
       "output_type": "stream",
       "stream": "stdout",
       "text": [
        "\n",
        "[ 154.14710383  125.83592752   95.08203624]"
       ]
      },
      {
       "output_type": "stream",
       "stream": "stdout",
       "text": [
        "\n",
        "[ 154.23226445  125.86282035   95.06858982]"
       ]
      },
      {
       "output_type": "stream",
       "stream": "stdout",
       "text": [
        "\n",
        "[ 154.31740318  125.88970627   95.05514687]"
       ]
      },
      {
       "output_type": "stream",
       "stream": "stdout",
       "text": [
        "\n",
        "[ 154.40251934  125.91658506   95.04170747]"
       ]
      },
      {
       "output_type": "stream",
       "stream": "stdout",
       "text": [
        "\n",
        "[ 154.48761225  125.9434565    95.02827175]"
       ]
      },
      {
       "output_type": "stream",
       "stream": "stdout",
       "text": [
        "\n",
        "[ 154.57268122  125.97032038   95.01483981]"
       ]
      },
      {
       "output_type": "stream",
       "stream": "stdout",
       "text": [
        "\n",
        "[ 154.65772556  125.99717649   95.00141175]"
       ]
      },
      {
       "output_type": "stream",
       "stream": "stdout",
       "text": [
        "\n",
        "[ 154.74274459  126.02402461   94.9879877 ]"
       ]
      },
      {
       "output_type": "stream",
       "stream": "stdout",
       "text": [
        "\n",
        "[ 154.82773763  126.05086452   94.97456774]"
       ]
      },
      {
       "output_type": "stream",
       "stream": "stdout",
       "text": [
        "\n",
        "[ 154.912704  126.077696   94.961152]"
       ]
      },
      {
       "output_type": "stream",
       "stream": "stdout",
       "text": [
        "\n",
        "[ 154.99764301  126.10451884   94.94774058]"
       ]
      },
      {
       "output_type": "stream",
       "stream": "stdout",
       "text": [
        "\n",
        "[ 155.08255397  126.13133283   94.93433358]"
       ]
      },
      {
       "output_type": "stream",
       "stream": "stdout",
       "text": [
        "\n",
        "[ 155.1674362   126.15813775   94.92093113]"
       ]
      },
      {
       "output_type": "stream",
       "stream": "stdout",
       "text": [
        "\n",
        "[ 155.25228902  126.18493338   94.90753331]"
       ]
      },
      {
       "output_type": "stream",
       "stream": "stdout",
       "text": [
        "\n",
        "[ 155.33711175  126.2117195    94.89414025]"
       ]
      },
      {
       "output_type": "stream",
       "stream": "stdout",
       "text": [
        "\n",
        "[ 155.4219037   126.2384959    94.88075205]"
       ]
      },
      {
       "output_type": "stream",
       "stream": "stdout",
       "text": [
        "\n",
        "[ 155.50666418  126.26526237   94.86736881]"
       ]
      },
      {
       "output_type": "stream",
       "stream": "stdout",
       "text": [
        "\n",
        "[ 155.59139251  126.29201869   94.85399066]"
       ]
      },
      {
       "output_type": "stream",
       "stream": "stdout",
       "text": [
        "\n",
        "[ 155.67608801  126.31876464   94.84061768]"
       ]
      },
      {
       "output_type": "stream",
       "stream": "stdout",
       "text": [
        "\n",
        "[ 155.76075  126.3455    94.82725]"
       ]
      },
      {
       "output_type": "stream",
       "stream": "stdout",
       "text": [
        "\n",
        "[ 155.84537779  126.37222456   94.81388772]"
       ]
      },
      {
       "output_type": "stream",
       "stream": "stdout",
       "text": [
        "\n",
        "[ 155.92997069  126.39893811   94.80053094]"
       ]
      },
      {
       "output_type": "stream",
       "stream": "stdout",
       "text": [
        "\n",
        "[ 156.01452802  126.42564043   94.78717979]"
       ]
      },
      {
       "output_type": "stream",
       "stream": "stdout",
       "text": [
        "\n",
        "[ 156.0990491   126.4523313    94.77383435]"
       ]
      },
      {
       "output_type": "stream",
       "stream": "stdout",
       "text": [
        "\n",
        "[ 156.18353325  126.4790105    94.76049475]"
       ]
      },
      {
       "output_type": "stream",
       "stream": "stdout",
       "text": [
        "\n",
        "[ 156.26797978  126.50567782   94.74716109]"
       ]
      },
      {
       "output_type": "stream",
       "stream": "stdout",
       "text": [
        "\n",
        "[ 156.352388    126.53233305   94.73383347]"
       ]
      },
      {
       "output_type": "stream",
       "stream": "stdout",
       "text": [
        "\n",
        "[ 156.43675723  126.55897597   94.72051202]"
       ]
      },
      {
       "output_type": "stream",
       "stream": "stdout",
       "text": [
        "\n",
        "[ 156.52108679  126.58560636   94.70719682]"
       ]
      },
      {
       "output_type": "stream",
       "stream": "stdout",
       "text": [
        "\n",
        "[ 156.605376  126.612224   94.693888]"
       ]
      },
      {
       "output_type": "stream",
       "stream": "stdout",
       "text": [
        "\n",
        "[ 156.68962417  126.63882868   94.68058566]"
       ]
      },
      {
       "output_type": "stream",
       "stream": "stdout",
       "text": [
        "\n",
        "[ 156.77383061  126.66542019   94.6672899 ]"
       ]
      },
      {
       "output_type": "stream",
       "stream": "stdout",
       "text": [
        "\n",
        "[ 156.85799464  126.69199831   94.65400085]"
       ]
      },
      {
       "output_type": "stream",
       "stream": "stdout",
       "text": [
        "\n",
        "[ 156.94211558  126.71856282   94.64071859]"
       ]
      },
      {
       "output_type": "stream",
       "stream": "stdout",
       "text": [
        "\n",
        "[ 157.02619275  126.7451135    94.62744325]"
       ]
      },
      {
       "output_type": "stream",
       "stream": "stdout",
       "text": [
        "\n",
        "[ 157.11022546  126.77165014   94.61417493]"
       ]
      },
      {
       "output_type": "stream",
       "stream": "stdout",
       "text": [
        "\n",
        "[ 157.19421302  126.79817253   94.60091373]"
       ]
      },
      {
       "output_type": "stream",
       "stream": "stdout",
       "text": [
        "\n",
        "[ 157.27815475  126.82468045   94.58765978]"
       ]
      },
      {
       "output_type": "stream",
       "stream": "stdout",
       "text": [
        "\n",
        "[ 157.36204997  126.85117368   94.57441316]"
       ]
      },
      {
       "output_type": "stream",
       "stream": "stdout",
       "text": [
        "\n",
        "[ 157.445898  126.877652   94.561174]"
       ]
      },
      {
       "output_type": "stream",
       "stream": "stdout",
       "text": [
        "\n",
        "[ 157.52969815  126.9041152    94.5479424 ]"
       ]
      },
      {
       "output_type": "stream",
       "stream": "stdout",
       "text": [
        "\n",
        "[ 157.61344973  126.93056307   94.53471846]"
       ]
      },
      {
       "output_type": "stream",
       "stream": "stdout",
       "text": [
        "\n",
        "[ 157.69715206  126.95699539   94.52150231]"
       ]
      },
      {
       "output_type": "stream",
       "stream": "stdout",
       "text": [
        "\n",
        "[ 157.78080446  126.98341194   94.50829403]"
       ]
      },
      {
       "output_type": "stream",
       "stream": "stdout",
       "text": [
        "\n",
        "[ 157.86440625  127.0098125    94.49509375]"
       ]
      },
      {
       "output_type": "stream",
       "stream": "stdout",
       "text": [
        "\n",
        "[ 157.94795674  127.03619686   94.48190157]"
       ]
      },
      {
       "output_type": "stream",
       "stream": "stdout",
       "text": [
        "\n",
        "[ 158.03145524  127.06256481   94.46871759]"
       ]
      },
      {
       "output_type": "stream",
       "stream": "stdout",
       "text": [
        "\n",
        "[ 158.11490107  127.08891613   94.45554194]"
       ]
      },
      {
       "output_type": "stream",
       "stream": "stdout",
       "text": [
        "\n",
        "[ 158.19829355  127.1152506    94.4423747 ]"
       ]
      },
      {
       "output_type": "stream",
       "stream": "stdout",
       "text": [
        "\n",
        "[ 158.281632  127.141568   94.429216]"
       ]
      },
      {
       "output_type": "stream",
       "stream": "stdout",
       "text": [
        "\n",
        "[ 158.36491573  127.16786812   94.41606594]"
       ]
      },
      {
       "output_type": "stream",
       "stream": "stdout",
       "text": [
        "\n",
        "[ 158.44814405  127.19415075   94.40292462]"
       ]
      },
      {
       "output_type": "stream",
       "stream": "stdout",
       "text": [
        "\n",
        "[ 158.53131628  127.22041567   94.38979217]"
       ]
      },
      {
       "output_type": "stream",
       "stream": "stdout",
       "text": [
        "\n",
        "[ 158.61443174  127.24666266   94.37666867]"
       ]
      },
      {
       "output_type": "stream",
       "stream": "stdout",
       "text": [
        "\n",
        "[ 158.69748975  127.2728915    94.36355425]"
       ]
      },
      {
       "output_type": "stream",
       "stream": "stdout",
       "text": [
        "\n",
        "[ 158.78048962  127.29910198   94.35044901]"
       ]
      },
      {
       "output_type": "stream",
       "stream": "stdout",
       "text": [
        "\n",
        "[ 158.86343066  127.32529389   94.33735305]"
       ]
      },
      {
       "output_type": "stream",
       "stream": "stdout",
       "text": [
        "\n",
        "[ 158.94631219  127.35146701   94.3242665 ]"
       ]
      },
      {
       "output_type": "stream",
       "stream": "stdout",
       "text": [
        "\n",
        "[ 159.02913353  127.37762112   94.31118944]"
       ]
      },
      {
       "output_type": "stream",
       "stream": "stdout",
       "text": [
        "\n",
        "[ 159.111894  127.403756   94.298122]"
       ]
      },
      {
       "output_type": "stream",
       "stream": "stdout",
       "text": [
        "\n",
        "[ 159.19459291  127.42987144   94.28506428]"
       ]
      },
      {
       "output_type": "stream",
       "stream": "stdout",
       "text": [
        "\n",
        "[ 159.27722957  127.45596723   94.27201638]"
       ]
      },
      {
       "output_type": "stream",
       "stream": "stdout",
       "text": [
        "\n",
        "[ 159.3598033   127.48204315   94.25897843]"
       ]
      },
      {
       "output_type": "stream",
       "stream": "stdout",
       "text": [
        "\n",
        "[ 159.44231342  127.50809898   94.24595051]"
       ]
      },
      {
       "output_type": "stream",
       "stream": "stdout",
       "text": [
        "\n",
        "[ 159.52475925  127.5341345    94.23293275]"
       ]
      },
      {
       "output_type": "stream",
       "stream": "stdout",
       "text": [
        "\n",
        "[ 159.6071401   127.5601495    94.21992525]"
       ]
      },
      {
       "output_type": "stream",
       "stream": "stdout",
       "text": [
        "\n",
        "[ 159.68945528  127.58614377   94.20692811]"
       ]
      },
      {
       "output_type": "stream",
       "stream": "stdout",
       "text": [
        "\n",
        "[ 159.77170411  127.61211709   94.19394146]"
       ]
      },
      {
       "output_type": "stream",
       "stream": "stdout",
       "text": [
        "\n",
        "[ 159.85388591  127.63806924   94.18096538]"
       ]
      },
      {
       "output_type": "stream",
       "stream": "stdout",
       "text": [
        "\n",
        "[ 159.936  127.664   94.168]"
       ]
      },
      {
       "output_type": "stream",
       "stream": "stdout",
       "text": [
        "\n",
        "[ 160.01804569  127.68990916   94.15504542]"
       ]
      },
      {
       "output_type": "stream",
       "stream": "stdout",
       "text": [
        "\n",
        "[ 160.10002229  127.71579651   94.14210174]"
       ]
      },
      {
       "output_type": "stream",
       "stream": "stdout",
       "text": [
        "\n",
        "[ 160.18192912  127.74166183   94.12916909]"
       ]
      },
      {
       "output_type": "stream",
       "stream": "stdout",
       "text": [
        "\n",
        "[ 160.2637655   127.7675049    94.11624755]"
       ]
      },
      {
       "output_type": "stream",
       "stream": "stdout",
       "text": [
        "\n",
        "[ 160.34553075  127.7933255    94.10333725]"
       ]
      },
      {
       "output_type": "stream",
       "stream": "stdout",
       "text": [
        "\n",
        "[ 160.42722418  127.81912342   94.09043829]"
       ]
      },
      {
       "output_type": "stream",
       "stream": "stdout",
       "text": [
        "\n",
        "[ 160.5088451   127.84489845   94.07755077]"
       ]
      },
      {
       "output_type": "stream",
       "stream": "stdout",
       "text": [
        "\n",
        "[ 160.59039283  127.87065037   94.06467482]"
       ]
      },
      {
       "output_type": "stream",
       "stream": "stdout",
       "text": [
        "\n",
        "[ 160.67186669  127.89637896   94.05181052]"
       ]
      },
      {
       "output_type": "stream",
       "stream": "stdout",
       "text": [
        "\n",
        "[ 160.753266  127.922084   94.038958]"
       ]
      },
      {
       "output_type": "stream",
       "stream": "stdout",
       "text": [
        "\n",
        "[ 160.83459007  127.94776528   94.02611736]"
       ]
      },
      {
       "output_type": "stream",
       "stream": "stdout",
       "text": [
        "\n",
        "[ 160.91583821  127.97342259   94.0132887 ]"
       ]
      },
      {
       "output_type": "stream",
       "stream": "stdout",
       "text": [
        "\n",
        "[ 160.99700974  127.99905571   94.00047215]"
       ]
      },
      {
       "output_type": "stream",
       "stream": "stdout",
       "text": [
        "\n",
        "[ 161.07810398  128.02466442   93.98766779]"
       ]
      },
      {
       "output_type": "stream",
       "stream": "stdout",
       "text": [
        "\n",
        "[ 161.15912025  128.0502485    93.97487575]"
       ]
      },
      {
       "output_type": "stream",
       "stream": "stdout",
       "text": [
        "\n",
        "[ 161.24005786  128.07580774   93.96209613]"
       ]
      },
      {
       "output_type": "stream",
       "stream": "stdout",
       "text": [
        "\n",
        "[ 161.32091612  128.10134193   93.94932903]"
       ]
      },
      {
       "output_type": "stream",
       "stream": "stdout",
       "text": [
        "\n",
        "[ 161.40169435  128.12685085   93.93657458]"
       ]
      },
      {
       "output_type": "stream",
       "stream": "stdout",
       "text": [
        "\n",
        "[ 161.48239187  128.15233428   93.92383286]"
       ]
      },
      {
       "output_type": "stream",
       "stream": "stdout",
       "text": [
        "\n",
        "[ 161.563008  128.177792   93.911104]"
       ]
      },
      {
       "output_type": "stream",
       "stream": "stdout",
       "text": [
        "\n",
        "[ 161.64354205  128.2032238    93.8983881 ]"
       ]
      },
      {
       "output_type": "stream",
       "stream": "stdout",
       "text": [
        "\n",
        "[ 161.72399333  128.22862947   93.88568526]"
       ]
      },
      {
       "output_type": "stream",
       "stream": "stdout",
       "text": [
        "\n",
        "[ 161.80436116  128.25400879   93.87299561]"
       ]
      },
      {
       "output_type": "stream",
       "stream": "stdout",
       "text": [
        "\n",
        "[ 161.88464486  128.27936154   93.86031923]"
       ]
      },
      {
       "output_type": "stream",
       "stream": "stdout",
       "text": [
        "\n",
        "[ 161.96484375  128.3046875    93.84765625]"
       ]
      },
      {
       "output_type": "stream",
       "stream": "stdout",
       "text": [
        "\n",
        "[ 162.04495714  128.32998646   93.83500677]"
       ]
      },
      {
       "output_type": "stream",
       "stream": "stdout",
       "text": [
        "\n",
        "[ 162.12498434  128.35525821   93.82237089]"
       ]
      },
      {
       "output_type": "stream",
       "stream": "stdout",
       "text": [
        "\n",
        "[ 162.20492467  128.38050253   93.80974874]"
       ]
      },
      {
       "output_type": "stream",
       "stream": "stdout",
       "text": [
        "\n",
        "[ 162.28477745  128.4057192    93.7971404 ]"
       ]
      },
      {
       "output_type": "stream",
       "stream": "stdout",
       "text": [
        "\n",
        "[ 162.364542  128.430908   93.784546]"
       ]
      },
      {
       "output_type": "stream",
       "stream": "stdout",
       "text": [
        "\n",
        "[ 162.44421763  128.45606872   93.77196564]"
       ]
      },
      {
       "output_type": "stream",
       "stream": "stdout",
       "text": [
        "\n",
        "[ 162.52380365  128.48120115   93.75939942]"
       ]
      },
      {
       "output_type": "stream",
       "stream": "stdout",
       "text": [
        "\n",
        "[ 162.60329938  128.50630507   93.74684747]"
       ]
      },
      {
       "output_type": "stream",
       "stream": "stdout",
       "text": [
        "\n",
        "[ 162.68270414  128.53138026   93.73430987]"
       ]
      },
      {
       "output_type": "stream",
       "stream": "stdout",
       "text": [
        "\n",
        "[ 162.76201725  128.5564265    93.72178675]"
       ]
      },
      {
       "output_type": "stream",
       "stream": "stdout",
       "text": [
        "\n",
        "[ 162.84123802  128.58144358   93.70927821]"
       ]
      },
      {
       "output_type": "stream",
       "stream": "stdout",
       "text": [
        "\n",
        "[ 162.92036576  128.60643129   93.69678435]"
       ]
      },
      {
       "output_type": "stream",
       "stream": "stdout",
       "text": [
        "\n",
        "[ 162.99939979  128.63138941   93.6843053 ]"
       ]
      },
      {
       "output_type": "stream",
       "stream": "stdout",
       "text": [
        "\n",
        "[ 163.07833943  128.65631772   93.67184114]"
       ]
      },
      {
       "output_type": "stream",
       "stream": "stdout",
       "text": [
        "\n",
        "[ 163.157184  128.681216   93.659392]"
       ]
      },
      {
       "output_type": "stream",
       "stream": "stdout",
       "text": [
        "\n",
        "[ 163.23593281  128.70608404   93.64695798]"
       ]
      },
      {
       "output_type": "stream",
       "stream": "stdout",
       "text": [
        "\n",
        "[ 163.31458517  128.73092163   93.63453918]"
       ]
      },
      {
       "output_type": "stream",
       "stream": "stdout",
       "text": [
        "\n",
        "[ 163.3931404   128.75572855   93.62213573]"
       ]
      },
      {
       "output_type": "stream",
       "stream": "stdout",
       "text": [
        "\n",
        "[ 163.47159782  128.78050458   93.60974771]"
       ]
      },
      {
       "output_type": "stream",
       "stream": "stdout",
       "text": [
        "\n",
        "[ 163.54995675  128.8052495    93.59737525]"
       ]
      },
      {
       "output_type": "stream",
       "stream": "stdout",
       "text": [
        "\n",
        "[ 163.6282165   128.8299631    93.58501845]"
       ]
      },
      {
       "output_type": "stream",
       "stream": "stdout",
       "text": [
        "\n",
        "[ 163.70637638  128.85464517   93.57267741]"
       ]
      },
      {
       "output_type": "stream",
       "stream": "stdout",
       "text": [
        "\n",
        "[ 163.78443571  128.87929549   93.56035226]"
       ]
      },
      {
       "output_type": "stream",
       "stream": "stdout",
       "text": [
        "\n",
        "[ 163.86239381  128.90391384   93.54804308]"
       ]
      },
      {
       "output_type": "stream",
       "stream": "stdout",
       "text": [
        "\n",
        "[ 163.94025  128.9285    93.53575]"
       ]
      },
      {
       "output_type": "stream",
       "stream": "stdout",
       "text": [
        "\n",
        "[ 164.01800359  128.95305376   93.52347312]"
       ]
      },
      {
       "output_type": "stream",
       "stream": "stdout",
       "text": [
        "\n",
        "[ 164.09565389  128.97757491   93.51121254]"
       ]
      },
      {
       "output_type": "stream",
       "stream": "stdout",
       "text": [
        "\n",
        "[ 164.17320022  129.00206323   93.49896839]"
       ]
      },
      {
       "output_type": "stream",
       "stream": "stdout",
       "text": [
        "\n",
        "[ 164.2506419   129.0265185    93.48674075]"
       ]
      },
      {
       "output_type": "stream",
       "stream": "stdout",
       "text": [
        "\n",
        "[ 164.32797825  129.0509405    93.47452975]"
       ]
      },
      {
       "output_type": "stream",
       "stream": "stdout",
       "text": [
        "\n",
        "[ 164.40520858  129.07532902   93.46233549]"
       ]
      },
      {
       "output_type": "stream",
       "stream": "stdout",
       "text": [
        "\n",
        "[ 164.4823322   129.09968385   93.45015807]"
       ]
      },
      {
       "output_type": "stream",
       "stream": "stdout",
       "text": [
        "\n",
        "[ 164.55934843  129.12400477   93.43799762]"
       ]
      },
      {
       "output_type": "stream",
       "stream": "stdout",
       "text": [
        "\n",
        "[ 164.63625659  129.14829156   93.42585422]"
       ]
      },
      {
       "output_type": "stream",
       "stream": "stdout",
       "text": [
        "\n",
        "[ 164.713056  129.172544   93.413728]"
       ]
      },
      {
       "output_type": "stream",
       "stream": "stdout",
       "text": [
        "\n",
        "[ 164.78974597  129.19676188   93.40161906]"
       ]
      },
      {
       "output_type": "stream",
       "stream": "stdout",
       "text": [
        "\n",
        "[ 164.86632581  129.22094499   93.3895275 ]"
       ]
      },
      {
       "output_type": "stream",
       "stream": "stdout",
       "text": [
        "\n",
        "[ 164.94279484  129.24509311   93.37745345]"
       ]
      },
      {
       "output_type": "stream",
       "stream": "stdout",
       "text": [
        "\n",
        "[ 165.01915238  129.26920602   93.36539699]"
       ]
      },
      {
       "output_type": "stream",
       "stream": "stdout",
       "text": [
        "\n",
        "[ 165.09539775  129.2932835    93.35335825]"
       ]
      },
      {
       "output_type": "stream",
       "stream": "stdout",
       "text": [
        "\n",
        "[ 165.17153026  129.31732534   93.34133733]"
       ]
      },
      {
       "output_type": "stream",
       "stream": "stdout",
       "text": [
        "\n",
        "[ 165.24754922  129.34133133   93.32933433]"
       ]
      },
      {
       "output_type": "stream",
       "stream": "stdout",
       "text": [
        "\n",
        "[ 165.32345395  129.36530125   93.31734938]"
       ]
      },
      {
       "output_type": "stream",
       "stream": "stdout",
       "text": [
        "\n",
        "[ 165.39924377  129.38923488   93.30538256]"
       ]
      },
      {
       "output_type": "stream",
       "stream": "stdout",
       "text": [
        "\n",
        "[ 165.474918  129.413132   93.293434]"
       ]
      },
      {
       "output_type": "stream",
       "stream": "stdout",
       "text": [
        "\n",
        "[ 165.55047595  129.4369924    93.2815038 ]"
       ]
      },
      {
       "output_type": "stream",
       "stream": "stdout",
       "text": [
        "\n",
        "[ 165.62591693  129.46081587   93.26959206]"
       ]
      },
      {
       "output_type": "stream",
       "stream": "stdout",
       "text": [
        "\n",
        "[ 165.70124026  129.48460219   93.25769891]"
       ]
      },
      {
       "output_type": "stream",
       "stream": "stdout",
       "text": [
        "\n",
        "[ 165.77644526  129.50835114   93.24582443]"
       ]
      },
      {
       "output_type": "stream",
       "stream": "stdout",
       "text": [
        "\n",
        "[ 165.85153125  129.5320625    93.23396875]"
       ]
      },
      {
       "output_type": "stream",
       "stream": "stdout",
       "text": [
        "\n",
        "[ 165.92649754  129.55573606   93.22213197]"
       ]
      },
      {
       "output_type": "stream",
       "stream": "stdout",
       "text": [
        "\n",
        "[ 166.00134344  129.57937161   93.21031419]"
       ]
      },
      {
       "output_type": "stream",
       "stream": "stdout",
       "text": [
        "\n",
        "[ 166.07606827  129.60296893   93.19851554]"
       ]
      },
      {
       "output_type": "stream",
       "stream": "stdout",
       "text": [
        "\n",
        "[ 166.15067135  129.6265278    93.1867361 ]"
       ]
      },
      {
       "output_type": "stream",
       "stream": "stdout",
       "text": [
        "\n",
        "[ 166.225152  129.650048   93.174976]"
       ]
      },
      {
       "output_type": "stream",
       "stream": "stdout",
       "text": [
        "\n",
        "[ 166.29950953  129.67352932   93.16323534]"
       ]
      },
      {
       "output_type": "stream",
       "stream": "stdout",
       "text": [
        "\n",
        "[ 166.37374325  129.69697155   93.15151422]"
       ]
      },
      {
       "output_type": "stream",
       "stream": "stdout",
       "text": [
        "\n",
        "[ 166.44785248  129.72037447   93.13981277]"
       ]
      },
      {
       "output_type": "stream",
       "stream": "stdout",
       "text": [
        "\n",
        "[ 166.52183654  129.74373786   93.12813107]"
       ]
      },
      {
       "output_type": "stream",
       "stream": "stdout",
       "text": [
        "\n",
        "[ 166.59569475  129.7670615    93.11646925]"
       ]
      },
      {
       "output_type": "stream",
       "stream": "stdout",
       "text": [
        "\n",
        "[ 166.66942642  129.79034518   93.10482741]"
       ]
      },
      {
       "output_type": "stream",
       "stream": "stdout",
       "text": [
        "\n",
        "[ 166.74303086  129.81358869   93.09320565]"
       ]
      },
      {
       "output_type": "stream",
       "stream": "stdout",
       "text": [
        "\n",
        "[ 166.81650739  129.83679181   93.0816041 ]"
       ]
      },
      {
       "output_type": "stream",
       "stream": "stdout",
       "text": [
        "\n",
        "[ 166.88985533  129.85995432   93.07002284]"
       ]
      },
      {
       "output_type": "stream",
       "stream": "stdout",
       "text": [
        "\n",
        "[ 166.963074  129.883076   93.058462]"
       ]
      },
      {
       "output_type": "stream",
       "stream": "stdout",
       "text": [
        "\n",
        "[ 167.03616271  129.90615664   93.04692168]"
       ]
      },
      {
       "output_type": "stream",
       "stream": "stdout",
       "text": [
        "\n",
        "[ 167.10912077  129.92919603   93.03540198]"
       ]
      },
      {
       "output_type": "stream",
       "stream": "stdout",
       "text": [
        "\n",
        "[ 167.1819475   129.95219395   93.02390303]"
       ]
      },
      {
       "output_type": "stream",
       "stream": "stdout",
       "text": [
        "\n",
        "[ 167.25464222  129.97515018   93.01242491]"
       ]
      },
      {
       "output_type": "stream",
       "stream": "stdout",
       "text": [
        "\n",
        "[ 167.32720425  129.9980645    93.00096775]"
       ]
      },
      {
       "output_type": "stream",
       "stream": "stdout",
       "text": [
        "\n",
        "[ 167.3996329   130.0209367    92.98953165]"
       ]
      },
      {
       "output_type": "stream",
       "stream": "stdout",
       "text": [
        "\n",
        "[ 167.47192748  130.04376657   92.97811671]"
       ]
      },
      {
       "output_type": "stream",
       "stream": "stdout",
       "text": [
        "\n",
        "[ 167.54408731  130.06655389   92.96672306]"
       ]
      },
      {
       "output_type": "stream",
       "stream": "stdout",
       "text": [
        "\n",
        "[ 167.61611171  130.08929844   92.95535078]"
       ]
      },
      {
       "output_type": "stream",
       "stream": "stdout",
       "text": [
        "\n",
        "[ 167.688  130.112   92.944]"
       ]
      },
      {
       "output_type": "stream",
       "stream": "stdout",
       "text": [
        "\n",
        "[ 167.75975149  130.13465836   92.93267082]"
       ]
      },
      {
       "output_type": "stream",
       "stream": "stdout",
       "text": [
        "\n",
        "[ 167.83136549  130.15727331   92.92136334]"
       ]
      },
      {
       "output_type": "stream",
       "stream": "stdout",
       "text": [
        "\n",
        "[ 167.90284132  130.17984463   92.91007769]"
       ]
      },
      {
       "output_type": "stream",
       "stream": "stdout",
       "text": [
        "\n",
        "[ 167.9741783   130.2023721    92.89881395]"
       ]
      },
      {
       "output_type": "stream",
       "stream": "stdout",
       "text": [
        "\n",
        "[ 168.04537575  130.2248555    92.88757225]"
       ]
      },
      {
       "output_type": "stream",
       "stream": "stdout",
       "text": [
        "\n",
        "[ 168.11643298  130.24729462   92.87635269]"
       ]
      },
      {
       "output_type": "stream",
       "stream": "stdout",
       "text": [
        "\n",
        "[ 168.1873493   130.26968925   92.86515537]"
       ]
      },
      {
       "output_type": "stream",
       "stream": "stdout",
       "text": [
        "\n",
        "[ 168.25812403  130.29203917   92.85398042]"
       ]
      },
      {
       "output_type": "stream",
       "stream": "stdout",
       "text": [
        "\n",
        "[ 168.32875649  130.31434416   92.84282792]"
       ]
      },
      {
       "output_type": "stream",
       "stream": "stdout",
       "text": [
        "\n",
        "[ 168.399246  130.336604   92.831698]"
       ]
      },
      {
       "output_type": "stream",
       "stream": "stdout",
       "text": [
        "\n",
        "[ 168.46959187  130.35881848   92.82059076]"
       ]
      },
      {
       "output_type": "stream",
       "stream": "stdout",
       "text": [
        "\n",
        "[ 168.53979341  130.38098739   92.8095063 ]"
       ]
      },
      {
       "output_type": "stream",
       "stream": "stdout",
       "text": [
        "\n",
        "[ 168.60984994  130.40311051   92.79844475]"
       ]
      },
      {
       "output_type": "stream",
       "stream": "stdout",
       "text": [
        "\n",
        "[ 168.67976078  130.42518762   92.78740619]"
       ]
      },
      {
       "output_type": "stream",
       "stream": "stdout",
       "text": [
        "\n",
        "[ 168.74952525  130.4472185    92.77639075]"
       ]
      },
      {
       "output_type": "stream",
       "stream": "stdout",
       "text": [
        "\n",
        "[ 168.81914266  130.46920294   92.76539853]"
       ]
      },
      {
       "output_type": "stream",
       "stream": "stdout",
       "text": [
        "\n",
        "[ 168.88861232  130.49114073   92.75442963]"
       ]
      },
      {
       "output_type": "stream",
       "stream": "stdout",
       "text": [
        "\n",
        "[ 168.95793355  130.51303165   92.74348418]"
       ]
      },
      {
       "output_type": "stream",
       "stream": "stdout",
       "text": [
        "\n",
        "[ 169.02710567  130.53487548   92.73256226]"
       ]
      },
      {
       "output_type": "stream",
       "stream": "stdout",
       "text": [
        "\n",
        "[ 169.096128  130.556672   92.721664]"
       ]
      },
      {
       "output_type": "stream",
       "stream": "stdout",
       "text": [
        "\n",
        "[ 169.16499985  130.578421     92.7107895 ]"
       ]
      },
      {
       "output_type": "stream",
       "stream": "stdout",
       "text": [
        "\n",
        "[ 169.23372053  130.60012227   92.69993886]"
       ]
      },
      {
       "output_type": "stream",
       "stream": "stdout",
       "text": [
        "\n",
        "[ 169.30228936  130.62177559   92.68911221]"
       ]
      },
      {
       "output_type": "stream",
       "stream": "stdout",
       "text": [
        "\n",
        "[ 169.37070566  130.64338074   92.67830963]"
       ]
      },
      {
       "output_type": "stream",
       "stream": "stdout",
       "text": [
        "\n",
        "[ 169.43896875  130.6649375    92.66753125]"
       ]
      },
      {
       "output_type": "stream",
       "stream": "stdout",
       "text": [
        "\n",
        "[ 169.50707794  130.68644566   92.65677717]"
       ]
      },
      {
       "output_type": "stream",
       "stream": "stdout",
       "text": [
        "\n",
        "[ 169.57503254  130.70790501   92.64604749]"
       ]
      },
      {
       "output_type": "stream",
       "stream": "stdout",
       "text": [
        "\n",
        "[ 169.64283187  130.72931533   92.63534234]"
       ]
      },
      {
       "output_type": "stream",
       "stream": "stdout",
       "text": [
        "\n",
        "[ 169.71047525  130.7506764    92.6246618 ]"
       ]
      },
      {
       "output_type": "stream",
       "stream": "stdout",
       "text": [
        "\n",
        "[ 169.777962  130.771988   92.614006]"
       ]
      },
      {
       "output_type": "stream",
       "stream": "stdout",
       "text": [
        "\n",
        "[ 169.84529143  130.79324992   92.60337504]"
       ]
      },
      {
       "output_type": "stream",
       "stream": "stdout",
       "text": [
        "\n",
        "[ 169.91246285  130.81446195   92.59276902]"
       ]
      },
      {
       "output_type": "stream",
       "stream": "stdout",
       "text": [
        "\n",
        "[ 169.97947558  130.83562387   92.58218807]"
       ]
      },
      {
       "output_type": "stream",
       "stream": "stdout",
       "text": [
        "\n",
        "[ 170.04632894  130.85673546   92.57163227]"
       ]
      },
      {
       "output_type": "stream",
       "stream": "stdout",
       "text": [
        "\n",
        "[ 170.11302225  130.8777965    92.56110175]"
       ]
      },
      {
       "output_type": "stream",
       "stream": "stdout",
       "text": [
        "\n",
        "[ 170.17955482  130.89880678   92.55059661]"
       ]
      },
      {
       "output_type": "stream",
       "stream": "stdout",
       "text": [
        "\n",
        "[ 170.24592596  130.91976609   92.54011695]"
       ]
      },
      {
       "output_type": "stream",
       "stream": "stdout",
       "text": [
        "\n",
        "[ 170.31213499  130.94067421   92.5296629 ]"
       ]
      },
      {
       "output_type": "stream",
       "stream": "stdout",
       "text": [
        "\n",
        "[ 170.37818123  130.96153092   92.51923454]"
       ]
      },
      {
       "output_type": "stream",
       "stream": "stdout",
       "text": [
        "\n",
        "[ 170.444064  130.982336   92.508832]"
       ]
      },
      {
       "output_type": "stream",
       "stream": "stdout",
       "text": [
        "\n",
        "[ 170.50978261  131.00308924   92.49845538]"
       ]
      },
      {
       "output_type": "stream",
       "stream": "stdout",
       "text": [
        "\n",
        "[ 170.57533637  131.02379043   92.48810478]"
       ]
      },
      {
       "output_type": "stream",
       "stream": "stdout",
       "text": [
        "\n",
        "[ 170.6407246   131.04443935   92.47778033]"
       ]
      },
      {
       "output_type": "stream",
       "stream": "stdout",
       "text": [
        "\n",
        "[ 170.70594662  131.06503578   92.46748211]"
       ]
      },
      {
       "output_type": "stream",
       "stream": "stdout",
       "text": [
        "\n",
        "[ 170.77100175  131.0855795    92.45721025]"
       ]
      },
      {
       "output_type": "stream",
       "stream": "stdout",
       "text": [
        "\n",
        "[ 170.8358893   131.1060703    92.44696485]"
       ]
      },
      {
       "output_type": "stream",
       "stream": "stdout",
       "text": [
        "\n",
        "[ 170.90060858  131.12650797   92.43674601]"
       ]
      },
      {
       "output_type": "stream",
       "stream": "stdout",
       "text": [
        "\n",
        "[ 170.96515891  131.14689229   92.42655386]"
       ]
      },
      {
       "output_type": "stream",
       "stream": "stdout",
       "text": [
        "\n",
        "[ 171.02953961  131.16722304   92.41638848]"
       ]
      },
      {
       "output_type": "stream",
       "stream": "stdout",
       "text": [
        "\n",
        "[ 171.09375  131.1875    92.40625]"
       ]
      },
      {
       "output_type": "stream",
       "stream": "stdout",
       "text": [
        "\n",
        "[ 171.15778939  131.20772296   92.39613852]"
       ]
      },
      {
       "output_type": "stream",
       "stream": "stdout",
       "text": [
        "\n",
        "[ 171.22165709  131.22789171   92.38605414]"
       ]
      },
      {
       "output_type": "stream",
       "stream": "stdout",
       "text": [
        "\n",
        "[ 171.28535242  131.24800603   92.37599699]"
       ]
      },
      {
       "output_type": "stream",
       "stream": "stdout",
       "text": [
        "\n",
        "[ 171.3488747   131.2680657    92.36596715]"
       ]
      },
      {
       "output_type": "stream",
       "stream": "stdout",
       "text": [
        "\n",
        "[ 171.41222325  131.2880705    92.35596475]"
       ]
      },
      {
       "output_type": "stream",
       "stream": "stdout",
       "text": [
        "\n",
        "[ 171.47539738  131.30802022   92.34598989]"
       ]
      },
      {
       "output_type": "stream",
       "stream": "stdout",
       "text": [
        "\n",
        "[ 171.5383964   131.32791465   92.33604267]"
       ]
      },
      {
       "output_type": "stream",
       "stream": "stdout",
       "text": [
        "\n",
        "[ 171.60121963  131.34775357   92.32612322]"
       ]
      },
      {
       "output_type": "stream",
       "stream": "stdout",
       "text": [
        "\n",
        "[ 171.66386639  131.36753676   92.31623162]"
       ]
      },
      {
       "output_type": "stream",
       "stream": "stdout",
       "text": [
        "\n",
        "[ 171.726336  131.387264   92.306368]"
       ]
      },
      {
       "output_type": "stream",
       "stream": "stdout",
       "text": [
        "\n",
        "[ 171.78862777  131.40693508   92.29653246]"
       ]
      },
      {
       "output_type": "stream",
       "stream": "stdout",
       "text": [
        "\n",
        "[ 171.85074101  131.42654979   92.2867251 ]"
       ]
      },
      {
       "output_type": "stream",
       "stream": "stdout",
       "text": [
        "\n",
        "[ 171.91267504  131.44610791   92.27694605]"
       ]
      },
      {
       "output_type": "stream",
       "stream": "stdout",
       "text": [
        "\n",
        "[ 171.97442918  131.46560922   92.26719539]"
       ]
      },
      {
       "output_type": "stream",
       "stream": "stdout",
       "text": [
        "\n",
        "[ 172.03600275  131.4850535    92.25747325]"
       ]
      },
      {
       "output_type": "stream",
       "stream": "stdout",
       "text": [
        "\n",
        "[ 172.09739506  131.50444054   92.24777973]"
       ]
      },
      {
       "output_type": "stream",
       "stream": "stdout",
       "text": [
        "\n",
        "[ 172.15860542  131.52377013   92.23811493]"
       ]
      },
      {
       "output_type": "stream",
       "stream": "stdout",
       "text": [
        "\n",
        "[ 172.21963315  131.54304205   92.22847898]"
       ]
      },
      {
       "output_type": "stream",
       "stream": "stdout",
       "text": [
        "\n",
        "[ 172.28047757  131.56225608   92.21887196]"
       ]
      },
      {
       "output_type": "stream",
       "stream": "stdout",
       "text": [
        "\n",
        "[ 172.341138  131.581412   92.209294]"
       ]
      },
      {
       "output_type": "stream",
       "stream": "stdout",
       "text": [
        "\n",
        "[ 172.40161375  131.6005096    92.1997452 ]"
       ]
      },
      {
       "output_type": "stream",
       "stream": "stdout",
       "text": [
        "\n",
        "[ 172.46190413  131.61954867   92.19022566]"
       ]
      },
      {
       "output_type": "stream",
       "stream": "stdout",
       "text": [
        "\n",
        "[ 172.52200846  131.63852899   92.18073551]"
       ]
      },
      {
       "output_type": "stream",
       "stream": "stdout",
       "text": [
        "\n",
        "[ 172.58192606  131.65745034   92.17127483]"
       ]
      },
      {
       "output_type": "stream",
       "stream": "stdout",
       "text": [
        "\n",
        "[ 172.64165625  131.6763125    92.16184375]"
       ]
      },
      {
       "output_type": "stream",
       "stream": "stdout",
       "text": [
        "\n",
        "[ 172.70119834  131.69511526   92.15244237]"
       ]
      },
      {
       "output_type": "stream",
       "stream": "stdout",
       "text": [
        "\n",
        "[ 172.76055164  131.71385841   92.14307079]"
       ]
      },
      {
       "output_type": "stream",
       "stream": "stdout",
       "text": [
        "\n",
        "[ 172.81971547  131.73254173   92.13372914]"
       ]
      },
      {
       "output_type": "stream",
       "stream": "stdout",
       "text": [
        "\n",
        "[ 172.87868915  131.751165     92.1244175 ]"
       ]
      },
      {
       "output_type": "stream",
       "stream": "stdout",
       "text": [
        "\n",
        "[ 172.937472  131.769728   92.115136]"
       ]
      },
      {
       "output_type": "stream",
       "stream": "stdout",
       "text": [
        "\n",
        "[ 172.99606333  131.78823052   92.10588474]"
       ]
      },
      {
       "output_type": "stream",
       "stream": "stdout",
       "text": [
        "\n",
        "[ 173.05446245  131.80667235   92.09666382]"
       ]
      },
      {
       "output_type": "stream",
       "stream": "stdout",
       "text": [
        "\n",
        "[ 173.11266868  131.82505327   92.08747337]"
       ]
      },
      {
       "output_type": "stream",
       "stream": "stdout",
       "text": [
        "\n",
        "[ 173.17068134  131.84337306   92.07831347]"
       ]
      },
      {
       "output_type": "stream",
       "stream": "stdout",
       "text": [
        "\n",
        "[ 173.22849975  131.8616315    92.06918425]"
       ]
      },
      {
       "output_type": "stream",
       "stream": "stdout",
       "text": [
        "\n",
        "[ 173.28612322  131.87982838   92.06008581]"
       ]
      },
      {
       "output_type": "stream",
       "stream": "stdout",
       "text": [
        "\n",
        "[ 173.34355106  131.89796349   92.05101825]"
       ]
      },
      {
       "output_type": "stream",
       "stream": "stdout",
       "text": [
        "\n",
        "[ 173.40078259  131.91603661   92.0419817 ]"
       ]
      },
      {
       "output_type": "stream",
       "stream": "stdout",
       "text": [
        "\n",
        "[ 173.45781713  131.93404752   92.03297624]"
       ]
      },
      {
       "output_type": "stream",
       "stream": "stdout",
       "text": [
        "\n",
        "[ 173.514654  131.951996   92.024002]"
       ]
      },
      {
       "output_type": "stream",
       "stream": "stdout",
       "text": [
        "\n",
        "[ 173.57129251  131.96988184   92.01505908]"
       ]
      },
      {
       "output_type": "stream",
       "stream": "stdout",
       "text": [
        "\n",
        "[ 173.62773197  131.98770483   92.00614758]"
       ]
      },
      {
       "output_type": "stream",
       "stream": "stdout",
       "text": [
        "\n",
        "[ 173.6839717   132.00546475   91.99726763]"
       ]
      },
      {
       "output_type": "stream",
       "stream": "stdout",
       "text": [
        "\n",
        "[ 173.74001102  132.02316138   91.98841931]"
       ]
      },
      {
       "output_type": "stream",
       "stream": "stdout",
       "text": [
        "\n",
        "[ 173.79584925  132.0407945    91.97960275]"
       ]
      },
      {
       "output_type": "stream",
       "stream": "stdout",
       "text": [
        "\n",
        "[ 173.8514857   132.0583639    91.97081805]"
       ]
      },
      {
       "output_type": "stream",
       "stream": "stdout",
       "text": [
        "\n",
        "[ 173.90691968  132.07586937   91.96206531]"
       ]
      },
      {
       "output_type": "stream",
       "stream": "stdout",
       "text": [
        "\n",
        "[ 173.96215051  132.09331069   91.95334466]"
       ]
      },
      {
       "output_type": "stream",
       "stream": "stdout",
       "text": [
        "\n",
        "[ 174.01717751  132.11068764   91.94465618]"
       ]
      },
      {
       "output_type": "stream",
       "stream": "stdout",
       "text": [
        "\n",
        "[ 174.072  132.128   91.936]"
       ]
      },
      {
       "output_type": "stream",
       "stream": "stdout",
       "text": [
        "\n",
        "[ 174.12661729  132.14524756   91.92737622]"
       ]
      },
      {
       "output_type": "stream",
       "stream": "stdout",
       "text": [
        "\n",
        "[ 174.18102869  132.16243011   91.91878494]"
       ]
      },
      {
       "output_type": "stream",
       "stream": "stdout",
       "text": [
        "\n",
        "[ 174.23523352  132.17954743   91.91022629]"
       ]
      },
      {
       "output_type": "stream",
       "stream": "stdout",
       "text": [
        "\n",
        "[ 174.2892311   132.1965993    91.90170035]"
       ]
      },
      {
       "output_type": "stream",
       "stream": "stdout",
       "text": [
        "\n",
        "[ 174.34302075  132.2135855    91.89320725]"
       ]
      },
      {
       "output_type": "stream",
       "stream": "stdout",
       "text": [
        "\n",
        "[ 174.39660178  132.23050582   91.88474709]"
       ]
      },
      {
       "output_type": "stream",
       "stream": "stdout",
       "text": [
        "\n",
        "[ 174.4499735   132.24736005   91.87631997]"
       ]
      },
      {
       "output_type": "stream",
       "stream": "stdout",
       "text": [
        "\n",
        "[ 174.50313523  132.26414797   91.86792602]"
       ]
      },
      {
       "output_type": "stream",
       "stream": "stdout",
       "text": [
        "\n",
        "[ 174.55608629  132.28086936   91.85956532]"
       ]
      },
      {
       "output_type": "stream",
       "stream": "stdout",
       "text": [
        "\n",
        "[ 174.608826  132.297524   91.851238]"
       ]
      },
      {
       "output_type": "stream",
       "stream": "stdout",
       "text": [
        "\n",
        "[ 174.66135367  132.31411168   91.84294416]"
       ]
      },
      {
       "output_type": "stream",
       "stream": "stdout",
       "text": [
        "\n",
        "[ 174.71366861  132.33063219   91.8346839 ]"
       ]
      },
      {
       "output_type": "stream",
       "stream": "stdout",
       "text": [
        "\n",
        "[ 174.76577014  132.34708531   91.82645735]"
       ]
      },
      {
       "output_type": "stream",
       "stream": "stdout",
       "text": [
        "\n",
        "[ 174.81765758  132.36347082   91.81826459]"
       ]
      },
      {
       "output_type": "stream",
       "stream": "stdout",
       "text": [
        "\n",
        "[ 174.86933025  132.3797885    91.81010575]"
       ]
      },
      {
       "output_type": "stream",
       "stream": "stdout",
       "text": [
        "\n",
        "[ 174.92078746  132.39603814   91.80198093]"
       ]
      },
      {
       "output_type": "stream",
       "stream": "stdout",
       "text": [
        "\n",
        "[ 174.97202852  132.41221953   91.79389023]"
       ]
      },
      {
       "output_type": "stream",
       "stream": "stdout",
       "text": [
        "\n",
        "[ 175.02305275  132.42833245   91.78583378]"
       ]
      },
      {
       "output_type": "stream",
       "stream": "stdout",
       "text": [
        "\n",
        "[ 175.07385947  132.44437668   91.77781166]"
       ]
      },
      {
       "output_type": "stream",
       "stream": "stdout",
       "text": [
        "\n",
        "[ 175.124448  132.460352   91.769824]"
       ]
      },
      {
       "output_type": "stream",
       "stream": "stdout",
       "text": [
        "\n",
        "[ 175.17481765  132.4762582    91.7618709 ]"
       ]
      },
      {
       "output_type": "stream",
       "stream": "stdout",
       "text": [
        "\n",
        "[ 175.22496773  132.49209507   91.75395246]"
       ]
      },
      {
       "output_type": "stream",
       "stream": "stdout",
       "text": [
        "\n",
        "[ 175.27489756  132.50786239   91.74606881]"
       ]
      },
      {
       "output_type": "stream",
       "stream": "stdout",
       "text": [
        "\n",
        "[ 175.32460646  132.52355994   91.73822003]"
       ]
      },
      {
       "output_type": "stream",
       "stream": "stdout",
       "text": [
        "\n",
        "[ 175.37409375  132.5391875    91.73040625]"
       ]
      },
      {
       "output_type": "stream",
       "stream": "stdout",
       "text": [
        "\n",
        "[ 175.42335874  132.55474486   91.72262757]"
       ]
      },
      {
       "output_type": "stream",
       "stream": "stdout",
       "text": [
        "\n",
        "[ 175.47240074  132.57023181   91.71488409]"
       ]
      },
      {
       "output_type": "stream",
       "stream": "stdout",
       "text": [
        "\n",
        "[ 175.52121907  132.58564813   91.70717594]"
       ]
      },
      {
       "output_type": "stream",
       "stream": "stdout",
       "text": [
        "\n",
        "[ 175.56981305  132.6009936    91.6995032 ]"
       ]
      },
      {
       "output_type": "stream",
       "stream": "stdout",
       "text": [
        "\n",
        "[ 175.618182  132.616268   91.691866]"
       ]
      },
      {
       "output_type": "stream",
       "stream": "stdout",
       "text": [
        "\n",
        "[ 175.66632523  132.63147112   91.68426444]"
       ]
      },
      {
       "output_type": "stream",
       "stream": "stdout",
       "text": [
        "\n",
        "[ 175.71424205  132.64660275   91.67669862]"
       ]
      },
      {
       "output_type": "stream",
       "stream": "stdout",
       "text": [
        "\n",
        "[ 175.76193178  132.66166267   91.66916867]"
       ]
      },
      {
       "output_type": "stream",
       "stream": "stdout",
       "text": [
        "\n",
        "[ 175.80939374  132.67665066   91.66167467]"
       ]
      },
      {
       "output_type": "stream",
       "stream": "stdout",
       "text": [
        "\n",
        "[ 175.85662725  132.6915665    91.65421675]"
       ]
      },
      {
       "output_type": "stream",
       "stream": "stdout",
       "text": [
        "\n",
        "[ 175.90363162  132.70640998   91.64679501]"
       ]
      },
      {
       "output_type": "stream",
       "stream": "stdout",
       "text": [
        "\n",
        "[ 175.95040616  132.72118089   91.63940955]"
       ]
      },
      {
       "output_type": "stream",
       "stream": "stdout",
       "text": [
        "\n",
        "[ 175.99695019  132.73587901   91.6320605 ]"
       ]
      },
      {
       "output_type": "stream",
       "stream": "stdout",
       "text": [
        "\n",
        "[ 176.04326303  132.75050412   91.62474794]"
       ]
      },
      {
       "output_type": "stream",
       "stream": "stdout",
       "text": [
        "\n",
        "[ 176.089344  132.765056   91.617472]"
       ]
      },
      {
       "output_type": "stream",
       "stream": "stdout",
       "text": [
        "\n",
        "[ 176.13519241  132.77953444   91.61023278]"
       ]
      },
      {
       "output_type": "stream",
       "stream": "stdout",
       "text": [
        "\n",
        "[ 176.18080757  132.79393923   91.60303038]"
       ]
      },
      {
       "output_type": "stream",
       "stream": "stdout",
       "text": [
        "\n",
        "[ 176.2261888   132.80827015   91.59586493]"
       ]
      },
      {
       "output_type": "stream",
       "stream": "stdout",
       "text": [
        "\n",
        "[ 176.27133542  132.82252698   91.58873651]"
       ]
      },
      {
       "output_type": "stream",
       "stream": "stdout",
       "text": [
        "\n",
        "[ 176.31624675  132.8367095    91.58164525]"
       ]
      },
      {
       "output_type": "stream",
       "stream": "stdout",
       "text": [
        "\n",
        "[ 176.3609221   132.8508175    91.57459125]"
       ]
      },
      {
       "output_type": "stream",
       "stream": "stdout",
       "text": [
        "\n",
        "[ 176.40536078  132.86485077   91.56757461]"
       ]
      },
      {
       "output_type": "stream",
       "stream": "stdout",
       "text": [
        "\n",
        "[ 176.44956211  132.87880909   91.56059546]"
       ]
      },
      {
       "output_type": "stream",
       "stream": "stdout",
       "text": [
        "\n",
        "[ 176.49352541  132.89269224   91.55365388]"
       ]
      },
      {
       "output_type": "stream",
       "stream": "stdout",
       "text": [
        "\n",
        "[ 176.53725  132.9065    91.54675]"
       ]
      },
      {
       "output_type": "stream",
       "stream": "stdout",
       "text": [
        "\n",
        "[ 176.58073519  132.92023216   91.53988392]"
       ]
      },
      {
       "output_type": "stream",
       "stream": "stdout",
       "text": [
        "\n",
        "[ 176.62398029  132.93388851   91.53305574]"
       ]
      },
      {
       "output_type": "stream",
       "stream": "stdout",
       "text": [
        "\n",
        "[ 176.66698462  132.94746883   91.52626559]"
       ]
      },
      {
       "output_type": "stream",
       "stream": "stdout",
       "text": [
        "\n",
        "[ 176.7097475   132.9609729    91.51951355]"
       ]
      },
      {
       "output_type": "stream",
       "stream": "stdout",
       "text": [
        "\n",
        "[ 176.75226825  132.9744005    91.51279975]"
       ]
      },
      {
       "output_type": "stream",
       "stream": "stdout",
       "text": [
        "\n",
        "[ 176.79454618  132.98775142   91.50612429]"
       ]
      },
      {
       "output_type": "stream",
       "stream": "stdout",
       "text": [
        "\n",
        "[ 176.8365806   133.00102545   91.49948727]"
       ]
      },
      {
       "output_type": "stream",
       "stream": "stdout",
       "text": [
        "\n",
        "[ 176.87837083  133.01422237   91.49288882]"
       ]
      },
      {
       "output_type": "stream",
       "stream": "stdout",
       "text": [
        "\n",
        "[ 176.91991619  133.02734196   91.48632902]"
       ]
      },
      {
       "output_type": "stream",
       "stream": "stdout",
       "text": [
        "\n",
        "[ 176.961216  133.040384   91.479808]"
       ]
      },
      {
       "output_type": "stream",
       "stream": "stdout",
       "text": [
        "\n",
        "[ 177.00226957  133.05334828   91.47332586]"
       ]
      },
      {
       "output_type": "stream",
       "stream": "stdout",
       "text": [
        "\n",
        "[ 177.04307621  133.06623459   91.4668827 ]"
       ]
      },
      {
       "output_type": "stream",
       "stream": "stdout",
       "text": [
        "\n",
        "[ 177.08363524  133.07904271   91.46047865]"
       ]
      },
      {
       "output_type": "stream",
       "stream": "stdout",
       "text": [
        "\n",
        "[ 177.12394598  133.09177242   91.45411379]"
       ]
      },
      {
       "output_type": "stream",
       "stream": "stdout",
       "text": [
        "\n",
        "[ 177.16400775  133.1044235    91.44778825]"
       ]
      },
      {
       "output_type": "stream",
       "stream": "stdout",
       "text": [
        "\n",
        "[ 177.20381986  133.11699574   91.44150213]"
       ]
      },
      {
       "output_type": "stream",
       "stream": "stdout",
       "text": [
        "\n",
        "[ 177.24338162  133.12948893   91.43525553]"
       ]
      },
      {
       "output_type": "stream",
       "stream": "stdout",
       "text": [
        "\n",
        "[ 177.28269235  133.14190285   91.42904858]"
       ]
      },
      {
       "output_type": "stream",
       "stream": "stdout",
       "text": [
        "\n",
        "[ 177.32175137  133.15423728   91.42288136]"
       ]
      },
      {
       "output_type": "stream",
       "stream": "stdout",
       "text": [
        "\n",
        "[ 177.360558  133.166492   91.416754]"
       ]
      },
      {
       "output_type": "stream",
       "stream": "stdout",
       "text": [
        "\n",
        "[ 177.39911155  133.1786668    91.4106666 ]"
       ]
      },
      {
       "output_type": "stream",
       "stream": "stdout",
       "text": [
        "\n",
        "[ 177.43741133  133.19076147   91.40461926]"
       ]
      },
      {
       "output_type": "stream",
       "stream": "stdout",
       "text": [
        "\n",
        "[ 177.47545666  133.20277579   91.39861211]"
       ]
      },
      {
       "output_type": "stream",
       "stream": "stdout",
       "text": [
        "\n",
        "[ 177.51324686  133.21470954   91.39264523]"
       ]
      },
      {
       "output_type": "stream",
       "stream": "stdout",
       "text": [
        "\n",
        "[ 177.55078125  133.2265625    91.38671875]"
       ]
      },
      {
       "output_type": "stream",
       "stream": "stdout",
       "text": [
        "\n",
        "[ 177.58805914  133.23833446   91.38083277]"
       ]
      },
      {
       "output_type": "stream",
       "stream": "stdout",
       "text": [
        "\n",
        "[ 177.62507984  133.25002521   91.37498739]"
       ]
      },
      {
       "output_type": "stream",
       "stream": "stdout",
       "text": [
        "\n",
        "[ 177.66184267  133.26163453   91.36918274]"
       ]
      },
      {
       "output_type": "stream",
       "stream": "stdout",
       "text": [
        "\n",
        "[ 177.69834695  133.2731622    91.3634189 ]"
       ]
      },
      {
       "output_type": "stream",
       "stream": "stdout",
       "text": [
        "\n",
        "[ 177.734592  133.284608   91.357696]"
       ]
      },
      {
       "output_type": "stream",
       "stream": "stdout",
       "text": [
        "\n",
        "[ 177.77057713  133.29597172   91.35201414]"
       ]
      },
      {
       "output_type": "stream",
       "stream": "stdout",
       "text": [
        "\n",
        "[ 177.80630165  133.30725315   91.34637342]"
       ]
      },
      {
       "output_type": "stream",
       "stream": "stdout",
       "text": [
        "\n",
        "[ 177.84176488  133.31845207   91.34077397]"
       ]
      },
      {
       "output_type": "stream",
       "stream": "stdout",
       "text": [
        "\n",
        "[ 177.87696614  133.32956826   91.33521587]"
       ]
      },
      {
       "output_type": "stream",
       "stream": "stdout",
       "text": [
        "\n",
        "[ 177.91190475  133.3406015    91.32969925]"
       ]
      },
      {
       "output_type": "stream",
       "stream": "stdout",
       "text": [
        "\n",
        "[ 177.94658002  133.35155158   91.32422421]"
       ]
      },
      {
       "output_type": "stream",
       "stream": "stdout",
       "text": [
        "\n",
        "[ 177.98099126  133.36241829   91.31879085]"
       ]
      },
      {
       "output_type": "stream",
       "stream": "stdout",
       "text": [
        "\n",
        "[ 178.01513779  133.37320141   91.3133993 ]"
       ]
      },
      {
       "output_type": "stream",
       "stream": "stdout",
       "text": [
        "\n",
        "[ 178.04901893  133.38390072   91.30804964]"
       ]
      },
      {
       "output_type": "stream",
       "stream": "stdout",
       "text": [
        "\n",
        "[ 178.082634  133.394516   91.302742]"
       ]
      },
      {
       "output_type": "stream",
       "stream": "stdout",
       "text": [
        "\n",
        "[ 178.11598231  133.40504704   91.29747648]"
       ]
      },
      {
       "output_type": "stream",
       "stream": "stdout",
       "text": [
        "\n",
        "[ 178.14906317  133.41549363   91.29225318]"
       ]
      },
      {
       "output_type": "stream",
       "stream": "stdout",
       "text": [
        "\n",
        "[ 178.1818759   133.42585555   91.28707223]"
       ]
      },
      {
       "output_type": "stream",
       "stream": "stdout",
       "text": [
        "\n",
        "[ 178.21441982  133.43613258   91.28193371]"
       ]
      },
      {
       "output_type": "stream",
       "stream": "stdout",
       "text": [
        "\n",
        "[ 178.24669425  133.4463245    91.27683775]"
       ]
      },
      {
       "output_type": "stream",
       "stream": "stdout",
       "text": [
        "\n",
        "[ 178.2786985   133.4564311    91.27178445]"
       ]
      },
      {
       "output_type": "stream",
       "stream": "stdout",
       "text": [
        "\n",
        "[ 178.31043188  133.46645217   91.26677391]"
       ]
      },
      {
       "output_type": "stream",
       "stream": "stdout",
       "text": [
        "\n",
        "[ 178.34189371  133.47638749   91.26180626]"
       ]
      },
      {
       "output_type": "stream",
       "stream": "stdout",
       "text": [
        "\n",
        "[ 178.37308331  133.48623684   91.25688158]"
       ]
      },
      {
       "output_type": "stream",
       "stream": "stdout",
       "text": [
        "\n",
        "[ 178.404  133.496   91.252]"
       ]
      },
      {
       "output_type": "stream",
       "stream": "stdout",
       "text": [
        "\n",
        "[ 178.43464309  133.50567676   91.24716162]"
       ]
      },
      {
       "output_type": "stream",
       "stream": "stdout",
       "text": [
        "\n",
        "[ 178.46501189  133.51526691   91.24236654]"
       ]
      },
      {
       "output_type": "stream",
       "stream": "stdout",
       "text": [
        "\n",
        "[ 178.49510572  133.52477023   91.23761489]"
       ]
      },
      {
       "output_type": "stream",
       "stream": "stdout",
       "text": [
        "\n",
        "[ 178.5249239   133.5341865    91.23290675]"
       ]
      },
      {
       "output_type": "stream",
       "stream": "stdout",
       "text": [
        "\n",
        "[ 178.55446575  133.5435155    91.22824225]"
       ]
      },
      {
       "output_type": "stream",
       "stream": "stdout",
       "text": [
        "\n",
        "[ 178.58373058  133.55275702   91.22362149]"
       ]
      },
      {
       "output_type": "stream",
       "stream": "stdout",
       "text": [
        "\n",
        "[ 178.6127177   133.56191085   91.21904457]"
       ]
      },
      {
       "output_type": "stream",
       "stream": "stdout",
       "text": [
        "\n",
        "[ 178.64142643  133.57097677   91.21451162]"
       ]
      },
      {
       "output_type": "stream",
       "stream": "stdout",
       "text": [
        "\n",
        "[ 178.66985609  133.57995456   91.21002272]"
       ]
      },
      {
       "output_type": "stream",
       "stream": "stdout",
       "text": [
        "\n",
        "[ 178.698006  133.588844   91.205578]"
       ]
      },
      {
       "output_type": "stream",
       "stream": "stdout",
       "text": [
        "\n",
        "[ 178.72587547  133.59764488   91.20117756]"
       ]
      },
      {
       "output_type": "stream",
       "stream": "stdout",
       "text": [
        "\n",
        "[ 178.75346381  133.60635699   91.1968215 ]"
       ]
      },
      {
       "output_type": "stream",
       "stream": "stdout",
       "text": [
        "\n",
        "[ 178.78077034  133.61498011   91.19250995]"
       ]
      },
      {
       "output_type": "stream",
       "stream": "stdout",
       "text": [
        "\n",
        "[ 178.80779438  133.62351402   91.18824299]"
       ]
      },
      {
       "output_type": "stream",
       "stream": "stdout",
       "text": [
        "\n",
        "[ 178.83453525  133.6319585    91.18402075]"
       ]
      },
      {
       "output_type": "stream",
       "stream": "stdout",
       "text": [
        "\n",
        "[ 178.86099226  133.64031334   91.17984333]"
       ]
      },
      {
       "output_type": "stream",
       "stream": "stdout",
       "text": [
        "\n",
        "[ 178.88716472  133.64857833   91.17571083]"
       ]
      },
      {
       "output_type": "stream",
       "stream": "stdout",
       "text": [
        "\n",
        "[ 178.91305195  133.65675325   91.17162338]"
       ]
      },
      {
       "output_type": "stream",
       "stream": "stdout",
       "text": [
        "\n",
        "[ 178.93865327  133.66483788   91.16758106]"
       ]
      },
      {
       "output_type": "stream",
       "stream": "stdout",
       "text": [
        "\n",
        "[ 178.963968  133.672832   91.163584]"
       ]
      },
      {
       "output_type": "stream",
       "stream": "stdout",
       "text": [
        "\n",
        "[ 178.98899545  133.6807354    91.1596323 ]"
       ]
      },
      {
       "output_type": "stream",
       "stream": "stdout",
       "text": [
        "\n",
        "[ 179.01373493  133.68854787   91.15572606]"
       ]
      },
      {
       "output_type": "stream",
       "stream": "stdout",
       "text": [
        "\n",
        "[ 179.03818576  133.69626919   91.15186541]"
       ]
      },
      {
       "output_type": "stream",
       "stream": "stdout",
       "text": [
        "\n",
        "[ 179.06234726  133.70389914   91.14805043]"
       ]
      },
      {
       "output_type": "stream",
       "stream": "stdout",
       "text": [
        "\n",
        "[ 179.08621875  133.7114375    91.14428125]"
       ]
      },
      {
       "output_type": "stream",
       "stream": "stdout",
       "text": [
        "\n",
        "[ 179.10979954  133.71888406   91.14055797]"
       ]
      },
      {
       "output_type": "stream",
       "stream": "stdout",
       "text": [
        "\n",
        "[ 179.13308894  133.72623861   91.13688069]"
       ]
      },
      {
       "output_type": "stream",
       "stream": "stdout",
       "text": [
        "\n",
        "[ 179.15608627  133.73350093   91.13324954]"
       ]
      },
      {
       "output_type": "stream",
       "stream": "stdout",
       "text": [
        "\n",
        "[ 179.17879085  133.7406708    91.1296646 ]"
       ]
      },
      {
       "output_type": "stream",
       "stream": "stdout",
       "text": [
        "\n",
        "[ 179.201202  133.747748   91.126126]"
       ]
      },
      {
       "output_type": "stream",
       "stream": "stdout",
       "text": [
        "\n",
        "[ 179.22331903  133.75473232   91.12263384]"
       ]
      },
      {
       "output_type": "stream",
       "stream": "stdout",
       "text": [
        "\n",
        "[ 179.24514125  133.76162355   91.11918822]"
       ]
      },
      {
       "output_type": "stream",
       "stream": "stdout",
       "text": [
        "\n",
        "[ 179.26666798  133.76842147   91.11578927]"
       ]
      },
      {
       "output_type": "stream",
       "stream": "stdout",
       "text": [
        "\n",
        "[ 179.28789854  133.77512586   91.11243707]"
       ]
      },
      {
       "output_type": "stream",
       "stream": "stdout",
       "text": [
        "\n",
        "[ 179.30883225  133.7817365    91.10913175]"
       ]
      },
      {
       "output_type": "stream",
       "stream": "stdout",
       "text": [
        "\n",
        "[ 179.32946842  133.78825318   91.10587341]"
       ]
      },
      {
       "output_type": "stream",
       "stream": "stdout",
       "text": [
        "\n",
        "[ 179.34980636  133.79467569   91.10266215]"
       ]
      },
      {
       "output_type": "stream",
       "stream": "stdout",
       "text": [
        "\n",
        "[ 179.36984539  133.80100381   91.0994981 ]"
       ]
      },
      {
       "output_type": "stream",
       "stream": "stdout",
       "text": [
        "\n",
        "[ 179.38958483  133.80723732   91.09638134]"
       ]
      },
      {
       "output_type": "stream",
       "stream": "stdout",
       "text": [
        "\n",
        "[ 179.409024  133.813376   91.093312]"
       ]
      },
      {
       "output_type": "stream",
       "stream": "stdout",
       "text": [
        "\n",
        "[ 179.42816221  133.81941964   91.09029018]"
       ]
      },
      {
       "output_type": "stream",
       "stream": "stdout",
       "text": [
        "\n",
        "[ 179.44699877  133.82536803   91.08731598]"
       ]
      },
      {
       "output_type": "stream",
       "stream": "stdout",
       "text": [
        "\n",
        "[ 179.465533    133.83122095   91.08438953]"
       ]
      },
      {
       "output_type": "stream",
       "stream": "stdout",
       "text": [
        "\n",
        "[ 179.48376422  133.83697818   91.08151091]"
       ]
      },
      {
       "output_type": "stream",
       "stream": "stdout",
       "text": [
        "\n",
        "[ 179.50169175  133.8426395    91.07868025]"
       ]
      },
      {
       "output_type": "stream",
       "stream": "stdout",
       "text": [
        "\n",
        "[ 179.5193149   133.8482047    91.07589765]"
       ]
      },
      {
       "output_type": "stream",
       "stream": "stdout",
       "text": [
        "\n",
        "[ 179.53663298  133.85367357   91.07316321]"
       ]
      },
      {
       "output_type": "stream",
       "stream": "stdout",
       "text": [
        "\n",
        "[ 179.55364531  133.85904589   91.07047706]"
       ]
      },
      {
       "output_type": "stream",
       "stream": "stdout",
       "text": [
        "\n",
        "[ 179.57035121  133.86432144   91.06783928]"
       ]
      },
      {
       "output_type": "stream",
       "stream": "stdout",
       "text": [
        "\n",
        "[ 179.58675  133.8695    91.06525]"
       ]
      },
      {
       "output_type": "stream",
       "stream": "stdout",
       "text": [
        "\n",
        "[ 179.60284099  133.87458136   91.06270932]"
       ]
      },
      {
       "output_type": "stream",
       "stream": "stdout",
       "text": [
        "\n",
        "[ 179.61862349  133.87956531   91.06021734]"
       ]
      },
      {
       "output_type": "stream",
       "stream": "stdout",
       "text": [
        "\n",
        "[ 179.63409682  133.88445163   91.05777419]"
       ]
      },
      {
       "output_type": "stream",
       "stream": "stdout",
       "text": [
        "\n",
        "[ 179.6492603   133.8892401    91.05537995]"
       ]
      },
      {
       "output_type": "stream",
       "stream": "stdout",
       "text": [
        "\n",
        "[ 179.66411325  133.8939305    91.05303475]"
       ]
      },
      {
       "output_type": "stream",
       "stream": "stdout",
       "text": [
        "\n",
        "[ 179.67865498  133.89852262   91.05073869]"
       ]
      },
      {
       "output_type": "stream",
       "stream": "stdout",
       "text": [
        "\n",
        "[ 179.6928848   133.90301625   91.04849187]"
       ]
      },
      {
       "output_type": "stream",
       "stream": "stdout",
       "text": [
        "\n",
        "[ 179.70680203  133.90741117   91.04629442]"
       ]
      },
      {
       "output_type": "stream",
       "stream": "stdout",
       "text": [
        "\n",
        "[ 179.72040599  133.91170716   91.04414642]"
       ]
      },
      {
       "output_type": "stream",
       "stream": "stdout",
       "text": [
        "\n",
        "[ 179.733696  133.915904   91.042048]"
       ]
      },
      {
       "output_type": "stream",
       "stream": "stdout",
       "text": [
        "\n",
        "[ 179.74667137  133.92000148   91.03999926]"
       ]
      },
      {
       "output_type": "stream",
       "stream": "stdout",
       "text": [
        "\n",
        "[ 179.75933141  133.92399939   91.0380003 ]"
       ]
      },
      {
       "output_type": "stream",
       "stream": "stdout",
       "text": [
        "\n",
        "[ 179.77167544  133.92789751   91.03605125]"
       ]
      },
      {
       "output_type": "stream",
       "stream": "stdout",
       "text": [
        "\n",
        "[ 179.78370278  133.93169562   91.03415219]"
       ]
      },
      {
       "output_type": "stream",
       "stream": "stdout",
       "text": [
        "\n",
        "[ 179.79541275  133.9353935    91.03230325]"
       ]
      },
      {
       "output_type": "stream",
       "stream": "stdout",
       "text": [
        "\n",
        "[ 179.80680466  133.93899094   91.03050453]"
       ]
      },
      {
       "output_type": "stream",
       "stream": "stdout",
       "text": [
        "\n",
        "[ 179.81787782  133.94248773   91.02875613]"
       ]
      },
      {
       "output_type": "stream",
       "stream": "stdout",
       "text": [
        "\n",
        "[ 179.82863155  133.94588365   91.02705818]"
       ]
      },
      {
       "output_type": "stream",
       "stream": "stdout",
       "text": [
        "\n",
        "[ 179.83906517  133.94917848   91.02541076]"
       ]
      },
      {
       "output_type": "stream",
       "stream": "stdout",
       "text": [
        "\n",
        "[ 179.849178  133.952372   91.023814]"
       ]
      },
      {
       "output_type": "stream",
       "stream": "stdout",
       "text": [
        "\n",
        "[ 179.85896935  133.955464     91.022268  ]"
       ]
      },
      {
       "output_type": "stream",
       "stream": "stdout",
       "text": [
        "\n",
        "[ 179.86843853  133.95845427   91.02077286]"
       ]
      },
      {
       "output_type": "stream",
       "stream": "stdout",
       "text": [
        "\n",
        "[ 179.87758486  133.96134259   91.01932871]"
       ]
      },
      {
       "output_type": "stream",
       "stream": "stdout",
       "text": [
        "\n",
        "[ 179.88640766  133.96412874   91.01793563]"
       ]
      },
      {
       "output_type": "stream",
       "stream": "stdout",
       "text": [
        "\n",
        "[ 179.89490625  133.9668125    91.01659375]"
       ]
      },
      {
       "output_type": "stream",
       "stream": "stdout",
       "text": [
        "\n",
        "[ 179.90307994  133.96939366   91.01530317]"
       ]
      },
      {
       "output_type": "stream",
       "stream": "stdout",
       "text": [
        "\n",
        "[ 179.91092804  133.97187201   91.01406399]"
       ]
      },
      {
       "output_type": "stream",
       "stream": "stdout",
       "text": [
        "\n",
        "[ 179.91844987  133.97424733   91.01287634]"
       ]
      },
      {
       "output_type": "stream",
       "stream": "stdout",
       "text": [
        "\n",
        "[ 179.92564475  133.9765194    91.0117403 ]"
       ]
      },
      {
       "output_type": "stream",
       "stream": "stdout",
       "text": [
        "\n",
        "[ 179.932512  133.978688   91.010656]"
       ]
      },
      {
       "output_type": "stream",
       "stream": "stdout",
       "text": [
        "\n",
        "[ 179.93905093  133.98075292   91.00962354]"
       ]
      },
      {
       "output_type": "stream",
       "stream": "stdout",
       "text": [
        "\n",
        "[ 179.94526085  133.98271395   91.00864302]"
       ]
      },
      {
       "output_type": "stream",
       "stream": "stdout",
       "text": [
        "\n",
        "[ 179.95114108  133.98457087   91.00771457]"
       ]
      },
      {
       "output_type": "stream",
       "stream": "stdout",
       "text": [
        "\n",
        "[ 179.95669094  133.98632346   91.00683827]"
       ]
      },
      {
       "output_type": "stream",
       "stream": "stdout",
       "text": [
        "\n",
        "[ 179.96190975  133.9879715    91.00601425]"
       ]
      },
      {
       "output_type": "stream",
       "stream": "stdout",
       "text": [
        "\n",
        "[ 179.96679682  133.98951478   91.00524261]"
       ]
      },
      {
       "output_type": "stream",
       "stream": "stdout",
       "text": [
        "\n",
        "[ 179.97135146  133.99095309   91.00452345]"
       ]
      },
      {
       "output_type": "stream",
       "stream": "stdout",
       "text": [
        "\n",
        "[ 179.97557299  133.99228621   91.0038569 ]"
       ]
      },
      {
       "output_type": "stream",
       "stream": "stdout",
       "text": [
        "\n",
        "[ 179.97946073  133.99351392   91.00324304]"
       ]
      },
      {
       "output_type": "stream",
       "stream": "stdout",
       "text": [
        "\n",
        "[ 179.983014  133.994636   91.002682]"
       ]
      },
      {
       "output_type": "stream",
       "stream": "stdout",
       "text": [
        "\n",
        "[ 179.98623211  133.99565224   91.00217388]"
       ]
      },
      {
       "output_type": "stream",
       "stream": "stdout",
       "text": [
        "\n",
        "[ 179.98911437  133.99656243   91.00171878]"
       ]
      },
      {
       "output_type": "stream",
       "stream": "stdout",
       "text": [
        "\n",
        "[ 179.9916601   133.99736635   91.00131683]"
       ]
      },
      {
       "output_type": "stream",
       "stream": "stdout",
       "text": [
        "\n",
        "[ 179.99386862  133.99806378   91.00096811]"
       ]
      },
      {
       "output_type": "stream",
       "stream": "stdout",
       "text": [
        "\n",
        "[ 179.99573925  133.9986545    91.00067275]"
       ]
      },
      {
       "output_type": "stream",
       "stream": "stdout",
       "text": [
        "\n",
        "[ 179.9972713   133.9991383    91.00043085]"
       ]
      },
      {
       "output_type": "stream",
       "stream": "stdout",
       "text": [
        "\n",
        "[ 179.99846408  133.99951497   91.00024251]"
       ]
      },
      {
       "output_type": "stream",
       "stream": "stdout",
       "text": [
        "\n",
        "[ 179.99931691  133.99978429   91.00010786]"
       ]
      },
      {
       "output_type": "stream",
       "stream": "stdout",
       "text": [
        "\n",
        "[ 179.99982911  133.99994604   91.00002698]"
       ]
      },
      {
       "output_type": "stream",
       "stream": "stdout",
       "text": [
        "\n",
        "[ 180.00012891  134.00019787   90.99994903]"
       ]
      },
      {
       "output_type": "stream",
       "stream": "stdout",
       "text": [
        "\n",
        "[ 180.00051531  134.00079094   90.99979627]"
       ]
      },
      {
       "output_type": "stream",
       "stream": "stdout",
       "text": [
        "\n",
        "[ 180.00115868  134.00177844   90.99954192]"
       ]
      },
      {
       "output_type": "stream",
       "stream": "stdout",
       "text": [
        "\n",
        "[ 180.0020585   134.00315955   90.99918618]"
       ]
      },
      {
       "output_type": "stream",
       "stream": "stdout",
       "text": [
        "\n",
        "[ 180.00321425  134.0049335    90.99872925]"
       ]
      },
      {
       "output_type": "stream",
       "stream": "stdout",
       "text": [
        "\n",
        "[ 180.00462542  134.00709949   90.99817134]"
       ]
      },
      {
       "output_type": "stream",
       "stream": "stdout",
       "text": [
        "\n",
        "[ 180.0062915   134.00965672   90.99751266]"
       ]
      },
      {
       "output_type": "stream",
       "stream": "stdout",
       "text": [
        "\n",
        "[ 180.00821197  134.01260442   90.99675341]"
       ]
      },
      {
       "output_type": "stream",
       "stream": "stdout",
       "text": [
        "\n",
        "[ 180.01038631  134.01594177   90.99589379]"
       ]
      },
      {
       "output_type": "stream",
       "stream": "stdout",
       "text": [
        "\n",
        "[ 180.012814  134.019668   90.994934]"
       ]
      },
      {
       "output_type": "stream",
       "stream": "stdout",
       "text": [
        "\n",
        "[ 180.01549453  134.02378231   90.99387425]"
       ]
      },
      {
       "output_type": "stream",
       "stream": "stdout",
       "text": [
        "\n",
        "[ 180.01842739  134.0282839    90.99271475]"
       ]
      },
      {
       "output_type": "stream",
       "stream": "stdout",
       "text": [
        "\n",
        "[ 180.02161206  134.033172     90.9914557 ]"
       ]
      },
      {
       "output_type": "stream",
       "stream": "stdout",
       "text": [
        "\n",
        "[ 180.02504802  134.03844579   90.9900973 ]"
       ]
      },
      {
       "output_type": "stream",
       "stream": "stdout",
       "text": [
        "\n",
        "[ 180.02873475  134.0441045    90.98863975]"
       ]
      },
      {
       "output_type": "stream",
       "stream": "stdout",
       "text": [
        "\n",
        "[ 180.03267174  134.05014733   90.98708326]"
       ]
      },
      {
       "output_type": "stream",
       "stream": "stdout",
       "text": [
        "\n",
        "[ 180.03685848  134.05657348   90.98542804]"
       ]
      },
      {
       "output_type": "stream",
       "stream": "stdout",
       "text": [
        "\n",
        "[ 180.04129445  134.06338218   90.98367429]"
       ]
      },
      {
       "output_type": "stream",
       "stream": "stdout",
       "text": [
        "\n",
        "[ 180.04597913  134.07057261   90.98182221]"
       ]
      },
      {
       "output_type": "stream",
       "stream": "stdout",
       "text": [
        "\n",
        "[ 180.050912  134.078144   90.979872]"
       ]
      },
      {
       "output_type": "stream",
       "stream": "stdout",
       "text": [
        "\n",
        "[ 180.05609255  134.08609555   90.97782387]"
       ]
      },
      {
       "output_type": "stream",
       "stream": "stdout",
       "text": [
        "\n",
        "[ 180.06152027  134.09442646   90.97567803]"
       ]
      },
      {
       "output_type": "stream",
       "stream": "stdout",
       "text": [
        "\n",
        "[ 180.06719464  134.10313596   90.97343468]"
       ]
      },
      {
       "output_type": "stream",
       "stream": "stdout",
       "text": [
        "\n",
        "[ 180.07311514  134.11222323   90.97109402]"
       ]
      },
      {
       "output_type": "stream",
       "stream": "stdout",
       "text": [
        "\n",
        "[ 180.07928125  134.1216875    90.96865625]"
       ]
      },
      {
       "output_type": "stream",
       "stream": "stdout",
       "text": [
        "\n",
        "[ 180.08569246  134.13152797   90.96612158]"
       ]
      },
      {
       "output_type": "stream",
       "stream": "stdout",
       "text": [
        "\n",
        "[ 180.09234826  134.14174384   90.96349022]"
       ]
      },
      {
       "output_type": "stream",
       "stream": "stdout",
       "text": [
        "\n",
        "[ 180.09924813  134.15233434   90.96076237]"
       ]
      },
      {
       "output_type": "stream",
       "stream": "stdout",
       "text": [
        "\n",
        "[ 180.10639155  134.16329865   90.95793823]"
       ]
      },
      {
       "output_type": "stream",
       "stream": "stdout",
       "text": [
        "\n",
        "[ 180.113778  134.174636   90.955018]"
       ]
      },
      {
       "output_type": "stream",
       "stream": "stdout",
       "text": [
        "\n",
        "[ 180.12140697  134.18634559   90.95200189]"
       ]
      },
      {
       "output_type": "stream",
       "stream": "stdout",
       "text": [
        "\n",
        "[ 180.12927795  134.19842662   90.94889011]"
       ]
      },
      {
       "output_type": "stream",
       "stream": "stdout",
       "text": [
        "\n",
        "[ 180.13739042  134.21087832   90.94568286]"
       ]
      },
      {
       "output_type": "stream",
       "stream": "stdout",
       "text": [
        "\n",
        "[ 180.14574386  134.22369987   90.94238034]"
       ]
      },
      {
       "output_type": "stream",
       "stream": "stdout",
       "text": [
        "\n",
        "[ 180.15433775  134.2368905    90.93898275]"
       ]
      },
      {
       "output_type": "stream",
       "stream": "stdout",
       "text": [
        "\n",
        "[ 180.16317158  134.25044941   90.9354903 ]"
       ]
      },
      {
       "output_type": "stream",
       "stream": "stdout",
       "text": [
        "\n",
        "[ 180.17224484  134.2643758    90.9319032 ]"
       ]
      },
      {
       "output_type": "stream",
       "stream": "stdout",
       "text": [
        "\n",
        "[ 180.18155701  134.2786689    90.92822165]"
       ]
      },
      {
       "output_type": "stream",
       "stream": "stdout",
       "text": [
        "\n",
        "[ 180.19110757  134.29332789   90.92444585]"
       ]
      },
      {
       "output_type": "stream",
       "stream": "stdout",
       "text": [
        "\n",
        "[ 180.200896  134.308352   90.920576]"
       ]
      },
      {
       "output_type": "stream",
       "stream": "stdout",
       "text": [
        "\n",
        "[ 180.21092179  134.32374043   90.91661231]"
       ]
      },
      {
       "output_type": "stream",
       "stream": "stdout",
       "text": [
        "\n",
        "[ 180.22118443  134.33949238   90.91255499]"
       ]
      },
      {
       "output_type": "stream",
       "stream": "stdout",
       "text": [
        "\n",
        "[ 180.2316834   134.35560708   90.90840424]"
       ]
      },
      {
       "output_type": "stream",
       "stream": "stdout",
       "text": [
        "\n",
        "[ 180.24241818  134.37208371   90.90416026]"
       ]
      },
      {
       "output_type": "stream",
       "stream": "stdout",
       "text": [
        "\n",
        "[ 180.25338825  134.3889215    90.89982325]"
       ]
      },
      {
       "output_type": "stream",
       "stream": "stdout",
       "text": [
        "\n",
        "[ 180.2645931   134.40611965   90.89539342]"
       ]
      },
      {
       "output_type": "stream",
       "stream": "stdout",
       "text": [
        "\n",
        "[ 180.27603222  134.42367736   90.89087098]"
       ]
      },
      {
       "output_type": "stream",
       "stream": "stdout",
       "text": [
        "\n",
        "[ 180.28770509  134.44159386   90.88625613]"
       ]
      },
      {
       "output_type": "stream",
       "stream": "stdout",
       "text": [
        "\n",
        "[ 180.29961119  134.45986833   90.88154907]"
       ]
      },
      {
       "output_type": "stream",
       "stream": "stdout",
       "text": [
        "\n",
        "[ 180.31175  134.4785    90.87675]"
       ]
      },
      {
       "output_type": "stream",
       "stream": "stdout",
       "text": [
        "\n",
        "[ 180.32412101  134.49748807   90.87185913]"
       ]
      },
      {
       "output_type": "stream",
       "stream": "stdout",
       "text": [
        "\n",
        "[ 180.33672371  134.51683174   90.86687667]"
       ]
      },
      {
       "output_type": "stream",
       "stream": "stdout",
       "text": [
        "\n",
        "[ 180.34955758  134.53653024   90.86180282]"
       ]
      },
      {
       "output_type": "stream",
       "stream": "stdout",
       "text": [
        "\n",
        "[ 180.3626221   134.55658275   90.85663778]"
       ]
      },
      {
       "output_type": "stream",
       "stream": "stdout",
       "text": [
        "\n",
        "[ 180.37591675  134.5769885    90.85138175]"
       ]
      },
      {
       "output_type": "stream",
       "stream": "stdout",
       "text": [
        "\n",
        "[ 180.38944102  134.59774669   90.84603494]"
       ]
      },
      {
       "output_type": "stream",
       "stream": "stdout",
       "text": [
        "\n",
        "[ 180.4031944   134.61885652   90.84059756]"
       ]
      },
      {
       "output_type": "stream",
       "stream": "stdout",
       "text": [
        "\n",
        "[ 180.41717637  134.64031722   90.83506981]"
       ]
      },
      {
       "output_type": "stream",
       "stream": "stdout",
       "text": [
        "\n",
        "[ 180.43138641  134.66212797   90.82945189]"
       ]
      },
      {
       "output_type": "stream",
       "stream": "stdout",
       "text": [
        "\n",
        "[ 180.445824  134.684288   90.823744]"
       ]
      },
      {
       "output_type": "stream",
       "stream": "stdout",
       "text": [
        "\n",
        "[ 180.46048863  134.70679651   90.81794635]"
       ]
      },
      {
       "output_type": "stream",
       "stream": "stdout",
       "text": [
        "\n",
        "[ 180.47537979  134.7296527    90.81205915]"
       ]
      },
      {
       "output_type": "stream",
       "stream": "stdout",
       "text": [
        "\n",
        "[ 180.49049696  134.7528558    90.8060826 ]"
       ]
      },
      {
       "output_type": "stream",
       "stream": "stdout",
       "text": [
        "\n",
        "[ 180.50583962  134.77640499   90.8000169 ]"
       ]
      },
      {
       "output_type": "stream",
       "stream": "stdout",
       "text": [
        "\n",
        "[ 180.52140725  134.8002995    90.79386225]"
       ]
      },
      {
       "output_type": "stream",
       "stream": "stdout",
       "text": [
        "\n",
        "[ 180.53719934  134.82453853   90.78761886]"
       ]
      },
      {
       "output_type": "stream",
       "stream": "stdout",
       "text": [
        "\n",
        "[ 180.55321538  134.84912128   90.78128694]"
       ]
      },
      {
       "output_type": "stream",
       "stream": "stdout",
       "text": [
        "\n",
        "[ 180.56945485  134.87404698   90.77486669]"
       ]
      },
      {
       "output_type": "stream",
       "stream": "stdout",
       "text": [
        "\n",
        "[ 180.58591723  134.89931481   90.76835831]"
       ]
      },
      {
       "output_type": "stream",
       "stream": "stdout",
       "text": [
        "\n",
        "[ 180.602602  134.924924   90.761762]"
       ]
      },
      {
       "output_type": "stream",
       "stream": "stdout",
       "text": [
        "\n",
        "[ 180.61950865  134.95087375   90.75507797]"
       ]
      },
      {
       "output_type": "stream",
       "stream": "stdout",
       "text": [
        "\n",
        "[ 180.63663667  134.97716326   90.74830643]"
       ]
      },
      {
       "output_type": "stream",
       "stream": "stdout",
       "text": [
        "\n",
        "[ 180.65398554  135.00379176   90.74144758]"
       ]
      },
      {
       "output_type": "stream",
       "stream": "stdout",
       "text": [
        "\n",
        "[ 180.67155474  135.03075843   90.73450162]"
       ]
      },
      {
       "output_type": "stream",
       "stream": "stdout",
       "text": [
        "\n",
        "[ 180.68934375  135.0580625    90.72746875]"
       ]
      },
      {
       "output_type": "stream",
       "stream": "stdout",
       "text": [
        "\n",
        "[ 180.70735206  135.08570317   90.72034918]"
       ]
      },
      {
       "output_type": "stream",
       "stream": "stdout",
       "text": [
        "\n",
        "[ 180.72557916  135.11367964   90.71314312]"
       ]
      },
      {
       "output_type": "stream",
       "stream": "stdout",
       "text": [
        "\n",
        "[ 180.74402453  135.14199114   90.70585077]"
       ]
      },
      {
       "output_type": "stream",
       "stream": "stdout",
       "text": [
        "\n",
        "[ 180.76268765  135.17063685   90.69847233]"
       ]
      },
      {
       "output_type": "stream",
       "stream": "stdout",
       "text": [
        "\n",
        "[ 180.781568  135.199616   90.691008]"
       ]
      },
      {
       "output_type": "stream",
       "stream": "stdout",
       "text": [
        "\n",
        "[ 180.80066507  135.22892779   90.68345799]"
       ]
      },
      {
       "output_type": "stream",
       "stream": "stdout",
       "text": [
        "\n",
        "[ 180.81997835  135.25857142   90.67582251]"
       ]
      },
      {
       "output_type": "stream",
       "stream": "stdout",
       "text": [
        "\n",
        "[ 180.83950732  135.28854612   90.66810176]"
       ]
      },
      {
       "output_type": "stream",
       "stream": "stdout",
       "text": [
        "\n",
        "[ 180.85925146  135.31885107   90.66029594]"
       ]
      },
      {
       "output_type": "stream",
       "stream": "stdout",
       "text": [
        "\n",
        "[ 180.87921025  135.3494855    90.65240525]"
       ]
      },
      {
       "output_type": "stream",
       "stream": "stdout",
       "text": [
        "\n",
        "[ 180.89938318  135.38044861   90.6444299 ]"
       ]
      },
      {
       "output_type": "stream",
       "stream": "stdout",
       "text": [
        "\n",
        "[ 180.91976974  135.4117396    90.6363701 ]"
       ]
      },
      {
       "output_type": "stream",
       "stream": "stdout",
       "text": [
        "\n",
        "[ 180.94036941  135.4433577    90.62822605]"
       ]
      },
      {
       "output_type": "stream",
       "stream": "stdout",
       "text": [
        "\n",
        "[ 180.96118167  135.47530209   90.61999795]"
       ]
      },
      {
       "output_type": "stream",
       "stream": "stdout",
       "text": [
        "\n",
        "[ 180.982206  135.507572   90.611686]"
       ]
      },
      {
       "output_type": "stream",
       "stream": "stdout",
       "text": [
        "\n",
        "[ 181.00344189  135.54016663   90.60329041]"
       ]
      },
      {
       "output_type": "stream",
       "stream": "stdout",
       "text": [
        "\n",
        "[ 181.02488883  135.57308518   90.59481139]"
       ]
      },
      {
       "output_type": "stream",
       "stream": "stdout",
       "text": [
        "\n",
        "[ 181.0465463   135.60632688   90.58624914]"
       ]
      },
      {
       "output_type": "stream",
       "stream": "stdout",
       "text": [
        "\n",
        "[ 181.06841378  135.63989091   90.57760386]"
       ]
      },
      {
       "output_type": "stream",
       "stream": "stdout",
       "text": [
        "\n",
        "[ 181.09049075  135.6737765    90.56887575]"
       ]
      },
      {
       "output_type": "stream",
       "stream": "stdout",
       "text": [
        "\n",
        "[ 181.1127767   135.70798285   90.56006502]"
       ]
      },
      {
       "output_type": "stream",
       "stream": "stdout",
       "text": [
        "\n",
        "[ 181.13527112  135.74250916   90.55117188]"
       ]
      },
      {
       "output_type": "stream",
       "stream": "stdout",
       "text": [
        "\n",
        "[ 181.15797349  135.77735466   90.54219653]"
       ]
      },
      {
       "output_type": "stream",
       "stream": "stdout",
       "text": [
        "\n",
        "[ 181.18088329  135.81251853   90.53313917]"
       ]
      },
      {
       "output_type": "stream",
       "stream": "stdout",
       "text": [
        "\n",
        "[ 181.204  135.848   90.524]"
       ]
      },
      {
       "output_type": "stream",
       "stream": "stdout",
       "text": [
        "\n",
        "[ 181.22732311  135.88379827   90.51477923]"
       ]
      },
      {
       "output_type": "stream",
       "stream": "stdout",
       "text": [
        "\n",
        "[ 181.25085211  135.91991254   90.50547707]"
       ]
      },
      {
       "output_type": "stream",
       "stream": "stdout",
       "text": [
        "\n",
        "[ 181.27458648  135.95634204   90.49609372]"
       ]
      },
      {
       "output_type": "stream",
       "stream": "stdout",
       "text": [
        "\n",
        "[ 181.2985257   135.99308595   90.48662938]"
       ]
      },
      {
       "output_type": "stream",
       "stream": "stdout",
       "text": [
        "\n",
        "[ 181.32266925  136.0301435    90.47708425]"
       ]
      },
      {
       "output_type": "stream",
       "stream": "stdout",
       "text": [
        "\n",
        "[ 181.34701662  136.06751389   90.46745854]"
       ]
      },
      {
       "output_type": "stream",
       "stream": "stdout",
       "text": [
        "\n",
        "[ 181.3715673   136.10519632   90.45775246]"
       ]
      },
      {
       "output_type": "stream",
       "stream": "stdout",
       "text": [
        "\n",
        "[ 181.39632077  136.14319002   90.44796621]"
       ]
      },
      {
       "output_type": "stream",
       "stream": "stdout",
       "text": [
        "\n",
        "[ 181.42127651  136.18149417   90.43809999]"
       ]
      },
      {
       "output_type": "stream",
       "stream": "stdout",
       "text": [
        "\n",
        "[ 181.446434  136.220108   90.428154]"
       ]
      },
      {
       "output_type": "stream",
       "stream": "stdout",
       "text": [
        "\n",
        "[ 181.47179273  136.25903071   90.41812845]"
       ]
      },
      {
       "output_type": "stream",
       "stream": "stdout",
       "text": [
        "\n",
        "[ 181.49735219  136.2982615    90.40802355]"
       ]
      },
      {
       "output_type": "stream",
       "stream": "stdout",
       "text": [
        "\n",
        "[ 181.52311186  136.3377996    90.3978395 ]"
       ]
      },
      {
       "output_type": "stream",
       "stream": "stdout",
       "text": [
        "\n",
        "[ 181.54907122  136.37764419   90.3875765 ]"
       ]
      },
      {
       "output_type": "stream",
       "stream": "stdout",
       "text": [
        "\n",
        "[ 181.57522975  136.4177945    90.37723475]"
       ]
      },
      {
       "output_type": "stream",
       "stream": "stdout",
       "text": [
        "\n",
        "[ 181.60158694  136.45824973   90.36681446]"
       ]
      },
      {
       "output_type": "stream",
       "stream": "stdout",
       "text": [
        "\n",
        "[ 181.62814228  136.49900908   90.35631584]"
       ]
      },
      {
       "output_type": "stream",
       "stream": "stdout",
       "text": [
        "\n",
        "[ 181.65489525  136.54007178   90.34573909]"
       ]
      },
      {
       "output_type": "stream",
       "stream": "stdout",
       "text": [
        "\n",
        "[ 181.68184533  136.58143701   90.33508441]"
       ]
      },
      {
       "output_type": "stream",
       "stream": "stdout",
       "text": [
        "\n",
        "[ 181.708992  136.623104   90.324352]"
       ]
      },
      {
       "output_type": "stream",
       "stream": "stdout",
       "text": [
        "\n",
        "[ 181.73633475  136.66507195   90.31354207]"
       ]
      },
      {
       "output_type": "stream",
       "stream": "stdout",
       "text": [
        "\n",
        "[ 181.76387307  136.70734006   90.30265483]"
       ]
      },
      {
       "output_type": "stream",
       "stream": "stdout",
       "text": [
        "\n",
        "[ 181.79160644  136.74990756   90.29169048]"
       ]
      },
      {
       "output_type": "stream",
       "stream": "stdout",
       "text": [
        "\n",
        "[ 181.81953434  136.79277363   90.28064922]"
       ]
      },
      {
       "output_type": "stream",
       "stream": "stdout",
       "text": [
        "\n",
        "[ 181.84765625  136.8359375    90.26953125]"
       ]
      },
      {
       "output_type": "stream",
       "stream": "stdout",
       "text": [
        "\n",
        "[ 181.87597166  136.87939837   90.25833678]"
       ]
      },
      {
       "output_type": "stream",
       "stream": "stdout",
       "text": [
        "\n",
        "[ 181.90448006  136.92315544   90.24706602]"
       ]
      },
      {
       "output_type": "stream",
       "stream": "stdout",
       "text": [
        "\n",
        "[ 181.93318093  136.96720794   90.23571917]"
       ]
      },
      {
       "output_type": "stream",
       "stream": "stdout",
       "text": [
        "\n",
        "[ 181.96207375  137.01155505   90.22429643]"
       ]
      },
      {
       "output_type": "stream",
       "stream": "stdout",
       "text": [
        "\n",
        "[ 181.991158  137.056196   90.212798]"
       ]
      },
      {
       "output_type": "stream",
       "stream": "stdout",
       "text": [
        "\n",
        "[ 182.02043317  137.10112999   90.20122409]"
       ]
      },
      {
       "output_type": "stream",
       "stream": "stdout",
       "text": [
        "\n",
        "[ 182.04989875  137.14635622   90.18957491]"
       ]
      },
      {
       "output_type": "stream",
       "stream": "stdout",
       "text": [
        "\n",
        "[ 182.07955422  137.19187392   90.17785066]"
       ]
      },
      {
       "output_type": "stream",
       "stream": "stdout",
       "text": [
        "\n",
        "[ 182.10939906  137.23768227   90.16605154]"
       ]
      },
      {
       "output_type": "stream",
       "stream": "stdout",
       "text": [
        "\n",
        "[ 182.13943275  137.2837805    90.15417775]"
       ]
      },
      {
       "output_type": "stream",
       "stream": "stdout",
       "text": [
        "\n",
        "[ 182.16965478  137.33016781   90.1422295 ]"
       ]
      },
      {
       "output_type": "stream",
       "stream": "stdout",
       "text": [
        "\n",
        "[ 182.20006464  137.3768434    90.130207  ]"
       ]
      },
      {
       "output_type": "stream",
       "stream": "stdout",
       "text": [
        "\n",
        "[ 182.23066181  137.4238065    90.11811045]"
       ]
      },
      {
       "output_type": "stream",
       "stream": "stdout",
       "text": [
        "\n",
        "[ 182.26144577  137.47105629   90.10594005]"
       ]
      },
      {
       "output_type": "stream",
       "stream": "stdout",
       "text": [
        "\n",
        "[ 182.292416  137.518592   90.093696]"
       ]
      },
      {
       "output_type": "stream",
       "stream": "stdout",
       "text": [
        "\n",
        "[ 182.32357199  137.56641283   90.08137851]"
       ]
      },
      {
       "output_type": "stream",
       "stream": "stdout",
       "text": [
        "\n",
        "[ 182.35491323  137.61451798   90.06898779]"
       ]
      },
      {
       "output_type": "stream",
       "stream": "stdout",
       "text": [
        "\n",
        "[ 182.3864392   137.66290668   90.05652404]"
       ]
      },
      {
       "output_type": "stream",
       "stream": "stdout",
       "text": [
        "\n",
        "[ 182.41814938  137.71157811   90.04398746]"
       ]
      },
      {
       "output_type": "stream",
       "stream": "stdout",
       "text": [
        "\n",
        "[ 182.45004325  137.7605315    90.03137825]"
       ]
      },
      {
       "output_type": "stream",
       "stream": "stdout",
       "text": [
        "\n",
        "[ 182.4821203   137.80976605   90.01869662]"
       ]
      },
      {
       "output_type": "stream",
       "stream": "stdout",
       "text": [
        "\n",
        "[ 182.51438002  137.85928096   90.00594278]"
       ]
      },
      {
       "output_type": "stream",
       "stream": "stdout",
       "text": [
        "\n",
        "[ 182.54682189  137.90907546   89.99311693]"
       ]
      },
      {
       "output_type": "stream",
       "stream": "stdout",
       "text": [
        "\n",
        "[ 182.57944539  137.95914873   89.98021927]"
       ]
      },
      {
       "output_type": "stream",
       "stream": "stdout",
       "text": [
        "\n",
        "[ 182.61225  138.0095    89.96725]"
       ]
      },
      {
       "output_type": "stream",
       "stream": "stdout",
       "text": [
        "\n",
        "[ 182.64523521  138.06012847   89.95420933]"
       ]
      },
      {
       "output_type": "stream",
       "stream": "stdout",
       "text": [
        "\n",
        "[ 182.67840051  138.11103334   89.94109747]"
       ]
      },
      {
       "output_type": "stream",
       "stream": "stdout",
       "text": [
        "\n",
        "[ 182.71174538  138.16221384   89.92791462]"
       ]
      },
      {
       "output_type": "stream",
       "stream": "stdout",
       "text": [
        "\n",
        "[ 182.7452693   138.21366915   89.91466098]"
       ]
      },
      {
       "output_type": "stream",
       "stream": "stdout",
       "text": [
        "\n",
        "[ 182.77897175  138.2653985    89.90133675]"
       ]
      },
      {
       "output_type": "stream",
       "stream": "stdout",
       "text": [
        "\n",
        "[ 182.81285222  138.31740109   89.88794214]"
       ]
      },
      {
       "output_type": "stream",
       "stream": "stdout",
       "text": [
        "\n",
        "[ 182.8469102   138.36967612   89.87447736]"
       ]
      },
      {
       "output_type": "stream",
       "stream": "stdout",
       "text": [
        "\n",
        "[ 182.88114517  138.42222282   89.86094261]"
       ]
      },
      {
       "output_type": "stream",
       "stream": "stdout",
       "text": [
        "\n",
        "[ 182.91555661  138.47504037   89.84733809]"
       ]
      },
      {
       "output_type": "stream",
       "stream": "stdout",
       "text": [
        "\n",
        "[ 182.950144  138.528128   89.833664]"
       ]
      },
      {
       "output_type": "stream",
       "stream": "stdout",
       "text": [
        "\n",
        "[ 182.98490683  138.58148491   89.81992055]"
       ]
      },
      {
       "output_type": "stream",
       "stream": "stdout",
       "text": [
        "\n",
        "[ 183.01984459  138.6351103    89.80610795]"
       ]
      },
      {
       "output_type": "stream",
       "stream": "stdout",
       "text": [
        "\n",
        "[ 183.05495676  138.6890034    89.7922264 ]"
       ]
      },
      {
       "output_type": "stream",
       "stream": "stdout",
       "text": [
        "\n",
        "[ 183.09024282  138.74316339   89.7782761 ]"
       ]
      },
      {
       "output_type": "stream",
       "stream": "stdout",
       "text": [
        "\n",
        "[ 183.12570225  138.7975895    89.76425725]"
       ]
      },
      {
       "output_type": "stream",
       "stream": "stdout",
       "text": [
        "\n",
        "[ 183.16133454  138.85228093   89.75017006]"
       ]
      },
      {
       "output_type": "stream",
       "stream": "stdout",
       "text": [
        "\n",
        "[ 183.19713918  138.90723688   89.73601474]"
       ]
      },
      {
       "output_type": "stream",
       "stream": "stdout",
       "text": [
        "\n",
        "[ 183.23311565  138.96245658   89.72179149]"
       ]
      },
      {
       "output_type": "stream",
       "stream": "stdout",
       "text": [
        "\n",
        "[ 183.26926343  139.01793921   89.70750051]"
       ]
      },
      {
       "output_type": "stream",
       "stream": "stdout",
       "text": [
        "\n",
        "[ 183.305582  139.073684   89.693142]"
       ]
      },
      {
       "output_type": "stream",
       "stream": "stdout",
       "text": [
        "\n",
        "[ 183.34207085  139.12969015   89.67871617]"
       ]
      },
      {
       "output_type": "stream",
       "stream": "stdout",
       "text": [
        "\n",
        "[ 183.37872947  139.18595686   89.66422323]"
       ]
      },
      {
       "output_type": "stream",
       "stream": "stdout",
       "text": [
        "\n",
        "[ 183.41555734  139.24248336   89.64966338]"
       ]
      },
      {
       "output_type": "stream",
       "stream": "stdout",
       "text": [
        "\n",
        "[ 183.45255394  139.29926883   89.63503682]"
       ]
      },
      {
       "output_type": "stream",
       "stream": "stdout",
       "text": [
        "\n",
        "[ 183.48971875  139.3563125    89.62034375]"
       ]
      },
      {
       "output_type": "stream",
       "stream": "stdout",
       "text": [
        "\n",
        "[ 183.52705126  139.41361357   89.60558438]"
       ]
      },
      {
       "output_type": "stream",
       "stream": "stdout",
       "text": [
        "\n",
        "[ 183.56455096  139.47117124   89.59075892]"
       ]
      },
      {
       "output_type": "stream",
       "stream": "stdout",
       "text": [
        "\n",
        "[ 183.60221733  139.52898474   89.57586757]"
       ]
      },
      {
       "output_type": "stream",
       "stream": "stdout",
       "text": [
        "\n",
        "[ 183.64004985  139.58705325   89.56091053]"
       ]
      },
      {
       "output_type": "stream",
       "stream": "stdout",
       "text": [
        "\n",
        "[ 183.678048  139.645376   89.545888]"
       ]
      },
      {
       "output_type": "stream",
       "stream": "stdout",
       "text": [
        "\n",
        "[ 183.71621127  139.70395219   89.53080019]"
       ]
      },
      {
       "output_type": "stream",
       "stream": "stdout",
       "text": [
        "\n",
        "[ 183.75453915  139.76278102   89.51564731]"
       ]
      },
      {
       "output_type": "stream",
       "stream": "stdout",
       "text": [
        "\n",
        "[ 183.79303112  139.82186172   89.50042956]"
       ]
      },
      {
       "output_type": "stream",
       "stream": "stdout",
       "text": [
        "\n",
        "[ 183.83168666  139.88119347   89.48514714]"
       ]
      },
      {
       "output_type": "stream",
       "stream": "stdout",
       "text": [
        "\n",
        "[ 183.87050525  139.9407755    89.46980025]"
       ]
      },
      {
       "output_type": "stream",
       "stream": "stdout",
       "text": [
        "\n",
        "[ 183.90948638  140.00060701   89.4543891 ]"
       ]
      },
      {
       "output_type": "stream",
       "stream": "stdout",
       "text": [
        "\n",
        "[ 183.94862954  140.0606872    89.4389139 ]"
       ]
      },
      {
       "output_type": "stream",
       "stream": "stdout",
       "text": [
        "\n",
        "[ 183.98793421  140.1210153    89.42337485]"
       ]
      },
      {
       "output_type": "stream",
       "stream": "stdout",
       "text": [
        "\n",
        "[ 184.02739987  140.18159049   89.40777215]"
       ]
      },
      {
       "output_type": "stream",
       "stream": "stdout",
       "text": [
        "\n",
        "[ 184.067026  140.242412   89.392106]"
       ]
      },
      {
       "output_type": "stream",
       "stream": "stdout",
       "text": [
        "\n",
        "[ 184.10681209  140.30347903   89.37637661]"
       ]
      },
      {
       "output_type": "stream",
       "stream": "stdout",
       "text": [
        "\n",
        "[ 184.14675763  140.36479078   89.36058419]"
       ]
      },
      {
       "output_type": "stream",
       "stream": "stdout",
       "text": [
        "\n",
        "[ 184.1868621   140.42634648   89.34472894]"
       ]
      },
      {
       "output_type": "stream",
       "stream": "stdout",
       "text": [
        "\n",
        "[ 184.22712498  140.48814531   89.32881106]"
       ]
      },
      {
       "output_type": "stream",
       "stream": "stdout",
       "text": [
        "\n",
        "[ 184.26754575  140.5501865    89.31283075]"
       ]
      },
      {
       "output_type": "stream",
       "stream": "stdout",
       "text": [
        "\n",
        "[ 184.3081239   140.61246925   89.29678822]"
       ]
      },
      {
       "output_type": "stream",
       "stream": "stdout",
       "text": [
        "\n",
        "[ 184.34885892  140.67499276   89.28068368]"
       ]
      },
      {
       "output_type": "stream",
       "stream": "stdout",
       "text": [
        "\n",
        "[ 184.38975029  140.73775626   89.26451733]"
       ]
      },
      {
       "output_type": "stream",
       "stream": "stdout",
       "text": [
        "\n",
        "[ 184.43079749  140.80075893   89.24828937]"
       ]
      },
      {
       "output_type": "stream",
       "stream": "stdout",
       "text": [
        "\n",
        "[ 184.472  140.864   89.232]"
       ]
      },
      {
       "output_type": "stream",
       "stream": "stdout",
       "text": [
        "\n",
        "[ 184.51335731  140.92747867   89.21564943]"
       ]
      },
      {
       "output_type": "stream",
       "stream": "stdout",
       "text": [
        "\n",
        "[ 184.55486891  140.99119414   89.19923787]"
       ]
      },
      {
       "output_type": "stream",
       "stream": "stdout",
       "text": [
        "\n",
        "[ 184.59653428  141.05514564   89.18276552]"
       ]
      },
      {
       "output_type": "stream",
       "stream": "stdout",
       "text": [
        "\n",
        "[ 184.6383529   141.11933235   89.16623258]"
       ]
      },
      {
       "output_type": "stream",
       "stream": "stdout",
       "text": [
        "\n",
        "[ 184.68032425  141.1837535    89.14963925]"
       ]
      },
      {
       "output_type": "stream",
       "stream": "stdout",
       "text": [
        "\n",
        "[ 184.72244782  141.24840829   89.13298574]"
       ]
      },
      {
       "output_type": "stream",
       "stream": "stdout",
       "text": [
        "\n",
        "[ 184.7647231   141.31329592   89.11627226]"
       ]
      },
      {
       "output_type": "stream",
       "stream": "stdout",
       "text": [
        "\n",
        "[ 184.80714957  141.37841562   89.09949901]"
       ]
      },
      {
       "output_type": "stream",
       "stream": "stdout",
       "text": [
        "\n",
        "[ 184.84972671  141.44376657   89.08266619]"
       ]
      },
      {
       "output_type": "stream",
       "stream": "stdout",
       "text": [
        "\n",
        "[ 184.892454  141.509348   89.065774]"
       ]
      },
      {
       "output_type": "stream",
       "stream": "stdout",
       "text": [
        "\n",
        "[ 184.93533093  141.57515911   89.04882265]"
       ]
      },
      {
       "output_type": "stream",
       "stream": "stdout",
       "text": [
        "\n",
        "[ 184.97835699  141.6411991    89.03181235]"
       ]
      },
      {
       "output_type": "stream",
       "stream": "stdout",
       "text": [
        "\n",
        "[ 185.02153166  141.7074672    89.0147433 ]"
       ]
      },
      {
       "output_type": "stream",
       "stream": "stdout",
       "text": [
        "\n",
        "[ 185.06485442  141.77396259   88.9976157 ]"
       ]
      },
      {
       "output_type": "stream",
       "stream": "stdout",
       "text": [
        "\n",
        "[ 185.10832475  141.8406845    88.98042975]"
       ]
      },
      {
       "output_type": "stream",
       "stream": "stdout",
       "text": [
        "\n",
        "[ 185.15194214  141.90763213   88.96318566]"
       ]
      },
      {
       "output_type": "stream",
       "stream": "stdout",
       "text": [
        "\n",
        "[ 185.19570608  141.97480468   88.94588364]"
       ]
      },
      {
       "output_type": "stream",
       "stream": "stdout",
       "text": [
        "\n",
        "[ 185.23961605  142.04220138   88.92852389]"
       ]
      },
      {
       "output_type": "stream",
       "stream": "stdout",
       "text": [
        "\n",
        "[ 185.28367153  142.10982141   88.91110661]"
       ]
      },
      {
       "output_type": "stream",
       "stream": "stdout",
       "text": [
        "\n",
        "[ 185.327872  142.177664   88.893632]"
       ]
      },
      {
       "output_type": "stream",
       "stream": "stdout",
       "text": [
        "\n",
        "[ 185.37221695  142.24572835   88.87610027]"
       ]
      },
      {
       "output_type": "stream",
       "stream": "stdout",
       "text": [
        "\n",
        "[ 185.41670587  142.31401366   88.85851163]"
       ]
      },
      {
       "output_type": "stream",
       "stream": "stdout",
       "text": [
        "\n",
        "[ 185.46133824  142.38251916   88.84086628]"
       ]
      },
      {
       "output_type": "stream",
       "stream": "stdout",
       "text": [
        "\n",
        "[ 185.50611354  142.45124403   88.82316442]"
       ]
      },
      {
       "output_type": "stream",
       "stream": "stdout",
       "text": [
        "\n",
        "[ 185.55103125  142.5201875    88.80540625]"
       ]
      },
      {
       "output_type": "stream",
       "stream": "stdout",
       "text": [
        "\n",
        "[ 185.59609086  142.58934877   88.78759198]"
       ]
      },
      {
       "output_type": "stream",
       "stream": "stdout",
       "text": [
        "\n",
        "[ 185.64129186  142.65872704   88.76972182]"
       ]
      },
      {
       "output_type": "stream",
       "stream": "stdout",
       "text": [
        "\n",
        "[ 185.68663373  142.72832154   88.75179597]"
       ]
      },
      {
       "output_type": "stream",
       "stream": "stdout",
       "text": [
        "\n",
        "[ 185.73211595  142.79813145   88.73381463]"
       ]
      },
      {
       "output_type": "stream",
       "stream": "stdout",
       "text": [
        "\n",
        "[ 185.777738  142.868156   88.715778]"
       ]
      },
      {
       "output_type": "stream",
       "stream": "stdout",
       "text": [
        "\n",
        "[ 185.82349937  142.93839439   88.69768629]"
       ]
      },
      {
       "output_type": "stream",
       "stream": "stdout",
       "text": [
        "\n",
        "[ 185.86939955  143.00884582   88.67953971]"
       ]
      },
      {
       "output_type": "stream",
       "stream": "stdout",
       "text": [
        "\n",
        "[ 185.91543802  143.07950952   88.66133846]"
       ]
      },
      {
       "output_type": "stream",
       "stream": "stdout",
       "text": [
        "\n",
        "[ 185.96161426  143.15038467   88.64308274]"
       ]
      },
      {
       "output_type": "stream",
       "stream": "stdout",
       "text": [
        "\n",
        "[ 186.00792775  143.2214705    88.62477275]"
       ]
      },
      {
       "output_type": "stream",
       "stream": "stdout",
       "text": [
        "\n",
        "[ 186.05437798  143.29276621   88.6064087 ]"
       ]
      },
      {
       "output_type": "stream",
       "stream": "stdout",
       "text": [
        "\n",
        "[ 186.10096444  143.364271     88.5879908 ]"
       ]
      },
      {
       "output_type": "stream",
       "stream": "stdout",
       "text": [
        "\n",
        "[ 186.14768661  143.4359841    88.56951925]"
       ]
      },
      {
       "output_type": "stream",
       "stream": "stdout",
       "text": [
        "\n",
        "[ 186.19454397  143.50790469   88.55099425]"
       ]
      },
      {
       "output_type": "stream",
       "stream": "stdout",
       "text": [
        "\n",
        "[ 186.241536  143.580032   88.532416]"
       ]
      },
      {
       "output_type": "stream",
       "stream": "stdout",
       "text": [
        "\n",
        "[ 186.28866219  143.65236523   88.51378471]"
       ]
      },
      {
       "output_type": "stream",
       "stream": "stdout",
       "text": [
        "\n",
        "[ 186.33592203  143.72490358   88.49510059]"
       ]
      },
      {
       "output_type": "stream",
       "stream": "stdout",
       "text": [
        "\n",
        "[ 186.383315    143.79764628   88.47636384]"
       ]
      },
      {
       "output_type": "stream",
       "stream": "stdout",
       "text": [
        "\n",
        "[ 186.43084058  143.87059251   88.45757466]"
       ]
      },
      {
       "output_type": "stream",
       "stream": "stdout",
       "text": [
        "\n",
        "[ 186.47849825  143.9437415    88.43873325]"
       ]
      },
      {
       "output_type": "stream",
       "stream": "stdout",
       "text": [
        "\n",
        "[ 186.5262875   144.01709245   88.41983982]"
       ]
      },
      {
       "output_type": "stream",
       "stream": "stdout",
       "text": [
        "\n",
        "[ 186.57420782  144.09064456   88.40089458]"
       ]
      },
      {
       "output_type": "stream",
       "stream": "stdout",
       "text": [
        "\n",
        "[ 186.62225869  144.16439706   88.38189773]"
       ]
      },
      {
       "output_type": "stream",
       "stream": "stdout",
       "text": [
        "\n",
        "[ 186.67043959  144.23834913   88.36284947]"
       ]
      },
      {
       "output_type": "stream",
       "stream": "stdout",
       "text": [
        "\n",
        "[ 186.71875  144.3125    88.34375]"
       ]
      },
      {
       "output_type": "stream",
       "stream": "stdout",
       "text": [
        "\n",
        "[ 186.76718941  144.38684887   88.32459953]"
       ]
      },
      {
       "output_type": "stream",
       "stream": "stdout",
       "text": [
        "\n",
        "[ 186.81575731  144.46139494   88.30539827]"
       ]
      },
      {
       "output_type": "stream",
       "stream": "stdout",
       "text": [
        "\n",
        "[ 186.86445318  144.53613744   88.28614642]"
       ]
      },
      {
       "output_type": "stream",
       "stream": "stdout",
       "text": [
        "\n",
        "[ 186.9132765   144.61107555   88.26684418]"
       ]
      },
      {
       "output_type": "stream",
       "stream": "stdout",
       "text": [
        "\n",
        "[ 186.96222675  144.6862085    88.24749175]"
       ]
      },
      {
       "output_type": "stream",
       "stream": "stdout",
       "text": [
        "\n",
        "[ 187.01130342  144.76153549   88.22808934]"
       ]
      },
      {
       "output_type": "stream",
       "stream": "stdout",
       "text": [
        "\n",
        "[ 187.060506    144.83705572   88.20863716]"
       ]
      },
      {
       "output_type": "stream",
       "stream": "stdout",
       "text": [
        "\n",
        "[ 187.10983397  144.91276842   88.18913541]"
       ]
      },
      {
       "output_type": "stream",
       "stream": "stdout",
       "text": [
        "\n",
        "[ 187.15928681  144.98867277   88.16958429]"
       ]
      },
      {
       "output_type": "stream",
       "stream": "stdout",
       "text": [
        "\n",
        "[ 187.208864  145.064768   88.149984]"
       ]
      },
      {
       "output_type": "stream",
       "stream": "stdout",
       "text": [
        "\n",
        "[ 187.25856503  145.14105331   88.13033475]"
       ]
      },
      {
       "output_type": "stream",
       "stream": "stdout",
       "text": [
        "\n",
        "[ 187.30838939  145.2175279    88.11063675]"
       ]
      },
      {
       "output_type": "stream",
       "stream": "stdout",
       "text": [
        "\n",
        "[ 187.35833656  145.294191     88.0908902 ]"
       ]
      },
      {
       "output_type": "stream",
       "stream": "stdout",
       "text": [
        "\n",
        "[ 187.40840602  145.37104179   88.0710953 ]"
       ]
      },
      {
       "output_type": "stream",
       "stream": "stdout",
       "text": [
        "\n",
        "[ 187.45859725  145.4480795    88.05125225]"
       ]
      },
      {
       "output_type": "stream",
       "stream": "stdout",
       "text": [
        "\n",
        "[ 187.50890974  145.52530333   88.03136126]"
       ]
      },
      {
       "output_type": "stream",
       "stream": "stdout",
       "text": [
        "\n",
        "[ 187.55934298  145.60271248   88.01142254]"
       ]
      },
      {
       "output_type": "stream",
       "stream": "stdout",
       "text": [
        "\n",
        "[ 187.60989645  145.68030618   87.99143629]"
       ]
      },
      {
       "output_type": "stream",
       "stream": "stdout",
       "text": [
        "\n",
        "[ 187.66056963  145.75808361   87.97140271]"
       ]
      },
      {
       "output_type": "stream",
       "stream": "stdout",
       "text": [
        "\n",
        "[ 187.711362  145.836044   87.951322]"
       ]
      },
      {
       "output_type": "stream",
       "stream": "stdout",
       "text": [
        "\n",
        "[ 187.76227305  145.91418655   87.93119437]"
       ]
      },
      {
       "output_type": "stream",
       "stream": "stdout",
       "text": [
        "\n",
        "[ 187.81330227  145.99251046   87.91102003]"
       ]
      },
      {
       "output_type": "stream",
       "stream": "stdout",
       "text": [
        "\n",
        "[ 187.86444914  146.07101496   87.89079918]"
       ]
      },
      {
       "output_type": "stream",
       "stream": "stdout",
       "text": [
        "\n",
        "[ 187.91571314  146.14969923   87.87053202]"
       ]
      },
      {
       "output_type": "stream",
       "stream": "stdout",
       "text": [
        "\n",
        "[ 187.96709375  146.2285625    87.85021875]"
       ]
      },
      {
       "output_type": "stream",
       "stream": "stdout",
       "text": [
        "\n",
        "[ 188.01859046  146.30760397   87.82985958]"
       ]
      },
      {
       "output_type": "stream",
       "stream": "stdout",
       "text": [
        "\n",
        "[ 188.07020276  146.38682284   87.80945472]"
       ]
      },
      {
       "output_type": "stream",
       "stream": "stdout",
       "text": [
        "\n",
        "[ 188.12193013  146.46621834   87.78900437]"
       ]
      },
      {
       "output_type": "stream",
       "stream": "stdout",
       "text": [
        "\n",
        "[ 188.17377205  146.54578965   87.76850873]"
       ]
      },
      {
       "output_type": "stream",
       "stream": "stdout",
       "text": [
        "\n",
        "[ 188.225728  146.625536   87.747968]"
       ]
      },
      {
       "output_type": "stream",
       "stream": "stdout",
       "text": [
        "\n",
        "[ 188.27779747  146.70545659   87.72738239]"
       ]
      },
      {
       "output_type": "stream",
       "stream": "stdout",
       "text": [
        "\n",
        "[ 188.32997995  146.78555062   87.70675211]"
       ]
      },
      {
       "output_type": "stream",
       "stream": "stdout",
       "text": [
        "\n",
        "[ 188.38227492  146.86581732   87.68607736]"
       ]
      },
      {
       "output_type": "stream",
       "stream": "stdout",
       "text": [
        "\n",
        "[ 188.43468186  146.94625587   87.66535834]"
       ]
      },
      {
       "output_type": "stream",
       "stream": "stdout",
       "text": [
        "\n",
        "[ 188.48720025  147.0268655    87.64459525]"
       ]
      },
      {
       "output_type": "stream",
       "stream": "stdout",
       "text": [
        "\n",
        "[ 188.53982958  147.10764541   87.6237883 ]"
       ]
      },
      {
       "output_type": "stream",
       "stream": "stdout",
       "text": [
        "\n",
        "[ 188.59256934  147.1885948    87.6029377 ]"
       ]
      },
      {
       "output_type": "stream",
       "stream": "stdout",
       "text": [
        "\n",
        "[ 188.64541901  147.2697129    87.58204365]"
       ]
      },
      {
       "output_type": "stream",
       "stream": "stdout",
       "text": [
        "\n",
        "[ 188.69837807  147.35099889   87.56110635]"
       ]
      },
      {
       "output_type": "stream",
       "stream": "stdout",
       "text": [
        "\n",
        "[ 188.751446  147.432452   87.540126]"
       ]
      },
      {
       "output_type": "stream",
       "stream": "stdout",
       "text": [
        "\n",
        "[ 188.80462229  147.51407143   87.51910281]"
       ]
      },
      {
       "output_type": "stream",
       "stream": "stdout",
       "text": [
        "\n",
        "[ 188.85790643  147.59585638   87.49803699]"
       ]
      },
      {
       "output_type": "stream",
       "stream": "stdout",
       "text": [
        "\n",
        "[ 188.9112979   147.67780608   87.47692874]"
       ]
      },
      {
       "output_type": "stream",
       "stream": "stdout",
       "text": [
        "\n",
        "[ 188.96479618  147.75991971   87.45577826]"
       ]
      },
      {
       "output_type": "stream",
       "stream": "stdout",
       "text": [
        "\n",
        "[ 189.01840075  147.8421965    87.43458575]"
       ]
      },
      {
       "output_type": "stream",
       "stream": "stdout",
       "text": [
        "\n",
        "[ 189.0721111   147.92463565   87.41335142]"
       ]
      },
      {
       "output_type": "stream",
       "stream": "stdout",
       "text": [
        "\n",
        "[ 189.12592672  148.00723636   87.39207548]"
       ]
      },
      {
       "output_type": "stream",
       "stream": "stdout",
       "text": [
        "\n",
        "[ 189.17984709  148.08999786   87.37075813]"
       ]
      },
      {
       "output_type": "stream",
       "stream": "stdout",
       "text": [
        "\n",
        "[ 189.23387169  148.17291933   87.34939957]"
       ]
      },
      {
       "output_type": "stream",
       "stream": "stdout",
       "text": [
        "\n",
        "[ 189.288  148.256   87.328]"
       ]
      },
      {
       "output_type": "stream",
       "stream": "stdout",
       "text": [
        "\n",
        "[ 189.34223151  148.33923907   87.30655963]"
       ]
      },
      {
       "output_type": "stream",
       "stream": "stdout",
       "text": [
        "\n",
        "[ 189.39656571  148.42263574   87.28507867]"
       ]
      },
      {
       "output_type": "stream",
       "stream": "stdout",
       "text": [
        "\n",
        "[ 189.45100208  148.50618924   87.26355732]"
       ]
      },
      {
       "output_type": "stream",
       "stream": "stdout",
       "text": [
        "\n",
        "[ 189.5055401   148.58989875   87.24199578]"
       ]
      },
      {
       "output_type": "stream",
       "stream": "stdout",
       "text": [
        "\n",
        "[ 189.56017925  148.6737635    87.22039425]"
       ]
      },
      {
       "output_type": "stream",
       "stream": "stdout",
       "text": [
        "\n",
        "[ 189.61491902  148.75778269   87.19875294]"
       ]
      },
      {
       "output_type": "stream",
       "stream": "stdout",
       "text": [
        "\n",
        "[ 189.6697589   148.84195552   87.17707206]"
       ]
      },
      {
       "output_type": "stream",
       "stream": "stdout",
       "text": [
        "\n",
        "[ 189.72469837  148.92628122   87.15535181]"
       ]
      },
      {
       "output_type": "stream",
       "stream": "stdout",
       "text": [
        "\n",
        "[ 189.77973691  149.01075897   87.13359239]"
       ]
      },
      {
       "output_type": "stream",
       "stream": "stdout",
       "text": [
        "\n",
        "[ 189.834874  149.095388   87.111794]"
       ]
      },
      {
       "output_type": "stream",
       "stream": "stdout",
       "text": [
        "\n",
        "[ 189.89010913  149.18016751   87.08995685]"
       ]
      },
      {
       "output_type": "stream",
       "stream": "stdout",
       "text": [
        "\n",
        "[ 189.94544179  149.2650967    87.06808115]"
       ]
      },
      {
       "output_type": "stream",
       "stream": "stdout",
       "text": [
        "\n",
        "[ 190.00087146  149.3501748    87.0461671 ]"
       ]
      },
      {
       "output_type": "stream",
       "stream": "stdout",
       "text": [
        "\n",
        "[ 190.05639762  149.43540099   87.0242149 ]"
       ]
      },
      {
       "output_type": "stream",
       "stream": "stdout",
       "text": [
        "\n",
        "[ 190.11201975  149.5207745    87.00222475]"
       ]
      },
      {
       "output_type": "stream",
       "stream": "stdout",
       "text": [
        "\n",
        "[ 190.16773734  149.60629453   86.98019686]"
       ]
      },
      {
       "output_type": "stream",
       "stream": "stdout",
       "text": [
        "\n",
        "[ 190.22354988  149.69196028   86.95813144]"
       ]
      },
      {
       "output_type": "stream",
       "stream": "stdout",
       "text": [
        "\n",
        "[ 190.27945685  149.77777098   86.93602869]"
       ]
      },
      {
       "output_type": "stream",
       "stream": "stdout",
       "text": [
        "\n",
        "[ 190.33545773  149.86372581   86.91388881]"
       ]
      },
      {
       "output_type": "stream",
       "stream": "stdout",
       "text": [
        "\n",
        "[ 190.391552  149.949824   86.891712]"
       ]
      },
      {
       "output_type": "stream",
       "stream": "stdout",
       "text": [
        "\n",
        "[ 190.44773915  150.03606475   86.86949847]"
       ]
      },
      {
       "output_type": "stream",
       "stream": "stdout",
       "text": [
        "\n",
        "[ 190.50401867  150.12244726   86.84724843]"
       ]
      },
      {
       "output_type": "stream",
       "stream": "stdout",
       "text": [
        "\n",
        "[ 190.56039004  150.20897076   86.82496208]"
       ]
      },
      {
       "output_type": "stream",
       "stream": "stdout",
       "text": [
        "\n",
        "[ 190.61685274  150.29563443   86.80263962]"
       ]
      },
      {
       "output_type": "stream",
       "stream": "stdout",
       "text": [
        "\n",
        "[ 190.67340625  150.3824375    86.78028125]"
       ]
      },
      {
       "output_type": "stream",
       "stream": "stdout",
       "text": [
        "\n",
        "[ 190.73005006  150.46937917   86.75788718]"
       ]
      },
      {
       "output_type": "stream",
       "stream": "stdout",
       "text": [
        "\n",
        "[ 190.78678366  150.55645864   86.73545762]"
       ]
      },
      {
       "output_type": "stream",
       "stream": "stdout",
       "text": [
        "\n",
        "[ 190.84360653  150.64367514   86.71299277]"
       ]
      },
      {
       "output_type": "stream",
       "stream": "stdout",
       "text": [
        "\n",
        "[ 190.90051815  150.73102785   86.69049283]"
       ]
      },
      {
       "output_type": "stream",
       "stream": "stdout",
       "text": [
        "\n",
        "[ 190.957518  150.818516   86.667958]"
       ]
      },
      {
       "output_type": "stream",
       "stream": "stdout",
       "text": [
        "\n",
        "[ 191.01460557  150.90613879   86.64538849]"
       ]
      },
      {
       "output_type": "stream",
       "stream": "stdout",
       "text": [
        "\n",
        "[ 191.07178035  150.99389542   86.62278451]"
       ]
      },
      {
       "output_type": "stream",
       "stream": "stdout",
       "text": [
        "\n",
        "[ 191.12904182  151.08178512   86.60014626]"
       ]
      },
      {
       "output_type": "stream",
       "stream": "stdout",
       "text": [
        "\n",
        "[ 191.18638946  151.16980707   86.57747394]"
       ]
      },
      {
       "output_type": "stream",
       "stream": "stdout",
       "text": [
        "\n",
        "[ 191.24382275  151.2579605    86.55476775]"
       ]
      },
      {
       "output_type": "stream",
       "stream": "stdout",
       "text": [
        "\n",
        "[ 191.30134118  151.34624461   86.5320279 ]"
       ]
      },
      {
       "output_type": "stream",
       "stream": "stdout",
       "text": [
        "\n",
        "[ 191.35894424  151.4346586    86.5092546 ]"
       ]
      },
      {
       "output_type": "stream",
       "stream": "stdout",
       "text": [
        "\n",
        "[ 191.41663141  151.5232017    86.48644805]"
       ]
      },
      {
       "output_type": "stream",
       "stream": "stdout",
       "text": [
        "\n",
        "[ 191.47440217  151.61187309   86.46360845]"
       ]
      },
      {
       "output_type": "stream",
       "stream": "stdout",
       "text": [
        "\n",
        "[ 191.532256  151.700672   86.440736]"
       ]
      },
      {
       "output_type": "stream",
       "stream": "stdout",
       "text": [
        "\n",
        "[ 191.59019239  151.78959763   86.41783091]"
       ]
      },
      {
       "output_type": "stream",
       "stream": "stdout",
       "text": [
        "\n",
        "[ 191.64821083  151.87864918   86.39489339]"
       ]
      },
      {
       "output_type": "stream",
       "stream": "stdout",
       "text": [
        "\n",
        "[ 191.7063108   151.96782588   86.37192364]"
       ]
      },
      {
       "output_type": "stream",
       "stream": "stdout",
       "text": [
        "\n",
        "[ 191.76449178  152.05712691   86.34892186]"
       ]
      },
      {
       "output_type": "stream",
       "stream": "stdout",
       "text": [
        "\n",
        "[ 191.82275325  152.1465515    86.32588825]"
       ]
      },
      {
       "output_type": "stream",
       "stream": "stdout",
       "text": [
        "\n",
        "[ 191.8810947   152.23609885   86.30282302]"
       ]
      },
      {
       "output_type": "stream",
       "stream": "stdout",
       "text": [
        "\n",
        "[ 191.93951562  152.32576816   86.27972638]"
       ]
      },
      {
       "output_type": "stream",
       "stream": "stdout",
       "text": [
        "\n",
        "[ 191.99801549  152.41555866   86.25659853]"
       ]
      },
      {
       "output_type": "stream",
       "stream": "stdout",
       "text": [
        "\n",
        "[ 192.05659379  152.50546953   86.23343967]"
       ]
      },
      {
       "output_type": "stream",
       "stream": "stdout",
       "text": [
        "\n",
        "[ 192.11525  152.5955    86.21025]"
       ]
      },
      {
       "output_type": "stream",
       "stream": "stdout",
       "text": [
        "\n",
        "[ 192.17398361  152.68564927   86.18702973]"
       ]
      },
      {
       "output_type": "stream",
       "stream": "stdout",
       "text": [
        "\n",
        "[ 192.23279411  152.77591654   86.16377907]"
       ]
      },
      {
       "output_type": "stream",
       "stream": "stdout",
       "text": [
        "\n",
        "[ 192.29168098  152.86630104   86.14049822]"
       ]
      },
      {
       "output_type": "stream",
       "stream": "stdout",
       "text": [
        "\n",
        "[ 192.3506437   152.95680195   86.11718738]"
       ]
      },
      {
       "output_type": "stream",
       "stream": "stdout",
       "text": [
        "\n",
        "[ 192.40968175  153.0474185    86.09384675]"
       ]
      },
      {
       "output_type": "stream",
       "stream": "stdout",
       "text": [
        "\n",
        "[ 192.46879462  153.13814989   86.07047654]"
       ]
      },
      {
       "output_type": "stream",
       "stream": "stdout",
       "text": [
        "\n",
        "[ 192.5279818   153.22899532   86.04707696]"
       ]
      },
      {
       "output_type": "stream",
       "stream": "stdout",
       "text": [
        "\n",
        "[ 192.58724277  153.31995402   86.02364821]"
       ]
      },
      {
       "output_type": "stream",
       "stream": "stdout",
       "text": [
        "\n",
        "[ 192.64657701  153.41102517   86.00019049]"
       ]
      },
      {
       "output_type": "stream",
       "stream": "stdout",
       "text": [
        "\n",
        "[ 192.705984  153.502208   85.976704]"
       ]
      },
      {
       "output_type": "stream",
       "stream": "stdout",
       "text": [
        "\n",
        "[ 192.76546323  153.59350171   85.95318895]"
       ]
      },
      {
       "output_type": "stream",
       "stream": "stdout",
       "text": [
        "\n",
        "[ 192.82501419  153.6849055    85.92964555]"
       ]
      },
      {
       "output_type": "stream",
       "stream": "stdout",
       "text": [
        "\n",
        "[ 192.88463636  153.7764186    85.906074  ]"
       ]
      },
      {
       "output_type": "stream",
       "stream": "stdout",
       "text": [
        "\n",
        "[ 192.94432922  153.86804019   85.8824745 ]"
       ]
      },
      {
       "output_type": "stream",
       "stream": "stdout",
       "text": [
        "\n",
        "[ 193.00409225  153.9597695    85.85884725]"
       ]
      },
      {
       "output_type": "stream",
       "stream": "stdout",
       "text": [
        "\n",
        "[ 193.06392494  154.05160573   85.83519246]"
       ]
      },
      {
       "output_type": "stream",
       "stream": "stdout",
       "text": [
        "\n",
        "[ 193.12382678  154.14354808   85.81151034]"
       ]
      },
      {
       "output_type": "stream",
       "stream": "stdout",
       "text": [
        "\n",
        "[ 193.18379725  154.23559578   85.78780109]"
       ]
      },
      {
       "output_type": "stream",
       "stream": "stdout",
       "text": [
        "\n",
        "[ 193.24383583  154.32774801   85.76406491]"
       ]
      },
      {
       "output_type": "stream",
       "stream": "stdout",
       "text": [
        "\n",
        "[ 193.303942  154.420004   85.740302]"
       ]
      },
      {
       "output_type": "stream",
       "stream": "stdout",
       "text": [
        "\n",
        "[ 193.36411525  154.51236295   85.71651257]"
       ]
      },
      {
       "output_type": "stream",
       "stream": "stdout",
       "text": [
        "\n",
        "[ 193.42435507  154.60482406   85.69269683]"
       ]
      },
      {
       "output_type": "stream",
       "stream": "stdout",
       "text": [
        "\n",
        "[ 193.48466094  154.69738656   85.66885498]"
       ]
      },
      {
       "output_type": "stream",
       "stream": "stdout",
       "text": [
        "\n",
        "[ 193.54503234  154.79004963   85.64498722]"
       ]
      },
      {
       "output_type": "stream",
       "stream": "stdout",
       "text": [
        "\n",
        "[ 193.60546875  154.8828125    85.62109375]"
       ]
      },
      {
       "output_type": "stream",
       "stream": "stdout",
       "text": [
        "\n",
        "[ 193.66596966  154.97567437   85.59717478]"
       ]
      },
      {
       "output_type": "stream",
       "stream": "stdout",
       "text": [
        "\n",
        "[ 193.72653456  155.06863444   85.57323052]"
       ]
      },
      {
       "output_type": "stream",
       "stream": "stdout",
       "text": [
        "\n",
        "[ 193.78716293  155.16169194   85.54926117]"
       ]
      },
      {
       "output_type": "stream",
       "stream": "stdout",
       "text": [
        "\n",
        "[ 193.84785425  155.25484605   85.52526693]"
       ]
      },
      {
       "output_type": "stream",
       "stream": "stdout",
       "text": [
        "\n",
        "[ 193.908608  155.348096   85.501248]"
       ]
      },
      {
       "output_type": "stream",
       "stream": "stdout",
       "text": [
        "\n",
        "[ 193.96942367  155.44144099   85.47720459]"
       ]
      },
      {
       "output_type": "stream",
       "stream": "stdout",
       "text": [
        "\n",
        "[ 194.03030075  155.53488022   85.45313691]"
       ]
      },
      {
       "output_type": "stream",
       "stream": "stdout",
       "text": [
        "\n",
        "[ 194.09123872  155.62841292   85.42904516]"
       ]
      },
      {
       "output_type": "stream",
       "stream": "stdout",
       "text": [
        "\n",
        "[ 194.15223706  155.72203827   85.40492954]"
       ]
      },
      {
       "output_type": "stream",
       "stream": "stdout",
       "text": [
        "\n",
        "[ 194.21329525  155.8157555    85.38079025]"
       ]
      },
      {
       "output_type": "stream",
       "stream": "stdout",
       "text": [
        "\n",
        "[ 194.27441278  155.90956381   85.3566275 ]"
       ]
      },
      {
       "output_type": "stream",
       "stream": "stdout",
       "text": [
        "\n",
        "[ 194.33558914  156.0034624    85.3324415 ]"
       ]
      },
      {
       "output_type": "stream",
       "stream": "stdout",
       "text": [
        "\n",
        "[ 194.39682381  156.0974505    85.30823245]"
       ]
      },
      {
       "output_type": "stream",
       "stream": "stdout",
       "text": [
        "\n",
        "[ 194.45811627  156.19152729   85.28400055]"
       ]
      },
      {
       "output_type": "stream",
       "stream": "stdout",
       "text": [
        "\n",
        "[ 194.519466  156.285692   85.259746]"
       ]
      },
      {
       "output_type": "stream",
       "stream": "stdout",
       "text": [
        "\n",
        "[ 194.58087249  156.37994383   85.23546901]"
       ]
      },
      {
       "output_type": "stream",
       "stream": "stdout",
       "text": [
        "\n",
        "[ 194.64233523  156.47428198   85.21116979]"
       ]
      },
      {
       "output_type": "stream",
       "stream": "stdout",
       "text": [
        "\n",
        "[ 194.7038537   156.56870568   85.18684854]"
       ]
      },
      {
       "output_type": "stream",
       "stream": "stdout",
       "text": [
        "\n",
        "[ 194.76542738  156.66321411   85.16250546]"
       ]
      },
      {
       "output_type": "stream",
       "stream": "stdout",
       "text": [
        "\n",
        "[ 194.82705575  156.7578065    85.13814075]"
       ]
      },
      {
       "output_type": "stream",
       "stream": "stdout",
       "text": [
        "\n",
        "[ 194.8887383   156.85248205   85.11375462]"
       ]
      },
      {
       "output_type": "stream",
       "stream": "stdout",
       "text": [
        "\n",
        "[ 194.95047452  156.94723996   85.08934728]"
       ]
      },
      {
       "output_type": "stream",
       "stream": "stdout",
       "text": [
        "\n",
        "[ 195.01226389  157.04207946   85.06491893]"
       ]
      },
      {
       "output_type": "stream",
       "stream": "stdout",
       "text": [
        "\n",
        "[ 195.07410589  157.13699973   85.04046977]"
       ]
      },
      {
       "output_type": "stream",
       "stream": "stdout",
       "text": [
        "\n",
        "[ 195.136  157.232   85.016]"
       ]
      },
      {
       "output_type": "stream",
       "stream": "stdout",
       "text": [
        "\n",
        "[ 195.19794571  157.32707947   84.99150983]"
       ]
      },
      {
       "output_type": "stream",
       "stream": "stdout",
       "text": [
        "\n",
        "[ 195.25994251  157.42223734   84.96699947]"
       ]
      },
      {
       "output_type": "stream",
       "stream": "stdout",
       "text": [
        "\n",
        "[ 195.32198988  157.51747284   84.94246912]"
       ]
      },
      {
       "output_type": "stream",
       "stream": "stdout",
       "text": [
        "\n",
        "[ 195.3840873   157.61278515   84.91791898]"
       ]
      },
      {
       "output_type": "stream",
       "stream": "stdout",
       "text": [
        "\n",
        "[ 195.44623425  157.7081735    84.89334925]"
       ]
      },
      {
       "output_type": "stream",
       "stream": "stdout",
       "text": [
        "\n",
        "[ 195.50843022  157.80363709   84.86876014]"
       ]
      },
      {
       "output_type": "stream",
       "stream": "stdout",
       "text": [
        "\n",
        "[ 195.5706747   157.89917512   84.84415186]"
       ]
      },
      {
       "output_type": "stream",
       "stream": "stdout",
       "text": [
        "\n",
        "[ 195.63296717  157.99478682   84.81952461]"
       ]
      },
      {
       "output_type": "stream",
       "stream": "stdout",
       "text": [
        "\n",
        "[ 195.69530711  158.09047137   84.79487859]"
       ]
      },
      {
       "output_type": "stream",
       "stream": "stdout",
       "text": [
        "\n",
        "[ 195.757694  158.186228   84.770214]"
       ]
      },
      {
       "output_type": "stream",
       "stream": "stdout",
       "text": [
        "\n",
        "[ 195.82012733  158.28205591   84.74553105]"
       ]
      },
      {
       "output_type": "stream",
       "stream": "stdout",
       "text": [
        "\n",
        "[ 195.88260659  158.3779543    84.72082995]"
       ]
      },
      {
       "output_type": "stream",
       "stream": "stdout",
       "text": [
        "\n",
        "[ 195.94513126  158.4739224    84.6961109 ]"
       ]
      },
      {
       "output_type": "stream",
       "stream": "stdout",
       "text": [
        "\n",
        "[ 196.00770082  158.56995939   84.6713741 ]"
       ]
      },
      {
       "output_type": "stream",
       "stream": "stdout",
       "text": [
        "\n",
        "[ 196.07031475  158.6660645    84.64661975]"
       ]
      },
      {
       "output_type": "stream",
       "stream": "stdout",
       "text": [
        "\n",
        "[ 196.13297254  158.76223693   84.62184806]"
       ]
      },
      {
       "output_type": "stream",
       "stream": "stdout",
       "text": [
        "\n",
        "[ 196.19567368  158.85847588   84.59705924]"
       ]
      },
      {
       "output_type": "stream",
       "stream": "stdout",
       "text": [
        "\n",
        "[ 196.25841765  158.95478058   84.57225349]"
       ]
      },
      {
       "output_type": "stream",
       "stream": "stdout",
       "text": [
        "\n",
        "[ 196.32120393  159.05115021   84.54743101]"
       ]
      },
      {
       "output_type": "stream",
       "stream": "stdout",
       "text": [
        "\n",
        "[ 196.384032  159.147584   84.522592]"
       ]
      },
      {
       "output_type": "stream",
       "stream": "stdout",
       "text": [
        "\n",
        "[ 196.44690135  159.24408115   84.49773667]"
       ]
      },
      {
       "output_type": "stream",
       "stream": "stdout",
       "text": [
        "\n",
        "[ 196.50981147  159.34064086   84.47286523]"
       ]
      },
      {
       "output_type": "stream",
       "stream": "stdout",
       "text": [
        "\n",
        "[ 196.57276184  159.43726236   84.44797788]"
       ]
      },
      {
       "output_type": "stream",
       "stream": "stdout",
       "text": [
        "\n",
        "[ 196.63575194  159.53394483   84.42307482]"
       ]
      },
      {
       "output_type": "stream",
       "stream": "stdout",
       "text": [
        "\n",
        "[ 196.69878125  159.6306875    84.39815625]"
       ]
      },
      {
       "output_type": "stream",
       "stream": "stdout",
       "text": [
        "\n",
        "[ 196.76184926  159.72748957   84.37322238]"
       ]
      },
      {
       "output_type": "stream",
       "stream": "stdout",
       "text": [
        "\n",
        "[ 196.82495546  159.82435024   84.34827342]"
       ]
      },
      {
       "output_type": "stream",
       "stream": "stdout",
       "text": [
        "\n",
        "[ 196.88809933  159.92126874   84.32330957]"
       ]
      },
      {
       "output_type": "stream",
       "stream": "stdout",
       "text": [
        "\n",
        "[ 196.95128035  160.01824425   84.29833103]"
       ]
      },
      {
       "output_type": "stream",
       "stream": "stdout",
       "text": [
        "\n",
        "[ 197.014498  160.115276   84.273338]"
       ]
      },
      {
       "output_type": "stream",
       "stream": "stdout",
       "text": [
        "\n",
        "[ 197.07775177  160.21236319   84.24833069]"
       ]
      },
      {
       "output_type": "stream",
       "stream": "stdout",
       "text": [
        "\n",
        "[ 197.14104115  160.30950502   84.22330931]"
       ]
      },
      {
       "output_type": "stream",
       "stream": "stdout",
       "text": [
        "\n",
        "[ 197.20436562  160.40670072   84.19827406]"
       ]
      },
      {
       "output_type": "stream",
       "stream": "stdout",
       "text": [
        "\n",
        "[ 197.26772466  160.50394947   84.17322514]"
       ]
      },
      {
       "output_type": "stream",
       "stream": "stdout",
       "text": [
        "\n",
        "[ 197.33111775  160.6012505    84.14816275]"
       ]
      },
      {
       "output_type": "stream",
       "stream": "stdout",
       "text": [
        "\n",
        "[ 197.39454438  160.69860301   84.1230871 ]"
       ]
      },
      {
       "output_type": "stream",
       "stream": "stdout",
       "text": [
        "\n",
        "[ 197.45800404  160.7960062    84.0979984 ]"
       ]
      },
      {
       "output_type": "stream",
       "stream": "stdout",
       "text": [
        "\n",
        "[ 197.52149621  160.8934593    84.07289685]"
       ]
      },
      {
       "output_type": "stream",
       "stream": "stdout",
       "text": [
        "\n",
        "[ 197.58502037  160.99096149   84.04778265]"
       ]
      },
      {
       "output_type": "stream",
       "stream": "stdout",
       "text": [
        "\n",
        "[ 197.648576  161.088512   84.022656]"
       ]
      },
      {
       "output_type": "stream",
       "stream": "stdout",
       "text": [
        "\n",
        "[ 197.71216259  161.18611003   83.99751711]"
       ]
      },
      {
       "output_type": "stream",
       "stream": "stdout",
       "text": [
        "\n",
        "[ 197.77577963  161.28375478   83.97236619]"
       ]
      },
      {
       "output_type": "stream",
       "stream": "stdout",
       "text": [
        "\n",
        "[ 197.8394266   161.38144548   83.94720344]"
       ]
      },
      {
       "output_type": "stream",
       "stream": "stdout",
       "text": [
        "\n",
        "[ 197.90310298  161.47918131   83.92202906]"
       ]
      },
      {
       "output_type": "stream",
       "stream": "stdout",
       "text": [
        "\n",
        "[ 197.96680825  161.5769615    83.89684325]"
       ]
      },
      {
       "output_type": "stream",
       "stream": "stdout",
       "text": [
        "\n",
        "[ 198.0305419   161.67478525   83.87164622]"
       ]
      },
      {
       "output_type": "stream",
       "stream": "stdout",
       "text": [
        "\n",
        "[ 198.09430342  161.77265176   83.84643818]"
       ]
      },
      {
       "output_type": "stream",
       "stream": "stdout",
       "text": [
        "\n",
        "[ 198.15809229  161.87056026   83.82121933]"
       ]
      },
      {
       "output_type": "stream",
       "stream": "stdout",
       "text": [
        "\n",
        "[ 198.22190799  161.96850993   83.79598987]"
       ]
      },
      {
       "output_type": "stream",
       "stream": "stdout",
       "text": [
        "\n",
        "[ 198.28575  162.0665    83.77075]"
       ]
      },
      {
       "output_type": "stream",
       "stream": "stdout",
       "text": [
        "\n",
        "[ 198.34961781  162.16452967   83.74549993]"
       ]
      },
      {
       "output_type": "stream",
       "stream": "stdout",
       "text": [
        "\n",
        "[ 198.41351091  162.26259814   83.72023987]"
       ]
      },
      {
       "output_type": "stream",
       "stream": "stdout",
       "text": [
        "\n",
        "[ 198.47742878  162.36070464   83.69497002]"
       ]
      },
      {
       "output_type": "stream",
       "stream": "stdout",
       "text": [
        "\n",
        "[ 198.5413709   162.45884835   83.66969058]"
       ]
      },
      {
       "output_type": "stream",
       "stream": "stdout",
       "text": [
        "\n",
        "[ 198.60533675  162.5570285    83.64440175]"
       ]
      },
      {
       "output_type": "stream",
       "stream": "stdout",
       "text": [
        "\n",
        "[ 198.66932582  162.65524429   83.61910374]"
       ]
      },
      {
       "output_type": "stream",
       "stream": "stdout",
       "text": [
        "\n",
        "[ 198.7333376   162.75349492   83.59379676]"
       ]
      },
      {
       "output_type": "stream",
       "stream": "stdout",
       "text": [
        "\n",
        "[ 198.79737157  162.85177962   83.56848101]"
       ]
      },
      {
       "output_type": "stream",
       "stream": "stdout",
       "text": [
        "\n",
        "[ 198.86142721  162.95009757   83.54315669]"
       ]
      },
      {
       "output_type": "stream",
       "stream": "stdout",
       "text": [
        "\n",
        "[ 198.925504  163.048448   83.517824]"
       ]
      },
      {
       "output_type": "stream",
       "stream": "stdout",
       "text": [
        "\n",
        "[ 198.98960143  163.14683011   83.49248315]"
       ]
      },
      {
       "output_type": "stream",
       "stream": "stdout",
       "text": [
        "\n",
        "[ 199.05371899  163.2452431    83.46713435]"
       ]
      },
      {
       "output_type": "stream",
       "stream": "stdout",
       "text": [
        "\n",
        "[ 199.11785616  163.3436862    83.4417778 ]"
       ]
      },
      {
       "output_type": "stream",
       "stream": "stdout",
       "text": [
        "\n",
        "[ 199.18201242  163.44215859   83.4164137 ]"
       ]
      },
      {
       "output_type": "stream",
       "stream": "stdout",
       "text": [
        "\n",
        "[ 199.24618725  163.5406595    83.39104225]"
       ]
      },
      {
       "output_type": "stream",
       "stream": "stdout",
       "text": [
        "\n",
        "[ 199.31038014  163.63918813   83.36566366]"
       ]
      },
      {
       "output_type": "stream",
       "stream": "stdout",
       "text": [
        "\n",
        "[ 199.37459058  163.73774368   83.34027814]"
       ]
      },
      {
       "output_type": "stream",
       "stream": "stdout",
       "text": [
        "\n",
        "[ 199.43881805  163.83632538   83.31488589]"
       ]
      },
      {
       "output_type": "stream",
       "stream": "stdout",
       "text": [
        "\n",
        "[ 199.50306203  163.93493241   83.28948711]"
       ]
      },
      {
       "output_type": "stream",
       "stream": "stdout",
       "text": [
        "\n",
        "[ 199.567322  164.033564   83.264082]"
       ]
      },
      {
       "output_type": "stream",
       "stream": "stdout",
       "text": [
        "\n",
        "[ 199.63159745  164.13221935   83.23867077]"
       ]
      },
      {
       "output_type": "stream",
       "stream": "stdout",
       "text": [
        "\n",
        "[ 199.69588787  164.23089766   83.21325363]"
       ]
      },
      {
       "output_type": "stream",
       "stream": "stdout",
       "text": [
        "\n",
        "[ 199.76019274  164.32959816   83.18783078]"
       ]
      },
      {
       "output_type": "stream",
       "stream": "stdout",
       "text": [
        "\n",
        "[ 199.82451154  164.42832003   83.16240242]"
       ]
      },
      {
       "output_type": "stream",
       "stream": "stdout",
       "text": [
        "\n",
        "[ 199.88884375  164.5270625    83.13696875]"
       ]
      },
      {
       "output_type": "stream",
       "stream": "stdout",
       "text": [
        "\n",
        "[ 199.95318886  164.62582477   83.11152998]"
       ]
      },
      {
       "output_type": "stream",
       "stream": "stdout",
       "text": [
        "\n",
        "[ 200.01754636  164.72460604   83.08608632]"
       ]
      },
      {
       "output_type": "stream",
       "stream": "stdout",
       "text": [
        "\n",
        "[ 200.08191573  164.82340554   83.06063797]"
       ]
      },
      {
       "output_type": "stream",
       "stream": "stdout",
       "text": [
        "\n",
        "[ 200.14629645  164.92222245   83.03518513]"
       ]
      },
      {
       "output_type": "stream",
       "stream": "stdout",
       "text": [
        "\n",
        "[ 200.210688  165.021056   83.009728]"
       ]
      },
      {
       "output_type": "stream",
       "stream": "stdout",
       "text": [
        "\n",
        "[ 200.27508987  165.11990539   82.98426679]"
       ]
      },
      {
       "output_type": "stream",
       "stream": "stdout",
       "text": [
        "\n",
        "[ 200.33950155  165.21876982   82.95880171]"
       ]
      },
      {
       "output_type": "stream",
       "stream": "stdout",
       "text": [
        "\n",
        "[ 200.40392252  165.31764852   82.93333296]"
       ]
      },
      {
       "output_type": "stream",
       "stream": "stdout",
       "text": [
        "\n",
        "[ 200.46835226  165.41654067   82.90786074]"
       ]
      },
      {
       "output_type": "stream",
       "stream": "stdout",
       "text": [
        "\n",
        "[ 200.53279025  165.5154455    82.88238525]"
       ]
      },
      {
       "output_type": "stream",
       "stream": "stdout",
       "text": [
        "\n",
        "[ 200.59723598  165.61436221   82.8569067 ]"
       ]
      },
      {
       "output_type": "stream",
       "stream": "stdout",
       "text": [
        "\n",
        "[ 200.66168894  165.71329      82.8314253 ]"
       ]
      },
      {
       "output_type": "stream",
       "stream": "stdout",
       "text": [
        "\n",
        "[ 200.72614861  165.8122281    82.80594125]"
       ]
      },
      {
       "output_type": "stream",
       "stream": "stdout",
       "text": [
        "\n",
        "[ 200.79061447  165.91117569   82.78045475]"
       ]
      },
      {
       "output_type": "stream",
       "stream": "stdout",
       "text": [
        "\n",
        "[ 200.855086  166.010132   82.754966]"
       ]
      },
      {
       "output_type": "stream",
       "stream": "stdout",
       "text": [
        "\n",
        "[ 200.91956269  166.10909623   82.72947521]"
       ]
      },
      {
       "output_type": "stream",
       "stream": "stdout",
       "text": [
        "\n",
        "[ 200.98404403  166.20806758   82.70398259]"
       ]
      },
      {
       "output_type": "stream",
       "stream": "stdout",
       "text": [
        "\n",
        "[ 201.0485295   166.30704528   82.67848834]"
       ]
      },
      {
       "output_type": "stream",
       "stream": "stdout",
       "text": [
        "\n",
        "[ 201.11301858  166.40602851   82.65299266]"
       ]
      },
      {
       "output_type": "stream",
       "stream": "stdout",
       "text": [
        "\n",
        "[ 201.17751075  166.5050165    82.62749575]"
       ]
      },
      {
       "output_type": "stream",
       "stream": "stdout",
       "text": [
        "\n",
        "[ 201.2420055   166.60400845   82.60199782]"
       ]
      },
      {
       "output_type": "stream",
       "stream": "stdout",
       "text": [
        "\n",
        "[ 201.30650232  166.70300356   82.57649908]"
       ]
      },
      {
       "output_type": "stream",
       "stream": "stdout",
       "text": [
        "\n",
        "[ 201.37100069  166.80200106   82.55099973]"
       ]
      },
      {
       "output_type": "stream",
       "stream": "stdout",
       "text": [
        "\n",
        "[ 201.43550009  166.90100013   82.52549997]"
       ]
      },
      {
       "output_type": "stream",
       "stream": "stdout",
       "text": [
        "\n",
        "[ 201.5  167.    82.5]"
       ]
      },
      {
       "output_type": "stream",
       "stream": "stdout",
       "text": [
        "\n",
        "[ 201.56449991  167.09899987   82.47450003]"
       ]
      },
      {
       "output_type": "stream",
       "stream": "stdout",
       "text": [
        "\n",
        "[ 201.62899931  167.19799894   82.44900027]"
       ]
      },
      {
       "output_type": "stream",
       "stream": "stdout",
       "text": [
        "\n",
        "[ 201.69349768  167.29699644   82.42350092]"
       ]
      },
      {
       "output_type": "stream",
       "stream": "stdout",
       "text": [
        "\n",
        "[ 201.7579945   167.39599155   82.39800218]"
       ]
      },
      {
       "output_type": "stream",
       "stream": "stdout",
       "text": [
        "\n",
        "[ 201.82248925  167.4949835    82.37250425]"
       ]
      },
      {
       "output_type": "stream",
       "stream": "stdout",
       "text": [
        "\n",
        "[ 201.88698142  167.59397149   82.34700734]"
       ]
      },
      {
       "output_type": "stream",
       "stream": "stdout",
       "text": [
        "\n",
        "[ 201.9514705   167.69295472   82.32151166]"
       ]
      },
      {
       "output_type": "stream",
       "stream": "stdout",
       "text": [
        "\n",
        "[ 202.01595597  167.79193242   82.29601741]"
       ]
      },
      {
       "output_type": "stream",
       "stream": "stdout",
       "text": [
        "\n",
        "[ 202.08043731  167.89090377   82.27052479]"
       ]
      },
      {
       "output_type": "stream",
       "stream": "stdout",
       "text": [
        "\n",
        "[ 202.144914  167.989868   82.245034]"
       ]
      },
      {
       "output_type": "stream",
       "stream": "stdout",
       "text": [
        "\n",
        "[ 202.20938553  168.08882431   82.21954525]"
       ]
      },
      {
       "output_type": "stream",
       "stream": "stdout",
       "text": [
        "\n",
        "[ 202.27385139  168.1877719    82.19405875]"
       ]
      },
      {
       "output_type": "stream",
       "stream": "stdout",
       "text": [
        "\n",
        "[ 202.33831106  168.28671      82.1685747 ]"
       ]
      },
      {
       "output_type": "stream",
       "stream": "stdout",
       "text": [
        "\n",
        "[ 202.40276402  168.38563779   82.1430933 ]"
       ]
      },
      {
       "output_type": "stream",
       "stream": "stdout",
       "text": [
        "\n",
        "[ 202.46720975  168.4845545    82.11761475]"
       ]
      },
      {
       "output_type": "stream",
       "stream": "stdout",
       "text": [
        "\n",
        "[ 202.53164774  168.58345933   82.09213926]"
       ]
      },
      {
       "output_type": "stream",
       "stream": "stdout",
       "text": [
        "\n",
        "[ 202.59607748  168.68235148   82.06666704]"
       ]
      },
      {
       "output_type": "stream",
       "stream": "stdout",
       "text": [
        "\n",
        "[ 202.66049845  168.78123018   82.04119829]"
       ]
      },
      {
       "output_type": "stream",
       "stream": "stdout",
       "text": [
        "\n",
        "[ 202.72491013  168.88009461   82.01573321]"
       ]
      },
      {
       "output_type": "stream",
       "stream": "stdout",
       "text": [
        "\n",
        "[ 202.789312  168.978944   81.990272]"
       ]
      },
      {
       "output_type": "stream",
       "stream": "stdout",
       "text": [
        "\n",
        "[ 202.85370355  169.07777755   81.96481487]"
       ]
      },
      {
       "output_type": "stream",
       "stream": "stdout",
       "text": [
        "\n",
        "[ 202.91808427  169.17659446   81.93936203]"
       ]
      },
      {
       "output_type": "stream",
       "stream": "stdout",
       "text": [
        "\n",
        "[ 202.98245364  169.27539396   81.91391368]"
       ]
      },
      {
       "output_type": "stream",
       "stream": "stdout",
       "text": [
        "\n",
        "[ 203.04681114  169.37417523   81.88847002]"
       ]
      },
      {
       "output_type": "stream",
       "stream": "stdout",
       "text": [
        "\n",
        "[ 203.11115625  169.4729375    81.86303125]"
       ]
      },
      {
       "output_type": "stream",
       "stream": "stdout",
       "text": [
        "\n",
        "[ 203.17548846  169.57167997   81.83759758]"
       ]
      },
      {
       "output_type": "stream",
       "stream": "stdout",
       "text": [
        "\n",
        "[ 203.23980726  169.67040184   81.81216922]"
       ]
      },
      {
       "output_type": "stream",
       "stream": "stdout",
       "text": [
        "\n",
        "[ 203.30411213  169.76910234   81.78674637]"
       ]
      },
      {
       "output_type": "stream",
       "stream": "stdout",
       "text": [
        "\n",
        "[ 203.36840255  169.86778065   81.76132923]"
       ]
      },
      {
       "output_type": "stream",
       "stream": "stdout",
       "text": [
        "\n",
        "[ 203.432678  169.966436   81.735918]"
       ]
      },
      {
       "output_type": "stream",
       "stream": "stdout",
       "text": [
        "\n",
        "[ 203.49693797  170.06506759   81.71051289]"
       ]
      },
      {
       "output_type": "stream",
       "stream": "stdout",
       "text": [
        "\n",
        "[ 203.56118195  170.16367462   81.68511411]"
       ]
      },
      {
       "output_type": "stream",
       "stream": "stdout",
       "text": [
        "\n",
        "[ 203.62540942  170.26225632   81.65972186]"
       ]
      },
      {
       "output_type": "stream",
       "stream": "stdout",
       "text": [
        "\n",
        "[ 203.68961986  170.36081187   81.63433634]"
       ]
      },
      {
       "output_type": "stream",
       "stream": "stdout",
       "text": [
        "\n",
        "[ 203.75381275  170.4593405    81.60895775]"
       ]
      },
      {
       "output_type": "stream",
       "stream": "stdout",
       "text": [
        "\n",
        "[ 203.81798758  170.55784141   81.5835863 ]"
       ]
      },
      {
       "output_type": "stream",
       "stream": "stdout",
       "text": [
        "\n",
        "[ 203.88214384  170.6563138    81.5582222 ]"
       ]
      },
      {
       "output_type": "stream",
       "stream": "stdout",
       "text": [
        "\n",
        "[ 203.94628101  170.7547569    81.53286565]"
       ]
      },
      {
       "output_type": "stream",
       "stream": "stdout",
       "text": [
        "\n",
        "[ 204.01039857  170.85316989   81.50751685]"
       ]
      },
      {
       "output_type": "stream",
       "stream": "stdout",
       "text": [
        "\n",
        "[ 204.074496  170.951552   81.482176]"
       ]
      },
      {
       "output_type": "stream",
       "stream": "stdout",
       "text": [
        "\n",
        "[ 204.13857279  171.04990243   81.45684331]"
       ]
      },
      {
       "output_type": "stream",
       "stream": "stdout",
       "text": [
        "\n",
        "[ 204.20262843  171.14822038   81.43151899]"
       ]
      },
      {
       "output_type": "stream",
       "stream": "stdout",
       "text": [
        "\n",
        "[ 204.2666624   171.24650508   81.40620324]"
       ]
      },
      {
       "output_type": "stream",
       "stream": "stdout",
       "text": [
        "\n",
        "[ 204.33067418  171.34475571   81.38089626]"
       ]
      },
      {
       "output_type": "stream",
       "stream": "stdout",
       "text": [
        "\n",
        "[ 204.39466325  171.4429715    81.35559825]"
       ]
      },
      {
       "output_type": "stream",
       "stream": "stdout",
       "text": [
        "\n",
        "[ 204.4586291   171.54115165   81.33030942]"
       ]
      },
      {
       "output_type": "stream",
       "stream": "stdout",
       "text": [
        "\n",
        "[ 204.52257122  171.63929536   81.30502998]"
       ]
      },
      {
       "output_type": "stream",
       "stream": "stdout",
       "text": [
        "\n",
        "[ 204.58648909  171.73740186   81.27976013]"
       ]
      },
      {
       "output_type": "stream",
       "stream": "stdout",
       "text": [
        "\n",
        "[ 204.65038219  171.83547033   81.25450007]"
       ]
      },
      {
       "output_type": "stream",
       "stream": "stdout",
       "text": [
        "\n",
        "[ 204.71425  171.9335    81.22925]"
       ]
      },
      {
       "output_type": "stream",
       "stream": "stdout",
       "text": [
        "\n",
        "[ 204.77809201  172.03149007   81.20401013]"
       ]
      },
      {
       "output_type": "stream",
       "stream": "stdout",
       "text": [
        "\n",
        "[ 204.84190771  172.12943974   81.17878067]"
       ]
      },
      {
       "output_type": "stream",
       "stream": "stdout",
       "text": [
        "\n",
        "[ 204.90569658  172.22734824   81.15356182]"
       ]
      },
      {
       "output_type": "stream",
       "stream": "stdout",
       "text": [
        "\n",
        "[ 204.9694581   172.32521475   81.12835378]"
       ]
      },
      {
       "output_type": "stream",
       "stream": "stdout",
       "text": [
        "\n",
        "[ 205.03319175  172.4230385    81.10315675]"
       ]
      },
      {
       "output_type": "stream",
       "stream": "stdout",
       "text": [
        "\n",
        "[ 205.09689702  172.52081869   81.07797094]"
       ]
      },
      {
       "output_type": "stream",
       "stream": "stdout",
       "text": [
        "\n",
        "[ 205.1605734   172.61855452   81.05279656]"
       ]
      },
      {
       "output_type": "stream",
       "stream": "stdout",
       "text": [
        "\n",
        "[ 205.22422037  172.71624522   81.02763381]"
       ]
      },
      {
       "output_type": "stream",
       "stream": "stdout",
       "text": [
        "\n",
        "[ 205.28783741  172.81388997   81.00248289]"
       ]
      },
      {
       "output_type": "stream",
       "stream": "stdout",
       "text": [
        "\n",
        "[ 205.351424  172.911488   80.977344]"
       ]
      },
      {
       "output_type": "stream",
       "stream": "stdout",
       "text": [
        "\n",
        "[ 205.41497963  173.00903851   80.95221735]"
       ]
      },
      {
       "output_type": "stream",
       "stream": "stdout",
       "text": [
        "\n",
        "[ 205.47850379  173.1065407    80.92710315]"
       ]
      },
      {
       "output_type": "stream",
       "stream": "stdout",
       "text": [
        "\n",
        "[ 205.54199596  173.2039938    80.9020016 ]"
       ]
      },
      {
       "output_type": "stream",
       "stream": "stdout",
       "text": [
        "\n",
        "[ 205.60545562  173.30139699   80.8769129 ]"
       ]
      },
      {
       "output_type": "stream",
       "stream": "stdout",
       "text": [
        "\n",
        "[ 205.66888225  173.3987495    80.85183725]"
       ]
      },
      {
       "output_type": "stream",
       "stream": "stdout",
       "text": [
        "\n",
        "[ 205.73227534  173.49605053   80.82677486]"
       ]
      },
      {
       "output_type": "stream",
       "stream": "stdout",
       "text": [
        "\n",
        "[ 205.79563438  173.59329928   80.80172594]"
       ]
      },
      {
       "output_type": "stream",
       "stream": "stdout",
       "text": [
        "\n",
        "[ 205.85895885  173.69049498   80.77669069]"
       ]
      },
      {
       "output_type": "stream",
       "stream": "stdout",
       "text": [
        "\n",
        "[ 205.92224823  173.78763681   80.75166931]"
       ]
      },
      {
       "output_type": "stream",
       "stream": "stdout",
       "text": [
        "\n",
        "[ 205.985502  173.884724   80.726662]"
       ]
      },
      {
       "output_type": "stream",
       "stream": "stdout",
       "text": [
        "\n",
        "[ 206.04871965  173.98175575   80.70166897]"
       ]
      },
      {
       "output_type": "stream",
       "stream": "stdout",
       "text": [
        "\n",
        "[ 206.11190067  174.07873126   80.67669043]"
       ]
      },
      {
       "output_type": "stream",
       "stream": "stdout",
       "text": [
        "\n",
        "[ 206.17504454  174.17564976   80.65172658]"
       ]
      },
      {
       "output_type": "stream",
       "stream": "stdout",
       "text": [
        "\n",
        "[ 206.23815074  174.27251043   80.62677762]"
       ]
      },
      {
       "output_type": "stream",
       "stream": "stdout",
       "text": [
        "\n",
        "[ 206.30121875  174.3693125    80.60184375]"
       ]
      },
      {
       "output_type": "stream",
       "stream": "stdout",
       "text": [
        "\n",
        "[ 206.36424806  174.46605517   80.57692518]"
       ]
      },
      {
       "output_type": "stream",
       "stream": "stdout",
       "text": [
        "\n",
        "[ 206.42723816  174.56273764   80.55202212]"
       ]
      },
      {
       "output_type": "stream",
       "stream": "stdout",
       "text": [
        "\n",
        "[ 206.49018853  174.65935914   80.52713477]"
       ]
      },
      {
       "output_type": "stream",
       "stream": "stdout",
       "text": [
        "\n",
        "[ 206.55309865  174.75591885   80.50226333]"
       ]
      },
      {
       "output_type": "stream",
       "stream": "stdout",
       "text": [
        "\n",
        "[ 206.615968  174.852416   80.477408]"
       ]
      },
      {
       "output_type": "stream",
       "stream": "stdout",
       "text": [
        "\n",
        "[ 206.67879607  174.94884979   80.45256899]"
       ]
      },
      {
       "output_type": "stream",
       "stream": "stdout",
       "text": [
        "\n",
        "[ 206.74158235  175.04521942   80.42774651]"
       ]
      },
      {
       "output_type": "stream",
       "stream": "stdout",
       "text": [
        "\n",
        "[ 206.80432632  175.14152412   80.40294076]"
       ]
      },
      {
       "output_type": "stream",
       "stream": "stdout",
       "text": [
        "\n",
        "[ 206.86702746  175.23776307   80.37815194]"
       ]
      },
      {
       "output_type": "stream",
       "stream": "stdout",
       "text": [
        "\n",
        "[ 206.92968525  175.3339355    80.35338025]"
       ]
      },
      {
       "output_type": "stream",
       "stream": "stdout",
       "text": [
        "\n",
        "[ 206.99229918  175.43004061   80.3286259 ]"
       ]
      },
      {
       "output_type": "stream",
       "stream": "stdout",
       "text": [
        "\n",
        "[ 207.05486874  175.5260776    80.3038891 ]"
       ]
      },
      {
       "output_type": "stream",
       "stream": "stdout",
       "text": [
        "\n",
        "[ 207.11739341  175.6220457    80.27917005]"
       ]
      },
      {
       "output_type": "stream",
       "stream": "stdout",
       "text": [
        "\n",
        "[ 207.17987267  175.71794409   80.25446895]"
       ]
      },
      {
       "output_type": "stream",
       "stream": "stdout",
       "text": [
        "\n",
        "[ 207.242306  175.813772   80.229786]"
       ]
      },
      {
       "output_type": "stream",
       "stream": "stdout",
       "text": [
        "\n",
        "[ 207.30469289  175.90952863   80.20512141]"
       ]
      },
      {
       "output_type": "stream",
       "stream": "stdout",
       "text": [
        "\n",
        "[ 207.36703283  176.00521318   80.18047539]"
       ]
      },
      {
       "output_type": "stream",
       "stream": "stdout",
       "text": [
        "\n",
        "[ 207.4293253   176.10082488   80.15584814]"
       ]
      },
      {
       "output_type": "stream",
       "stream": "stdout",
       "text": [
        "\n",
        "[ 207.49156978  176.19636291   80.13123986]"
       ]
      },
      {
       "output_type": "stream",
       "stream": "stdout",
       "text": [
        "\n",
        "[ 207.55376575  176.2918265    80.10665075]"
       ]
      },
      {
       "output_type": "stream",
       "stream": "stdout",
       "text": [
        "\n",
        "[ 207.6159127   176.38721485   80.08208102]"
       ]
      },
      {
       "output_type": "stream",
       "stream": "stdout",
       "text": [
        "\n",
        "[ 207.67801012  176.48252716   80.05753088]"
       ]
      },
      {
       "output_type": "stream",
       "stream": "stdout",
       "text": [
        "\n",
        "[ 207.74005749  176.57776266   80.03300053]"
       ]
      },
      {
       "output_type": "stream",
       "stream": "stdout",
       "text": [
        "\n",
        "[ 207.80205429  176.67292053   80.00849017]"
       ]
      },
      {
       "output_type": "stream",
       "stream": "stdout",
       "text": [
        "\n",
        "[ 207.864  176.768   79.984]"
       ]
      },
      {
       "output_type": "stream",
       "stream": "stdout",
       "text": [
        "\n",
        "[ 207.92589411  176.86300027   79.95953023]"
       ]
      },
      {
       "output_type": "stream",
       "stream": "stdout",
       "text": [
        "\n",
        "[ 207.98773611  176.95792054   79.93508107]"
       ]
      },
      {
       "output_type": "stream",
       "stream": "stdout",
       "text": [
        "\n",
        "[ 208.04952548  177.05276004   79.91065272]"
       ]
      },
      {
       "output_type": "stream",
       "stream": "stdout",
       "text": [
        "\n",
        "[ 208.1112617   177.14751795   79.88624538]"
       ]
      },
      {
       "output_type": "stream",
       "stream": "stdout",
       "text": [
        "\n",
        "[ 208.17294425  177.2421935    79.86185925]"
       ]
      },
      {
       "output_type": "stream",
       "stream": "stdout",
       "text": [
        "\n",
        "[ 208.23457262  177.33678589   79.83749454]"
       ]
      },
      {
       "output_type": "stream",
       "stream": "stdout",
       "text": [
        "\n",
        "[ 208.2961463   177.43129432   79.81315146]"
       ]
      },
      {
       "output_type": "stream",
       "stream": "stdout",
       "text": [
        "\n",
        "[ 208.35766477  177.52571802   79.78883021]"
       ]
      },
      {
       "output_type": "stream",
       "stream": "stdout",
       "text": [
        "\n",
        "[ 208.41912751  177.62005617   79.76453099]"
       ]
      },
      {
       "output_type": "stream",
       "stream": "stdout",
       "text": [
        "\n",
        "[ 208.480534  177.714308   79.740254]"
       ]
      },
      {
       "output_type": "stream",
       "stream": "stdout",
       "text": [
        "\n",
        "[ 208.54188373  177.80847271   79.71599945]"
       ]
      },
      {
       "output_type": "stream",
       "stream": "stdout",
       "text": [
        "\n",
        "[ 208.60317619  177.9025495    79.69176755]"
       ]
      },
      {
       "output_type": "stream",
       "stream": "stdout",
       "text": [
        "\n",
        "[ 208.66441086  177.9965376    79.6675585 ]"
       ]
      },
      {
       "output_type": "stream",
       "stream": "stdout",
       "text": [
        "\n",
        "[ 208.72558722  178.09043619   79.6433725 ]"
       ]
      },
      {
       "output_type": "stream",
       "stream": "stdout",
       "text": [
        "\n",
        "[ 208.78670475  178.1842445    79.61920975]"
       ]
      },
      {
       "output_type": "stream",
       "stream": "stdout",
       "text": [
        "\n",
        "[ 208.84776294  178.27796173   79.59507046]"
       ]
      },
      {
       "output_type": "stream",
       "stream": "stdout",
       "text": [
        "\n",
        "[ 208.90876128  178.37158708   79.57095484]"
       ]
      },
      {
       "output_type": "stream",
       "stream": "stdout",
       "text": [
        "\n",
        "[ 208.96969925  178.46511978   79.54686309]"
       ]
      },
      {
       "output_type": "stream",
       "stream": "stdout",
       "text": [
        "\n",
        "[ 209.03057633  178.55855901   79.52279541]"
       ]
      },
      {
       "output_type": "stream",
       "stream": "stdout",
       "text": [
        "\n",
        "[ 209.091392  178.651904   79.498752]"
       ]
      },
      {
       "output_type": "stream",
       "stream": "stdout",
       "text": [
        "\n",
        "[ 209.15214575  178.74515395   79.47473307]"
       ]
      },
      {
       "output_type": "stream",
       "stream": "stdout",
       "text": [
        "\n",
        "[ 209.21283707  178.83830806   79.45073883]"
       ]
      },
      {
       "output_type": "stream",
       "stream": "stdout",
       "text": [
        "\n",
        "[ 209.27346544  178.93136556   79.42676948]"
       ]
      },
      {
       "output_type": "stream",
       "stream": "stdout",
       "text": [
        "\n",
        "[ 209.33403034  179.02432563   79.40282522]"
       ]
      },
      {
       "output_type": "stream",
       "stream": "stdout",
       "text": [
        "\n",
        "[ 209.39453125  179.1171875    79.37890625]"
       ]
      },
      {
       "output_type": "stream",
       "stream": "stdout",
       "text": [
        "\n",
        "[ 209.45496766  179.20995037   79.35501278]"
       ]
      },
      {
       "output_type": "stream",
       "stream": "stdout",
       "text": [
        "\n",
        "[ 209.51533906  179.30261344   79.33114502]"
       ]
      },
      {
       "output_type": "stream",
       "stream": "stdout",
       "text": [
        "\n",
        "[ 209.57564493  179.39517594   79.30730317]"
       ]
      },
      {
       "output_type": "stream",
       "stream": "stdout",
       "text": [
        "\n",
        "[ 209.63588475  179.48763705   79.28348743]"
       ]
      },
      {
       "output_type": "stream",
       "stream": "stdout",
       "text": [
        "\n",
        "[ 209.696058  179.579996   79.259698]"
       ]
      },
      {
       "output_type": "stream",
       "stream": "stdout",
       "text": [
        "\n",
        "[ 209.75616417  179.67225199   79.23593509]"
       ]
      },
      {
       "output_type": "stream",
       "stream": "stdout",
       "text": [
        "\n",
        "[ 209.81620275  179.76440422   79.21219891]"
       ]
      },
      {
       "output_type": "stream",
       "stream": "stdout",
       "text": [
        "\n",
        "[ 209.87617322  179.85645192   79.18848966]"
       ]
      },
      {
       "output_type": "stream",
       "stream": "stdout",
       "text": [
        "\n",
        "[ 209.93607506  179.94839427   79.16480754]"
       ]
      },
      {
       "output_type": "stream",
       "stream": "stdout",
       "text": [
        "\n",
        "[ 209.99590775  180.0402305    79.14115275]"
       ]
      },
      {
       "output_type": "stream",
       "stream": "stdout",
       "text": [
        "\n",
        "[ 210.05567078  180.13195981   79.1175255 ]"
       ]
      },
      {
       "output_type": "stream",
       "stream": "stdout",
       "text": [
        "\n",
        "[ 210.11536364  180.2235814    79.093926  ]"
       ]
      },
      {
       "output_type": "stream",
       "stream": "stdout",
       "text": [
        "\n",
        "[ 210.17498581  180.3150945    79.07035445]"
       ]
      },
      {
       "output_type": "stream",
       "stream": "stdout",
       "text": [
        "\n",
        "[ 210.23453677  180.40649829   79.04681105]"
       ]
      },
      {
       "output_type": "stream",
       "stream": "stdout",
       "text": [
        "\n",
        "[ 210.294016  180.497792   79.023296]"
       ]
      },
      {
       "output_type": "stream",
       "stream": "stdout",
       "text": [
        "\n",
        "[ 210.35342299  180.58897483   78.99980951]"
       ]
      },
      {
       "output_type": "stream",
       "stream": "stdout",
       "text": [
        "\n",
        "[ 210.41275723  180.68004598   78.97635179]"
       ]
      },
      {
       "output_type": "stream",
       "stream": "stdout",
       "text": [
        "\n",
        "[ 210.4720182   180.77100468   78.95292304]"
       ]
      },
      {
       "output_type": "stream",
       "stream": "stdout",
       "text": [
        "\n",
        "[ 210.53120538  180.86185011   78.92952346]"
       ]
      },
      {
       "output_type": "stream",
       "stream": "stdout",
       "text": [
        "\n",
        "[ 210.59031825  180.9525815    78.90615325]"
       ]
      },
      {
       "output_type": "stream",
       "stream": "stdout",
       "text": [
        "\n",
        "[ 210.6493563   181.04319805   78.88281262]"
       ]
      },
      {
       "output_type": "stream",
       "stream": "stdout",
       "text": [
        "\n",
        "[ 210.70831902  181.13369896   78.85950178]"
       ]
      },
      {
       "output_type": "stream",
       "stream": "stdout",
       "text": [
        "\n",
        "[ 210.76720589  181.22408346   78.83622093]"
       ]
      },
      {
       "output_type": "stream",
       "stream": "stdout",
       "text": [
        "\n",
        "[ 210.82601639  181.31435073   78.81297027]"
       ]
      },
      {
       "output_type": "stream",
       "stream": "stdout",
       "text": [
        "\n",
        "[ 210.88475  181.4045    78.78975]"
       ]
      },
      {
       "output_type": "stream",
       "stream": "stdout",
       "text": [
        "\n",
        "[ 210.94340621  181.49453047   78.76656033]"
       ]
      },
      {
       "output_type": "stream",
       "stream": "stdout",
       "text": [
        "\n",
        "[ 211.00198451  181.58444134   78.74340147]"
       ]
      },
      {
       "output_type": "stream",
       "stream": "stdout",
       "text": [
        "\n",
        "[ 211.06048438  181.67423184   78.72027362]"
       ]
      },
      {
       "output_type": "stream",
       "stream": "stdout",
       "text": [
        "\n",
        "[ 211.1189053   181.76390115   78.69717698]"
       ]
      },
      {
       "output_type": "stream",
       "stream": "stdout",
       "text": [
        "\n",
        "[ 211.17724675  181.8534485    78.67411175]"
       ]
      },
      {
       "output_type": "stream",
       "stream": "stdout",
       "text": [
        "\n",
        "[ 211.23550822  181.94287309   78.65107814]"
       ]
      },
      {
       "output_type": "stream",
       "stream": "stdout",
       "text": [
        "\n",
        "[ 211.2936892   182.03217412   78.62807636]"
       ]
      },
      {
       "output_type": "stream",
       "stream": "stdout",
       "text": [
        "\n",
        "[ 211.35178917  182.12135082   78.60510661]"
       ]
      },
      {
       "output_type": "stream",
       "stream": "stdout",
       "text": [
        "\n",
        "[ 211.40980761  182.21040237   78.58216909]"
       ]
      },
      {
       "output_type": "stream",
       "stream": "stdout",
       "text": [
        "\n",
        "[ 211.467744  182.299328   78.559264]"
       ]
      },
      {
       "output_type": "stream",
       "stream": "stdout",
       "text": [
        "\n",
        "[ 211.52559783  182.38812691   78.53639155]"
       ]
      },
      {
       "output_type": "stream",
       "stream": "stdout",
       "text": [
        "\n",
        "[ 211.58336859  182.4767983    78.51355195]"
       ]
      },
      {
       "output_type": "stream",
       "stream": "stdout",
       "text": [
        "\n",
        "[ 211.64105576  182.5653414    78.4907454 ]"
       ]
      },
      {
       "output_type": "stream",
       "stream": "stdout",
       "text": [
        "\n",
        "[ 211.69865882  182.65375539   78.4679721 ]"
       ]
      },
      {
       "output_type": "stream",
       "stream": "stdout",
       "text": [
        "\n",
        "[ 211.75617725  182.7420395    78.44523225]"
       ]
      },
      {
       "output_type": "stream",
       "stream": "stdout",
       "text": [
        "\n",
        "[ 211.81361054  182.83019293   78.42252606]"
       ]
      },
      {
       "output_type": "stream",
       "stream": "stdout",
       "text": [
        "\n",
        "[ 211.87095818  182.91821488   78.39985374]"
       ]
      },
      {
       "output_type": "stream",
       "stream": "stdout",
       "text": [
        "\n",
        "[ 211.92821965  183.00610458   78.37721549]"
       ]
      },
      {
       "output_type": "stream",
       "stream": "stdout",
       "text": [
        "\n",
        "[ 211.98539443  183.09386121   78.35461151]"
       ]
      },
      {
       "output_type": "stream",
       "stream": "stdout",
       "text": [
        "\n",
        "[ 212.042482  183.181484   78.332042]"
       ]
      },
      {
       "output_type": "stream",
       "stream": "stdout",
       "text": [
        "\n",
        "[ 212.09948185  183.26897215   78.30950717]"
       ]
      },
      {
       "output_type": "stream",
       "stream": "stdout",
       "text": [
        "\n",
        "[ 212.15639347  183.35632486   78.28700723]"
       ]
      },
      {
       "output_type": "stream",
       "stream": "stdout",
       "text": [
        "\n",
        "[ 212.21321634  183.44354136   78.26454238]"
       ]
      },
      {
       "output_type": "stream",
       "stream": "stdout",
       "text": [
        "\n",
        "[ 212.26994994  183.53062083   78.24211282]"
       ]
      },
      {
       "output_type": "stream",
       "stream": "stdout",
       "text": [
        "\n",
        "[ 212.32659375  183.6175625    78.21971875]"
       ]
      },
      {
       "output_type": "stream",
       "stream": "stdout",
       "text": [
        "\n",
        "[ 212.38314726  183.70436557   78.19736038]"
       ]
      },
      {
       "output_type": "stream",
       "stream": "stdout",
       "text": [
        "\n",
        "[ 212.43960996  183.79102924   78.17503792]"
       ]
      },
      {
       "output_type": "stream",
       "stream": "stdout",
       "text": [
        "\n",
        "[ 212.49598133  183.87755274   78.15275157]"
       ]
      },
      {
       "output_type": "stream",
       "stream": "stdout",
       "text": [
        "\n",
        "[ 212.55226085  183.96393525   78.13050153]"
       ]
      },
      {
       "output_type": "stream",
       "stream": "stdout",
       "text": [
        "\n",
        "[ 212.608448  184.050176   78.108288]"
       ]
      },
      {
       "output_type": "stream",
       "stream": "stdout",
       "text": [
        "\n",
        "[ 212.66454227  184.13627419   78.08611119]"
       ]
      },
      {
       "output_type": "stream",
       "stream": "stdout",
       "text": [
        "\n",
        "[ 212.72054315  184.22222902   78.06397131]"
       ]
      },
      {
       "output_type": "stream",
       "stream": "stdout",
       "text": [
        "\n",
        "[ 212.77645012  184.30803972   78.04186856]"
       ]
      },
      {
       "output_type": "stream",
       "stream": "stdout",
       "text": [
        "\n",
        "[ 212.83226266  184.39370547   78.01980314]"
       ]
      },
      {
       "output_type": "stream",
       "stream": "stdout",
       "text": [
        "\n",
        "[ 212.88798025  184.4792255    77.99777525]"
       ]
      },
      {
       "output_type": "stream",
       "stream": "stdout",
       "text": [
        "\n",
        "[ 212.94360238  184.56459901   77.9757851 ]"
       ]
      },
      {
       "output_type": "stream",
       "stream": "stdout",
       "text": [
        "\n",
        "[ 212.99912854  184.6498252    77.9538329 ]"
       ]
      },
      {
       "output_type": "stream",
       "stream": "stdout",
       "text": [
        "\n",
        "[ 213.05455821  184.7349033    77.93191885]"
       ]
      },
      {
       "output_type": "stream",
       "stream": "stdout",
       "text": [
        "\n",
        "[ 213.10989087  184.81983249   77.91004315]"
       ]
      },
      {
       "output_type": "stream",
       "stream": "stdout",
       "text": [
        "\n",
        "[ 213.165126  184.904612   77.888206]"
       ]
      },
      {
       "output_type": "stream",
       "stream": "stdout",
       "text": [
        "\n",
        "[ 213.22026309  184.98924103   77.86640761]"
       ]
      },
      {
       "output_type": "stream",
       "stream": "stdout",
       "text": [
        "\n",
        "[ 213.27530163  185.07371878   77.84464819]"
       ]
      },
      {
       "output_type": "stream",
       "stream": "stdout",
       "text": [
        "\n",
        "[ 213.3302411   185.15804448   77.82292794]"
       ]
      },
      {
       "output_type": "stream",
       "stream": "stdout",
       "text": [
        "\n",
        "[ 213.38508098  185.24221731   77.80124706]"
       ]
      },
      {
       "output_type": "stream",
       "stream": "stdout",
       "text": [
        "\n",
        "[ 213.43982075  185.3262365    77.77960575]"
       ]
      },
      {
       "output_type": "stream",
       "stream": "stdout",
       "text": [
        "\n",
        "[ 213.4944599   185.41010125   77.75800422]"
       ]
      },
      {
       "output_type": "stream",
       "stream": "stdout",
       "text": [
        "\n",
        "[ 213.54899792  185.49381076   77.73644268]"
       ]
      },
      {
       "output_type": "stream",
       "stream": "stdout",
       "text": [
        "\n",
        "[ 213.60343429  185.57736426   77.71492133]"
       ]
      },
      {
       "output_type": "stream",
       "stream": "stdout",
       "text": [
        "\n",
        "[ 213.65776849  185.66076093   77.69344037]"
       ]
      },
      {
       "output_type": "stream",
       "stream": "stdout",
       "text": [
        "\n",
        "[ 213.712  185.744   77.672]"
       ]
      },
      {
       "output_type": "stream",
       "stream": "stdout",
       "text": [
        "\n",
        "[ 213.76612831  185.82708067   77.65060043]"
       ]
      },
      {
       "output_type": "stream",
       "stream": "stdout",
       "text": [
        "\n",
        "[ 213.82015291  185.91000214   77.62924187]"
       ]
      },
      {
       "output_type": "stream",
       "stream": "stdout",
       "text": [
        "\n",
        "[ 213.87407328  185.99276364   77.60792452]"
       ]
      },
      {
       "output_type": "stream",
       "stream": "stdout",
       "text": [
        "\n",
        "[ 213.9278889   186.07536435   77.58664858]"
       ]
      },
      {
       "output_type": "stream",
       "stream": "stdout",
       "text": [
        "\n",
        "[ 213.98159925  186.1578035    77.56541425]"
       ]
      },
      {
       "output_type": "stream",
       "stream": "stdout",
       "text": [
        "\n",
        "[ 214.03520382  186.24008029   77.54422174]"
       ]
      },
      {
       "output_type": "stream",
       "stream": "stdout",
       "text": [
        "\n",
        "[ 214.0887021   186.32219392   77.52307126]"
       ]
      },
      {
       "output_type": "stream",
       "stream": "stdout",
       "text": [
        "\n",
        "[ 214.14209357  186.40414362   77.50196301]"
       ]
      },
      {
       "output_type": "stream",
       "stream": "stdout",
       "text": [
        "\n",
        "[ 214.19537771  186.48592857   77.48089719]"
       ]
      },
      {
       "output_type": "stream",
       "stream": "stdout",
       "text": [
        "\n",
        "[ 214.248554  186.567548   77.459874]"
       ]
      },
      {
       "output_type": "stream",
       "stream": "stdout",
       "text": [
        "\n",
        "[ 214.30162193  186.64900111   77.43889365]"
       ]
      },
      {
       "output_type": "stream",
       "stream": "stdout",
       "text": [
        "\n",
        "[ 214.35458099  186.7302871    77.41795635]"
       ]
      },
      {
       "output_type": "stream",
       "stream": "stdout",
       "text": [
        "\n",
        "[ 214.40743066  186.8114052    77.3970623 ]"
       ]
      },
      {
       "output_type": "stream",
       "stream": "stdout",
       "text": [
        "\n",
        "[ 214.46017042  186.89235459   77.3762117 ]"
       ]
      },
      {
       "output_type": "stream",
       "stream": "stdout",
       "text": [
        "\n",
        "[ 214.51279975  186.9731345    77.35540475]"
       ]
      },
      {
       "output_type": "stream",
       "stream": "stdout",
       "text": [
        "\n",
        "[ 214.56531814  187.05374413   77.33464166]"
       ]
      },
      {
       "output_type": "stream",
       "stream": "stdout",
       "text": [
        "\n",
        "[ 214.61772508  187.13418268   77.31392264]"
       ]
      },
      {
       "output_type": "stream",
       "stream": "stdout",
       "text": [
        "\n",
        "[ 214.67002005  187.21444938   77.29324789]"
       ]
      },
      {
       "output_type": "stream",
       "stream": "stdout",
       "text": [
        "\n",
        "[ 214.72220253  187.29454341   77.27261761]"
       ]
      },
      {
       "output_type": "stream",
       "stream": "stdout",
       "text": [
        "\n",
        "[ 214.774272  187.374464   77.252032]"
       ]
      },
      {
       "output_type": "stream",
       "stream": "stdout",
       "text": [
        "\n",
        "[ 214.82622795  187.45421035   77.23149127]"
       ]
      },
      {
       "output_type": "stream",
       "stream": "stdout",
       "text": [
        "\n",
        "[ 214.87806987  187.53378166   77.21099563]"
       ]
      },
      {
       "output_type": "stream",
       "stream": "stdout",
       "text": [
        "\n",
        "[ 214.92979724  187.61317716   77.19054528]"
       ]
      },
      {
       "output_type": "stream",
       "stream": "stdout",
       "text": [
        "\n",
        "[ 214.98140954  187.69239603   77.17014042]"
       ]
      },
      {
       "output_type": "stream",
       "stream": "stdout",
       "text": [
        "\n",
        "[ 215.03290625  187.7714375    77.14978125]"
       ]
      },
      {
       "output_type": "stream",
       "stream": "stdout",
       "text": [
        "\n",
        "[ 215.08428686  187.85030077   77.12946798]"
       ]
      },
      {
       "output_type": "stream",
       "stream": "stdout",
       "text": [
        "\n",
        "[ 215.13555086  187.92898504   77.10920082]"
       ]
      },
      {
       "output_type": "stream",
       "stream": "stdout",
       "text": [
        "\n",
        "[ 215.18669773  188.00748954   77.08897997]"
       ]
      },
      {
       "output_type": "stream",
       "stream": "stdout",
       "text": [
        "\n",
        "[ 215.23772695  188.08581345   77.06880563]"
       ]
      },
      {
       "output_type": "stream",
       "stream": "stdout",
       "text": [
        "\n",
        "[ 215.288638  188.163956   77.048678]"
       ]
      },
      {
       "output_type": "stream",
       "stream": "stdout",
       "text": [
        "\n",
        "[ 215.33943037  188.24191639   77.02859729]"
       ]
      },
      {
       "output_type": "stream",
       "stream": "stdout",
       "text": [
        "\n",
        "[ 215.39010355  188.31969382   77.00856371]"
       ]
      },
      {
       "output_type": "stream",
       "stream": "stdout",
       "text": [
        "\n",
        "[ 215.44065702  188.39728752   76.98857746]"
       ]
      },
      {
       "output_type": "stream",
       "stream": "stdout",
       "text": [
        "\n",
        "[ 215.49109026  188.47469667   76.96863874]"
       ]
      },
      {
       "output_type": "stream",
       "stream": "stdout",
       "text": [
        "\n",
        "[ 215.54140275  188.5519205    76.94874775]"
       ]
      },
      {
       "output_type": "stream",
       "stream": "stdout",
       "text": [
        "\n",
        "[ 215.59159398  188.62895821   76.9289047 ]"
       ]
      },
      {
       "output_type": "stream",
       "stream": "stdout",
       "text": [
        "\n",
        "[ 215.64166344  188.705809     76.9091098 ]"
       ]
      },
      {
       "output_type": "stream",
       "stream": "stdout",
       "text": [
        "\n",
        "[ 215.69161061  188.7824721    76.88936325]"
       ]
      },
      {
       "output_type": "stream",
       "stream": "stdout",
       "text": [
        "\n",
        "[ 215.74143497  188.85894669   76.86966525]"
       ]
      },
      {
       "output_type": "stream",
       "stream": "stdout",
       "text": [
        "\n",
        "[ 215.791136  188.935232   76.850016]"
       ]
      },
      {
       "output_type": "stream",
       "stream": "stdout",
       "text": [
        "\n",
        "[ 215.84071319  189.01132723   76.83041571]"
       ]
      },
      {
       "output_type": "stream",
       "stream": "stdout",
       "text": [
        "\n",
        "[ 215.89016603  189.08723158   76.81086459]"
       ]
      },
      {
       "output_type": "stream",
       "stream": "stdout",
       "text": [
        "\n",
        "[ 215.939494    189.16294428   76.79136284]"
       ]
      },
      {
       "output_type": "stream",
       "stream": "stdout",
       "text": [
        "\n",
        "[ 215.98869658  189.23846451   76.77191066]"
       ]
      },
      {
       "output_type": "stream",
       "stream": "stdout",
       "text": [
        "\n",
        "[ 216.03777325  189.3137915    76.75250825]"
       ]
      },
      {
       "output_type": "stream",
       "stream": "stdout",
       "text": [
        "\n",
        "[ 216.0867235   189.38892445   76.73315582]"
       ]
      },
      {
       "output_type": "stream",
       "stream": "stdout",
       "text": [
        "\n",
        "[ 216.13554682  189.46386256   76.71385358]"
       ]
      },
      {
       "output_type": "stream",
       "stream": "stdout",
       "text": [
        "\n",
        "[ 216.18424269  189.53860506   76.69460173]"
       ]
      },
      {
       "output_type": "stream",
       "stream": "stdout",
       "text": [
        "\n",
        "[ 216.23281059  189.61315113   76.67540047]"
       ]
      },
      {
       "output_type": "stream",
       "stream": "stdout",
       "text": [
        "\n",
        "[ 216.28125  189.6875    76.65625]"
       ]
      },
      {
       "output_type": "stream",
       "stream": "stdout",
       "text": [
        "\n",
        "[ 216.32956041  189.76165087   76.63715053]"
       ]
      },
      {
       "output_type": "stream",
       "stream": "stdout",
       "text": [
        "\n",
        "[ 216.37774131  189.83560294   76.61810227]"
       ]
      },
      {
       "output_type": "stream",
       "stream": "stdout",
       "text": [
        "\n",
        "[ 216.42579218  189.90935544   76.59910542]"
       ]
      },
      {
       "output_type": "stream",
       "stream": "stdout",
       "text": [
        "\n",
        "[ 216.4737125   189.98290755   76.58016018]"
       ]
      },
      {
       "output_type": "stream",
       "stream": "stdout",
       "text": [
        "\n",
        "[ 216.52150175  190.0562585    76.56126675]"
       ]
      },
      {
       "output_type": "stream",
       "stream": "stdout",
       "text": [
        "\n",
        "[ 216.56915942  190.12940749   76.54242534]"
       ]
      },
      {
       "output_type": "stream",
       "stream": "stdout",
       "text": [
        "\n",
        "[ 216.616685    190.20235372   76.52363616]"
       ]
      },
      {
       "output_type": "stream",
       "stream": "stdout",
       "text": [
        "\n",
        "[ 216.66407797  190.27509642   76.50489941]"
       ]
      },
      {
       "output_type": "stream",
       "stream": "stdout",
       "text": [
        "\n",
        "[ 216.71133781  190.34763477   76.48621529]"
       ]
      },
      {
       "output_type": "stream",
       "stream": "stdout",
       "text": [
        "\n",
        "[ 216.758464  190.419968   76.467584]"
       ]
      },
      {
       "output_type": "stream",
       "stream": "stdout",
       "text": [
        "\n",
        "[ 216.80545603  190.49209531   76.44900575]"
       ]
      },
      {
       "output_type": "stream",
       "stream": "stdout",
       "text": [
        "\n",
        "[ 216.85231339  190.5640159    76.43048075]"
       ]
      },
      {
       "output_type": "stream",
       "stream": "stdout",
       "text": [
        "\n",
        "[ 216.89903556  190.635729     76.4120092 ]"
       ]
      },
      {
       "output_type": "stream",
       "stream": "stdout",
       "text": [
        "\n",
        "[ 216.94562202  190.70723379   76.3935913 ]"
       ]
      },
      {
       "output_type": "stream",
       "stream": "stdout",
       "text": [
        "\n",
        "[ 216.99207225  190.7785295    76.37522725]"
       ]
      },
      {
       "output_type": "stream",
       "stream": "stdout",
       "text": [
        "\n",
        "[ 217.03838574  190.84961533   76.35691726]"
       ]
      },
      {
       "output_type": "stream",
       "stream": "stdout",
       "text": [
        "\n",
        "[ 217.08456198  190.92049048   76.33866154]"
       ]
      },
      {
       "output_type": "stream",
       "stream": "stdout",
       "text": [
        "\n",
        "[ 217.13060045  190.99115418   76.32046029]"
       ]
      },
      {
       "output_type": "stream",
       "stream": "stdout",
       "text": [
        "\n",
        "[ 217.17650063  191.06160561   76.30231371]"
       ]
      },
      {
       "output_type": "stream",
       "stream": "stdout",
       "text": [
        "\n",
        "[ 217.222262  191.131844   76.284222]"
       ]
      },
      {
       "output_type": "stream",
       "stream": "stdout",
       "text": [
        "\n",
        "[ 217.26788405  191.20186855   76.26618537]"
       ]
      },
      {
       "output_type": "stream",
       "stream": "stdout",
       "text": [
        "\n",
        "[ 217.31336627  191.27167846   76.24820403]"
       ]
      },
      {
       "output_type": "stream",
       "stream": "stdout",
       "text": [
        "\n",
        "[ 217.35870814  191.34127296   76.23027818]"
       ]
      },
      {
       "output_type": "stream",
       "stream": "stdout",
       "text": [
        "\n",
        "[ 217.40390914  191.41065123   76.21240802]"
       ]
      },
      {
       "output_type": "stream",
       "stream": "stdout",
       "text": [
        "\n",
        "[ 217.44896875  191.4798125    76.19459375]"
       ]
      },
      {
       "output_type": "stream",
       "stream": "stdout",
       "text": [
        "\n",
        "[ 217.49388646  191.54875597   76.17683558]"
       ]
      },
      {
       "output_type": "stream",
       "stream": "stdout",
       "text": [
        "\n",
        "[ 217.53866176  191.61748084   76.15913372]"
       ]
      },
      {
       "output_type": "stream",
       "stream": "stdout",
       "text": [
        "\n",
        "[ 217.58329413  191.68598634   76.14148837]"
       ]
      },
      {
       "output_type": "stream",
       "stream": "stdout",
       "text": [
        "\n",
        "[ 217.62778305  191.75427165   76.12389973]"
       ]
      },
      {
       "output_type": "stream",
       "stream": "stdout",
       "text": [
        "\n",
        "[ 217.672128  191.822336   76.106368]"
       ]
      },
      {
       "output_type": "stream",
       "stream": "stdout",
       "text": [
        "\n",
        "[ 217.71632847  191.89017859   76.08889339]"
       ]
      },
      {
       "output_type": "stream",
       "stream": "stdout",
       "text": [
        "\n",
        "[ 217.76038395  191.95779862   76.07147611]"
       ]
      },
      {
       "output_type": "stream",
       "stream": "stdout",
       "text": [
        "\n",
        "[ 217.80429392  192.02519532   76.05411636]"
       ]
      },
      {
       "output_type": "stream",
       "stream": "stdout",
       "text": [
        "\n",
        "[ 217.84805786  192.09236787   76.03681434]"
       ]
      },
      {
       "output_type": "stream",
       "stream": "stdout",
       "text": [
        "\n",
        "[ 217.89167525  192.1593155    76.01957025]"
       ]
      },
      {
       "output_type": "stream",
       "stream": "stdout",
       "text": [
        "\n",
        "[ 217.93514558  192.22603741   76.0023843 ]"
       ]
      },
      {
       "output_type": "stream",
       "stream": "stdout",
       "text": [
        "\n",
        "[ 217.97846834  192.2925328    75.9852567 ]"
       ]
      },
      {
       "output_type": "stream",
       "stream": "stdout",
       "text": [
        "\n",
        "[ 218.02164301  192.3588009    75.96818765]"
       ]
      },
      {
       "output_type": "stream",
       "stream": "stdout",
       "text": [
        "\n",
        "[ 218.06466907  192.42484089   75.95117735]"
       ]
      },
      {
       "output_type": "stream",
       "stream": "stdout",
       "text": [
        "\n",
        "[ 218.107546  192.490652   75.934226]"
       ]
      },
      {
       "output_type": "stream",
       "stream": "stdout",
       "text": [
        "\n",
        "[ 218.15027329  192.55623343   75.91733381]"
       ]
      },
      {
       "output_type": "stream",
       "stream": "stdout",
       "text": [
        "\n",
        "[ 218.19285043  192.62158438   75.90050099]"
       ]
      },
      {
       "output_type": "stream",
       "stream": "stdout",
       "text": [
        "\n",
        "[ 218.2352769   192.68670408   75.88372774]"
       ]
      },
      {
       "output_type": "stream",
       "stream": "stdout",
       "text": [
        "\n",
        "[ 218.27755218  192.75159171   75.86701426]"
       ]
      },
      {
       "output_type": "stream",
       "stream": "stdout",
       "text": [
        "\n",
        "[ 218.31967575  192.8162465    75.85036075]"
       ]
      },
      {
       "output_type": "stream",
       "stream": "stdout",
       "text": [
        "\n",
        "[ 218.3616471   192.88066765   75.83376742]"
       ]
      },
      {
       "output_type": "stream",
       "stream": "stdout",
       "text": [
        "\n",
        "[ 218.40346572  192.94485436   75.81723448]"
       ]
      },
      {
       "output_type": "stream",
       "stream": "stdout",
       "text": [
        "\n",
        "[ 218.44513109  193.00880586   75.80076213]"
       ]
      },
      {
       "output_type": "stream",
       "stream": "stdout",
       "text": [
        "\n",
        "[ 218.48664269  193.07252133   75.78435057]"
       ]
      },
      {
       "output_type": "stream",
       "stream": "stdout",
       "text": [
        "\n",
        "[ 218.528  193.136   75.768]"
       ]
      },
      {
       "output_type": "stream",
       "stream": "stdout",
       "text": [
        "\n",
        "[ 218.56920251  193.19924107   75.75171063]"
       ]
      },
      {
       "output_type": "stream",
       "stream": "stdout",
       "text": [
        "\n",
        "[ 218.61024971  193.26224374   75.73548267]"
       ]
      },
      {
       "output_type": "stream",
       "stream": "stdout",
       "text": [
        "\n",
        "[ 218.65114108  193.32500724   75.71931632]"
       ]
      },
      {
       "output_type": "stream",
       "stream": "stdout",
       "text": [
        "\n",
        "[ 218.6918761   193.38753075   75.70321178]"
       ]
      },
      {
       "output_type": "stream",
       "stream": "stdout",
       "text": [
        "\n",
        "[ 218.73245425  193.4498135    75.68716925]"
       ]
      },
      {
       "output_type": "stream",
       "stream": "stdout",
       "text": [
        "\n",
        "[ 218.77287502  193.51185469   75.67118894]"
       ]
      },
      {
       "output_type": "stream",
       "stream": "stdout",
       "text": [
        "\n",
        "[ 218.8131379   193.57365352   75.65527106]"
       ]
      },
      {
       "output_type": "stream",
       "stream": "stdout",
       "text": [
        "\n",
        "[ 218.85324237  193.63520922   75.63941581]"
       ]
      },
      {
       "output_type": "stream",
       "stream": "stdout",
       "text": [
        "\n",
        "[ 218.89318791  193.69652097   75.62362339]"
       ]
      },
      {
       "output_type": "stream",
       "stream": "stdout",
       "text": [
        "\n",
        "[ 218.932974  193.757588   75.607894]"
       ]
      },
      {
       "output_type": "stream",
       "stream": "stdout",
       "text": [
        "\n",
        "[ 218.97260013  193.81840951   75.59222785]"
       ]
      },
      {
       "output_type": "stream",
       "stream": "stdout",
       "text": [
        "\n",
        "[ 219.01206579  193.8789847    75.57662515]"
       ]
      },
      {
       "output_type": "stream",
       "stream": "stdout",
       "text": [
        "\n",
        "[ 219.05137046  193.9393128    75.5610861 ]"
       ]
      },
      {
       "output_type": "stream",
       "stream": "stdout",
       "text": [
        "\n",
        "[ 219.09051362  193.99939299   75.5456109 ]"
       ]
      },
      {
       "output_type": "stream",
       "stream": "stdout",
       "text": [
        "\n",
        "[ 219.12949475  194.0592245    75.53019975]"
       ]
      },
      {
       "output_type": "stream",
       "stream": "stdout",
       "text": [
        "\n",
        "[ 219.16831334  194.11880653   75.51485286]"
       ]
      },
      {
       "output_type": "stream",
       "stream": "stdout",
       "text": [
        "\n",
        "[ 219.20696888  194.17813828   75.49957044]"
       ]
      },
      {
       "output_type": "stream",
       "stream": "stdout",
       "text": [
        "\n",
        "[ 219.24546085  194.23721898   75.48435269]"
       ]
      },
      {
       "output_type": "stream",
       "stream": "stdout",
       "text": [
        "\n",
        "[ 219.28378873  194.29604781   75.46919981]"
       ]
      },
      {
       "output_type": "stream",
       "stream": "stdout",
       "text": [
        "\n",
        "[ 219.321952  194.354624   75.454112]"
       ]
      },
      {
       "output_type": "stream",
       "stream": "stdout",
       "text": [
        "\n",
        "[ 219.35995015  194.41294675   75.43908947]"
       ]
      },
      {
       "output_type": "stream",
       "stream": "stdout",
       "text": [
        "\n",
        "[ 219.39778267  194.47101526   75.42413243]"
       ]
      },
      {
       "output_type": "stream",
       "stream": "stdout",
       "text": [
        "\n",
        "[ 219.43544904  194.52882876   75.40924108]"
       ]
      },
      {
       "output_type": "stream",
       "stream": "stdout",
       "text": [
        "\n",
        "[ 219.47294874  194.58638643   75.39441562]"
       ]
      },
      {
       "output_type": "stream",
       "stream": "stdout",
       "text": [
        "\n",
        "[ 219.51028125  194.6436875    75.37965625]"
       ]
      },
      {
       "output_type": "stream",
       "stream": "stdout",
       "text": [
        "\n",
        "[ 219.54744606  194.70073117   75.36496318]"
       ]
      },
      {
       "output_type": "stream",
       "stream": "stdout",
       "text": [
        "\n",
        "[ 219.58444266  194.75751664   75.35033662]"
       ]
      },
      {
       "output_type": "stream",
       "stream": "stdout",
       "text": [
        "\n",
        "[ 219.62127053  194.81404314   75.33577677]"
       ]
      },
      {
       "output_type": "stream",
       "stream": "stdout",
       "text": [
        "\n",
        "[ 219.65792915  194.87030985   75.32128383]"
       ]
      },
      {
       "output_type": "stream",
       "stream": "stdout",
       "text": [
        "\n",
        "[ 219.694418  194.926316   75.306858]"
       ]
      },
      {
       "output_type": "stream",
       "stream": "stdout",
       "text": [
        "\n",
        "[ 219.73073657  194.98206079   75.29249949]"
       ]
      },
      {
       "output_type": "stream",
       "stream": "stdout",
       "text": [
        "\n",
        "[ 219.76688435  195.03754342   75.27820851]"
       ]
      },
      {
       "output_type": "stream",
       "stream": "stdout",
       "text": [
        "\n",
        "[ 219.80286082  195.09276312   75.26398526]"
       ]
      },
      {
       "output_type": "stream",
       "stream": "stdout",
       "text": [
        "\n",
        "[ 219.83866546  195.14771907   75.24982994]"
       ]
      },
      {
       "output_type": "stream",
       "stream": "stdout",
       "text": [
        "\n",
        "[ 219.87429775  195.2024105    75.23574275]"
       ]
      },
      {
       "output_type": "stream",
       "stream": "stdout",
       "text": [
        "\n",
        "[ 219.90975718  195.25683661   75.2217239 ]"
       ]
      },
      {
       "output_type": "stream",
       "stream": "stdout",
       "text": [
        "\n",
        "[ 219.94504324  195.3109966    75.2077736 ]"
       ]
      },
      {
       "output_type": "stream",
       "stream": "stdout",
       "text": [
        "\n",
        "[ 219.98015541  195.3648897    75.19389205]"
       ]
      },
      {
       "output_type": "stream",
       "stream": "stdout",
       "text": [
        "\n",
        "[ 220.01509317  195.41851509   75.18007945]"
       ]
      },
      {
       "output_type": "stream",
       "stream": "stdout",
       "text": [
        "\n",
        "[ 220.049856  195.471872   75.166336]"
       ]
      },
      {
       "output_type": "stream",
       "stream": "stdout",
       "text": [
        "\n",
        "[ 220.08444339  195.52495963   75.15266191]"
       ]
      },
      {
       "output_type": "stream",
       "stream": "stdout",
       "text": [
        "\n",
        "[ 220.11885483  195.57777718   75.13905739]"
       ]
      },
      {
       "output_type": "stream",
       "stream": "stdout",
       "text": [
        "\n",
        "[ 220.1530898   195.63032388   75.12552264]"
       ]
      },
      {
       "output_type": "stream",
       "stream": "stdout",
       "text": [
        "\n",
        "[ 220.18714778  195.68259891   75.11205786]"
       ]
      },
      {
       "output_type": "stream",
       "stream": "stdout",
       "text": [
        "\n",
        "[ 220.22102825  195.7346015    75.09866325]"
       ]
      },
      {
       "output_type": "stream",
       "stream": "stdout",
       "text": [
        "\n",
        "[ 220.2547307   195.78633085   75.08533902]"
       ]
      },
      {
       "output_type": "stream",
       "stream": "stdout",
       "text": [
        "\n",
        "[ 220.28825462  195.83778616   75.07208538]"
       ]
      },
      {
       "output_type": "stream",
       "stream": "stdout",
       "text": [
        "\n",
        "[ 220.32159949  195.88896666   75.05890253]"
       ]
      },
      {
       "output_type": "stream",
       "stream": "stdout",
       "text": [
        "\n",
        "[ 220.35476479  195.93987153   75.04579067]"
       ]
      },
      {
       "output_type": "stream",
       "stream": "stdout",
       "text": [
        "\n",
        "[ 220.38775  195.9905    75.03275]"
       ]
      },
      {
       "output_type": "stream",
       "stream": "stdout",
       "text": [
        "\n",
        "[ 220.42055461  196.04085127   75.01978073]"
       ]
      },
      {
       "output_type": "stream",
       "stream": "stdout",
       "text": [
        "\n",
        "[ 220.45317811  196.09092454   75.00688307]"
       ]
      },
      {
       "output_type": "stream",
       "stream": "stdout",
       "text": [
        "\n",
        "[ 220.48561998  196.14071904   74.99405722]"
       ]
      },
      {
       "output_type": "stream",
       "stream": "stdout",
       "text": [
        "\n",
        "[ 220.5178797   196.19023395   74.98130338]"
       ]
      },
      {
       "output_type": "stream",
       "stream": "stdout",
       "text": [
        "\n",
        "[ 220.54995675  196.2394685    74.96862175]"
       ]
      },
      {
       "output_type": "stream",
       "stream": "stdout",
       "text": [
        "\n",
        "[ 220.58185062  196.28842189   74.95601254]"
       ]
      },
      {
       "output_type": "stream",
       "stream": "stdout",
       "text": [
        "\n",
        "[ 220.6135608   196.33709332   74.94347596]"
       ]
      },
      {
       "output_type": "stream",
       "stream": "stdout",
       "text": [
        "\n",
        "[ 220.64508677  196.38548202   74.93101221]"
       ]
      },
      {
       "output_type": "stream",
       "stream": "stdout",
       "text": [
        "\n",
        "[ 220.67642801  196.43358717   74.91862149]"
       ]
      },
      {
       "output_type": "stream",
       "stream": "stdout",
       "text": [
        "\n",
        "[ 220.707584  196.481408   74.906304]"
       ]
      },
      {
       "output_type": "stream",
       "stream": "stdout",
       "text": [
        "\n",
        "[ 220.73855423  196.52894371   74.89405995]"
       ]
      },
      {
       "output_type": "stream",
       "stream": "stdout",
       "text": [
        "\n",
        "[ 220.76933819  196.5761935    74.88188955]"
       ]
      },
      {
       "output_type": "stream",
       "stream": "stdout",
       "text": [
        "\n",
        "[ 220.79993536  196.6231566    74.869793  ]"
       ]
      },
      {
       "output_type": "stream",
       "stream": "stdout",
       "text": [
        "\n",
        "[ 220.83034522  196.66983219   74.8577705 ]"
       ]
      },
      {
       "output_type": "stream",
       "stream": "stdout",
       "text": [
        "\n",
        "[ 220.86056725  196.7162195    74.84582225]"
       ]
      },
      {
       "output_type": "stream",
       "stream": "stdout",
       "text": [
        "\n",
        "[ 220.89060094  196.76231773   74.83394846]"
       ]
      },
      {
       "output_type": "stream",
       "stream": "stdout",
       "text": [
        "\n",
        "[ 220.92044578  196.80812608   74.82214934]"
       ]
      },
      {
       "output_type": "stream",
       "stream": "stdout",
       "text": [
        "\n",
        "[ 220.95010125  196.85364378   74.81042509]"
       ]
      },
      {
       "output_type": "stream",
       "stream": "stdout",
       "text": [
        "\n",
        "[ 220.97956683  196.89887001   74.79877591]"
       ]
      },
      {
       "output_type": "stream",
       "stream": "stdout",
       "text": [
        "\n",
        "[ 221.008842  196.943804   74.787202]"
       ]
      },
      {
       "output_type": "stream",
       "stream": "stdout",
       "text": [
        "\n",
        "[ 221.03792625  196.98844495   74.77570357]"
       ]
      },
      {
       "output_type": "stream",
       "stream": "stdout",
       "text": [
        "\n",
        "[ 221.06681907  197.03279206   74.76428083]"
       ]
      },
      {
       "output_type": "stream",
       "stream": "stdout",
       "text": [
        "\n",
        "[ 221.09551994  197.07684456   74.75293398]"
       ]
      },
      {
       "output_type": "stream",
       "stream": "stdout",
       "text": [
        "\n",
        "[ 221.12402834  197.12060163   74.74166322]"
       ]
      },
      {
       "output_type": "stream",
       "stream": "stdout",
       "text": [
        "\n",
        "[ 221.15234375  197.1640625    74.73046875]"
       ]
      },
      {
       "output_type": "stream",
       "stream": "stdout",
       "text": [
        "\n",
        "[ 221.18046566  197.20722637   74.71935078]"
       ]
      },
      {
       "output_type": "stream",
       "stream": "stdout",
       "text": [
        "\n",
        "[ 221.20839356  197.25009244   74.70830952]"
       ]
      },
      {
       "output_type": "stream",
       "stream": "stdout",
       "text": [
        "\n",
        "[ 221.23612693  197.29265994   74.69734517]"
       ]
      },
      {
       "output_type": "stream",
       "stream": "stdout",
       "text": [
        "\n",
        "[ 221.26366525  197.33492805   74.68645793]"
       ]
      },
      {
       "output_type": "stream",
       "stream": "stdout",
       "text": [
        "\n",
        "[ 221.291008  197.376896   74.675648]"
       ]
      },
      {
       "output_type": "stream",
       "stream": "stdout",
       "text": [
        "\n",
        "[ 221.31815467  197.41856299   74.66491559]"
       ]
      },
      {
       "output_type": "stream",
       "stream": "stdout",
       "text": [
        "\n",
        "[ 221.34510475  197.45992822   74.65426091]"
       ]
      },
      {
       "output_type": "stream",
       "stream": "stdout",
       "text": [
        "\n",
        "[ 221.37185772  197.50099092   74.64368416]"
       ]
      },
      {
       "output_type": "stream",
       "stream": "stdout",
       "text": [
        "\n",
        "[ 221.39841306  197.54175027   74.63318554]"
       ]
      },
      {
       "output_type": "stream",
       "stream": "stdout",
       "text": [
        "\n",
        "[ 221.42477025  197.5822055    74.62276525]"
       ]
      },
      {
       "output_type": "stream",
       "stream": "stdout",
       "text": [
        "\n",
        "[ 221.45092878  197.62235581   74.6124235 ]"
       ]
      },
      {
       "output_type": "stream",
       "stream": "stdout",
       "text": [
        "\n",
        "[ 221.47688814  197.6622004    74.6021605 ]"
       ]
      },
      {
       "output_type": "stream",
       "stream": "stdout",
       "text": [
        "\n",
        "[ 221.50264781  197.7017385    74.59197645]"
       ]
      },
      {
       "output_type": "stream",
       "stream": "stdout",
       "text": [
        "\n",
        "[ 221.52820727  197.74096929   74.58187155]"
       ]
      },
      {
       "output_type": "stream",
       "stream": "stdout",
       "text": [
        "\n",
        "[ 221.553566  197.779892   74.571846]"
       ]
      },
      {
       "output_type": "stream",
       "stream": "stdout",
       "text": [
        "\n",
        "[ 221.57872349  197.81850583   74.56190001]"
       ]
      },
      {
       "output_type": "stream",
       "stream": "stdout",
       "text": [
        "\n",
        "[ 221.60367923  197.85680998   74.55203379]"
       ]
      },
      {
       "output_type": "stream",
       "stream": "stdout",
       "text": [
        "\n",
        "[ 221.6284327   197.89480368   74.54224754]"
       ]
      },
      {
       "output_type": "stream",
       "stream": "stdout",
       "text": [
        "\n",
        "[ 221.65298338  197.93248611   74.53254146]"
       ]
      },
      {
       "output_type": "stream",
       "stream": "stdout",
       "text": [
        "\n",
        "[ 221.67733075  197.9698565    74.52291575]"
       ]
      },
      {
       "output_type": "stream",
       "stream": "stdout",
       "text": [
        "\n",
        "[ 221.7014743   198.00691405   74.51337062]"
       ]
      },
      {
       "output_type": "stream",
       "stream": "stdout",
       "text": [
        "\n",
        "[ 221.72541352  198.04365796   74.50390628]"
       ]
      },
      {
       "output_type": "stream",
       "stream": "stdout",
       "text": [
        "\n",
        "[ 221.74914789  198.08008746   74.49452293]"
       ]
      },
      {
       "output_type": "stream",
       "stream": "stdout",
       "text": [
        "\n",
        "[ 221.77267689  198.11620173   74.48522077]"
       ]
      },
      {
       "output_type": "stream",
       "stream": "stdout",
       "text": [
        "\n",
        "[ 221.796  198.152   74.476]"
       ]
      },
      {
       "output_type": "stream",
       "stream": "stdout",
       "text": [
        "\n",
        "[ 221.81911671  198.18748147   74.46686083]"
       ]
      },
      {
       "output_type": "stream",
       "stream": "stdout",
       "text": [
        "\n",
        "[ 221.84202651  198.22264534   74.45780347]"
       ]
      },
      {
       "output_type": "stream",
       "stream": "stdout",
       "text": [
        "\n",
        "[ 221.86472888  198.25749084   74.44882812]"
       ]
      },
      {
       "output_type": "stream",
       "stream": "stdout",
       "text": [
        "\n",
        "[ 221.8872233   198.29201715   74.43993498]"
       ]
      },
      {
       "output_type": "stream",
       "stream": "stdout",
       "text": [
        "\n",
        "[ 221.90950925  198.3262235    74.43112425]"
       ]
      },
      {
       "output_type": "stream",
       "stream": "stdout",
       "text": [
        "\n",
        "[ 221.93158622  198.36010909   74.42239614]"
       ]
      },
      {
       "output_type": "stream",
       "stream": "stdout",
       "text": [
        "\n",
        "[ 221.9534537   198.39367312   74.41375086]"
       ]
      },
      {
       "output_type": "stream",
       "stream": "stdout",
       "text": [
        "\n",
        "[ 221.97511117  198.42691482   74.40518861]"
       ]
      },
      {
       "output_type": "stream",
       "stream": "stdout",
       "text": [
        "\n",
        "[ 221.99655811  198.45983337   74.39670959]"
       ]
      },
      {
       "output_type": "stream",
       "stream": "stdout",
       "text": [
        "\n",
        "[ 222.017794  198.492428   74.388314]"
       ]
      },
      {
       "output_type": "stream",
       "stream": "stdout",
       "text": [
        "\n",
        "[ 222.03881833  198.52469791   74.38000205]"
       ]
      },
      {
       "output_type": "stream",
       "stream": "stdout",
       "text": [
        "\n",
        "[ 222.05963059  198.5566423    74.37177395]"
       ]
      },
      {
       "output_type": "stream",
       "stream": "stdout",
       "text": [
        "\n",
        "[ 222.08023026  198.5882604    74.3636299 ]"
       ]
      },
      {
       "output_type": "stream",
       "stream": "stdout",
       "text": [
        "\n",
        "[ 222.10061682  198.61955139   74.3555701 ]"
       ]
      },
      {
       "output_type": "stream",
       "stream": "stdout",
       "text": [
        "\n",
        "[ 222.12078975  198.6505145    74.34759475]"
       ]
      },
      {
       "output_type": "stream",
       "stream": "stdout",
       "text": [
        "\n",
        "[ 222.14074854  198.68114893   74.33970406]"
       ]
      },
      {
       "output_type": "stream",
       "stream": "stdout",
       "text": [
        "\n",
        "[ 222.16049268  198.71145388   74.33189824]"
       ]
      },
      {
       "output_type": "stream",
       "stream": "stdout",
       "text": [
        "\n",
        "[ 222.18002165  198.74142858   74.32417749]"
       ]
      },
      {
       "output_type": "stream",
       "stream": "stdout",
       "text": [
        "\n",
        "[ 222.19933493  198.77107221   74.31654201]"
       ]
      },
      {
       "output_type": "stream",
       "stream": "stdout",
       "text": [
        "\n",
        "[ 222.218432  198.800384   74.308992]"
       ]
      },
      {
       "output_type": "stream",
       "stream": "stdout",
       "text": [
        "\n",
        "[ 222.23731235  198.82936315   74.30152767]"
       ]
      },
      {
       "output_type": "stream",
       "stream": "stdout",
       "text": [
        "\n",
        "[ 222.25597547  198.85800886   74.29414923]"
       ]
      },
      {
       "output_type": "stream",
       "stream": "stdout",
       "text": [
        "\n",
        "[ 222.27442084  198.88632036   74.28685688]"
       ]
      },
      {
       "output_type": "stream",
       "stream": "stdout",
       "text": [
        "\n",
        "[ 222.29264794  198.91429683   74.27965082]"
       ]
      },
      {
       "output_type": "stream",
       "stream": "stdout",
       "text": [
        "\n",
        "[ 222.31065625  198.9419375    74.27253125]"
       ]
      },
      {
       "output_type": "stream",
       "stream": "stdout",
       "text": [
        "\n",
        "[ 222.32844526  198.96924157   74.26549838]"
       ]
      },
      {
       "output_type": "stream",
       "stream": "stdout",
       "text": [
        "\n",
        "[ 222.34601446  198.99620824   74.25855242]"
       ]
      },
      {
       "output_type": "stream",
       "stream": "stdout",
       "text": [
        "\n",
        "[ 222.36336333  199.02283674   74.25169357]"
       ]
      },
      {
       "output_type": "stream",
       "stream": "stdout",
       "text": [
        "\n",
        "[ 222.38049135  199.04912625   74.24492203]"
       ]
      },
      {
       "output_type": "stream",
       "stream": "stdout",
       "text": [
        "\n",
        "[ 222.397398  199.075076   74.238238]"
       ]
      },
      {
       "output_type": "stream",
       "stream": "stdout",
       "text": [
        "\n",
        "[ 222.41408277  199.10068519   74.23164169]"
       ]
      },
      {
       "output_type": "stream",
       "stream": "stdout",
       "text": [
        "\n",
        "[ 222.43054515  199.12595302   74.22513331]"
       ]
      },
      {
       "output_type": "stream",
       "stream": "stdout",
       "text": [
        "\n",
        "[ 222.44678462  199.15087872   74.21871306]"
       ]
      },
      {
       "output_type": "stream",
       "stream": "stdout",
       "text": [
        "\n",
        "[ 222.46280066  199.17546147   74.21238114]"
       ]
      },
      {
       "output_type": "stream",
       "stream": "stdout",
       "text": [
        "\n",
        "[ 222.47859275  199.1997005    74.20613775]"
       ]
      },
      {
       "output_type": "stream",
       "stream": "stdout",
       "text": [
        "\n",
        "[ 222.49416038  199.22359501   74.1999831 ]"
       ]
      },
      {
       "output_type": "stream",
       "stream": "stdout",
       "text": [
        "\n",
        "[ 222.50950304  199.2471442    74.1939174 ]"
       ]
      },
      {
       "output_type": "stream",
       "stream": "stdout",
       "text": [
        "\n",
        "[ 222.52462021  199.2703473    74.18794085]"
       ]
      },
      {
       "output_type": "stream",
       "stream": "stdout",
       "text": [
        "\n",
        "[ 222.53951137  199.29320349   74.18205365]"
       ]
      },
      {
       "output_type": "stream",
       "stream": "stdout",
       "text": [
        "\n",
        "[ 222.554176  199.315712   74.176256]"
       ]
      },
      {
       "output_type": "stream",
       "stream": "stdout",
       "text": [
        "\n",
        "[ 222.56861359  199.33787203   74.17054811]"
       ]
      },
      {
       "output_type": "stream",
       "stream": "stdout",
       "text": [
        "\n",
        "[ 222.58282363  199.35968278   74.16493019]"
       ]
      },
      {
       "output_type": "stream",
       "stream": "stdout",
       "text": [
        "\n",
        "[ 222.5968056   199.38114348   74.15940244]"
       ]
      },
      {
       "output_type": "stream",
       "stream": "stdout",
       "text": [
        "\n",
        "[ 222.61055898  199.40225331   74.15396506]"
       ]
      },
      {
       "output_type": "stream",
       "stream": "stdout",
       "text": [
        "\n",
        "[ 222.62408325  199.4230115    74.14861825]"
       ]
      },
      {
       "output_type": "stream",
       "stream": "stdout",
       "text": [
        "\n",
        "[ 222.6373779   199.44341725   74.14336222]"
       ]
      },
      {
       "output_type": "stream",
       "stream": "stdout",
       "text": [
        "\n",
        "[ 222.65044242  199.46346976   74.13819718]"
       ]
      },
      {
       "output_type": "stream",
       "stream": "stdout",
       "text": [
        "\n",
        "[ 222.66327629  199.48316826   74.13312333]"
       ]
      },
      {
       "output_type": "stream",
       "stream": "stdout",
       "text": [
        "\n",
        "[ 222.67587899  199.50251193   74.12814087]"
       ]
      },
      {
       "output_type": "stream",
       "stream": "stdout",
       "text": [
        "\n",
        "[ 222.68825  199.5215    74.12325]"
       ]
      },
      {
       "output_type": "stream",
       "stream": "stdout",
       "text": [
        "\n",
        "[ 222.70038881  199.54013167   74.11845093]"
       ]
      },
      {
       "output_type": "stream",
       "stream": "stdout",
       "text": [
        "\n",
        "[ 222.71229491  199.55840614   74.11374387]"
       ]
      },
      {
       "output_type": "stream",
       "stream": "stdout",
       "text": [
        "\n",
        "[ 222.72396778  199.57632264   74.10912902]"
       ]
      },
      {
       "output_type": "stream",
       "stream": "stdout",
       "text": [
        "\n",
        "[ 222.7354069   199.59388035   74.10460658]"
       ]
      },
      {
       "output_type": "stream",
       "stream": "stdout",
       "text": [
        "\n",
        "[ 222.74661175  199.6110785    74.10017675]"
       ]
      },
      {
       "output_type": "stream",
       "stream": "stdout",
       "text": [
        "\n",
        "[ 222.75758182  199.62791629   74.09583974]"
       ]
      },
      {
       "output_type": "stream",
       "stream": "stdout",
       "text": [
        "\n",
        "[ 222.7683166   199.64439292   74.09159576]"
       ]
      },
      {
       "output_type": "stream",
       "stream": "stdout",
       "text": [
        "\n",
        "[ 222.77881557  199.66050762   74.08744501]"
       ]
      },
      {
       "output_type": "stream",
       "stream": "stdout",
       "text": [
        "\n",
        "[ 222.78907821  199.67625957   74.08338769]"
       ]
      },
      {
       "output_type": "stream",
       "stream": "stdout",
       "text": [
        "\n",
        "[ 222.799104  199.691648   74.079424]"
       ]
      },
      {
       "output_type": "stream",
       "stream": "stdout",
       "text": [
        "\n",
        "[ 222.80889243  199.70667211   74.07555415]"
       ]
      },
      {
       "output_type": "stream",
       "stream": "stdout",
       "text": [
        "\n",
        "[ 222.81844299  199.7213311    74.07177835]"
       ]
      },
      {
       "output_type": "stream",
       "stream": "stdout",
       "text": [
        "\n",
        "[ 222.82775516  199.7356242    74.0680968 ]"
       ]
      },
      {
       "output_type": "stream",
       "stream": "stdout",
       "text": [
        "\n",
        "[ 222.83682842  199.74955059   74.0645097 ]"
       ]
      },
      {
       "output_type": "stream",
       "stream": "stdout",
       "text": [
        "\n",
        "[ 222.84566225  199.7631095    74.06101725]"
       ]
      },
      {
       "output_type": "stream",
       "stream": "stdout",
       "text": [
        "\n",
        "[ 222.85425614  199.77630013   74.05761966]"
       ]
      },
      {
       "output_type": "stream",
       "stream": "stdout",
       "text": [
        "\n",
        "[ 222.86260958  199.78912168   74.05431714]"
       ]
      },
      {
       "output_type": "stream",
       "stream": "stdout",
       "text": [
        "\n",
        "[ 222.87072205  199.80157338   74.05110989]"
       ]
      },
      {
       "output_type": "stream",
       "stream": "stdout",
       "text": [
        "\n",
        "[ 222.87859303  199.81365441   74.04799811]"
       ]
      },
      {
       "output_type": "stream",
       "stream": "stdout",
       "text": [
        "\n",
        "[ 222.886222  199.825364   74.044982]"
       ]
      },
      {
       "output_type": "stream",
       "stream": "stdout",
       "text": [
        "\n",
        "[ 222.89360845  199.83670135   74.04206177]"
       ]
      },
      {
       "output_type": "stream",
       "stream": "stdout",
       "text": [
        "\n",
        "[ 222.90075187  199.84766566   74.03923763]"
       ]
      },
      {
       "output_type": "stream",
       "stream": "stdout",
       "text": [
        "\n",
        "[ 222.90765174  199.85825616   74.03650978]"
       ]
      },
      {
       "output_type": "stream",
       "stream": "stdout",
       "text": [
        "\n",
        "[ 222.91430754  199.86847203   74.03387842]"
       ]
      },
      {
       "output_type": "stream",
       "stream": "stdout",
       "text": [
        "\n",
        "[ 222.92071875  199.8783125    74.03134375]"
       ]
      },
      {
       "output_type": "stream",
       "stream": "stdout",
       "text": [
        "\n",
        "[ 222.92688486  199.88777677   74.02890598]"
       ]
      },
      {
       "output_type": "stream",
       "stream": "stdout",
       "text": [
        "\n",
        "[ 222.93280536  199.89686404   74.02656532]"
       ]
      },
      {
       "output_type": "stream",
       "stream": "stdout",
       "text": [
        "\n",
        "[ 222.93847973  199.90557354   74.02432197]"
       ]
      },
      {
       "output_type": "stream",
       "stream": "stdout",
       "text": [
        "\n",
        "[ 222.94390745  199.91390445   74.02217613]"
       ]
      },
      {
       "output_type": "stream",
       "stream": "stdout",
       "text": [
        "\n",
        "[ 222.949088  199.921856   74.020128]"
       ]
      },
      {
       "output_type": "stream",
       "stream": "stdout",
       "text": [
        "\n",
        "[ 222.95402087  199.92942739   74.01817779]"
       ]
      },
      {
       "output_type": "stream",
       "stream": "stdout",
       "text": [
        "\n",
        "[ 222.95870555  199.93661782   74.01632571]"
       ]
      },
      {
       "output_type": "stream",
       "stream": "stdout",
       "text": [
        "\n",
        "[ 222.96314152  199.94342652   74.01457196]"
       ]
      },
      {
       "output_type": "stream",
       "stream": "stdout",
       "text": [
        "\n",
        "[ 222.96732826  199.94985267   74.01291674]"
       ]
      },
      {
       "output_type": "stream",
       "stream": "stdout",
       "text": [
        "\n",
        "[ 222.97126525  199.9558955    74.01136025]"
       ]
      },
      {
       "output_type": "stream",
       "stream": "stdout",
       "text": [
        "\n",
        "[ 222.97495198  199.96155421   74.0099027 ]"
       ]
      },
      {
       "output_type": "stream",
       "stream": "stdout",
       "text": [
        "\n",
        "[ 222.97838794  199.966828     74.0085443 ]"
       ]
      },
      {
       "output_type": "stream",
       "stream": "stdout",
       "text": [
        "\n",
        "[ 222.98157261  199.9717161    74.00728525]"
       ]
      },
      {
       "output_type": "stream",
       "stream": "stdout",
       "text": [
        "\n",
        "[ 222.98450547  199.97621769   74.00612575]"
       ]
      },
      {
       "output_type": "stream",
       "stream": "stdout",
       "text": [
        "\n",
        "[ 222.987186  199.980332   74.005066]"
       ]
      },
      {
       "output_type": "stream",
       "stream": "stdout",
       "text": [
        "\n",
        "[ 222.98961369  199.98405823   74.00410621]"
       ]
      },
      {
       "output_type": "stream",
       "stream": "stdout",
       "text": [
        "\n",
        "[ 222.99178803  199.98739558   74.00324659]"
       ]
      },
      {
       "output_type": "stream",
       "stream": "stdout",
       "text": [
        "\n",
        "[ 222.9937085   199.99034328   74.00248734]"
       ]
      },
      {
       "output_type": "stream",
       "stream": "stdout",
       "text": [
        "\n",
        "[ 222.99537458  199.99290051   74.00182866]"
       ]
      },
      {
       "output_type": "stream",
       "stream": "stdout",
       "text": [
        "\n",
        "[ 222.99678575  199.9950665    74.00127075]"
       ]
      },
      {
       "output_type": "stream",
       "stream": "stdout",
       "text": [
        "\n",
        "[ 222.9979415   199.99684045   74.00081382]"
       ]
      },
      {
       "output_type": "stream",
       "stream": "stdout",
       "text": [
        "\n",
        "[ 222.99884132  199.99822156   74.00045808]"
       ]
      },
      {
       "output_type": "stream",
       "stream": "stdout",
       "text": [
        "\n",
        "[ 222.99948469  199.99920906   74.00020373]"
       ]
      },
      {
       "output_type": "stream",
       "stream": "stdout",
       "text": [
        "\n",
        "[ 222.99987109  199.99980213   74.00005097]"
       ]
      },
      {
       "output_type": "stream",
       "stream": "stdout",
       "text": [
        "\n",
        "[ 223.00004797  200.00032678   73.99994604]"
       ]
      },
      {
       "output_type": "stream",
       "stream": "stdout",
       "text": [
        "\n",
        "[ 223.00019174  200.00130626   73.99978429]"
       ]
      },
      {
       "output_type": "stream",
       "stream": "stdout",
       "text": [
        "\n",
        "[ 223.00043114  200.00293711   73.99951497]"
       ]
      },
      {
       "output_type": "stream",
       "stream": "stdout",
       "text": [
        "\n",
        "[ 223.00076595  200.00521805   73.9991383 ]"
       ]
      },
      {
       "output_type": "stream",
       "stream": "stdout",
       "text": [
        "\n",
        "[ 223.001196    200.00814775   73.9986545 ]"
       ]
      },
      {
       "output_type": "stream",
       "stream": "stdout",
       "text": [
        "\n",
        "[ 223.00172109  200.01172491   73.99806378]"
       ]
      },
      {
       "output_type": "stream",
       "stream": "stdout",
       "text": [
        "\n",
        "[ 223.00234102  200.01594823   73.99736635]"
       ]
      },
      {
       "output_type": "stream",
       "stream": "stdout",
       "text": [
        "\n",
        "[ 223.00305562  200.02081638   73.99656243]"
       ]
      },
      {
       "output_type": "stream",
       "stream": "stdout",
       "text": [
        "\n",
        "[ 223.00386467  200.02632808   73.99565224]"
       ]
      },
      {
       "output_type": "stream",
       "stream": "stdout",
       "text": [
        "\n",
        "[ 223.004768  200.032482   73.994636]"
       ]
      },
      {
       "output_type": "stream",
       "stream": "stdout",
       "text": [
        "\n",
        "[ 223.00576541  200.03927684   73.99351392]"
       ]
      },
      {
       "output_type": "stream",
       "stream": "stdout",
       "text": [
        "\n",
        "[ 223.0068567   200.0467113    73.99228621]"
       ]
      },
      {
       "output_type": "stream",
       "stream": "stdout",
       "text": [
        "\n",
        "[ 223.0080417   200.05478405   73.99095309]"
       ]
      },
      {
       "output_type": "stream",
       "stream": "stdout",
       "text": [
        "\n",
        "[ 223.00932019  200.06349381   73.98951478]"
       ]
      },
      {
       "output_type": "stream",
       "stream": "stdout",
       "text": [
        "\n",
        "[ 223.010692    200.07283925   73.9879715 ]"
       ]
      },
      {
       "output_type": "stream",
       "stream": "stdout",
       "text": [
        "\n",
        "[ 223.01215693  200.08281907   73.98632346]"
       ]
      },
      {
       "output_type": "stream",
       "stream": "stdout",
       "text": [
        "\n",
        "[ 223.01371478  200.09343197   73.98457087]"
       ]
      },
      {
       "output_type": "stream",
       "stream": "stdout",
       "text": [
        "\n",
        "[ 223.01536538  200.10467662   73.98271395]"
       ]
      },
      {
       "output_type": "stream",
       "stream": "stdout",
       "text": [
        "\n",
        "[ 223.01710851  200.11655174   73.98075292]"
       ]
      },
      {
       "output_type": "stream",
       "stream": "stdout",
       "text": [
        "\n",
        "[ 223.018944  200.129056   73.978688]"
       ]
      },
      {
       "output_type": "stream",
       "stream": "stdout",
       "text": [
        "\n",
        "[ 223.02087165  200.1421881    73.9765194 ]"
       ]
      },
      {
       "output_type": "stream",
       "stream": "stdout",
       "text": [
        "\n",
        "[ 223.02289126  200.15594674   73.97424733]"
       ]
      },
      {
       "output_type": "stream",
       "stream": "stdout",
       "text": [
        "\n",
        "[ 223.02500266  200.17033059   73.97187201]"
       ]
      },
      {
       "output_type": "stream",
       "stream": "stdout",
       "text": [
        "\n",
        "[ 223.02720563  200.18533837   73.96939366]"
       ]
      },
      {
       "output_type": "stream",
       "stream": "stdout",
       "text": [
        "\n",
        "[ 223.0295      200.20096875   73.9668125 ]"
       ]
      },
      {
       "output_type": "stream",
       "stream": "stdout",
       "text": [
        "\n",
        "[ 223.03188557  200.21722043   73.96412874]"
       ]
      },
      {
       "output_type": "stream",
       "stream": "stdout",
       "text": [
        "\n",
        "[ 223.03436214  200.23409211   73.96134259]"
       ]
      },
      {
       "output_type": "stream",
       "stream": "stdout",
       "text": [
        "\n",
        "[ 223.03692954  200.25158246   73.95845427]"
       ]
      },
      {
       "output_type": "stream",
       "stream": "stdout",
       "text": [
        "\n",
        "[ 223.03958755  200.2696902    73.955464  ]"
       ]
      },
      {
       "output_type": "stream",
       "stream": "stdout",
       "text": [
        "\n",
        "[ 223.042336  200.288414   73.952372]"
       ]
      },
      {
       "output_type": "stream",
       "stream": "stdout",
       "text": [
        "\n",
        "[ 223.04517469  200.30775256   73.94917848]"
       ]
      },
      {
       "output_type": "stream",
       "stream": "stdout",
       "text": [
        "\n",
        "[ 223.04810342  200.32770458   73.94588365]"
       ]
      },
      {
       "output_type": "stream",
       "stream": "stdout",
       "text": [
        "\n",
        "[ 223.05112202  200.34826873   73.94248773]"
       ]
      },
      {
       "output_type": "stream",
       "stream": "stdout",
       "text": [
        "\n",
        "[ 223.05423027  200.36944373   73.93899094]"
       ]
      },
      {
       "output_type": "stream",
       "stream": "stdout",
       "text": [
        "\n",
        "[ 223.057428    200.39122825   73.9353935 ]"
       ]
      },
      {
       "output_type": "stream",
       "stream": "stdout",
       "text": [
        "\n",
        "[ 223.06071501  200.41362099   73.93169562]"
       ]
      },
      {
       "output_type": "stream",
       "stream": "stdout",
       "text": [
        "\n",
        "[ 223.0640911   200.43662065   73.92789751]"
       ]
      },
      {
       "output_type": "stream",
       "stream": "stdout",
       "text": [
        "\n",
        "[ 223.0675561   200.4602259    73.92399939]"
       ]
      },
      {
       "output_type": "stream",
       "stream": "stdout",
       "text": [
        "\n",
        "[ 223.07110979  200.48443546   73.92000148]"
       ]
      },
      {
       "output_type": "stream",
       "stream": "stdout",
       "text": [
        "\n",
        "[ 223.074752  200.509248   73.915904]"
       ]
      },
      {
       "output_type": "stream",
       "stream": "stdout",
       "text": [
        "\n",
        "[ 223.07848253  200.53466222   73.91170716]"
       ]
      },
      {
       "output_type": "stream",
       "stream": "stdout",
       "text": [
        "\n",
        "[ 223.08230118  200.56067682   73.90741117]"
       ]
      },
      {
       "output_type": "stream",
       "stream": "stdout",
       "text": [
        "\n",
        "[ 223.08620778  200.58729047   73.90301625]"
       ]
      },
      {
       "output_type": "stream",
       "stream": "stdout",
       "text": [
        "\n",
        "[ 223.09020211  200.61450189   73.89852262]"
       ]
      },
      {
       "output_type": "stream",
       "stream": "stdout",
       "text": [
        "\n",
        "[ 223.094284    200.64230975   73.8939305 ]"
       ]
      },
      {
       "output_type": "stream",
       "stream": "stdout",
       "text": [
        "\n",
        "[ 223.09845325  200.67071275   73.8892401 ]"
       ]
      },
      {
       "output_type": "stream",
       "stream": "stdout",
       "text": [
        "\n",
        "[ 223.10270966  200.69970959   73.88445163]"
       ]
      },
      {
       "output_type": "stream",
       "stream": "stdout",
       "text": [
        "\n",
        "[ 223.10705306  200.72929894   73.87956531]"
       ]
      },
      {
       "output_type": "stream",
       "stream": "stdout",
       "text": [
        "\n",
        "[ 223.11148323  200.75947952   73.87458136]"
       ]
      },
      {
       "output_type": "stream",
       "stream": "stdout",
       "text": [
        "\n",
        "[ 223.116    200.79025   73.8695 ]"
       ]
      },
      {
       "output_type": "stream",
       "stream": "stdout",
       "text": [
        "\n",
        "[ 223.12060317  200.82160908   73.86432144]"
       ]
      },
      {
       "output_type": "stream",
       "stream": "stdout",
       "text": [
        "\n",
        "[ 223.12529254  200.85355546   73.85904589]"
       ]
      },
      {
       "output_type": "stream",
       "stream": "stdout",
       "text": [
        "\n",
        "[ 223.13006794  200.88608781   73.85367357]"
       ]
      },
      {
       "output_type": "stream",
       "stream": "stdout",
       "text": [
        "\n",
        "[ 223.13492915  200.91920485   73.8482047 ]"
       ]
      },
      {
       "output_type": "stream",
       "stream": "stdout",
       "text": [
        "\n",
        "[ 223.139876    200.95290525   73.8426395 ]"
       ]
      },
      {
       "output_type": "stream",
       "stream": "stdout",
       "text": [
        "\n",
        "[ 223.14490829  200.98718771   73.83697818]"
       ]
      },
      {
       "output_type": "stream",
       "stream": "stdout",
       "text": [
        "\n",
        "[ 223.15002582  201.02205093   73.83122095]"
       ]
      },
      {
       "output_type": "stream",
       "stream": "stdout",
       "text": [
        "\n",
        "[ 223.15522842  201.05749358   73.82536803]"
       ]
      },
      {
       "output_type": "stream",
       "stream": "stdout",
       "text": [
        "\n",
        "[ 223.16051587  201.09351438   73.81941964]"
       ]
      },
      {
       "output_type": "stream",
       "stream": "stdout",
       "text": [
        "\n",
        "[ 223.165888  201.130112   73.813376]"
       ]
      },
      {
       "output_type": "stream",
       "stream": "stdout",
       "text": [
        "\n",
        "[ 223.17134461  201.16728514   73.80723732]"
       ]
      },
      {
       "output_type": "stream",
       "stream": "stdout",
       "text": [
        "\n",
        "[ 223.1768855   201.2050325    73.80100381]"
       ]
      },
      {
       "output_type": "stream",
       "stream": "stdout",
       "text": [
        "\n",
        "[ 223.1825105   201.24335275   73.79467569]"
       ]
      },
      {
       "output_type": "stream",
       "stream": "stdout",
       "text": [
        "\n",
        "[ 223.18821939  201.28224461   73.78825318]"
       ]
      },
      {
       "output_type": "stream",
       "stream": "stdout",
       "text": [
        "\n",
        "[ 223.194012    201.32170675   73.7817365 ]"
       ]
      },
      {
       "output_type": "stream",
       "stream": "stdout",
       "text": [
        "\n",
        "[ 223.19988813  201.36173787   73.77512586]"
       ]
      },
      {
       "output_type": "stream",
       "stream": "stdout",
       "text": [
        "\n",
        "[ 223.20584758  201.40233667   73.76842147]"
       ]
      },
      {
       "output_type": "stream",
       "stream": "stdout",
       "text": [
        "\n",
        "[ 223.21189018  201.44350182   73.76162355]"
       ]
      },
      {
       "output_type": "stream",
       "stream": "stdout",
       "text": [
        "\n",
        "[ 223.21801571  201.48523204   73.75473232]"
       ]
      },
      {
       "output_type": "stream",
       "stream": "stdout",
       "text": [
        "\n",
        "[ 223.224224  201.527526   73.747748]"
       ]
      },
      {
       "output_type": "stream",
       "stream": "stdout",
       "text": [
        "\n",
        "[ 223.23051485  201.5703824    73.7406708 ]"
       ]
      },
      {
       "output_type": "stream",
       "stream": "stdout",
       "text": [
        "\n",
        "[ 223.23688806  201.61379994   73.73350093]"
       ]
      },
      {
       "output_type": "stream",
       "stream": "stdout",
       "text": [
        "\n",
        "[ 223.24334346  201.65777729   73.72623861]"
       ]
      },
      {
       "output_type": "stream",
       "stream": "stdout",
       "text": [
        "\n",
        "[ 223.24988083  201.70231317   73.71888406]"
       ]
      },
      {
       "output_type": "stream",
       "stream": "stdout",
       "text": [
        "\n",
        "[ 223.2565      201.74740625   73.7114375 ]"
       ]
      },
      {
       "output_type": "stream",
       "stream": "stdout",
       "text": [
        "\n",
        "[ 223.26320077  201.79305523   73.70389914]"
       ]
      },
      {
       "output_type": "stream",
       "stream": "stdout",
       "text": [
        "\n",
        "[ 223.26998294  201.83925881   73.69626919]"
       ]
      },
      {
       "output_type": "stream",
       "stream": "stdout",
       "text": [
        "\n",
        "[ 223.27684634  201.88601566   73.68854787]"
       ]
      },
      {
       "output_type": "stream",
       "stream": "stdout",
       "text": [
        "\n",
        "[ 223.28379075  201.9333245    73.6807354 ]"
       ]
      },
      {
       "output_type": "stream",
       "stream": "stdout",
       "text": [
        "\n",
        "[ 223.290816  201.981184   73.672832]"
       ]
      },
      {
       "output_type": "stream",
       "stream": "stdout",
       "text": [
        "\n",
        "[ 223.29792189  202.02959286   73.66483788]"
       ]
      },
      {
       "output_type": "stream",
       "stream": "stdout",
       "text": [
        "\n",
        "[ 223.30510822  202.07854978   73.65675325]"
       ]
      },
      {
       "output_type": "stream",
       "stream": "stdout",
       "text": [
        "\n",
        "[ 223.31237482  202.12805343   73.64857833]"
       ]
      },
      {
       "output_type": "stream",
       "stream": "stdout",
       "text": [
        "\n",
        "[ 223.31972147  202.17810253   73.64031334]"
       ]
      },
      {
       "output_type": "stream",
       "stream": "stdout",
       "text": [
        "\n",
        "[ 223.327148    202.22869575   73.6319585 ]"
       ]
      },
      {
       "output_type": "stream",
       "stream": "stdout",
       "text": [
        "\n",
        "[ 223.33465421  202.27983179   73.62351402]"
       ]
      },
      {
       "output_type": "stream",
       "stream": "stdout",
       "text": [
        "\n",
        "[ 223.3422399   202.33150935   73.61498011]"
       ]
      },
      {
       "output_type": "stream",
       "stream": "stdout",
       "text": [
        "\n",
        "[ 223.3499049   202.3837271    73.60635699]"
       ]
      },
      {
       "output_type": "stream",
       "stream": "stdout",
       "text": [
        "\n",
        "[ 223.35764899  202.43648376   73.59764488]"
       ]
      },
      {
       "output_type": "stream",
       "stream": "stdout",
       "text": [
        "\n",
        "[ 223.365472  202.489778   73.588844]"
       ]
      },
      {
       "output_type": "stream",
       "stream": "stdout",
       "text": [
        "\n",
        "[ 223.37337373  202.54360852   73.57995456]"
       ]
      },
      {
       "output_type": "stream",
       "stream": "stdout",
       "text": [
        "\n",
        "[ 223.38135398  202.59797402   73.57097677]"
       ]
      },
      {
       "output_type": "stream",
       "stream": "stdout",
       "text": [
        "\n",
        "[ 223.38941258  202.65287317   73.56191085]"
       ]
      },
      {
       "output_type": "stream",
       "stream": "stdout",
       "text": [
        "\n",
        "[ 223.39754931  202.70830469   73.55275702]"
       ]
      },
      {
       "output_type": "stream",
       "stream": "stdout",
       "text": [
        "\n",
        "[ 223.405764    202.76426725   73.5435155 ]"
       ]
      },
      {
       "output_type": "stream",
       "stream": "stdout",
       "text": [
        "\n",
        "[ 223.41405645  202.82075955   73.5341865 ]"
       ]
      },
      {
       "output_type": "stream",
       "stream": "stdout",
       "text": [
        "\n",
        "[ 223.42242646  202.87778029   73.52477023]"
       ]
      },
      {
       "output_type": "stream",
       "stream": "stdout",
       "text": [
        "\n",
        "[ 223.43087386  202.93532814   73.51526691]"
       ]
      },
      {
       "output_type": "stream",
       "stream": "stdout",
       "text": [
        "\n",
        "[ 223.43939843  202.99340182   73.50567676]"
       ]
      },
      {
       "output_type": "stream",
       "stream": "stdout",
       "text": [
        "\n",
        "[ 223.448  203.052   73.496]"
       ]
      },
      {
       "output_type": "stream",
       "stream": "stdout",
       "text": [
        "\n",
        "[ 223.45667837  203.11112138   73.48623684]"
       ]
      },
      {
       "output_type": "stream",
       "stream": "stdout",
       "text": [
        "\n",
        "[ 223.46543334  203.17076466   73.47638749]"
       ]
      },
      {
       "output_type": "stream",
       "stream": "stdout",
       "text": [
        "\n",
        "[ 223.47426474  203.23092851   73.46645217]"
       ]
      },
      {
       "output_type": "stream",
       "stream": "stdout",
       "text": [
        "\n",
        "[ 223.48317235  203.29161165   73.4564311 ]"
       ]
      },
      {
       "output_type": "stream",
       "stream": "stdout",
       "text": [
        "\n",
        "[ 223.492156    203.35281275   73.4463245 ]"
       ]
      },
      {
       "output_type": "stream",
       "stream": "stdout",
       "text": [
        "\n",
        "[ 223.50121549  203.41453051   73.43613258]"
       ]
      },
      {
       "output_type": "stream",
       "stream": "stdout",
       "text": [
        "\n",
        "[ 223.51035062  203.47676363   73.42585555]"
       ]
      },
      {
       "output_type": "stream",
       "stream": "stdout",
       "text": [
        "\n",
        "[ 223.51956122  203.53951078   73.41549363]"
       ]
      },
      {
       "output_type": "stream",
       "stream": "stdout",
       "text": [
        "\n",
        "[ 223.52884707  203.60277068   73.40504704]"
       ]
      },
      {
       "output_type": "stream",
       "stream": "stdout",
       "text": [
        "\n",
        "[ 223.538208  203.666542   73.394516]"
       ]
      },
      {
       "output_type": "stream",
       "stream": "stdout",
       "text": [
        "\n",
        "[ 223.54764381  203.73082344   73.38390072]"
       ]
      },
      {
       "output_type": "stream",
       "stream": "stdout",
       "text": [
        "\n",
        "[ 223.5571543   203.7956137    73.37320141]"
       ]
      },
      {
       "output_type": "stream",
       "stream": "stdout",
       "text": [
        "\n",
        "[ 223.5667393   203.86091145   73.36241829]"
       ]
      },
      {
       "output_type": "stream",
       "stream": "stdout",
       "text": [
        "\n",
        "[ 223.57639859  203.92671541   73.35155158]"
       ]
      },
      {
       "output_type": "stream",
       "stream": "stdout",
       "text": [
        "\n",
        "[ 223.586132    203.99302425   73.3406015 ]"
       ]
      },
      {
       "output_type": "stream",
       "stream": "stdout",
       "text": [
        "\n",
        "[ 223.59593933  204.05983667   73.32956826]"
       ]
      },
      {
       "output_type": "stream",
       "stream": "stdout",
       "text": [
        "\n",
        "[ 223.60582038  204.12715137   73.31845207]"
       ]
      },
      {
       "output_type": "stream",
       "stream": "stdout",
       "text": [
        "\n",
        "[ 223.61577498  204.19496702   73.30725315]"
       ]
      },
      {
       "output_type": "stream",
       "stream": "stdout",
       "text": [
        "\n",
        "[ 223.62580291  204.26328234   73.29597172]"
       ]
      },
      {
       "output_type": "stream",
       "stream": "stdout",
       "text": [
        "\n",
        "[ 223.635904  204.332096   73.284608]"
       ]
      },
      {
       "output_type": "stream",
       "stream": "stdout",
       "text": [
        "\n",
        "[ 223.64607805  204.4014067    73.2731622 ]"
       ]
      },
      {
       "output_type": "stream",
       "stream": "stdout",
       "text": [
        "\n",
        "[ 223.65632486  204.47121314   73.26163453]"
       ]
      },
      {
       "output_type": "stream",
       "stream": "stdout",
       "text": [
        "\n",
        "[ 223.66664426  204.54151399   73.25002521]"
       ]
      },
      {
       "output_type": "stream",
       "stream": "stdout",
       "text": [
        "\n",
        "[ 223.67703603  204.61230797   73.23833446]"
       ]
      },
      {
       "output_type": "stream",
       "stream": "stdout",
       "text": [
        "\n",
        "[ 223.6875      204.68359375   73.2265625 ]"
       ]
      },
      {
       "output_type": "stream",
       "stream": "stdout",
       "text": [
        "\n",
        "[ 223.69803597  204.75537003   73.21470954]"
       ]
      },
      {
       "output_type": "stream",
       "stream": "stdout",
       "text": [
        "\n",
        "[ 223.70864374  204.82763551   73.20277579]"
       ]
      },
      {
       "output_type": "stream",
       "stream": "stdout",
       "text": [
        "\n",
        "[ 223.71932314  204.90038886   73.19076147]"
       ]
      },
      {
       "output_type": "stream",
       "stream": "stdout",
       "text": [
        "\n",
        "[ 223.73007395  204.9736288    73.1786668 ]"
       ]
      },
      {
       "output_type": "stream",
       "stream": "stdout",
       "text": [
        "\n",
        "[ 223.740896  205.047354   73.166492]"
       ]
      },
      {
       "output_type": "stream",
       "stream": "stdout",
       "text": [
        "\n",
        "[ 223.75178909  205.12156316   73.15423728]"
       ]
      },
      {
       "output_type": "stream",
       "stream": "stdout",
       "text": [
        "\n",
        "[ 223.76275302  205.19625498   73.14190285]"
       ]
      },
      {
       "output_type": "stream",
       "stream": "stdout",
       "text": [
        "\n",
        "[ 223.77378762  205.27142813   73.12948893]"
       ]
      },
      {
       "output_type": "stream",
       "stream": "stdout",
       "text": [
        "\n",
        "[ 223.78489267  205.34708133   73.11699574]"
       ]
      },
      {
       "output_type": "stream",
       "stream": "stdout",
       "text": [
        "\n",
        "[ 223.796068    205.42321325   73.1044235 ]"
       ]
      },
      {
       "output_type": "stream",
       "stream": "stdout",
       "text": [
        "\n",
        "[ 223.80731341  205.49982259   73.09177242]"
       ]
      },
      {
       "output_type": "stream",
       "stream": "stdout",
       "text": [
        "\n",
        "[ 223.8186287   205.57690805   73.07904271]"
       ]
      },
      {
       "output_type": "stream",
       "stream": "stdout",
       "text": [
        "\n",
        "[ 223.8300137   205.6544683    73.06623459]"
       ]
      },
      {
       "output_type": "stream",
       "stream": "stdout",
       "text": [
        "\n",
        "[ 223.84146819  205.73250206   73.05334828]"
       ]
      },
      {
       "output_type": "stream",
       "stream": "stdout",
       "text": [
        "\n",
        "[ 223.852992  205.811008   73.040384]"
       ]
      },
      {
       "output_type": "stream",
       "stream": "stdout",
       "text": [
        "\n",
        "[ 223.86458493  205.88998482   73.02734196]"
       ]
      },
      {
       "output_type": "stream",
       "stream": "stdout",
       "text": [
        "\n",
        "[ 223.87624678  205.96943122   73.01422237]"
       ]
      },
      {
       "output_type": "stream",
       "stream": "stdout",
       "text": [
        "\n",
        "[ 223.88797738  206.04934587   73.00102545]"
       ]
      },
      {
       "output_type": "stream",
       "stream": "stdout",
       "text": [
        "\n",
        "[ 223.89977651  206.12972749   72.98775142]"
       ]
      },
      {
       "output_type": "stream",
       "stream": "stdout",
       "text": [
        "\n",
        "[ 223.911644    206.21057475   72.9744005 ]"
       ]
      },
      {
       "output_type": "stream",
       "stream": "stdout",
       "text": [
        "\n",
        "[ 223.92357965  206.29188635   72.9609729 ]"
       ]
      },
      {
       "output_type": "stream",
       "stream": "stdout",
       "text": [
        "\n",
        "[ 223.93558326  206.37366099   72.94746883]"
       ]
      },
      {
       "output_type": "stream",
       "stream": "stdout",
       "text": [
        "\n",
        "[ 223.94765466  206.45589734   72.93388851]"
       ]
      },
      {
       "output_type": "stream",
       "stream": "stdout",
       "text": [
        "\n",
        "[ 223.95979363  206.53859412   72.92023216]"
       ]
      },
      {
       "output_type": "stream",
       "stream": "stdout",
       "text": [
        "\n",
        "[ 223.972    206.62175   72.9065 ]"
       ]
      },
      {
       "output_type": "stream",
       "stream": "stdout",
       "text": [
        "\n",
        "[ 223.98427357  206.70536368   72.89269224]"
       ]
      },
      {
       "output_type": "stream",
       "stream": "stdout",
       "text": [
        "\n",
        "[ 223.99661414  206.78943386   72.87880909]"
       ]
      },
      {
       "output_type": "stream",
       "stream": "stdout",
       "text": [
        "\n",
        "[ 224.00902154  206.87395921   72.86485077]"
       ]
      },
      {
       "output_type": "stream",
       "stream": "stdout",
       "text": [
        "\n",
        "[ 224.02149555  206.95893845   72.8508175 ]"
       ]
      },
      {
       "output_type": "stream",
       "stream": "stdout",
       "text": [
        "\n",
        "[ 224.034036    207.04437025   72.8367095 ]"
       ]
      },
      {
       "output_type": "stream",
       "stream": "stdout",
       "text": [
        "\n",
        "[ 224.04664269  207.13025331   72.82252698]"
       ]
      },
      {
       "output_type": "stream",
       "stream": "stdout",
       "text": [
        "\n",
        "[ 224.05931542  207.21658633   72.80827015]"
       ]
      },
      {
       "output_type": "stream",
       "stream": "stdout",
       "text": [
        "\n",
        "[ 224.07205402  207.30336798   72.79393923]"
       ]
      },
      {
       "output_type": "stream",
       "stream": "stdout",
       "text": [
        "\n",
        "[ 224.08485827  207.39059698   72.77953444]"
       ]
      },
      {
       "output_type": "stream",
       "stream": "stdout",
       "text": [
        "\n",
        "[ 224.097728  207.478272   72.765056]"
       ]
      },
      {
       "output_type": "stream",
       "stream": "stdout",
       "text": [
        "\n",
        "[ 224.11066301  207.56639174   72.75050412]"
       ]
      },
      {
       "output_type": "stream",
       "stream": "stdout",
       "text": [
        "\n",
        "[ 224.1236631   207.6549549    72.73587901]"
       ]
      },
      {
       "output_type": "stream",
       "stream": "stdout",
       "text": [
        "\n",
        "[ 224.1367281   207.74396015   72.72118089]"
       ]
      },
      {
       "output_type": "stream",
       "stream": "stdout",
       "text": [
        "\n",
        "[ 224.14985779  207.83340621   72.70640998]"
       ]
      },
      {
       "output_type": "stream",
       "stream": "stdout",
       "text": [
        "\n",
        "[ 224.163052    207.92329175   72.6915665 ]"
       ]
      },
      {
       "output_type": "stream",
       "stream": "stdout",
       "text": [
        "\n",
        "[ 224.17631053  208.01361547   72.67665066]"
       ]
      },
      {
       "output_type": "stream",
       "stream": "stdout",
       "text": [
        "\n",
        "[ 224.18963318  208.10437607   72.66166267]"
       ]
      },
      {
       "output_type": "stream",
       "stream": "stdout",
       "text": [
        "\n",
        "[ 224.20301978  208.19557222   72.64660275]"
       ]
      },
      {
       "output_type": "stream",
       "stream": "stdout",
       "text": [
        "\n",
        "[ 224.21647011  208.28720264   72.63147112]"
       ]
      },
      {
       "output_type": "stream",
       "stream": "stdout",
       "text": [
        "\n",
        "[ 224.229984  208.379266   72.616268]"
       ]
      },
      {
       "output_type": "stream",
       "stream": "stdout",
       "text": [
        "\n",
        "[ 224.24356125  208.471761     72.6009936 ]"
       ]
      },
      {
       "output_type": "stream",
       "stream": "stdout",
       "text": [
        "\n",
        "[ 224.25720166  208.56468634   72.58564813]"
       ]
      },
      {
       "output_type": "stream",
       "stream": "stdout",
       "text": [
        "\n",
        "[ 224.27090506  208.65804069   72.57023181]"
       ]
      },
      {
       "output_type": "stream",
       "stream": "stdout",
       "text": [
        "\n",
        "[ 224.28467123  208.75182277   72.55474486]"
       ]
      },
      {
       "output_type": "stream",
       "stream": "stdout",
       "text": [
        "\n",
        "[ 224.2985      208.84603125   72.5391875 ]"
       ]
      },
      {
       "output_type": "stream",
       "stream": "stdout",
       "text": [
        "\n",
        "[ 224.31239117  208.94066483   72.52355994]"
       ]
      },
      {
       "output_type": "stream",
       "stream": "stdout",
       "text": [
        "\n",
        "[ 224.32634454  209.03572221   72.50786239]"
       ]
      },
      {
       "output_type": "stream",
       "stream": "stdout",
       "text": [
        "\n",
        "[ 224.34035994  209.13120206   72.49209507]"
       ]
      },
      {
       "output_type": "stream",
       "stream": "stdout",
       "text": [
        "\n",
        "[ 224.35443715  209.2271031    72.4762582 ]"
       ]
      },
      {
       "output_type": "stream",
       "stream": "stdout",
       "text": [
        "\n",
        "[ 224.368576  209.323424   72.460352]"
       ]
      },
      {
       "output_type": "stream",
       "stream": "stdout",
       "text": [
        "\n",
        "[ 224.38277629  209.42016346   72.44437668]"
       ]
      },
      {
       "output_type": "stream",
       "stream": "stdout",
       "text": [
        "\n",
        "[ 224.39703782  209.51732018   72.42833245]"
       ]
      },
      {
       "output_type": "stream",
       "stream": "stdout",
       "text": [
        "\n",
        "[ 224.41136042  209.61489283   72.41221953]"
       ]
      },
      {
       "output_type": "stream",
       "stream": "stdout",
       "text": [
        "\n",
        "[ 224.42574387  209.71288013   72.39603814]"
       ]
      },
      {
       "output_type": "stream",
       "stream": "stdout",
       "text": [
        "\n",
        "[ 224.440188    209.81128075   72.3797885 ]"
       ]
      },
      {
       "output_type": "stream",
       "stream": "stdout",
       "text": [
        "\n",
        "[ 224.45469261  209.91009339   72.36347082]"
       ]
      },
      {
       "output_type": "stream",
       "stream": "stdout",
       "text": [
        "\n",
        "[ 224.4692575   210.00931675   72.34708531]"
       ]
      },
      {
       "output_type": "stream",
       "stream": "stdout",
       "text": [
        "\n",
        "[ 224.4838825   210.1089495    72.33063219]"
       ]
      },
      {
       "output_type": "stream",
       "stream": "stdout",
       "text": [
        "\n",
        "[ 224.49856739  210.20899036   72.31411168]"
       ]
      },
      {
       "output_type": "stream",
       "stream": "stdout",
       "text": [
        "\n",
        "[ 224.513312  210.309438   72.297524]"
       ]
      },
      {
       "output_type": "stream",
       "stream": "stdout",
       "text": [
        "\n",
        "[ 224.52811613  210.41029112   72.28086936]"
       ]
      },
      {
       "output_type": "stream",
       "stream": "stdout",
       "text": [
        "\n",
        "[ 224.54297958  210.51154842   72.26414797]"
       ]
      },
      {
       "output_type": "stream",
       "stream": "stdout",
       "text": [
        "\n",
        "[ 224.55790218  210.61320857   72.24736005]"
       ]
      },
      {
       "output_type": "stream",
       "stream": "stdout",
       "text": [
        "\n",
        "[ 224.57288371  210.71527029   72.23050582]"
       ]
      },
      {
       "output_type": "stream",
       "stream": "stdout",
       "text": [
        "\n",
        "[ 224.587924    210.81773225   72.2135855 ]"
       ]
      },
      {
       "output_type": "stream",
       "stream": "stdout",
       "text": [
        "\n",
        "[ 224.60302285  210.92059315   72.1965993 ]"
       ]
      },
      {
       "output_type": "stream",
       "stream": "stdout",
       "text": [
        "\n",
        "[ 224.61818006  211.02385169   72.17954743]"
       ]
      },
      {
       "output_type": "stream",
       "stream": "stdout",
       "text": [
        "\n",
        "[ 224.63339546  211.12750654   72.16243011]"
       ]
      },
      {
       "output_type": "stream",
       "stream": "stdout",
       "text": [
        "\n",
        "[ 224.64866883  211.23155642   72.14524756]"
       ]
      },
      {
       "output_type": "stream",
       "stream": "stdout",
       "text": [
        "\n",
        "[ 224.664  211.336   72.128]"
       ]
      },
      {
       "output_type": "stream",
       "stream": "stdout",
       "text": [
        "\n",
        "[ 224.67938877  211.44083598   72.11068764]"
       ]
      },
      {
       "output_type": "stream",
       "stream": "stdout",
       "text": [
        "\n",
        "[ 224.69483494  211.54606306   72.09331069]"
       ]
      },
      {
       "output_type": "stream",
       "stream": "stdout",
       "text": [
        "\n",
        "[ 224.71033834  211.65167991   72.07586937]"
       ]
      },
      {
       "output_type": "stream",
       "stream": "stdout",
       "text": [
        "\n",
        "[ 224.72589875  211.75768525   72.0583639 ]"
       ]
      },
      {
       "output_type": "stream",
       "stream": "stdout",
       "text": [
        "\n",
        "[ 224.741516    211.86407775   72.0407945 ]"
       ]
      },
      {
       "output_type": "stream",
       "stream": "stdout",
       "text": [
        "\n",
        "[ 224.75718989  211.97085611   72.02316138]"
       ]
      },
      {
       "output_type": "stream",
       "stream": "stdout",
       "text": [
        "\n",
        "[ 224.77292022  212.07801903   72.00546475]"
       ]
      },
      {
       "output_type": "stream",
       "stream": "stdout",
       "text": [
        "\n",
        "[ 224.78870682  212.18556518   71.98770483]"
       ]
      },
      {
       "output_type": "stream",
       "stream": "stdout",
       "text": [
        "\n",
        "[ 224.80454947  212.29349328   71.96988184]"
       ]
      },
      {
       "output_type": "stream",
       "stream": "stdout",
       "text": [
        "\n",
        "[ 224.820448  212.401802   71.951996]"
       ]
      },
      {
       "output_type": "stream",
       "stream": "stdout",
       "text": [
        "\n",
        "[ 224.83640221  212.51049004   71.93404752]"
       ]
      },
      {
       "output_type": "stream",
       "stream": "stdout",
       "text": [
        "\n",
        "[ 224.8524119   212.6195561    71.91603661]"
       ]
      },
      {
       "output_type": "stream",
       "stream": "stdout",
       "text": [
        "\n",
        "[ 224.8684769   212.72899885   71.89796349]"
       ]
      },
      {
       "output_type": "stream",
       "stream": "stdout",
       "text": [
        "\n",
        "[ 224.88459699  212.83881701   71.87982838]"
       ]
      },
      {
       "output_type": "stream",
       "stream": "stdout",
       "text": [
        "\n",
        "[ 224.900772    212.94900925   71.8616315 ]"
       ]
      },
      {
       "output_type": "stream",
       "stream": "stdout",
       "text": [
        "\n",
        "[ 224.91700173  213.05957427   71.84337306]"
       ]
      },
      {
       "output_type": "stream",
       "stream": "stdout",
       "text": [
        "\n",
        "[ 224.93328598  213.17051077   71.82505327]"
       ]
      },
      {
       "output_type": "stream",
       "stream": "stdout",
       "text": [
        "\n",
        "[ 224.94962458  213.28181742   71.80667235]"
       ]
      },
      {
       "output_type": "stream",
       "stream": "stdout",
       "text": [
        "\n",
        "[ 224.96601731  213.39349294   71.78823052]"
       ]
      },
      {
       "output_type": "stream",
       "stream": "stdout",
       "text": [
        "\n",
        "[ 224.982464  213.505536   71.769728]"
       ]
      },
      {
       "output_type": "stream",
       "stream": "stdout",
       "text": [
        "\n",
        "[ 224.99896445  213.6179453    71.751165  ]"
       ]
      },
      {
       "output_type": "stream",
       "stream": "stdout",
       "text": [
        "\n",
        "[ 225.01551846  213.73071954   71.73254173]"
       ]
      },
      {
       "output_type": "stream",
       "stream": "stdout",
       "text": [
        "\n",
        "[ 225.03212586  213.84385739   71.71385841]"
       ]
      },
      {
       "output_type": "stream",
       "stream": "stdout",
       "text": [
        "\n",
        "[ 225.04878643  213.95735757   71.69511526]"
       ]
      },
      {
       "output_type": "stream",
       "stream": "stdout",
       "text": [
        "\n",
        "[ 225.0655      214.07121875   71.6763125 ]"
       ]
      },
      {
       "output_type": "stream",
       "stream": "stdout",
       "text": [
        "\n",
        "[ 225.08226637  214.18543963   71.65745034]"
       ]
      },
      {
       "output_type": "stream",
       "stream": "stdout",
       "text": [
        "\n",
        "[ 225.09908534  214.30001891   71.63852899]"
       ]
      },
      {
       "output_type": "stream",
       "stream": "stdout",
       "text": [
        "\n",
        "[ 225.11595674  214.41495526   71.61954867]"
       ]
      },
      {
       "output_type": "stream",
       "stream": "stdout",
       "text": [
        "\n",
        "[ 225.13288035  214.5302474    71.6005096 ]"
       ]
      },
      {
       "output_type": "stream",
       "stream": "stdout",
       "text": [
        "\n",
        "[ 225.149856  214.645894   71.581412]"
       ]
      },
      {
       "output_type": "stream",
       "stream": "stdout",
       "text": [
        "\n",
        "[ 225.16688349  214.76189376   71.56225608]"
       ]
      },
      {
       "output_type": "stream",
       "stream": "stdout",
       "text": [
        "\n",
        "[ 225.18396262  214.87824538   71.54304205]"
       ]
      },
      {
       "output_type": "stream",
       "stream": "stdout",
       "text": [
        "\n",
        "[ 225.20109322  214.99494753   71.52377013]"
       ]
      },
      {
       "output_type": "stream",
       "stream": "stdout",
       "text": [
        "\n",
        "[ 225.21827507  215.11199893   71.50444054]"
       ]
      },
      {
       "output_type": "stream",
       "stream": "stdout",
       "text": [
        "\n",
        "[ 225.235508    215.22939825   71.4850535 ]"
       ]
      },
      {
       "output_type": "stream",
       "stream": "stdout",
       "text": [
        "\n",
        "[ 225.25279181  215.34714419   71.46560922]"
       ]
      },
      {
       "output_type": "stream",
       "stream": "stdout",
       "text": [
        "\n",
        "[ 225.2701263   215.46523545   71.44610791]"
       ]
      },
      {
       "output_type": "stream",
       "stream": "stdout",
       "text": [
        "\n",
        "[ 225.2875113   215.5836707    71.42654979]"
       ]
      },
      {
       "output_type": "stream",
       "stream": "stdout",
       "text": [
        "\n",
        "[ 225.30494659  215.70244866   71.40693508]"
       ]
      },
      {
       "output_type": "stream",
       "stream": "stdout",
       "text": [
        "\n",
        "[ 225.322432  215.821568   71.387264]"
       ]
      },
      {
       "output_type": "stream",
       "stream": "stdout",
       "text": [
        "\n",
        "[ 225.33996733  215.94102742   71.36753676]"
       ]
      },
      {
       "output_type": "stream",
       "stream": "stdout",
       "text": [
        "\n",
        "[ 225.35755238  216.06082562   71.34775357]"
       ]
      },
      {
       "output_type": "stream",
       "stream": "stdout",
       "text": [
        "\n",
        "[ 225.37518698  216.18096127   71.32791465]"
       ]
      },
      {
       "output_type": "stream",
       "stream": "stdout",
       "text": [
        "\n",
        "[ 225.39287091  216.30143309   71.30802022]"
       ]
      },
      {
       "output_type": "stream",
       "stream": "stdout",
       "text": [
        "\n",
        "[ 225.410604    216.42223975   71.2880705 ]"
       ]
      },
      {
       "output_type": "stream",
       "stream": "stdout",
       "text": [
        "\n",
        "[ 225.42838605  216.54337995   71.2680657 ]"
       ]
      },
      {
       "output_type": "stream",
       "stream": "stdout",
       "text": [
        "\n",
        "[ 225.44621686  216.66485239   71.24800603]"
       ]
      },
      {
       "output_type": "stream",
       "stream": "stdout",
       "text": [
        "\n",
        "[ 225.46409626  216.78665574   71.22789171]"
       ]
      },
      {
       "output_type": "stream",
       "stream": "stdout",
       "text": [
        "\n",
        "[ 225.48202403  216.90878872   71.20772296]"
       ]
      },
      {
       "output_type": "stream",
       "stream": "stdout",
       "text": [
        "\n",
        "[ 225.5      217.03125   71.1875 ]"
       ]
      },
      {
       "output_type": "stream",
       "stream": "stdout",
       "text": [
        "\n",
        "[ 225.51802397  217.15403828   71.16722304]"
       ]
      },
      {
       "output_type": "stream",
       "stream": "stdout",
       "text": [
        "\n",
        "[ 225.53609574  217.27715226   71.14689229]"
       ]
      },
      {
       "output_type": "stream",
       "stream": "stdout",
       "text": [
        "\n",
        "[ 225.55421514  217.40059061   71.12650797]"
       ]
      },
      {
       "output_type": "stream",
       "stream": "stdout",
       "text": [
        "\n",
        "[ 225.57238195  217.52435205   71.1060703 ]"
       ]
      },
      {
       "output_type": "stream",
       "stream": "stdout",
       "text": [
        "\n",
        "[ 225.590596    217.64843525   71.0855795 ]"
       ]
      },
      {
       "output_type": "stream",
       "stream": "stdout",
       "text": [
        "\n",
        "[ 225.60885709  217.77283891   71.06503578]"
       ]
      },
      {
       "output_type": "stream",
       "stream": "stdout",
       "text": [
        "\n",
        "[ 225.62716502  217.89756173   71.04443935]"
       ]
      },
      {
       "output_type": "stream",
       "stream": "stdout",
       "text": [
        "\n",
        "[ 225.64551962  218.02260238   71.02379043]"
       ]
      },
      {
       "output_type": "stream",
       "stream": "stdout",
       "text": [
        "\n",
        "[ 225.66392067  218.14795958   71.00308924]"
       ]
      },
      {
       "output_type": "stream",
       "stream": "stdout",
       "text": [
        "\n",
        "[ 225.682368  218.273632   70.982336]"
       ]
      },
      {
       "output_type": "stream",
       "stream": "stdout",
       "text": [
        "\n",
        "[ 225.70086141  218.39961834   70.96153092]"
       ]
      },
      {
       "output_type": "stream",
       "stream": "stdout",
       "text": [
        "\n",
        "[ 225.7194007   218.5259173    70.94067421]"
       ]
      },
      {
       "output_type": "stream",
       "stream": "stdout",
       "text": [
        "\n",
        "[ 225.7379857   218.65252755   70.91976609]"
       ]
      },
      {
       "output_type": "stream",
       "stream": "stdout",
       "text": [
        "\n",
        "[ 225.75661619  218.77944781   70.89880678]"
       ]
      },
      {
       "output_type": "stream",
       "stream": "stdout",
       "text": [
        "\n",
        "[ 225.775292    218.90667675   70.8777965 ]"
       ]
      },
      {
       "output_type": "stream",
       "stream": "stdout",
       "text": [
        "\n",
        "[ 225.79401293  219.03421307   70.85673546]"
       ]
      },
      {
       "output_type": "stream",
       "stream": "stdout",
       "text": [
        "\n",
        "[ 225.81277878  219.16205547   70.83562387]"
       ]
      },
      {
       "output_type": "stream",
       "stream": "stdout",
       "text": [
        "\n",
        "[ 225.83158938  219.29020262   70.81446195]"
       ]
      },
      {
       "output_type": "stream",
       "stream": "stdout",
       "text": [
        "\n",
        "[ 225.85044451  219.41865324   70.79324992]"
       ]
      },
      {
       "output_type": "stream",
       "stream": "stdout",
       "text": [
        "\n",
        "[ 225.869344  219.547406   70.771988]"
       ]
      },
      {
       "output_type": "stream",
       "stream": "stdout",
       "text": [
        "\n",
        "[ 225.88828765  219.6764596    70.7506764 ]"
       ]
      },
      {
       "output_type": "stream",
       "stream": "stdout",
       "text": [
        "\n",
        "[ 225.90727526  219.80581274   70.72931533]"
       ]
      },
      {
       "output_type": "stream",
       "stream": "stdout",
       "text": [
        "\n",
        "[ 225.92630666  219.93546409   70.70790501]"
       ]
      },
      {
       "output_type": "stream",
       "stream": "stdout",
       "text": [
        "\n",
        "[ 225.94538163  220.06541237   70.68644566]"
       ]
      },
      {
       "output_type": "stream",
       "stream": "stdout",
       "text": [
        "\n",
        "[ 225.9645      220.19565625   70.6649375 ]"
       ]
      },
      {
       "output_type": "stream",
       "stream": "stdout",
       "text": [
        "\n",
        "[ 225.98366157  220.32619443   70.64338074]"
       ]
      },
      {
       "output_type": "stream",
       "stream": "stdout",
       "text": [
        "\n",
        "[ 226.00286614  220.45702561   70.62177559]"
       ]
      },
      {
       "output_type": "stream",
       "stream": "stdout",
       "text": [
        "\n",
        "[ 226.02211354  220.58814846   70.60012227]"
       ]
      },
      {
       "output_type": "stream",
       "stream": "stdout",
       "text": [
        "\n",
        "[ 226.04140355  220.7195617    70.578421  ]"
       ]
      },
      {
       "output_type": "stream",
       "stream": "stdout",
       "text": [
        "\n",
        "[ 226.060736  220.851264   70.556672]"
       ]
      },
      {
       "output_type": "stream",
       "stream": "stdout",
       "text": [
        "\n",
        "[ 226.08011069  220.98325406   70.53487548]"
       ]
      },
      {
       "output_type": "stream",
       "stream": "stdout",
       "text": [
        "\n",
        "[ 226.09952742  221.11553058   70.51303165]"
       ]
      },
      {
       "output_type": "stream",
       "stream": "stdout",
       "text": [
        "\n",
        "[ 226.11898602  221.24809223   70.49114073]"
       ]
      },
      {
       "output_type": "stream",
       "stream": "stdout",
       "text": [
        "\n",
        "[ 226.13848627  221.38093773   70.46920294]"
       ]
      },
      {
       "output_type": "stream",
       "stream": "stdout",
       "text": [
        "\n",
        "[ 226.158028    221.51406575   70.4472185 ]"
       ]
      },
      {
       "output_type": "stream",
       "stream": "stdout",
       "text": [
        "\n",
        "[ 226.17761101  221.64747499   70.42518762]"
       ]
      },
      {
       "output_type": "stream",
       "stream": "stdout",
       "text": [
        "\n",
        "[ 226.1972351   221.78116415   70.40311051]"
       ]
      },
      {
       "output_type": "stream",
       "stream": "stdout",
       "text": [
        "\n",
        "[ 226.2169001   221.9151319    70.38098739]"
       ]
      },
      {
       "output_type": "stream",
       "stream": "stdout",
       "text": [
        "\n",
        "[ 226.23660579  222.04937696   70.35881848]"
       ]
      },
      {
       "output_type": "stream",
       "stream": "stdout",
       "text": [
        "\n",
        "[ 226.256352  222.183898   70.336604]"
       ]
      },
      {
       "output_type": "stream",
       "stream": "stdout",
       "text": [
        "\n",
        "[ 226.27613853  222.31869372   70.31434416]"
       ]
      },
      {
       "output_type": "stream",
       "stream": "stdout",
       "text": [
        "\n",
        "[ 226.29596518  222.45376282   70.29203917]"
       ]
      },
      {
       "output_type": "stream",
       "stream": "stdout",
       "text": [
        "\n",
        "[ 226.31583178  222.58910397   70.26968925]"
       ]
      },
      {
       "output_type": "stream",
       "stream": "stdout",
       "text": [
        "\n",
        "[ 226.33573811  222.72471589   70.24729462]"
       ]
      },
      {
       "output_type": "stream",
       "stream": "stdout",
       "text": [
        "\n",
        "[ 226.355684    222.86059725   70.2248555 ]"
       ]
      },
      {
       "output_type": "stream",
       "stream": "stdout",
       "text": [
        "\n",
        "[ 226.37566925  222.99674675   70.2023721 ]"
       ]
      },
      {
       "output_type": "stream",
       "stream": "stdout",
       "text": [
        "\n",
        "[ 226.39569366  223.13316309   70.17984463]"
       ]
      },
      {
       "output_type": "stream",
       "stream": "stdout",
       "text": [
        "\n",
        "[ 226.41575706  223.26984494   70.15727331]"
       ]
      },
      {
       "output_type": "stream",
       "stream": "stdout",
       "text": [
        "\n",
        "[ 226.43585923  223.40679102   70.13465836]"
       ]
      },
      {
       "output_type": "stream",
       "stream": "stdout",
       "text": [
        "\n",
        "[ 226.456  223.544   70.112]"
       ]
      },
      {
       "output_type": "stream",
       "stream": "stdout",
       "text": [
        "\n",
        "[ 226.47617917  223.68147058   70.08929844]"
       ]
      },
      {
       "output_type": "stream",
       "stream": "stdout",
       "text": [
        "\n",
        "[ 226.49639654  223.81920146   70.06655389]"
       ]
      },
      {
       "output_type": "stream",
       "stream": "stdout",
       "text": [
        "\n",
        "[ 226.51665194  223.95719131   70.04376657]"
       ]
      },
      {
       "output_type": "stream",
       "stream": "stdout",
       "text": [
        "\n",
        "[ 226.53694515  224.09543885   70.0209367 ]"
       ]
      },
      {
       "output_type": "stream",
       "stream": "stdout",
       "text": [
        "\n",
        "[ 226.557276    224.23394275   69.9980645 ]"
       ]
      },
      {
       "output_type": "stream",
       "stream": "stdout",
       "text": [
        "\n",
        "[ 226.57764429  224.37270171   69.97515018]"
       ]
      },
      {
       "output_type": "stream",
       "stream": "stdout",
       "text": [
        "\n",
        "[ 226.59804982  224.51171443   69.95219395]"
       ]
      },
      {
       "output_type": "stream",
       "stream": "stdout",
       "text": [
        "\n",
        "[ 226.61849242  224.65097958   69.92919603]"
       ]
      },
      {
       "output_type": "stream",
       "stream": "stdout",
       "text": [
        "\n",
        "[ 226.63897187  224.79049588   69.90615664]"
       ]
      },
      {
       "output_type": "stream",
       "stream": "stdout",
       "text": [
        "\n",
        "[ 226.659488  224.930262   69.883076]"
       ]
      },
      {
       "output_type": "stream",
       "stream": "stdout",
       "text": [
        "\n",
        "[ 226.68004061  225.07027664   69.85995432]"
       ]
      },
      {
       "output_type": "stream",
       "stream": "stdout",
       "text": [
        "\n",
        "[ 226.7006295   225.2105385    69.83679181]"
       ]
      },
      {
       "output_type": "stream",
       "stream": "stdout",
       "text": [
        "\n",
        "[ 226.7212545   225.35104625   69.81358869]"
       ]
      },
      {
       "output_type": "stream",
       "stream": "stdout",
       "text": [
        "\n",
        "[ 226.74191539  225.49179861   69.79034518]"
       ]
      },
      {
       "output_type": "stream",
       "stream": "stdout",
       "text": [
        "\n",
        "[ 226.762612    225.63279425   69.7670615 ]"
       ]
      },
      {
       "output_type": "stream",
       "stream": "stdout",
       "text": [
        "\n",
        "[ 226.78334413  225.77403187   69.74373786]"
       ]
      },
      {
       "output_type": "stream",
       "stream": "stdout",
       "text": [
        "\n",
        "[ 226.80411158  225.91551017   69.72037447]"
       ]
      },
      {
       "output_type": "stream",
       "stream": "stdout",
       "text": [
        "\n",
        "[ 226.82491418  226.05722782   69.69697155]"
       ]
      },
      {
       "output_type": "stream",
       "stream": "stdout",
       "text": [
        "\n",
        "[ 226.84575171  226.19918354   69.67352932]"
       ]
      },
      {
       "output_type": "stream",
       "stream": "stdout",
       "text": [
        "\n",
        "[ 226.866624  226.341376   69.650048]"
       ]
      },
      {
       "output_type": "stream",
       "stream": "stdout",
       "text": [
        "\n",
        "[ 226.88753085  226.4838039    69.6265278 ]"
       ]
      },
      {
       "output_type": "stream",
       "stream": "stdout",
       "text": [
        "\n",
        "[ 226.90847206  226.62646594   69.60296893]"
       ]
      },
      {
       "output_type": "stream",
       "stream": "stdout",
       "text": [
        "\n",
        "[ 226.92944746  226.76936079   69.57937161]"
       ]
      },
      {
       "output_type": "stream",
       "stream": "stdout",
       "text": [
        "\n",
        "[ 226.95045683  226.91248717   69.55573606]"
       ]
      },
      {
       "output_type": "stream",
       "stream": "stdout",
       "text": [
        "\n",
        "[ 226.9715      227.05584375   69.5320625 ]"
       ]
      },
      {
       "output_type": "stream",
       "stream": "stdout",
       "text": [
        "\n",
        "[ 226.99257677  227.19942923   69.50835114]"
       ]
      },
      {
       "output_type": "stream",
       "stream": "stdout",
       "text": [
        "\n",
        "[ 227.01368694  227.34324231   69.48460219]"
       ]
      },
      {
       "output_type": "stream",
       "stream": "stdout",
       "text": [
        "\n",
        "[ 227.03483034  227.48728166   69.46081587]"
       ]
      },
      {
       "output_type": "stream",
       "stream": "stdout",
       "text": [
        "\n",
        "[ 227.05600675  227.631546     69.4369924 ]"
       ]
      },
      {
       "output_type": "stream",
       "stream": "stdout",
       "text": [
        "\n",
        "[ 227.077216  227.776034   69.413132]"
       ]
      },
      {
       "output_type": "stream",
       "stream": "stdout",
       "text": [
        "\n",
        "[ 227.09845789  227.92074436   69.38923488]"
       ]
      },
      {
       "output_type": "stream",
       "stream": "stdout",
       "text": [
        "\n",
        "[ 227.11973222  228.06567578   69.36530125]"
       ]
      },
      {
       "output_type": "stream",
       "stream": "stdout",
       "text": [
        "\n",
        "[ 227.14103882  228.21082693   69.34133133]"
       ]
      },
      {
       "output_type": "stream",
       "stream": "stdout",
       "text": [
        "\n",
        "[ 227.16237747  228.35619653   69.31732534]"
       ]
      },
      {
       "output_type": "stream",
       "stream": "stdout",
       "text": [
        "\n",
        "[ 227.183748    228.50178325   69.2932835 ]"
       ]
      },
      {
       "output_type": "stream",
       "stream": "stdout",
       "text": [
        "\n",
        "[ 227.20515021  228.64758579   69.26920602]"
       ]
      },
      {
       "output_type": "stream",
       "stream": "stdout",
       "text": [
        "\n",
        "[ 227.2265839   228.79360285   69.24509311]"
       ]
      },
      {
       "output_type": "stream",
       "stream": "stdout",
       "text": [
        "\n",
        "[ 227.2480489   228.9398331    69.22094499]"
       ]
      },
      {
       "output_type": "stream",
       "stream": "stdout",
       "text": [
        "\n",
        "[ 227.26954499  229.08627526   69.19676188]"
       ]
      },
      {
       "output_type": "stream",
       "stream": "stdout",
       "text": [
        "\n",
        "[ 227.291072  229.232928   69.172544]"
       ]
      },
      {
       "output_type": "stream",
       "stream": "stdout",
       "text": [
        "\n",
        "[ 227.31262973  229.37979002   69.14829156]"
       ]
      },
      {
       "output_type": "stream",
       "stream": "stdout",
       "text": [
        "\n",
        "[ 227.33421798  229.52686002   69.12400477]"
       ]
      },
      {
       "output_type": "stream",
       "stream": "stdout",
       "text": [
        "\n",
        "[ 227.35583658  229.67413667   69.09968385]"
       ]
      },
      {
       "output_type": "stream",
       "stream": "stdout",
       "text": [
        "\n",
        "[ 227.37748531  229.82161869   69.07532902]"
       ]
      },
      {
       "output_type": "stream",
       "stream": "stdout",
       "text": [
        "\n",
        "[ 227.399164    229.96930475   69.0509405 ]"
       ]
      },
      {
       "output_type": "stream",
       "stream": "stdout",
       "text": [
        "\n",
        "[ 227.42087245  230.11719355   69.0265185 ]"
       ]
      },
      {
       "output_type": "stream",
       "stream": "stdout",
       "text": [
        "\n",
        "[ 227.44261046  230.26528379   69.00206323]"
       ]
      },
      {
       "output_type": "stream",
       "stream": "stdout",
       "text": [
        "\n",
        "[ 227.46437786  230.41357414   68.97757491]"
       ]
      },
      {
       "output_type": "stream",
       "stream": "stdout",
       "text": [
        "\n",
        "[ 227.48617443  230.56206332   68.95305376]"
       ]
      },
      {
       "output_type": "stream",
       "stream": "stdout",
       "text": [
        "\n",
        "[ 227.508    230.71075   68.9285 ]"
       ]
      },
      {
       "output_type": "stream",
       "stream": "stdout",
       "text": [
        "\n",
        "[ 227.52985437  230.85963288   68.90391384]"
       ]
      },
      {
       "output_type": "stream",
       "stream": "stdout",
       "text": [
        "\n",
        "[ 227.55173734  231.00871066   68.87929549]"
       ]
      },
      {
       "output_type": "stream",
       "stream": "stdout",
       "text": [
        "\n",
        "[ 227.57364874  231.15798201   68.85464517]"
       ]
      },
      {
       "output_type": "stream",
       "stream": "stdout",
       "text": [
        "\n",
        "[ 227.59558835  231.30744565   68.8299631 ]"
       ]
      },
      {
       "output_type": "stream",
       "stream": "stdout",
       "text": [
        "\n",
        "[ 227.617556    231.45710025   68.8052495 ]"
       ]
      },
      {
       "output_type": "stream",
       "stream": "stdout",
       "text": [
        "\n",
        "[ 227.63955149  231.60694451   68.78050458]"
       ]
      },
      {
       "output_type": "stream",
       "stream": "stdout",
       "text": [
        "\n",
        "[ 227.66157462  231.75697713   68.75572855]"
       ]
      },
      {
       "output_type": "stream",
       "stream": "stdout",
       "text": [
        "\n",
        "[ 227.68362522  231.90719678   68.73092163]"
       ]
      },
      {
       "output_type": "stream",
       "stream": "stdout",
       "text": [
        "\n",
        "[ 227.70570307  232.05760218   68.70608404]"
       ]
      },
      {
       "output_type": "stream",
       "stream": "stdout",
       "text": [
        "\n",
        "[ 227.727808  232.208192   68.681216]"
       ]
      },
      {
       "output_type": "stream",
       "stream": "stdout",
       "text": [
        "\n",
        "[ 227.74993981  232.35896494   68.65631772]"
       ]
      },
      {
       "output_type": "stream",
       "stream": "stdout",
       "text": [
        "\n",
        "[ 227.7720983   232.5099197    68.63138941]"
       ]
      },
      {
       "output_type": "stream",
       "stream": "stdout",
       "text": [
        "\n",
        "[ 227.7942833   232.66105495   68.60643129]"
       ]
      },
      {
       "output_type": "stream",
       "stream": "stdout",
       "text": [
        "\n",
        "[ 227.81649459  232.81236941   68.58144358]"
       ]
      },
      {
       "output_type": "stream",
       "stream": "stdout",
       "text": [
        "\n",
        "[ 227.838732    232.96386175   68.5564265 ]"
       ]
      },
      {
       "output_type": "stream",
       "stream": "stdout",
       "text": [
        "\n",
        "[ 227.86099533  233.11553067   68.53138026]"
       ]
      },
      {
       "output_type": "stream",
       "stream": "stdout",
       "text": [
        "\n",
        "[ 227.88328438  233.26737487   68.50630507]"
       ]
      },
      {
       "output_type": "stream",
       "stream": "stdout",
       "text": [
        "\n",
        "[ 227.90559898  233.41939302   68.48120115]"
       ]
      },
      {
       "output_type": "stream",
       "stream": "stdout",
       "text": [
        "\n",
        "[ 227.92793891  233.57158384   68.45606872]"
       ]
      },
      {
       "output_type": "stream",
       "stream": "stdout",
       "text": [
        "\n",
        "[ 227.950304  233.723946   68.430908]"
       ]
      },
      {
       "output_type": "stream",
       "stream": "stdout",
       "text": [
        "\n",
        "[ 227.97269405  233.8764782    68.4057192 ]"
       ]
      },
      {
       "output_type": "stream",
       "stream": "stdout",
       "text": [
        "\n",
        "[ 227.99510886  234.02917914   68.38050253]"
       ]
      },
      {
       "output_type": "stream",
       "stream": "stdout",
       "text": [
        "\n",
        "[ 228.01754826  234.18204749   68.35525821]"
       ]
      },
      {
       "output_type": "stream",
       "stream": "stdout",
       "text": [
        "\n",
        "[ 228.04001203  234.33508197   68.32998646]"
       ]
      },
      {
       "output_type": "stream",
       "stream": "stdout",
       "text": [
        "\n",
        "[ 228.0625      234.48828125   68.3046875 ]"
       ]
      },
      {
       "output_type": "stream",
       "stream": "stdout",
       "text": [
        "\n",
        "[ 228.08501197  234.64164403   68.27936154]"
       ]
      },
      {
       "output_type": "stream",
       "stream": "stdout",
       "text": [
        "\n",
        "[ 228.10754774  234.79516901   68.25400879]"
       ]
      },
      {
       "output_type": "stream",
       "stream": "stdout",
       "text": [
        "\n",
        "[ 228.13010714  234.94885486   68.22862947]"
       ]
      },
      {
       "output_type": "stream",
       "stream": "stdout",
       "text": [
        "\n",
        "[ 228.15268995  235.1027003    68.2032238 ]"
       ]
      },
      {
       "output_type": "stream",
       "stream": "stdout",
       "text": [
        "\n",
        "[ 228.175296  235.256704   68.177792]"
       ]
      },
      {
       "output_type": "stream",
       "stream": "stdout",
       "text": [
        "\n",
        "[ 228.19792509  235.41086466   68.15233428]"
       ]
      },
      {
       "output_type": "stream",
       "stream": "stdout",
       "text": [
        "\n",
        "[ 228.22057702  235.56518098   68.12685085]"
       ]
      },
      {
       "output_type": "stream",
       "stream": "stdout",
       "text": [
        "\n",
        "[ 228.24325162  235.71965163   68.10134193]"
       ]
      },
      {
       "output_type": "stream",
       "stream": "stdout",
       "text": [
        "\n",
        "[ 228.26594867  235.87427533   68.07580774]"
       ]
      },
      {
       "output_type": "stream",
       "stream": "stdout",
       "text": [
        "\n",
        "[ 228.288668    236.02905075   68.0502485 ]"
       ]
      },
      {
       "output_type": "stream",
       "stream": "stdout",
       "text": [
        "\n",
        "[ 228.31140941  236.18397659   68.02466442]"
       ]
      },
      {
       "output_type": "stream",
       "stream": "stdout",
       "text": [
        "\n",
        "[ 228.3341727   236.33905155   67.99905571]"
       ]
      },
      {
       "output_type": "stream",
       "stream": "stdout",
       "text": [
        "\n",
        "[ 228.3569577   236.4942743    67.97342259]"
       ]
      },
      {
       "output_type": "stream",
       "stream": "stdout",
       "text": [
        "\n",
        "[ 228.37976419  236.64964356   67.94776528]"
       ]
      },
      {
       "output_type": "stream",
       "stream": "stdout",
       "text": [
        "\n",
        "[ 228.402592  236.805158   67.922084]"
       ]
      },
      {
       "output_type": "stream",
       "stream": "stdout",
       "text": [
        "\n",
        "[ 228.42544093  236.96081632   67.89637896]"
       ]
      },
      {
       "output_type": "stream",
       "stream": "stdout",
       "text": [
        "\n",
        "[ 228.44831078  237.11661722   67.87065037]"
       ]
      },
      {
       "output_type": "stream",
       "stream": "stdout",
       "text": [
        "\n",
        "[ 228.47120138  237.27255937   67.84489845]"
       ]
      },
      {
       "output_type": "stream",
       "stream": "stdout",
       "text": [
        "\n",
        "[ 228.49411251  237.42864149   67.81912342]"
       ]
      },
      {
       "output_type": "stream",
       "stream": "stdout",
       "text": [
        "\n",
        "[ 228.517044    237.58486225   67.7933255 ]"
       ]
      },
      {
       "output_type": "stream",
       "stream": "stdout",
       "text": [
        "\n",
        "[ 228.53999565  237.74122035   67.7675049 ]"
       ]
      },
      {
       "output_type": "stream",
       "stream": "stdout",
       "text": [
        "\n",
        "[ 228.56296726  237.89771449   67.74166183]"
       ]
      },
      {
       "output_type": "stream",
       "stream": "stdout",
       "text": [
        "\n",
        "[ 228.58595866  238.05434334   67.71579651]"
       ]
      },
      {
       "output_type": "stream",
       "stream": "stdout",
       "text": [
        "\n",
        "[ 228.60896963  238.21110562   67.68990916]"
       ]
      },
      {
       "output_type": "stream",
       "stream": "stdout",
       "text": [
        "\n",
        "[ 228.632  238.368   67.664]"
       ]
      },
      {
       "output_type": "stream",
       "stream": "stdout",
       "text": [
        "\n",
        "[ 228.65504957  238.52502518   67.63806924]"
       ]
      },
      {
       "output_type": "stream",
       "stream": "stdout",
       "text": [
        "\n",
        "[ 228.67811814  238.68217986   67.61211709]"
       ]
      },
      {
       "output_type": "stream",
       "stream": "stdout",
       "text": [
        "\n",
        "[ 228.70120554  238.83946271   67.58614377]"
       ]
      },
      {
       "output_type": "stream",
       "stream": "stdout",
       "text": [
        "\n",
        "[ 228.72431155  238.99687245   67.5601495 ]"
       ]
      },
      {
       "output_type": "stream",
       "stream": "stdout",
       "text": [
        "\n",
        "[ 228.747436    239.15440775   67.5341345 ]"
       ]
      },
      {
       "output_type": "stream",
       "stream": "stdout",
       "text": [
        "\n",
        "[ 228.77057869  239.31206731   67.50809898]"
       ]
      },
      {
       "output_type": "stream",
       "stream": "stdout",
       "text": [
        "\n",
        "[ 228.79373942  239.46984983   67.48204315]"
       ]
      },
      {
       "output_type": "stream",
       "stream": "stdout",
       "text": [
        "\n",
        "[ 228.81691802  239.62775398   67.45596723]"
       ]
      },
      {
       "output_type": "stream",
       "stream": "stdout",
       "text": [
        "\n",
        "[ 228.84011427  239.78577848   67.42987144]"
       ]
      },
      {
       "output_type": "stream",
       "stream": "stdout",
       "text": [
        "\n",
        "[ 228.863328  239.943922   67.403756]"
       ]
      },
      {
       "output_type": "stream",
       "stream": "stdout",
       "text": [
        "\n",
        "[ 228.88655901  240.10218324   67.37762112]"
       ]
      },
      {
       "output_type": "stream",
       "stream": "stdout",
       "text": [
        "\n",
        "[ 228.9098071   240.2605609    67.35146701]"
       ]
      },
      {
       "output_type": "stream",
       "stream": "stdout",
       "text": [
        "\n",
        "[ 228.9330721   240.41905365   67.32529389]"
       ]
      },
      {
       "output_type": "stream",
       "stream": "stdout",
       "text": [
        "\n",
        "[ 228.95635379  240.57766021   67.29910198]"
       ]
      },
      {
       "output_type": "stream",
       "stream": "stdout",
       "text": [
        "\n",
        "[ 228.979652    240.73637925   67.2728915 ]"
       ]
      },
      {
       "output_type": "stream",
       "stream": "stdout",
       "text": [
        "\n",
        "[ 229.00296653  240.89520947   67.24666266]"
       ]
      },
      {
       "output_type": "stream",
       "stream": "stdout",
       "text": [
        "\n",
        "[ 229.02629718  241.05414957   67.22041567]"
       ]
      },
      {
       "output_type": "stream",
       "stream": "stdout",
       "text": [
        "\n",
        "[ 229.04964378  241.21319822   67.19415075]"
       ]
      },
      {
       "output_type": "stream",
       "stream": "stdout",
       "text": [
        "\n",
        "[ 229.07300611  241.37235414   67.16786812]"
       ]
      },
      {
       "output_type": "stream",
       "stream": "stdout",
       "text": [
        "\n",
        "[ 229.096384  241.531616   67.141568]"
       ]
      },
      {
       "output_type": "stream",
       "stream": "stdout",
       "text": [
        "\n",
        "[ 229.11977725  241.6909825    67.1152506 ]"
       ]
      },
      {
       "output_type": "stream",
       "stream": "stdout",
       "text": [
        "\n",
        "[ 229.14318566  241.85045234   67.08891613]"
       ]
      },
      {
       "output_type": "stream",
       "stream": "stdout",
       "text": [
        "\n",
        "[ 229.16660906  242.01002419   67.06256481]"
       ]
      },
      {
       "output_type": "stream",
       "stream": "stdout",
       "text": [
        "\n",
        "[ 229.19004723  242.16969677   67.03619686]"
       ]
      },
      {
       "output_type": "stream",
       "stream": "stdout",
       "text": [
        "\n",
        "[ 229.2135      242.32946875   67.0098125 ]"
       ]
      },
      {
       "output_type": "stream",
       "stream": "stdout",
       "text": [
        "\n",
        "[ 229.23696717  242.48933883   66.98341194]"
       ]
      },
      {
       "output_type": "stream",
       "stream": "stdout",
       "text": [
        "\n",
        "[ 229.26044854  242.64930571   66.95699539]"
       ]
      },
      {
       "output_type": "stream",
       "stream": "stdout",
       "text": [
        "\n",
        "[ 229.28394394  242.80936806   66.93056307]"
       ]
      },
      {
       "output_type": "stream",
       "stream": "stdout",
       "text": [
        "\n",
        "[ 229.30745315  242.9695246    66.9041152 ]"
       ]
      },
      {
       "output_type": "stream",
       "stream": "stdout",
       "text": [
        "\n",
        "[ 229.330976  243.129774   66.877652]"
       ]
      },
      {
       "output_type": "stream",
       "stream": "stdout",
       "text": [
        "\n",
        "[ 229.35451229  243.29011496   66.85117368]"
       ]
      },
      {
       "output_type": "stream",
       "stream": "stdout",
       "text": [
        "\n",
        "[ 229.37806182  243.45054618   66.82468045]"
       ]
      },
      {
       "output_type": "stream",
       "stream": "stdout",
       "text": [
        "\n",
        "[ 229.40162442  243.61106633   66.79817253]"
       ]
      },
      {
       "output_type": "stream",
       "stream": "stdout",
       "text": [
        "\n",
        "[ 229.42519987  243.77167413   66.77165014]"
       ]
      },
      {
       "output_type": "stream",
       "stream": "stdout",
       "text": [
        "\n",
        "[ 229.448788    243.93236825   66.7451135 ]"
       ]
      },
      {
       "output_type": "stream",
       "stream": "stdout",
       "text": [
        "\n",
        "[ 229.47238861  244.09314739   66.71856282]"
       ]
      },
      {
       "output_type": "stream",
       "stream": "stdout",
       "text": [
        "\n",
        "[ 229.4960015   244.25401025   66.69199831]"
       ]
      },
      {
       "output_type": "stream",
       "stream": "stdout",
       "text": [
        "\n",
        "[ 229.5196265   244.4149555    66.66542019]"
       ]
      },
      {
       "output_type": "stream",
       "stream": "stdout",
       "text": [
        "\n",
        "[ 229.54326339  244.57598186   66.63882868]"
       ]
      },
      {
       "output_type": "stream",
       "stream": "stdout",
       "text": [
        "\n",
        "[ 229.566912  244.737088   66.612224]"
       ]
      },
      {
       "output_type": "stream",
       "stream": "stdout",
       "text": [
        "\n",
        "[ 229.59057213  244.89827262   66.58560636]"
       ]
      },
      {
       "output_type": "stream",
       "stream": "stdout",
       "text": [
        "\n",
        "[ 229.61424358  245.05953442   66.55897597]"
       ]
      },
      {
       "output_type": "stream",
       "stream": "stdout",
       "text": [
        "\n",
        "[ 229.63792618  245.22087207   66.53233305]"
       ]
      },
      {
       "output_type": "stream",
       "stream": "stdout",
       "text": [
        "\n",
        "[ 229.66161971  245.38228429   66.50567782]"
       ]
      },
      {
       "output_type": "stream",
       "stream": "stdout",
       "text": [
        "\n",
        "[ 229.685324    245.54376975   66.4790105 ]"
       ]
      },
      {
       "output_type": "stream",
       "stream": "stdout",
       "text": [
        "\n",
        "[ 229.70903885  245.70532715   66.4523313 ]"
       ]
      },
      {
       "output_type": "stream",
       "stream": "stdout",
       "text": [
        "\n",
        "[ 229.73276406  245.86695519   66.42564043]"
       ]
      },
      {
       "output_type": "stream",
       "stream": "stdout",
       "text": [
        "\n",
        "[ 229.75649946  246.02865254   66.39893811]"
       ]
      },
      {
       "output_type": "stream",
       "stream": "stdout",
       "text": [
        "\n",
        "[ 229.78024483  246.19041792   66.37222456]"
       ]
      },
      {
       "output_type": "stream",
       "stream": "stdout",
       "text": [
        "\n",
        "[ 229.804    246.35225   66.3455 ]"
       ]
      },
      {
       "output_type": "stream",
       "stream": "stdout",
       "text": [
        "\n",
        "[ 229.82776477  246.51414748   66.31876464]"
       ]
      },
      {
       "output_type": "stream",
       "stream": "stdout",
       "text": [
        "\n",
        "[ 229.85153894  246.67610906   66.29201869]"
       ]
      },
      {
       "output_type": "stream",
       "stream": "stdout",
       "text": [
        "\n",
        "[ 229.87532234  246.83813341   66.26526237]"
       ]
      },
      {
       "output_type": "stream",
       "stream": "stdout",
       "text": [
        "\n",
        "[ 229.89911475  247.00021925   66.2384959 ]"
       ]
      },
      {
       "output_type": "stream",
       "stream": "stdout",
       "text": [
        "\n",
        "[ 229.922916    247.16236525   66.2117195 ]"
       ]
      },
      {
       "output_type": "stream",
       "stream": "stdout",
       "text": [
        "\n",
        "[ 229.94672589  247.32457011   66.18493338]"
       ]
      },
      {
       "output_type": "stream",
       "stream": "stdout",
       "text": [
        "\n",
        "[ 229.97054422  247.48683253   66.15813775]"
       ]
      },
      {
       "output_type": "stream",
       "stream": "stdout",
       "text": [
        "\n",
        "[ 229.99437082  247.64915118   66.13133283]"
       ]
      },
      {
       "output_type": "stream",
       "stream": "stdout",
       "text": [
        "\n",
        "[ 230.01820547  247.81152478   66.10451884]"
       ]
      },
      {
       "output_type": "stream",
       "stream": "stdout",
       "text": [
        "\n",
        "[ 230.042048  247.973952   66.077696]"
       ]
      },
      {
       "output_type": "stream",
       "stream": "stdout",
       "text": [
        "\n",
        "[ 230.06589821  248.13643154   66.05086452]"
       ]
      },
      {
       "output_type": "stream",
       "stream": "stdout",
       "text": [
        "\n",
        "[ 230.0897559   248.2989621    66.02402461]"
       ]
      },
      {
       "output_type": "stream",
       "stream": "stdout",
       "text": [
        "\n",
        "[ 230.1136209   248.46154235   65.99717649]"
       ]
      },
      {
       "output_type": "stream",
       "stream": "stdout",
       "text": [
        "\n",
        "[ 230.13749299  248.62417101   65.97032038]"
       ]
      },
      {
       "output_type": "stream",
       "stream": "stdout",
       "text": [
        "\n",
        "[ 230.161372    248.78684675   65.9434565 ]"
       ]
      },
      {
       "output_type": "stream",
       "stream": "stdout",
       "text": [
        "\n",
        "[ 230.18525773  248.94956827   65.91658506]"
       ]
      },
      {
       "output_type": "stream",
       "stream": "stdout",
       "text": [
        "\n",
        "[ 230.20914998  249.11233427   65.88970627]"
       ]
      },
      {
       "output_type": "stream",
       "stream": "stdout",
       "text": [
        "\n",
        "[ 230.23304858  249.27514342   65.86282035]"
       ]
      },
      {
       "output_type": "stream",
       "stream": "stdout",
       "text": [
        "\n",
        "[ 230.25695331  249.43799444   65.83592752]"
       ]
      },
      {
       "output_type": "stream",
       "stream": "stdout",
       "text": [
        "\n",
        "[ 230.280864  249.600886   65.809028]"
       ]
      },
      {
       "output_type": "stream",
       "stream": "stdout",
       "text": [
        "\n",
        "[ 230.30478045  249.7638168    65.782122  ]"
       ]
      },
      {
       "output_type": "stream",
       "stream": "stdout",
       "text": [
        "\n",
        "[ 230.32870246  249.92678554   65.75520973]"
       ]
      },
      {
       "output_type": "stream",
       "stream": "stdout",
       "text": [
        "\n",
        "[ 230.35262986  250.08979089   65.72829141]"
       ]
      },
      {
       "output_type": "stream",
       "stream": "stdout",
       "text": [
        "\n",
        "[ 230.37656243  250.25283157   65.70136726]"
       ]
      },
      {
       "output_type": "stream",
       "stream": "stdout",
       "text": [
        "\n",
        "[ 230.4005      250.41590625   65.6744375 ]"
       ]
      },
      {
       "output_type": "stream",
       "stream": "stdout",
       "text": [
        "\n",
        "[ 230.42444237  250.57901363   65.64750234]"
       ]
      },
      {
       "output_type": "stream",
       "stream": "stdout",
       "text": [
        "\n",
        "[ 230.44838934  250.74215241   65.62056199]"
       ]
      },
      {
       "output_type": "stream",
       "stream": "stdout",
       "text": [
        "\n",
        "[ 230.47234074  250.90532126   65.59361667]"
       ]
      },
      {
       "output_type": "stream",
       "stream": "stdout",
       "text": [
        "\n",
        "[ 230.49629635  251.0685189    65.5666666 ]"
       ]
      },
      {
       "output_type": "stream",
       "stream": "stdout",
       "text": [
        "\n",
        "[ 230.520256  251.231744   65.539712]"
       ]
      },
      {
       "output_type": "stream",
       "stream": "stdout",
       "text": [
        "\n",
        "[ 230.54421949  251.39499526   65.51275308]"
       ]
      },
      {
       "output_type": "stream",
       "stream": "stdout",
       "text": [
        "\n",
        "[ 230.56818662  251.55827138   65.48579005]"
       ]
      },
      {
       "output_type": "stream",
       "stream": "stdout",
       "text": [
        "\n",
        "[ 230.59215722  251.72157103   65.45882313]"
       ]
      },
      {
       "output_type": "stream",
       "stream": "stdout",
       "text": [
        "\n",
        "[ 230.61613107  251.88489293   65.43185254]"
       ]
      },
      {
       "output_type": "stream",
       "stream": "stdout",
       "text": [
        "\n",
        "[ 230.640108    252.04823575   65.4048785 ]"
       ]
      },
      {
       "output_type": "stream",
       "stream": "stdout",
       "text": [
        "\n",
        "[ 230.66408781  252.21159819   65.37790122]"
       ]
      },
      {
       "output_type": "stream",
       "stream": "stdout",
       "text": [
        "\n",
        "[ 230.6880703   252.37497895   65.35092091]"
       ]
      },
      {
       "output_type": "stream",
       "stream": "stdout",
       "text": [
        "\n",
        "[ 230.7120553   252.5383767    65.32393779]"
       ]
      },
      {
       "output_type": "stream",
       "stream": "stdout",
       "text": [
        "\n",
        "[ 230.73604259  252.70179016   65.29695208]"
       ]
      },
      {
       "output_type": "stream",
       "stream": "stdout",
       "text": [
        "\n",
        "[ 230.760032  252.865218   65.269964]"
       ]
      },
      {
       "output_type": "stream",
       "stream": "stdout",
       "text": [
        "\n",
        "[ 230.78402333  253.02865892   65.24297376]"
       ]
      },
      {
       "output_type": "stream",
       "stream": "stdout",
       "text": [
        "\n",
        "[ 230.80801638  253.19211162   65.21598157]"
       ]
      },
      {
       "output_type": "stream",
       "stream": "stdout",
       "text": [
        "\n",
        "[ 230.83201098  253.35557477   65.18898765]"
       ]
      },
      {
       "output_type": "stream",
       "stream": "stdout",
       "text": [
        "\n",
        "[ 230.85600691  253.51904709   65.16199222]"
       ]
      },
      {
       "output_type": "stream",
       "stream": "stdout",
       "text": [
        "\n",
        "[ 230.880004    253.68252725   65.1349955 ]"
       ]
      },
      {
       "output_type": "stream",
       "stream": "stdout",
       "text": [
        "\n",
        "[ 230.90400205  253.84601395   65.1079977 ]"
       ]
      },
      {
       "output_type": "stream",
       "stream": "stdout",
       "text": [
        "\n",
        "[ 230.92800086  254.00950589   65.08099903]"
       ]
      },
      {
       "output_type": "stream",
       "stream": "stdout",
       "text": [
        "\n",
        "[ 230.95200026  254.17300174   65.05399971]"
       ]
      },
      {
       "output_type": "stream",
       "stream": "stdout",
       "text": [
        "\n",
        "[ 230.97600003  254.33650022   65.02699996]"
       ]
      },
      {
       "output_type": "stream",
       "stream": "stdout",
       "text": [
        "\n",
        "[ 231.   254.5   65. ]"
       ]
      },
      {
       "output_type": "stream",
       "stream": "stdout",
       "text": [
        "\n",
        "[ 231.02399997  254.66349978   64.97300004]"
       ]
      },
      {
       "output_type": "stream",
       "stream": "stdout",
       "text": [
        "\n",
        "[ 231.04799974  254.82699826   64.94600029]"
       ]
      },
      {
       "output_type": "stream",
       "stream": "stdout",
       "text": [
        "\n",
        "[ 231.07199914  254.99049411   64.91900097]"
       ]
      },
      {
       "output_type": "stream",
       "stream": "stdout",
       "text": [
        "\n",
        "[ 231.09599795  255.15398605   64.8920023 ]"
       ]
      },
      {
       "output_type": "stream",
       "stream": "stdout",
       "text": [
        "\n",
        "[ 231.119996    255.31747275   64.8650045 ]"
       ]
      },
      {
       "output_type": "stream",
       "stream": "stdout",
       "text": [
        "\n",
        "[ 231.14399309  255.48095291   64.83800778]"
       ]
      },
      {
       "output_type": "stream",
       "stream": "stdout",
       "text": [
        "\n",
        "[ 231.16798902  255.64442523   64.81101235]"
       ]
      },
      {
       "output_type": "stream",
       "stream": "stdout",
       "text": [
        "\n",
        "[ 231.19198362  255.80788838   64.78401843]"
       ]
      },
      {
       "output_type": "stream",
       "stream": "stdout",
       "text": [
        "\n",
        "[ 231.21597667  255.97134108   64.75702624]"
       ]
      },
      {
       "output_type": "stream",
       "stream": "stdout",
       "text": [
        "\n",
        "[ 231.239968  256.134782   64.730036]"
       ]
      },
      {
       "output_type": "stream",
       "stream": "stdout",
       "text": [
        "\n",
        "[ 231.26395741  256.29820984   64.70304792]"
       ]
      },
      {
       "output_type": "stream",
       "stream": "stdout",
       "text": [
        "\n",
        "[ 231.2879447   256.4616233    64.67606221]"
       ]
      },
      {
       "output_type": "stream",
       "stream": "stdout",
       "text": [
        "\n",
        "[ 231.3119297   256.62502105   64.64907909]"
       ]
      },
      {
       "output_type": "stream",
       "stream": "stdout",
       "text": [
        "\n",
        "[ 231.33591219  256.78840181   64.62209878]"
       ]
      },
      {
       "output_type": "stream",
       "stream": "stdout",
       "text": [
        "\n",
        "[ 231.359892    256.95176425   64.5951215 ]"
       ]
      },
      {
       "output_type": "stream",
       "stream": "stdout",
       "text": [
        "\n",
        "[ 231.38386893  257.11510707   64.56814746]"
       ]
      },
      {
       "output_type": "stream",
       "stream": "stdout",
       "text": [
        "\n",
        "[ 231.40784278  257.27842897   64.54117687]"
       ]
      },
      {
       "output_type": "stream",
       "stream": "stdout",
       "text": [
        "\n",
        "[ 231.43181338  257.44172862   64.51420995]"
       ]
      },
      {
       "output_type": "stream",
       "stream": "stdout",
       "text": [
        "\n",
        "[ 231.45578051  257.60500474   64.48724692]"
       ]
      },
      {
       "output_type": "stream",
       "stream": "stdout",
       "text": [
        "\n",
        "[ 231.479744  257.768256   64.460288]"
       ]
      },
      {
       "output_type": "stream",
       "stream": "stdout",
       "text": [
        "\n",
        "[ 231.50370365  257.9314811    64.4333334 ]"
       ]
      },
      {
       "output_type": "stream",
       "stream": "stdout",
       "text": [
        "\n",
        "[ 231.52765926  258.09467874   64.40638333]"
       ]
      },
      {
       "output_type": "stream",
       "stream": "stdout",
       "text": [
        "\n",
        "[ 231.55161066  258.25784759   64.37943801]"
       ]
      },
      {
       "output_type": "stream",
       "stream": "stdout",
       "text": [
        "\n",
        "[ 231.57555763  258.42098637   64.35249766]"
       ]
      },
      {
       "output_type": "stream",
       "stream": "stdout",
       "text": [
        "\n",
        "[ 231.5995      258.58409375   64.3255625 ]"
       ]
      },
      {
       "output_type": "stream",
       "stream": "stdout",
       "text": [
        "\n",
        "[ 231.62343757  258.74716843   64.29863274]"
       ]
      },
      {
       "output_type": "stream",
       "stream": "stdout",
       "text": [
        "\n",
        "[ 231.64737014  258.91020911   64.27170859]"
       ]
      },
      {
       "output_type": "stream",
       "stream": "stdout",
       "text": [
        "\n",
        "[ 231.67129754  259.07321446   64.24479027]"
       ]
      },
      {
       "output_type": "stream",
       "stream": "stdout",
       "text": [
        "\n",
        "[ 231.69521955  259.2361832    64.217878  ]"
       ]
      },
      {
       "output_type": "stream",
       "stream": "stdout",
       "text": [
        "\n",
        "[ 231.719136  259.399114   64.190972]"
       ]
      },
      {
       "output_type": "stream",
       "stream": "stdout",
       "text": [
        "\n",
        "[ 231.74304669  259.56200556   64.16407248]"
       ]
      },
      {
       "output_type": "stream",
       "stream": "stdout",
       "text": [
        "\n",
        "[ 231.76695142  259.72485658   64.13717965]"
       ]
      },
      {
       "output_type": "stream",
       "stream": "stdout",
       "text": [
        "\n",
        "[ 231.79085002  259.88766573   64.11029373]"
       ]
      },
      {
       "output_type": "stream",
       "stream": "stdout",
       "text": [
        "\n",
        "[ 231.81474227  260.05043173   64.08341494]"
       ]
      },
      {
       "output_type": "stream",
       "stream": "stdout",
       "text": [
        "\n",
        "[ 231.838628    260.21315325   64.0565435 ]"
       ]
      },
      {
       "output_type": "stream",
       "stream": "stdout",
       "text": [
        "\n",
        "[ 231.86250701  260.37582899   64.02967962]"
       ]
      },
      {
       "output_type": "stream",
       "stream": "stdout",
       "text": [
        "\n",
        "[ 231.8863791   260.53845765   64.00282351]"
       ]
      },
      {
       "output_type": "stream",
       "stream": "stdout",
       "text": [
        "\n",
        "[ 231.9102441   260.7010379    63.97597539]"
       ]
      },
      {
       "output_type": "stream",
       "stream": "stdout",
       "text": [
        "\n",
        "[ 231.93410179  260.86356846   63.94913548]"
       ]
      },
      {
       "output_type": "stream",
       "stream": "stdout",
       "text": [
        "\n",
        "[ 231.957952  261.026048   63.922304]"
       ]
      },
      {
       "output_type": "stream",
       "stream": "stdout",
       "text": [
        "\n",
        "[ 231.98179453  261.18847522   63.89548116]"
       ]
      },
      {
       "output_type": "stream",
       "stream": "stdout",
       "text": [
        "\n",
        "[ 232.00562918  261.35084882   63.86866717]"
       ]
      },
      {
       "output_type": "stream",
       "stream": "stdout",
       "text": [
        "\n",
        "[ 232.02945578  261.51316747   63.84186225]"
       ]
      },
      {
       "output_type": "stream",
       "stream": "stdout",
       "text": [
        "\n",
        "[ 232.05327411  261.67542989   63.81506662]"
       ]
      },
      {
       "output_type": "stream",
       "stream": "stdout",
       "text": [
        "\n",
        "[ 232.077084    261.83763475   63.7882805 ]"
       ]
      },
      {
       "output_type": "stream",
       "stream": "stdout",
       "text": [
        "\n",
        "[ 232.10088525  261.99978075   63.7615041 ]"
       ]
      },
      {
       "output_type": "stream",
       "stream": "stdout",
       "text": [
        "\n",
        "[ 232.12467766  262.16186659   63.73473763]"
       ]
      },
      {
       "output_type": "stream",
       "stream": "stdout",
       "text": [
        "\n",
        "[ 232.14846106  262.32389094   63.70798131]"
       ]
      },
      {
       "output_type": "stream",
       "stream": "stdout",
       "text": [
        "\n",
        "[ 232.17223523  262.48585252   63.68123536]"
       ]
      },
      {
       "output_type": "stream",
       "stream": "stdout",
       "text": [
        "\n",
        "[ 232.196    262.64775   63.6545 ]"
       ]
      },
      {
       "output_type": "stream",
       "stream": "stdout",
       "text": [
        "\n",
        "[ 232.21975517  262.80958208   63.62777544]"
       ]
      },
      {
       "output_type": "stream",
       "stream": "stdout",
       "text": [
        "\n",
        "[ 232.24350054  262.97134746   63.60106189]"
       ]
      },
      {
       "output_type": "stream",
       "stream": "stdout",
       "text": [
        "\n",
        "[ 232.26723594  263.13304481   63.57435957]"
       ]
      },
      {
       "output_type": "stream",
       "stream": "stdout",
       "text": [
        "\n",
        "[ 232.29096115  263.29467285   63.5476687 ]"
       ]
      },
      {
       "output_type": "stream",
       "stream": "stdout",
       "text": [
        "\n",
        "[ 232.314676    263.45623025   63.5209895 ]"
       ]
      },
      {
       "output_type": "stream",
       "stream": "stdout",
       "text": [
        "\n",
        "[ 232.33838029  263.61771571   63.49432218]"
       ]
      },
      {
       "output_type": "stream",
       "stream": "stdout",
       "text": [
        "\n",
        "[ 232.36207382  263.77912793   63.46766695]"
       ]
      },
      {
       "output_type": "stream",
       "stream": "stdout",
       "text": [
        "\n",
        "[ 232.38575642  263.94046558   63.44102403]"
       ]
      },
      {
       "output_type": "stream",
       "stream": "stdout",
       "text": [
        "\n",
        "[ 232.40942787  264.10172738   63.41439364]"
       ]
      },
      {
       "output_type": "stream",
       "stream": "stdout",
       "text": [
        "\n",
        "[ 232.433088  264.262912   63.387776]"
       ]
      },
      {
       "output_type": "stream",
       "stream": "stdout",
       "text": [
        "\n",
        "[ 232.45673661  264.42401814   63.36117132]"
       ]
      },
      {
       "output_type": "stream",
       "stream": "stdout",
       "text": [
        "\n",
        "[ 232.4803735   264.5850445    63.33457981]"
       ]
      },
      {
       "output_type": "stream",
       "stream": "stdout",
       "text": [
        "\n",
        "[ 232.5039985   264.74598975   63.30800169]"
       ]
      },
      {
       "output_type": "stream",
       "stream": "stdout",
       "text": [
        "\n",
        "[ 232.52761139  264.90685261   63.28143718]"
       ]
      },
      {
       "output_type": "stream",
       "stream": "stdout",
       "text": [
        "\n",
        "[ 232.551212    265.06763175   63.2548865 ]"
       ]
      },
      {
       "output_type": "stream",
       "stream": "stdout",
       "text": [
        "\n",
        "[ 232.57480013  265.22832587   63.22834986]"
       ]
      },
      {
       "output_type": "stream",
       "stream": "stdout",
       "text": [
        "\n",
        "[ 232.59837558  265.38893367   63.20182747]"
       ]
      },
      {
       "output_type": "stream",
       "stream": "stdout",
       "text": [
        "\n",
        "[ 232.62193818  265.54945382   63.17531955]"
       ]
      },
      {
       "output_type": "stream",
       "stream": "stdout",
       "text": [
        "\n",
        "[ 232.64548771  265.70988504   63.14882632]"
       ]
      },
      {
       "output_type": "stream",
       "stream": "stdout",
       "text": [
        "\n",
        "[ 232.669024  265.870226   63.122348]"
       ]
      },
      {
       "output_type": "stream",
       "stream": "stdout",
       "text": [
        "\n",
        "[ 232.69254685  266.0304754    63.0958848 ]"
       ]
      },
      {
       "output_type": "stream",
       "stream": "stdout",
       "text": [
        "\n",
        "[ 232.71605606  266.19063194   63.06943693]"
       ]
      },
      {
       "output_type": "stream",
       "stream": "stdout",
       "text": [
        "\n",
        "[ 232.73955146  266.35069429   63.04300461]"
       ]
      },
      {
       "output_type": "stream",
       "stream": "stdout",
       "text": [
        "\n",
        "[ 232.76303283  266.51066117   63.01658806]"
       ]
      },
      {
       "output_type": "stream",
       "stream": "stdout",
       "text": [
        "\n",
        "[ 232.7865      266.67053125   62.9901875 ]"
       ]
      },
      {
       "output_type": "stream",
       "stream": "stdout",
       "text": [
        "\n",
        "[ 232.80995277  266.83030323   62.96380314]"
       ]
      },
      {
       "output_type": "stream",
       "stream": "stdout",
       "text": [
        "\n",
        "[ 232.83339094  266.98997581   62.93743519]"
       ]
      },
      {
       "output_type": "stream",
       "stream": "stdout",
       "text": [
        "\n",
        "[ 232.85681434  267.14954766   62.91108387]"
       ]
      },
      {
       "output_type": "stream",
       "stream": "stdout",
       "text": [
        "\n",
        "[ 232.88022275  267.3090175    62.8847494 ]"
       ]
      },
      {
       "output_type": "stream",
       "stream": "stdout",
       "text": [
        "\n",
        "[ 232.903616  267.468384   62.858432]"
       ]
      },
      {
       "output_type": "stream",
       "stream": "stdout",
       "text": [
        "\n",
        "[ 232.92699389  267.62764586   62.83213188]"
       ]
      },
      {
       "output_type": "stream",
       "stream": "stdout",
       "text": [
        "\n",
        "[ 232.95035622  267.78680178   62.80584925]"
       ]
      },
      {
       "output_type": "stream",
       "stream": "stdout",
       "text": [
        "\n",
        "[ 232.97370282  267.94585043   62.77958433]"
       ]
      },
      {
       "output_type": "stream",
       "stream": "stdout",
       "text": [
        "\n",
        "[ 232.99703347  268.10479053   62.75333734]"
       ]
      },
      {
       "output_type": "stream",
       "stream": "stdout",
       "text": [
        "\n",
        "[ 233.020348    268.26362075   62.7271085 ]"
       ]
      },
      {
       "output_type": "stream",
       "stream": "stdout",
       "text": [
        "\n",
        "[ 233.04364621  268.42233979   62.70089802]"
       ]
      },
      {
       "output_type": "stream",
       "stream": "stdout",
       "text": [
        "\n",
        "[ 233.0669279   268.58094635   62.67470611]"
       ]
      },
      {
       "output_type": "stream",
       "stream": "stdout",
       "text": [
        "\n",
        "[ 233.0901929   268.7394391    62.64853299]"
       ]
      },
      {
       "output_type": "stream",
       "stream": "stdout",
       "text": [
        "\n",
        "[ 233.11344099  268.89781676   62.62237888]"
       ]
      },
      {
       "output_type": "stream",
       "stream": "stdout",
       "text": [
        "\n",
        "[ 233.136672  269.056078   62.596244]"
       ]
      },
      {
       "output_type": "stream",
       "stream": "stdout",
       "text": [
        "\n",
        "[ 233.15988573  269.21422152   62.57012856]"
       ]
      },
      {
       "output_type": "stream",
       "stream": "stdout",
       "text": [
        "\n",
        "[ 233.18308198  269.37224602   62.54403277]"
       ]
      },
      {
       "output_type": "stream",
       "stream": "stdout",
       "text": [
        "\n",
        "[ 233.20626058  269.53015017   62.51795685]"
       ]
      },
      {
       "output_type": "stream",
       "stream": "stdout",
       "text": [
        "\n",
        "[ 233.22942131  269.68793269   62.49190102]"
       ]
      },
      {
       "output_type": "stream",
       "stream": "stdout",
       "text": [
        "\n",
        "[ 233.252564    269.84559225   62.4658655 ]"
       ]
      },
      {
       "output_type": "stream",
       "stream": "stdout",
       "text": [
        "\n",
        "[ 233.27568845  270.00312755   62.4398505 ]"
       ]
      },
      {
       "output_type": "stream",
       "stream": "stdout",
       "text": [
        "\n",
        "[ 233.29879446  270.16053729   62.41385623]"
       ]
      },
      {
       "output_type": "stream",
       "stream": "stdout",
       "text": [
        "\n",
        "[ 233.32188186  270.31782014   62.38788291]"
       ]
      },
      {
       "output_type": "stream",
       "stream": "stdout",
       "text": [
        "\n",
        "[ 233.34495043  270.47497482   62.36193076]"
       ]
      },
      {
       "output_type": "stream",
       "stream": "stdout",
       "text": [
        "\n",
        "[ 233.368  270.632   62.336]"
       ]
      },
      {
       "output_type": "stream",
       "stream": "stdout",
       "text": [
        "\n",
        "[ 233.39103037  270.78889438   62.31009084]"
       ]
      },
      {
       "output_type": "stream",
       "stream": "stdout",
       "text": [
        "\n",
        "[ 233.41404134  270.94565666   62.28420349]"
       ]
      },
      {
       "output_type": "stream",
       "stream": "stdout",
       "text": [
        "\n",
        "[ 233.43703274  271.10228551   62.25833817]"
       ]
      },
      {
       "output_type": "stream",
       "stream": "stdout",
       "text": [
        "\n",
        "[ 233.46000435  271.25877965   62.2324951 ]"
       ]
      },
      {
       "output_type": "stream",
       "stream": "stdout",
       "text": [
        "\n",
        "[ 233.482956    271.41513775   62.2066745 ]"
       ]
      },
      {
       "output_type": "stream",
       "stream": "stdout",
       "text": [
        "\n",
        "[ 233.50588749  271.57135851   62.18087658]"
       ]
      },
      {
       "output_type": "stream",
       "stream": "stdout",
       "text": [
        "\n",
        "[ 233.52879862  271.72744063   62.15510155]"
       ]
      },
      {
       "output_type": "stream",
       "stream": "stdout",
       "text": [
        "\n",
        "[ 233.55168922  271.88338278   62.12934963]"
       ]
      },
      {
       "output_type": "stream",
       "stream": "stdout",
       "text": [
        "\n",
        "[ 233.57455907  272.03918368   62.10362104]"
       ]
      },
      {
       "output_type": "stream",
       "stream": "stdout",
       "text": [
        "\n",
        "[ 233.597408  272.194842   62.077916]"
       ]
      },
      {
       "output_type": "stream",
       "stream": "stdout",
       "text": [
        "\n",
        "[ 233.62023581  272.35035644   62.05223472]"
       ]
      },
      {
       "output_type": "stream",
       "stream": "stdout",
       "text": [
        "\n",
        "[ 233.6430423   272.5057257    62.02657741]"
       ]
      },
      {
       "output_type": "stream",
       "stream": "stdout",
       "text": [
        "\n",
        "[ 233.6658273   272.66094845   62.00094429]"
       ]
      },
      {
       "output_type": "stream",
       "stream": "stdout",
       "text": [
        "\n",
        "[ 233.68859059  272.81602341   61.97533558]"
       ]
      },
      {
       "output_type": "stream",
       "stream": "stdout",
       "text": [
        "\n",
        "[ 233.711332    272.97094925   61.9497515 ]"
       ]
      },
      {
       "output_type": "stream",
       "stream": "stdout",
       "text": [
        "\n",
        "[ 233.73405133  273.12572467   61.92419226]"
       ]
      },
      {
       "output_type": "stream",
       "stream": "stdout",
       "text": [
        "\n",
        "[ 233.75674838  273.28034837   61.89865807]"
       ]
      },
      {
       "output_type": "stream",
       "stream": "stdout",
       "text": [
        "\n",
        "[ 233.77942298  273.43481902   61.87314915]"
       ]
      },
      {
       "output_type": "stream",
       "stream": "stdout",
       "text": [
        "\n",
        "[ 233.80207491  273.58913534   61.84766572]"
       ]
      },
      {
       "output_type": "stream",
       "stream": "stdout",
       "text": [
        "\n",
        "[ 233.824704  273.743296   61.822208]"
       ]
      },
      {
       "output_type": "stream",
       "stream": "stdout",
       "text": [
        "\n",
        "[ 233.84731005  273.8972997    61.7967762 ]"
       ]
      },
      {
       "output_type": "stream",
       "stream": "stdout",
       "text": [
        "\n",
        "[ 233.86989286  274.05114514   61.77137053]"
       ]
      },
      {
       "output_type": "stream",
       "stream": "stdout",
       "text": [
        "\n",
        "[ 233.89245226  274.20483099   61.74599121]"
       ]
      },
      {
       "output_type": "stream",
       "stream": "stdout",
       "text": [
        "\n",
        "[ 233.91498803  274.35835597   61.72063846]"
       ]
      },
      {
       "output_type": "stream",
       "stream": "stdout",
       "text": [
        "\n",
        "[ 233.9375      274.51171875   61.6953125 ]"
       ]
      },
      {
       "output_type": "stream",
       "stream": "stdout",
       "text": [
        "\n",
        "[ 233.95998797  274.66491803   61.67001354]"
       ]
      },
      {
       "output_type": "stream",
       "stream": "stdout",
       "text": [
        "\n",
        "[ 233.98245174  274.81795251   61.64474179]"
       ]
      },
      {
       "output_type": "stream",
       "stream": "stdout",
       "text": [
        "\n",
        "[ 234.00489114  274.97082086   61.61949747]"
       ]
      },
      {
       "output_type": "stream",
       "stream": "stdout",
       "text": [
        "\n",
        "[ 234.02730595  275.1235218    61.5942808 ]"
       ]
      },
      {
       "output_type": "stream",
       "stream": "stdout",
       "text": [
        "\n",
        "[ 234.049696  275.276054   61.569092]"
       ]
      },
      {
       "output_type": "stream",
       "stream": "stdout",
       "text": [
        "\n",
        "[ 234.07206109  275.42841616   61.54393128]"
       ]
      },
      {
       "output_type": "stream",
       "stream": "stdout",
       "text": [
        "\n",
        "[ 234.09440102  275.58060698   61.51879885]"
       ]
      },
      {
       "output_type": "stream",
       "stream": "stdout",
       "text": [
        "\n",
        "[ 234.11671562  275.73262513   61.49369493]"
       ]
      },
      {
       "output_type": "stream",
       "stream": "stdout",
       "text": [
        "\n",
        "[ 234.13900467  275.88446933   61.46861974]"
       ]
      },
      {
       "output_type": "stream",
       "stream": "stdout",
       "text": [
        "\n",
        "[ 234.161268    276.03613825   61.4435735 ]"
       ]
      },
      {
       "output_type": "stream",
       "stream": "stdout",
       "text": [
        "\n",
        "[ 234.18350541  276.18763059   61.41855642]"
       ]
      },
      {
       "output_type": "stream",
       "stream": "stdout",
       "text": [
        "\n",
        "[ 234.2057167   276.33894505   61.39356871]"
       ]
      },
      {
       "output_type": "stream",
       "stream": "stdout",
       "text": [
        "\n",
        "[ 234.2279017   276.4900803    61.36861059]"
       ]
      },
      {
       "output_type": "stream",
       "stream": "stdout",
       "text": [
        "\n",
        "[ 234.25006019  276.64103506   61.34368228]"
       ]
      },
      {
       "output_type": "stream",
       "stream": "stdout",
       "text": [
        "\n",
        "[ 234.272192  276.791808   61.318784]"
       ]
      },
      {
       "output_type": "stream",
       "stream": "stdout",
       "text": [
        "\n",
        "[ 234.29429693  276.94239782   61.29391596]"
       ]
      },
      {
       "output_type": "stream",
       "stream": "stdout",
       "text": [
        "\n",
        "[ 234.31637478  277.09280322   61.26907837]"
       ]
      },
      {
       "output_type": "stream",
       "stream": "stdout",
       "text": [
        "\n",
        "[ 234.33842538  277.24302287   61.24427145]"
       ]
      },
      {
       "output_type": "stream",
       "stream": "stdout",
       "text": [
        "\n",
        "[ 234.36044851  277.39305549   61.21949542]"
       ]
      },
      {
       "output_type": "stream",
       "stream": "stdout",
       "text": [
        "\n",
        "[ 234.382444    277.54289975   61.1947505 ]"
       ]
      },
      {
       "output_type": "stream",
       "stream": "stdout",
       "text": [
        "\n",
        "[ 234.40441165  277.69255435   61.1700369 ]"
       ]
      },
      {
       "output_type": "stream",
       "stream": "stdout",
       "text": [
        "\n",
        "[ 234.42635126  277.84201799   61.14535483]"
       ]
      },
      {
       "output_type": "stream",
       "stream": "stdout",
       "text": [
        "\n",
        "[ 234.44826266  277.99128934   61.12070451]"
       ]
      },
      {
       "output_type": "stream",
       "stream": "stdout",
       "text": [
        "\n",
        "[ 234.47014563  278.14036712   61.09608616]"
       ]
      },
      {
       "output_type": "stream",
       "stream": "stdout",
       "text": [
        "\n",
        "[ 234.492    278.28925   61.0715 ]"
       ]
      },
      {
       "output_type": "stream",
       "stream": "stdout",
       "text": [
        "\n",
        "[ 234.51382557  278.43793668   61.04694624]"
       ]
      },
      {
       "output_type": "stream",
       "stream": "stdout",
       "text": [
        "\n",
        "[ 234.53562214  278.58642586   61.02242509]"
       ]
      },
      {
       "output_type": "stream",
       "stream": "stdout",
       "text": [
        "\n",
        "[ 234.55738954  278.73471621   60.99793677]"
       ]
      },
      {
       "output_type": "stream",
       "stream": "stdout",
       "text": [
        "\n",
        "[ 234.57912755  278.88280645   60.9734815 ]"
       ]
      },
      {
       "output_type": "stream",
       "stream": "stdout",
       "text": [
        "\n",
        "[ 234.600836    279.03069525   60.9490595 ]"
       ]
      },
      {
       "output_type": "stream",
       "stream": "stdout",
       "text": [
        "\n",
        "[ 234.62251469  279.17838131   60.92467098]"
       ]
      },
      {
       "output_type": "stream",
       "stream": "stdout",
       "text": [
        "\n",
        "[ 234.64416342  279.32586333   60.90031615]"
       ]
      },
      {
       "output_type": "stream",
       "stream": "stdout",
       "text": [
        "\n",
        "[ 234.66578202  279.47313998   60.87599523]"
       ]
      },
      {
       "output_type": "stream",
       "stream": "stdout",
       "text": [
        "\n",
        "[ 234.68737027  279.62020998   60.85170844]"
       ]
      },
      {
       "output_type": "stream",
       "stream": "stdout",
       "text": [
        "\n",
        "[ 234.708928  279.767072   60.827456]"
       ]
      },
      {
       "output_type": "stream",
       "stream": "stdout",
       "text": [
        "\n",
        "[ 234.73045501  279.91372474   60.80323812]"
       ]
      },
      {
       "output_type": "stream",
       "stream": "stdout",
       "text": [
        "\n",
        "[ 234.7519511   280.0601669    60.77905501]"
       ]
      },
      {
       "output_type": "stream",
       "stream": "stdout",
       "text": [
        "\n",
        "[ 234.7734161   280.20639715   60.75490689]"
       ]
      },
      {
       "output_type": "stream",
       "stream": "stdout",
       "text": [
        "\n",
        "[ 234.79484979  280.35241421   60.73079398]"
       ]
      },
      {
       "output_type": "stream",
       "stream": "stdout",
       "text": [
        "\n",
        "[ 234.816252    280.49821675   60.7067165 ]"
       ]
      },
      {
       "output_type": "stream",
       "stream": "stdout",
       "text": [
        "\n",
        "[ 234.83762253  280.64380347   60.68267466]"
       ]
      },
      {
       "output_type": "stream",
       "stream": "stdout",
       "text": [
        "\n",
        "[ 234.85896118  280.78917307   60.65866867]"
       ]
      },
      {
       "output_type": "stream",
       "stream": "stdout",
       "text": [
        "\n",
        "[ 234.88026778  280.93432422   60.63469875]"
       ]
      },
      {
       "output_type": "stream",
       "stream": "stdout",
       "text": [
        "\n",
        "[ 234.90154211  281.07925564   60.61076512]"
       ]
      },
      {
       "output_type": "stream",
       "stream": "stdout",
       "text": [
        "\n",
        "[ 234.922784  281.223966   60.586868]"
       ]
      },
      {
       "output_type": "stream",
       "stream": "stdout",
       "text": [
        "\n",
        "[ 234.94399325  281.368454     60.5630076 ]"
       ]
      },
      {
       "output_type": "stream",
       "stream": "stdout",
       "text": [
        "\n",
        "[ 234.96516966  281.51271834   60.53918413]"
       ]
      },
      {
       "output_type": "stream",
       "stream": "stdout",
       "text": [
        "\n",
        "[ 234.98631306  281.65675769   60.51539781]"
       ]
      },
      {
       "output_type": "stream",
       "stream": "stdout",
       "text": [
        "\n",
        "[ 235.00742323  281.80057077   60.49164886]"
       ]
      },
      {
       "output_type": "stream",
       "stream": "stdout",
       "text": [
        "\n",
        "[ 235.0285      281.94415625   60.4679375 ]"
       ]
      },
      {
       "output_type": "stream",
       "stream": "stdout",
       "text": [
        "\n",
        "[ 235.04954317  282.08751283   60.44426394]"
       ]
      },
      {
       "output_type": "stream",
       "stream": "stdout",
       "text": [
        "\n",
        "[ 235.07055254  282.23063921   60.42062839]"
       ]
      },
      {
       "output_type": "stream",
       "stream": "stdout",
       "text": [
        "\n",
        "[ 235.09152794  282.37353406   60.39703107]"
       ]
      },
      {
       "output_type": "stream",
       "stream": "stdout",
       "text": [
        "\n",
        "[ 235.11246915  282.5161961    60.3734722 ]"
       ]
      },
      {
       "output_type": "stream",
       "stream": "stdout",
       "text": [
        "\n",
        "[ 235.133376  282.658624   60.349952]"
       ]
      },
      {
       "output_type": "stream",
       "stream": "stdout",
       "text": [
        "\n",
        "[ 235.15424829  282.80081646   60.32647068]"
       ]
      },
      {
       "output_type": "stream",
       "stream": "stdout",
       "text": [
        "\n",
        "[ 235.17508582  282.94277218   60.30302845]"
       ]
      },
      {
       "output_type": "stream",
       "stream": "stdout",
       "text": [
        "\n",
        "[ 235.19588842  283.08448983   60.27962553]"
       ]
      },
      {
       "output_type": "stream",
       "stream": "stdout",
       "text": [
        "\n",
        "[ 235.21665587  283.22596813   60.25626214]"
       ]
      },
      {
       "output_type": "stream",
       "stream": "stdout",
       "text": [
        "\n",
        "[ 235.237388    283.36720575   60.2329385 ]"
       ]
      },
      {
       "output_type": "stream",
       "stream": "stdout",
       "text": [
        "\n",
        "[ 235.25808461  283.50820139   60.20965482]"
       ]
      },
      {
       "output_type": "stream",
       "stream": "stdout",
       "text": [
        "\n",
        "[ 235.2787455   283.64895375   60.18641131]"
       ]
      },
      {
       "output_type": "stream",
       "stream": "stdout",
       "text": [
        "\n",
        "[ 235.2993705   283.7894615    60.16320819]"
       ]
      },
      {
       "output_type": "stream",
       "stream": "stdout",
       "text": [
        "\n",
        "[ 235.31995939  283.92972336   60.14004568]"
       ]
      },
      {
       "output_type": "stream",
       "stream": "stdout",
       "text": [
        "\n",
        "[ 235.340512  284.069738   60.116924]"
       ]
      },
      {
       "output_type": "stream",
       "stream": "stdout",
       "text": [
        "\n",
        "[ 235.36102813  284.20950412   60.09384336]"
       ]
      },
      {
       "output_type": "stream",
       "stream": "stdout",
       "text": [
        "\n",
        "[ 235.38150758  284.34902042   60.07080397]"
       ]
      },
      {
       "output_type": "stream",
       "stream": "stdout",
       "text": [
        "\n",
        "[ 235.40195018  284.48828557   60.04780605]"
       ]
      },
      {
       "output_type": "stream",
       "stream": "stdout",
       "text": [
        "\n",
        "[ 235.42235571  284.62729829   60.02484982]"
       ]
      },
      {
       "output_type": "stream",
       "stream": "stdout",
       "text": [
        "\n",
        "[ 235.442724    284.76605725   60.0019355 ]"
       ]
      },
      {
       "output_type": "stream",
       "stream": "stdout",
       "text": [
        "\n",
        "[ 235.46305485  284.90456115   59.9790633 ]"
       ]
      },
      {
       "output_type": "stream",
       "stream": "stdout",
       "text": [
        "\n",
        "[ 235.48334806  285.04280869   59.95623343]"
       ]
      },
      {
       "output_type": "stream",
       "stream": "stdout",
       "text": [
        "\n",
        "[ 235.50360346  285.18079854   59.93344611]"
       ]
      },
      {
       "output_type": "stream",
       "stream": "stdout",
       "text": [
        "\n",
        "[ 235.52382083  285.31852942   59.91070156]"
       ]
      },
      {
       "output_type": "stream",
       "stream": "stdout",
       "text": [
        "\n",
        "[ 235.544  285.456   59.888]"
       ]
      },
      {
       "output_type": "stream",
       "stream": "stdout",
       "text": [
        "\n",
        "[ 235.56414077  285.59320898   59.86534164]"
       ]
      },
      {
       "output_type": "stream",
       "stream": "stdout",
       "text": [
        "\n",
        "[ 235.58424294  285.73015506   59.84272669]"
       ]
      },
      {
       "output_type": "stream",
       "stream": "stdout",
       "text": [
        "\n",
        "[ 235.60430634  285.86683691   59.82015537]"
       ]
      },
      {
       "output_type": "stream",
       "stream": "stdout",
       "text": [
        "\n",
        "[ 235.62433075  286.00325325   59.7976279 ]"
       ]
      },
      {
       "output_type": "stream",
       "stream": "stdout",
       "text": [
        "\n",
        "[ 235.644316    286.13940275   59.7751445 ]"
       ]
      },
      {
       "output_type": "stream",
       "stream": "stdout",
       "text": [
        "\n",
        "[ 235.66426189  286.27528411   59.75270538]"
       ]
      },
      {
       "output_type": "stream",
       "stream": "stdout",
       "text": [
        "\n",
        "[ 235.68416822  286.41089603   59.73031075]"
       ]
      },
      {
       "output_type": "stream",
       "stream": "stdout",
       "text": [
        "\n",
        "[ 235.70403482  286.54623718   59.70796083]"
       ]
      },
      {
       "output_type": "stream",
       "stream": "stdout",
       "text": [
        "\n",
        "[ 235.72386147  286.68130628   59.68565584]"
       ]
      },
      {
       "output_type": "stream",
       "stream": "stdout",
       "text": [
        "\n",
        "[ 235.743648  286.816102   59.663396]"
       ]
      },
      {
       "output_type": "stream",
       "stream": "stdout",
       "text": [
        "\n",
        "[ 235.76339421  286.95062304   59.64118152]"
       ]
      },
      {
       "output_type": "stream",
       "stream": "stdout",
       "text": [
        "\n",
        "[ 235.7830999   287.0848681    59.61901261]"
       ]
      },
      {
       "output_type": "stream",
       "stream": "stdout",
       "text": [
        "\n",
        "[ 235.8027649   287.21883585   59.59688949]"
       ]
      },
      {
       "output_type": "stream",
       "stream": "stdout",
       "text": [
        "\n",
        "[ 235.82238899  287.35252501   59.57481238]"
       ]
      },
      {
       "output_type": "stream",
       "stream": "stdout",
       "text": [
        "\n",
        "[ 235.841972    287.48593425   59.5527815 ]"
       ]
      },
      {
       "output_type": "stream",
       "stream": "stdout",
       "text": [
        "\n",
        "[ 235.86151373  287.61906227   59.53079706]"
       ]
      },
      {
       "output_type": "stream",
       "stream": "stdout",
       "text": [
        "\n",
        "[ 235.88101398  287.75190777   59.50885927]"
       ]
      },
      {
       "output_type": "stream",
       "stream": "stdout",
       "text": [
        "\n",
        "[ 235.90047258  287.88446942   59.48696835]"
       ]
      },
      {
       "output_type": "stream",
       "stream": "stdout",
       "text": [
        "\n",
        "[ 235.91988931  288.01674594   59.46512452]"
       ]
      },
      {
       "output_type": "stream",
       "stream": "stdout",
       "text": [
        "\n",
        "[ 235.939264  288.148736   59.443328]"
       ]
      },
      {
       "output_type": "stream",
       "stream": "stdout",
       "text": [
        "\n",
        "[ 235.95859645  288.2804383    59.421579  ]"
       ]
      },
      {
       "output_type": "stream",
       "stream": "stdout",
       "text": [
        "\n",
        "[ 235.97788646  288.41185154   59.39987773]"
       ]
      },
      {
       "output_type": "stream",
       "stream": "stdout",
       "text": [
        "\n",
        "[ 235.99713386  288.54297439   59.37822441]"
       ]
      },
      {
       "output_type": "stream",
       "stream": "stdout",
       "text": [
        "\n",
        "[ 236.01633843  288.67380557   59.35661926]"
       ]
      },
      {
       "output_type": "stream",
       "stream": "stdout",
       "text": [
        "\n",
        "[ 236.0355      288.80434375   59.3350625 ]"
       ]
      },
      {
       "output_type": "stream",
       "stream": "stdout",
       "text": [
        "\n",
        "[ 236.05461837  288.93458763   59.31355434]"
       ]
      },
      {
       "output_type": "stream",
       "stream": "stdout",
       "text": [
        "\n",
        "[ 236.07369334  289.06453591   59.29209499]"
       ]
      },
      {
       "output_type": "stream",
       "stream": "stdout",
       "text": [
        "\n",
        "[ 236.09272474  289.19418726   59.27068467]"
       ]
      },
      {
       "output_type": "stream",
       "stream": "stdout",
       "text": [
        "\n",
        "[ 236.11171235  289.3235404    59.2493236 ]"
       ]
      },
      {
       "output_type": "stream",
       "stream": "stdout",
       "text": [
        "\n",
        "[ 236.130656  289.452594   59.228012]"
       ]
      },
      {
       "output_type": "stream",
       "stream": "stdout",
       "text": [
        "\n",
        "[ 236.14955549  289.58134676   59.20675008]"
       ]
      },
      {
       "output_type": "stream",
       "stream": "stdout",
       "text": [
        "\n",
        "[ 236.16841062  289.70979738   59.18553805]"
       ]
      },
      {
       "output_type": "stream",
       "stream": "stdout",
       "text": [
        "\n",
        "[ 236.18722122  289.83794453   59.16437613]"
       ]
      },
      {
       "output_type": "stream",
       "stream": "stdout",
       "text": [
        "\n",
        "[ 236.20598707  289.96578693   59.14326454]"
       ]
      },
      {
       "output_type": "stream",
       "stream": "stdout",
       "text": [
        "\n",
        "[ 236.224708    290.09332325   59.1222035 ]"
       ]
      },
      {
       "output_type": "stream",
       "stream": "stdout",
       "text": [
        "\n",
        "[ 236.24338381  290.22055219   59.10119322]"
       ]
      },
      {
       "output_type": "stream",
       "stream": "stdout",
       "text": [
        "\n",
        "[ 236.2620143   290.34747245   59.08023391]"
       ]
      },
      {
       "output_type": "stream",
       "stream": "stdout",
       "text": [
        "\n",
        "[ 236.2805993   290.4740827    59.05932579]"
       ]
      },
      {
       "output_type": "stream",
       "stream": "stdout",
       "text": [
        "\n",
        "[ 236.29913859  290.60038166   59.03846908]"
       ]
      },
      {
       "output_type": "stream",
       "stream": "stdout",
       "text": [
        "\n",
        "[ 236.317632  290.726368   59.017664]"
       ]
      },
      {
       "output_type": "stream",
       "stream": "stdout",
       "text": [
        "\n",
        "[ 236.33607933  290.85204042   58.99691076]"
       ]
      },
      {
       "output_type": "stream",
       "stream": "stdout",
       "text": [
        "\n",
        "[ 236.35448038  290.97739762   58.97620957]"
       ]
      },
      {
       "output_type": "stream",
       "stream": "stdout",
       "text": [
        "\n",
        "[ 236.37283498  291.10243827   58.95556065]"
       ]
      },
      {
       "output_type": "stream",
       "stream": "stdout",
       "text": [
        "\n",
        "[ 236.39114291  291.22716109   58.93496422]"
       ]
      },
      {
       "output_type": "stream",
       "stream": "stdout",
       "text": [
        "\n",
        "[ 236.409404    291.35156475   58.9144205 ]"
       ]
      },
      {
       "output_type": "stream",
       "stream": "stdout",
       "text": [
        "\n",
        "[ 236.42761805  291.47564795   58.8939297 ]"
       ]
      },
      {
       "output_type": "stream",
       "stream": "stdout",
       "text": [
        "\n",
        "[ 236.44578486  291.59940939   58.87349203]"
       ]
      },
      {
       "output_type": "stream",
       "stream": "stdout",
       "text": [
        "\n",
        "[ 236.46390426  291.72284774   58.85310771]"
       ]
      },
      {
       "output_type": "stream",
       "stream": "stdout",
       "text": [
        "\n",
        "[ 236.48197603  291.84596172   58.83277696]"
       ]
      },
      {
       "output_type": "stream",
       "stream": "stdout",
       "text": [
        "\n",
        "[ 236.5      291.96875   58.8125 ]"
       ]
      },
      {
       "output_type": "stream",
       "stream": "stdout",
       "text": [
        "\n",
        "[ 236.51797597  292.09121128   58.79227704]"
       ]
      },
      {
       "output_type": "stream",
       "stream": "stdout",
       "text": [
        "\n",
        "[ 236.53590374  292.21334426   58.77210829]"
       ]
      },
      {
       "output_type": "stream",
       "stream": "stdout",
       "text": [
        "\n",
        "[ 236.55378314  292.33514761   58.75199397]"
       ]
      },
      {
       "output_type": "stream",
       "stream": "stdout",
       "text": [
        "\n",
        "[ 236.57161395  292.45662005   58.7319343 ]"
       ]
      },
      {
       "output_type": "stream",
       "stream": "stdout",
       "text": [
        "\n",
        "[ 236.589396    292.57776025   58.7119295 ]"
       ]
      },
      {
       "output_type": "stream",
       "stream": "stdout",
       "text": [
        "\n",
        "[ 236.60712909  292.69856691   58.69197978]"
       ]
      },
      {
       "output_type": "stream",
       "stream": "stdout",
       "text": [
        "\n",
        "[ 236.62481302  292.81903873   58.67208535]"
       ]
      },
      {
       "output_type": "stream",
       "stream": "stdout",
       "text": [
        "\n",
        "[ 236.64244762  292.93917438   58.65224643]"
       ]
      },
      {
       "output_type": "stream",
       "stream": "stdout",
       "text": [
        "\n",
        "[ 236.66003267  293.05897258   58.63246324]"
       ]
      },
      {
       "output_type": "stream",
       "stream": "stdout",
       "text": [
        "\n",
        "[ 236.677568  293.178432   58.612736]"
       ]
      },
      {
       "output_type": "stream",
       "stream": "stdout",
       "text": [
        "\n",
        "[ 236.69505341  293.29755134   58.59306492]"
       ]
      },
      {
       "output_type": "stream",
       "stream": "stdout",
       "text": [
        "\n",
        "[ 236.7124887   293.4163293    58.57345021]"
       ]
      },
      {
       "output_type": "stream",
       "stream": "stdout",
       "text": [
        "\n",
        "[ 236.7298737   293.53476455   58.55389209]"
       ]
      },
      {
       "output_type": "stream",
       "stream": "stdout",
       "text": [
        "\n",
        "[ 236.74720819  293.65285581   58.53439078]"
       ]
      },
      {
       "output_type": "stream",
       "stream": "stdout",
       "text": [
        "\n",
        "[ 236.764492    293.77060175   58.5149465 ]"
       ]
      },
      {
       "output_type": "stream",
       "stream": "stdout",
       "text": [
        "\n",
        "[ 236.78172493  293.88800107   58.49555946]"
       ]
      },
      {
       "output_type": "stream",
       "stream": "stdout",
       "text": [
        "\n",
        "[ 236.79890678  294.00505247   58.47622987]"
       ]
      },
      {
       "output_type": "stream",
       "stream": "stdout",
       "text": [
        "\n",
        "[ 236.81603738  294.12175462   58.45695795]"
       ]
      },
      {
       "output_type": "stream",
       "stream": "stdout",
       "text": [
        "\n",
        "[ 236.83311651  294.23810624   58.43774392]"
       ]
      },
      {
       "output_type": "stream",
       "stream": "stdout",
       "text": [
        "\n",
        "[ 236.850144  294.354106   58.418588]"
       ]
      },
      {
       "output_type": "stream",
       "stream": "stdout",
       "text": [
        "\n",
        "[ 236.86711965  294.4697526    58.3994904 ]"
       ]
      },
      {
       "output_type": "stream",
       "stream": "stdout",
       "text": [
        "\n",
        "[ 236.88404326  294.58504474   58.38045133]"
       ]
      },
      {
       "output_type": "stream",
       "stream": "stdout",
       "text": [
        "\n",
        "[ 236.90091466  294.69998109   58.36147101]"
       ]
      },
      {
       "output_type": "stream",
       "stream": "stdout",
       "text": [
        "\n",
        "[ 236.91773363  294.81456037   58.34254966]"
       ]
      },
      {
       "output_type": "stream",
       "stream": "stdout",
       "text": [
        "\n",
        "[ 236.9345      294.92878125   58.3236875 ]"
       ]
      },
      {
       "output_type": "stream",
       "stream": "stdout",
       "text": [
        "\n",
        "[ 236.95121357  295.04264243   58.30488474]"
       ]
      },
      {
       "output_type": "stream",
       "stream": "stdout",
       "text": [
        "\n",
        "[ 236.96787414  295.15614261   58.28614159]"
       ]
      },
      {
       "output_type": "stream",
       "stream": "stdout",
       "text": [
        "\n",
        "[ 236.98448154  295.26928046   58.26745827]"
       ]
      },
      {
       "output_type": "stream",
       "stream": "stdout",
       "text": [
        "\n",
        "[ 237.00103555  295.3820547    58.248835  ]"
       ]
      },
      {
       "output_type": "stream",
       "stream": "stdout",
       "text": [
        "\n",
        "[ 237.017536  295.494464   58.230272]"
       ]
      },
      {
       "output_type": "stream",
       "stream": "stdout",
       "text": [
        "\n",
        "[ 237.03398269  295.60650706   58.21176948]"
       ]
      },
      {
       "output_type": "stream",
       "stream": "stdout",
       "text": [
        "\n",
        "[ 237.05037542  295.71818258   58.19332765]"
       ]
      },
      {
       "output_type": "stream",
       "stream": "stdout",
       "text": [
        "\n",
        "[ 237.06671402  295.82948923   58.17494673]"
       ]
      },
      {
       "output_type": "stream",
       "stream": "stdout",
       "text": [
        "\n",
        "[ 237.08299827  295.94042573   58.15662694]"
       ]
      },
      {
       "output_type": "stream",
       "stream": "stdout",
       "text": [
        "\n",
        "[ 237.099228    296.05099075   58.1383685 ]"
       ]
      },
      {
       "output_type": "stream",
       "stream": "stdout",
       "text": [
        "\n",
        "[ 237.11540301  296.16118299   58.12017162]"
       ]
      },
      {
       "output_type": "stream",
       "stream": "stdout",
       "text": [
        "\n",
        "[ 237.1315231   296.27100115   58.10203651]"
       ]
      },
      {
       "output_type": "stream",
       "stream": "stdout",
       "text": [
        "\n",
        "[ 237.1475881   296.3804439    58.08396339]"
       ]
      },
      {
       "output_type": "stream",
       "stream": "stdout",
       "text": [
        "\n",
        "[ 237.16359779  296.48950996   58.06595248]"
       ]
      },
      {
       "output_type": "stream",
       "stream": "stdout",
       "text": [
        "\n",
        "[ 237.179552  296.598198   58.048004]"
       ]
      },
      {
       "output_type": "stream",
       "stream": "stdout",
       "text": [
        "\n",
        "[ 237.19545053  296.70650672   58.03011816]"
       ]
      },
      {
       "output_type": "stream",
       "stream": "stdout",
       "text": [
        "\n",
        "[ 237.21129318  296.81443482   58.01229517]"
       ]
      },
      {
       "output_type": "stream",
       "stream": "stdout",
       "text": [
        "\n",
        "[ 237.22707978  296.92198097   57.99453525]"
       ]
      },
      {
       "output_type": "stream",
       "stream": "stdout",
       "text": [
        "\n",
        "[ 237.24281011  297.02914389   57.97683862]"
       ]
      },
      {
       "output_type": "stream",
       "stream": "stdout",
       "text": [
        "\n",
        "[ 237.258484    297.13592225   57.9592055 ]"
       ]
      },
      {
       "output_type": "stream",
       "stream": "stdout",
       "text": [
        "\n",
        "[ 237.27410125  297.24231475   57.9416361 ]"
       ]
      },
      {
       "output_type": "stream",
       "stream": "stdout",
       "text": [
        "\n",
        "[ 237.28966166  297.34832009   57.92413063]"
       ]
      },
      {
       "output_type": "stream",
       "stream": "stdout",
       "text": [
        "\n",
        "[ 237.30516506  297.45393694   57.90668931]"
       ]
      },
      {
       "output_type": "stream",
       "stream": "stdout",
       "text": [
        "\n",
        "[ 237.32061123  297.55916402   57.88931236]"
       ]
      },
      {
       "output_type": "stream",
       "stream": "stdout",
       "text": [
        "\n",
        "[ 237.336  297.664   57.872]"
       ]
      },
      {
       "output_type": "stream",
       "stream": "stdout",
       "text": [
        "\n",
        "[ 237.35133117  297.76844358   57.85475244]"
       ]
      },
      {
       "output_type": "stream",
       "stream": "stdout",
       "text": [
        "\n",
        "[ 237.36660454  297.87249346   57.83756989]"
       ]
      },
      {
       "output_type": "stream",
       "stream": "stdout",
       "text": [
        "\n",
        "[ 237.38181994  297.97614831   57.82045257]"
       ]
      },
      {
       "output_type": "stream",
       "stream": "stdout",
       "text": [
        "\n",
        "[ 237.39697715  298.07940685   57.8034007 ]"
       ]
      },
      {
       "output_type": "stream",
       "stream": "stdout",
       "text": [
        "\n",
        "[ 237.412076    298.18226775   57.7864145 ]"
       ]
      },
      {
       "output_type": "stream",
       "stream": "stdout",
       "text": [
        "\n",
        "[ 237.42711629  298.28472971   57.76949418]"
       ]
      },
      {
       "output_type": "stream",
       "stream": "stdout",
       "text": [
        "\n",
        "[ 237.44209782  298.38679143   57.75263995]"
       ]
      },
      {
       "output_type": "stream",
       "stream": "stdout",
       "text": [
        "\n",
        "[ 237.45702042  298.48845158   57.73585203]"
       ]
      },
      {
       "output_type": "stream",
       "stream": "stdout",
       "text": [
        "\n",
        "[ 237.47188387  298.58970888   57.71913064]"
       ]
      },
      {
       "output_type": "stream",
       "stream": "stdout",
       "text": [
        "\n",
        "[ 237.486688  298.690562   57.702476]"
       ]
      },
      {
       "output_type": "stream",
       "stream": "stdout",
       "text": [
        "\n",
        "[ 237.50143261  298.79100964   57.68588832]"
       ]
      },
      {
       "output_type": "stream",
       "stream": "stdout",
       "text": [
        "\n",
        "[ 237.5161175   298.8910505    57.66936781]"
       ]
      },
      {
       "output_type": "stream",
       "stream": "stdout",
       "text": [
        "\n",
        "[ 237.5307425   298.99068325   57.65291469]"
       ]
      },
      {
       "output_type": "stream",
       "stream": "stdout",
       "text": [
        "\n",
        "[ 237.54530739  299.08990661   57.63652918]"
       ]
      },
      {
       "output_type": "stream",
       "stream": "stdout",
       "text": [
        "\n",
        "[ 237.559812    299.18871925   57.6202115 ]"
       ]
      },
      {
       "output_type": "stream",
       "stream": "stdout",
       "text": [
        "\n",
        "[ 237.57425613  299.28711987   57.60396186]"
       ]
      },
      {
       "output_type": "stream",
       "stream": "stdout",
       "text": [
        "\n",
        "[ 237.58863958  299.38510717   57.58778047]"
       ]
      },
      {
       "output_type": "stream",
       "stream": "stdout",
       "text": [
        "\n",
        "[ 237.60296218  299.48267982   57.57166755]"
       ]
      },
      {
       "output_type": "stream",
       "stream": "stdout",
       "text": [
        "\n",
        "[ 237.61722371  299.57983654   57.55562332]"
       ]
      },
      {
       "output_type": "stream",
       "stream": "stdout",
       "text": [
        "\n",
        "[ 237.631424  299.676576   57.539648]"
       ]
      },
      {
       "output_type": "stream",
       "stream": "stdout",
       "text": [
        "\n",
        "[ 237.64556285  299.7728969    57.5237418 ]"
       ]
      },
      {
       "output_type": "stream",
       "stream": "stdout",
       "text": [
        "\n",
        "[ 237.65964006  299.86879794   57.50790493]"
       ]
      },
      {
       "output_type": "stream",
       "stream": "stdout",
       "text": [
        "\n",
        "[ 237.67365546  299.96427779   57.49213761]"
       ]
      },
      {
       "output_type": "stream",
       "stream": "stdout",
       "text": [
        "\n",
        "[ 237.68760883  300.05933517   57.47644006]"
       ]
      },
      {
       "output_type": "stream",
       "stream": "stdout",
       "text": [
        "\n",
        "[ 237.7015      300.15396875   57.4608125 ]"
       ]
      },
      {
       "output_type": "stream",
       "stream": "stdout",
       "text": [
        "\n",
        "[ 237.71532877  300.24817723   57.44525514]"
       ]
      },
      {
       "output_type": "stream",
       "stream": "stdout",
       "text": [
        "\n",
        "[ 237.72909494  300.34195931   57.42976819]"
       ]
      },
      {
       "output_type": "stream",
       "stream": "stdout",
       "text": [
        "\n",
        "[ 237.74279834  300.43531366   57.41435187]"
       ]
      },
      {
       "output_type": "stream",
       "stream": "stdout",
       "text": [
        "\n",
        "[ 237.75643875  300.528239     57.3990064 ]"
       ]
      },
      {
       "output_type": "stream",
       "stream": "stdout",
       "text": [
        "\n",
        "[ 237.770016  300.620734   57.383732]"
       ]
      },
      {
       "output_type": "stream",
       "stream": "stdout",
       "text": [
        "\n",
        "[ 237.78352989  300.71279736   57.36852888]"
       ]
      },
      {
       "output_type": "stream",
       "stream": "stdout",
       "text": [
        "\n",
        "[ 237.79698022  300.80442778   57.35339725]"
       ]
      },
      {
       "output_type": "stream",
       "stream": "stdout",
       "text": [
        "\n",
        "[ 237.81036682  300.89562393   57.33833733]"
       ]
      },
      {
       "output_type": "stream",
       "stream": "stdout",
       "text": [
        "\n",
        "[ 237.82368947  300.98638453   57.32334934]"
       ]
      },
      {
       "output_type": "stream",
       "stream": "stdout",
       "text": [
        "\n",
        "[ 237.836948    301.07670825   57.3084335 ]"
       ]
      },
      {
       "output_type": "stream",
       "stream": "stdout",
       "text": [
        "\n",
        "[ 237.85014221  301.16659379   57.29359002]"
       ]
      },
      {
       "output_type": "stream",
       "stream": "stdout",
       "text": [
        "\n",
        "[ 237.8632719   301.25603985   57.27881911]"
       ]
      },
      {
       "output_type": "stream",
       "stream": "stdout",
       "text": [
        "\n",
        "[ 237.8763369   301.3450451    57.26412099]"
       ]
      },
      {
       "output_type": "stream",
       "stream": "stdout",
       "text": [
        "\n",
        "[ 237.88933699  301.43360826   57.24949588]"
       ]
      },
      {
       "output_type": "stream",
       "stream": "stdout",
       "text": [
        "\n",
        "[ 237.902272  301.521728   57.234944]"
       ]
      },
      {
       "output_type": "stream",
       "stream": "stdout",
       "text": [
        "\n",
        "[ 237.91514173  301.60940302   57.22046556]"
       ]
      },
      {
       "output_type": "stream",
       "stream": "stdout",
       "text": [
        "\n",
        "[ 237.92794598  301.69663202   57.20606077]"
       ]
      },
      {
       "output_type": "stream",
       "stream": "stdout",
       "text": [
        "\n",
        "[ 237.94068458  301.78341367   57.19172985]"
       ]
      },
      {
       "output_type": "stream",
       "stream": "stdout",
       "text": [
        "\n",
        "[ 237.95335731  301.86974669   57.17747302]"
       ]
      },
      {
       "output_type": "stream",
       "stream": "stdout",
       "text": [
        "\n",
        "[ 237.965964    301.95562975   57.1632905 ]"
       ]
      },
      {
       "output_type": "stream",
       "stream": "stdout",
       "text": [
        "\n",
        "[ 237.97850445  302.04106155   57.1491825 ]"
       ]
      },
      {
       "output_type": "stream",
       "stream": "stdout",
       "text": [
        "\n",
        "[ 237.99097846  302.12604079   57.13514923]"
       ]
      },
      {
       "output_type": "stream",
       "stream": "stdout",
       "text": [
        "\n",
        "[ 238.00338586  302.21056614   57.12119091]"
       ]
      },
      {
       "output_type": "stream",
       "stream": "stdout",
       "text": [
        "\n",
        "[ 238.01572643  302.29463632   57.10730776]"
       ]
      },
      {
       "output_type": "stream",
       "stream": "stdout",
       "text": [
        "\n",
        "[ 238.028    302.37825   57.0935 ]"
       ]
      },
      {
       "output_type": "stream",
       "stream": "stdout",
       "text": [
        "\n",
        "[ 238.04020637  302.46140588   57.07976784]"
       ]
      },
      {
       "output_type": "stream",
       "stream": "stdout",
       "text": [
        "\n",
        "[ 238.05234534  302.54410266   57.06611149]"
       ]
      },
      {
       "output_type": "stream",
       "stream": "stdout",
       "text": [
        "\n",
        "[ 238.06441674  302.62633901   57.05253117]"
       ]
      },
      {
       "output_type": "stream",
       "stream": "stdout",
       "text": [
        "\n",
        "[ 238.07642035  302.70811365   57.0390271 ]"
       ]
      },
      {
       "output_type": "stream",
       "stream": "stdout",
       "text": [
        "\n",
        "[ 238.088356    302.78942525   57.0255995 ]"
       ]
      },
      {
       "output_type": "stream",
       "stream": "stdout",
       "text": [
        "\n",
        "[ 238.10022349  302.87027251   57.01224858]"
       ]
      },
      {
       "output_type": "stream",
       "stream": "stdout",
       "text": [
        "\n",
        "[ 238.11202262  302.95065413   56.99897455]"
       ]
      },
      {
       "output_type": "stream",
       "stream": "stdout",
       "text": [
        "\n",
        "[ 238.12375322  303.03056878   56.98577763]"
       ]
      },
      {
       "output_type": "stream",
       "stream": "stdout",
       "text": [
        "\n",
        "[ 238.13541507  303.11001518   56.97265804]"
       ]
      },
      {
       "output_type": "stream",
       "stream": "stdout",
       "text": [
        "\n",
        "[ 238.147008  303.188992   56.959616]"
       ]
      },
      {
       "output_type": "stream",
       "stream": "stdout",
       "text": [
        "\n",
        "[ 238.15853181  303.26749794   56.94665172]"
       ]
      },
      {
       "output_type": "stream",
       "stream": "stdout",
       "text": [
        "\n",
        "[ 238.1699863   303.3455317    56.93376541]"
       ]
      },
      {
       "output_type": "stream",
       "stream": "stdout",
       "text": [
        "\n",
        "[ 238.1813713   303.42309195   56.92095729]"
       ]
      },
      {
       "output_type": "stream",
       "stream": "stdout",
       "text": [
        "\n",
        "[ 238.19268659  303.50017741   56.90822758]"
       ]
      },
      {
       "output_type": "stream",
       "stream": "stdout",
       "text": [
        "\n",
        "[ 238.203932    303.57678675   56.8955765 ]"
       ]
      },
      {
       "output_type": "stream",
       "stream": "stdout",
       "text": [
        "\n",
        "[ 238.21510733  303.65291867   56.88300426]"
       ]
      },
      {
       "output_type": "stream",
       "stream": "stdout",
       "text": [
        "\n",
        "[ 238.22621238  303.72857187   56.87051107]"
       ]
      },
      {
       "output_type": "stream",
       "stream": "stdout",
       "text": [
        "\n",
        "[ 238.23724698  303.80374502   56.85809715]"
       ]
      },
      {
       "output_type": "stream",
       "stream": "stdout",
       "text": [
        "\n",
        "[ 238.24821091  303.87843684   56.84576272]"
       ]
      },
      {
       "output_type": "stream",
       "stream": "stdout",
       "text": [
        "\n",
        "[ 238.259104  303.952646   56.833508]"
       ]
      },
      {
       "output_type": "stream",
       "stream": "stdout",
       "text": [
        "\n",
        "[ 238.26992605  304.0263712    56.8213332 ]"
       ]
      },
      {
       "output_type": "stream",
       "stream": "stdout",
       "text": [
        "\n",
        "[ 238.28067686  304.09961114   56.80923853]"
       ]
      },
      {
       "output_type": "stream",
       "stream": "stdout",
       "text": [
        "\n",
        "[ 238.29135626  304.17236449   56.79722421]"
       ]
      },
      {
       "output_type": "stream",
       "stream": "stdout",
       "text": [
        "\n",
        "[ 238.30196403  304.24462997   56.78529046]"
       ]
      },
      {
       "output_type": "stream",
       "stream": "stdout",
       "text": [
        "\n",
        "[ 238.3125      304.31640625   56.7734375 ]"
       ]
      },
      {
       "output_type": "stream",
       "stream": "stdout",
       "text": [
        "\n",
        "[ 238.32296397  304.38769203   56.76166554]"
       ]
      },
      {
       "output_type": "stream",
       "stream": "stdout",
       "text": [
        "\n",
        "[ 238.33335574  304.45848601   56.74997479]"
       ]
      },
      {
       "output_type": "stream",
       "stream": "stdout",
       "text": [
        "\n",
        "[ 238.34367514  304.52878686   56.73836547]"
       ]
      },
      {
       "output_type": "stream",
       "stream": "stdout",
       "text": [
        "\n",
        "[ 238.35392195  304.5985933    56.7268378 ]"
       ]
      },
      {
       "output_type": "stream",
       "stream": "stdout",
       "text": [
        "\n",
        "[ 238.364096  304.667904   56.715392]"
       ]
      },
      {
       "output_type": "stream",
       "stream": "stdout",
       "text": [
        "\n",
        "[ 238.37419709  304.73671766   56.70402828]"
       ]
      },
      {
       "output_type": "stream",
       "stream": "stdout",
       "text": [
        "\n",
        "[ 238.38422502  304.80503298   56.69274685]"
       ]
      },
      {
       "output_type": "stream",
       "stream": "stdout",
       "text": [
        "\n",
        "[ 238.39417962  304.87284863   56.68154793]"
       ]
      },
      {
       "output_type": "stream",
       "stream": "stdout",
       "text": [
        "\n",
        "[ 238.40406067  304.94016333   56.67043174]"
       ]
      },
      {
       "output_type": "stream",
       "stream": "stdout",
       "text": [
        "\n",
        "[ 238.413868    305.00697575   56.6593985 ]"
       ]
      },
      {
       "output_type": "stream",
       "stream": "stdout",
       "text": [
        "\n",
        "[ 238.42360141  305.07328459   56.64844842]"
       ]
      },
      {
       "output_type": "stream",
       "stream": "stdout",
       "text": [
        "\n",
        "[ 238.4332607   305.13908855   56.63758171]"
       ]
      },
      {
       "output_type": "stream",
       "stream": "stdout",
       "text": [
        "\n",
        "[ 238.4428457   305.2043863    56.62679859]"
       ]
      },
      {
       "output_type": "stream",
       "stream": "stdout",
       "text": [
        "\n",
        "[ 238.45235619  305.26917656   56.61609928]"
       ]
      },
      {
       "output_type": "stream",
       "stream": "stdout",
       "text": [
        "\n",
        "[ 238.461792  305.333458   56.605484]"
       ]
      },
      {
       "output_type": "stream",
       "stream": "stdout",
       "text": [
        "\n",
        "[ 238.47115293  305.39722932   56.59495296]"
       ]
      },
      {
       "output_type": "stream",
       "stream": "stdout",
       "text": [
        "\n",
        "[ 238.48043878  305.46048922   56.58450637]"
       ]
      },
      {
       "output_type": "stream",
       "stream": "stdout",
       "text": [
        "\n",
        "[ 238.48964938  305.52323637   56.57414445]"
       ]
      },
      {
       "output_type": "stream",
       "stream": "stdout",
       "text": [
        "\n",
        "[ 238.49878451  305.58546949   56.56386742]"
       ]
      },
      {
       "output_type": "stream",
       "stream": "stdout",
       "text": [
        "\n",
        "[ 238.507844    305.64718725   56.5536755 ]"
       ]
      },
      {
       "output_type": "stream",
       "stream": "stdout",
       "text": [
        "\n",
        "[ 238.51682765  305.70838835   56.5435689 ]"
       ]
      },
      {
       "output_type": "stream",
       "stream": "stdout",
       "text": [
        "\n",
        "[ 238.52573526  305.76907149   56.53354783]"
       ]
      },
      {
       "output_type": "stream",
       "stream": "stdout",
       "text": [
        "\n",
        "[ 238.53456666  305.82923534   56.52361251]"
       ]
      },
      {
       "output_type": "stream",
       "stream": "stdout",
       "text": [
        "\n",
        "[ 238.54332163  305.88887862   56.51376316]"
       ]
      },
      {
       "output_type": "stream",
       "stream": "stdout",
       "text": [
        "\n",
        "[ 238.552  305.948   56.504]"
       ]
      },
      {
       "output_type": "stream",
       "stream": "stdout",
       "text": [
        "\n",
        "[ 238.56060157  306.00659818   56.49432324]"
       ]
      },
      {
       "output_type": "stream",
       "stream": "stdout",
       "text": [
        "\n",
        "[ 238.56912614  306.06467186   56.48473309]"
       ]
      },
      {
       "output_type": "stream",
       "stream": "stdout",
       "text": [
        "\n",
        "[ 238.57757354  306.12221971   56.47522977]"
       ]
      },
      {
       "output_type": "stream",
       "stream": "stdout",
       "text": [
        "\n",
        "[ 238.58594355  306.17924045   56.4658135 ]"
       ]
      },
      {
       "output_type": "stream",
       "stream": "stdout",
       "text": [
        "\n",
        "[ 238.594236    306.23573275   56.4564845 ]"
       ]
      },
      {
       "output_type": "stream",
       "stream": "stdout",
       "text": [
        "\n",
        "[ 238.60245069  306.29169531   56.44724298]"
       ]
      },
      {
       "output_type": "stream",
       "stream": "stdout",
       "text": [
        "\n",
        "[ 238.61058742  306.34712683   56.43808915]"
       ]
      },
      {
       "output_type": "stream",
       "stream": "stdout",
       "text": [
        "\n",
        "[ 238.61864602  306.40202598   56.42902323]"
       ]
      },
      {
       "output_type": "stream",
       "stream": "stdout",
       "text": [
        "\n",
        "[ 238.62662627  306.45639148   56.42004544]"
       ]
      },
      {
       "output_type": "stream",
       "stream": "stdout",
       "text": [
        "\n",
        "[ 238.634528  306.510222   56.411156]"
       ]
      },
      {
       "output_type": "stream",
       "stream": "stdout",
       "text": [
        "\n",
        "[ 238.64235101  306.56351624   56.40235512]"
       ]
      },
      {
       "output_type": "stream",
       "stream": "stdout",
       "text": [
        "\n",
        "[ 238.6500951   306.6162729    56.39364301]"
       ]
      },
      {
       "output_type": "stream",
       "stream": "stdout",
       "text": [
        "\n",
        "[ 238.6577601   306.66849065   56.38501989]"
       ]
      },
      {
       "output_type": "stream",
       "stream": "stdout",
       "text": [
        "\n",
        "[ 238.66534579  306.72016821   56.37648598]"
       ]
      },
      {
       "output_type": "stream",
       "stream": "stdout",
       "text": [
        "\n",
        "[ 238.672852    306.77130425   56.3680415 ]"
       ]
      },
      {
       "output_type": "stream",
       "stream": "stdout",
       "text": [
        "\n",
        "[ 238.68027853  306.82189747   56.35968666]"
       ]
      },
      {
       "output_type": "stream",
       "stream": "stdout",
       "text": [
        "\n",
        "[ 238.68762518  306.87194657   56.35142167]"
       ]
      },
      {
       "output_type": "stream",
       "stream": "stdout",
       "text": [
        "\n",
        "[ 238.69489178  306.92145022   56.34324675]"
       ]
      },
      {
       "output_type": "stream",
       "stream": "stdout",
       "text": [
        "\n",
        "[ 238.70207811  306.97040714   56.33516212]"
       ]
      },
      {
       "output_type": "stream",
       "stream": "stdout",
       "text": [
        "\n",
        "[ 238.709184  307.018816   56.327168]"
       ]
      },
      {
       "output_type": "stream",
       "stream": "stdout",
       "text": [
        "\n",
        "[ 238.71620925  307.0666755    56.3192646 ]"
       ]
      },
      {
       "output_type": "stream",
       "stream": "stdout",
       "text": [
        "\n",
        "[ 238.72315366  307.11398434   56.31145213]"
       ]
      },
      {
       "output_type": "stream",
       "stream": "stdout",
       "text": [
        "\n",
        "[ 238.73001706  307.16074119   56.30373081]"
       ]
      },
      {
       "output_type": "stream",
       "stream": "stdout",
       "text": [
        "\n",
        "[ 238.73679923  307.20694477   56.29610086]"
       ]
      },
      {
       "output_type": "stream",
       "stream": "stdout",
       "text": [
        "\n",
        "[ 238.7435      307.25259375   56.2885625 ]"
       ]
      },
      {
       "output_type": "stream",
       "stream": "stdout",
       "text": [
        "\n",
        "[ 238.75011917  307.29768683   56.28111594]"
       ]
      },
      {
       "output_type": "stream",
       "stream": "stdout",
       "text": [
        "\n",
        "[ 238.75665654  307.34222271   56.27376139]"
       ]
      },
      {
       "output_type": "stream",
       "stream": "stdout",
       "text": [
        "\n",
        "[ 238.76311194  307.38620006   56.26649907]"
       ]
      },
      {
       "output_type": "stream",
       "stream": "stdout",
       "text": [
        "\n",
        "[ 238.76948515  307.4296176    56.2593292 ]"
       ]
      },
      {
       "output_type": "stream",
       "stream": "stdout",
       "text": [
        "\n",
        "[ 238.775776  307.472474   56.252252]"
       ]
      },
      {
       "output_type": "stream",
       "stream": "stdout",
       "text": [
        "\n",
        "[ 238.78198429  307.51476796   56.24526768]"
       ]
      },
      {
       "output_type": "stream",
       "stream": "stdout",
       "text": [
        "\n",
        "[ 238.78810982  307.55649818   56.23837645]"
       ]
      },
      {
       "output_type": "stream",
       "stream": "stdout",
       "text": [
        "\n",
        "[ 238.79415242  307.59766333   56.23157853]"
       ]
      },
      {
       "output_type": "stream",
       "stream": "stdout",
       "text": [
        "\n",
        "[ 238.80011187  307.63826213   56.22487414]"
       ]
      },
      {
       "output_type": "stream",
       "stream": "stdout",
       "text": [
        "\n",
        "[ 238.805988    307.67829325   56.2182635 ]"
       ]
      },
      {
       "output_type": "stream",
       "stream": "stdout",
       "text": [
        "\n",
        "[ 238.81178061  307.71775539   56.21174682]"
       ]
      },
      {
       "output_type": "stream",
       "stream": "stdout",
       "text": [
        "\n",
        "[ 238.8174895   307.75664725   56.20532431]"
       ]
      },
      {
       "output_type": "stream",
       "stream": "stdout",
       "text": [
        "\n",
        "[ 238.8231145   307.7949675    56.19899619]"
       ]
      },
      {
       "output_type": "stream",
       "stream": "stdout",
       "text": [
        "\n",
        "[ 238.82865539  307.83271486   56.19276268]"
       ]
      },
      {
       "output_type": "stream",
       "stream": "stdout",
       "text": [
        "\n",
        "[ 238.834112  307.869888   56.186624]"
       ]
      },
      {
       "output_type": "stream",
       "stream": "stdout",
       "text": [
        "\n",
        "[ 238.83948413  307.90648562   56.18058036]"
       ]
      },
      {
       "output_type": "stream",
       "stream": "stdout",
       "text": [
        "\n",
        "[ 238.84477158  307.94250642   56.17463197]"
       ]
      },
      {
       "output_type": "stream",
       "stream": "stdout",
       "text": [
        "\n",
        "[ 238.84997418  307.97794907   56.16877905]"
       ]
      },
      {
       "output_type": "stream",
       "stream": "stdout",
       "text": [
        "\n",
        "[ 238.85509171  308.01281229   56.16302182]"
       ]
      },
      {
       "output_type": "stream",
       "stream": "stdout",
       "text": [
        "\n",
        "[ 238.860124    308.04709475   56.1573605 ]"
       ]
      },
      {
       "output_type": "stream",
       "stream": "stdout",
       "text": [
        "\n",
        "[ 238.86507085  308.08079515   56.1517953 ]"
       ]
      },
      {
       "output_type": "stream",
       "stream": "stdout",
       "text": [
        "\n",
        "[ 238.86993206  308.11391219   56.14632643]"
       ]
      },
      {
       "output_type": "stream",
       "stream": "stdout",
       "text": [
        "\n",
        "[ 238.87470746  308.14644454   56.14095411]"
       ]
      },
      {
       "output_type": "stream",
       "stream": "stdout",
       "text": [
        "\n",
        "[ 238.87939683  308.17839092   56.13567856]"
       ]
      },
      {
       "output_type": "stream",
       "stream": "stdout",
       "text": [
        "\n",
        "[ 238.884    308.20975   56.1305 ]"
       ]
      },
      {
       "output_type": "stream",
       "stream": "stdout",
       "text": [
        "\n",
        "[ 238.88851677  308.24052048   56.12541864]"
       ]
      },
      {
       "output_type": "stream",
       "stream": "stdout",
       "text": [
        "\n",
        "[ 238.89294694  308.27070106   56.12043469]"
       ]
      },
      {
       "output_type": "stream",
       "stream": "stdout",
       "text": [
        "\n",
        "[ 238.89729034  308.30029041   56.11554837]"
       ]
      },
      {
       "output_type": "stream",
       "stream": "stdout",
       "text": [
        "\n",
        "[ 238.90154675  308.32928725   56.1107599 ]"
       ]
      },
      {
       "output_type": "stream",
       "stream": "stdout",
       "text": [
        "\n",
        "[ 238.905716    308.35769025   56.1060695 ]"
       ]
      },
      {
       "output_type": "stream",
       "stream": "stdout",
       "text": [
        "\n",
        "[ 238.90979789  308.38549811   56.10147738]"
       ]
      },
      {
       "output_type": "stream",
       "stream": "stdout",
       "text": [
        "\n",
        "[ 238.91379222  308.41270953   56.09698375]"
       ]
      },
      {
       "output_type": "stream",
       "stream": "stdout",
       "text": [
        "\n",
        "[ 238.91769882  308.43932318   56.09258883]"
       ]
      },
      {
       "output_type": "stream",
       "stream": "stdout",
       "text": [
        "\n",
        "[ 238.92151747  308.46533778   56.08829284]"
       ]
      },
      {
       "output_type": "stream",
       "stream": "stdout",
       "text": [
        "\n",
        "[ 238.925248  308.490752   56.084096]"
       ]
      },
      {
       "output_type": "stream",
       "stream": "stdout",
       "text": [
        "\n",
        "[ 238.92889021  308.51556454   56.07999852]"
       ]
      },
      {
       "output_type": "stream",
       "stream": "stdout",
       "text": [
        "\n",
        "[ 238.9324439   308.5397741    56.07600061]"
       ]
      },
      {
       "output_type": "stream",
       "stream": "stdout",
       "text": [
        "\n",
        "[ 238.9359089   308.56337935   56.07210249]"
       ]
      },
      {
       "output_type": "stream",
       "stream": "stdout",
       "text": [
        "\n",
        "[ 238.93928499  308.58637901   56.06830438]"
       ]
      },
      {
       "output_type": "stream",
       "stream": "stdout",
       "text": [
        "\n",
        "[ 238.942572    308.60877175   56.0646065 ]"
       ]
      },
      {
       "output_type": "stream",
       "stream": "stdout",
       "text": [
        "\n",
        "[ 238.94576973  308.63055627   56.06100906]"
       ]
      },
      {
       "output_type": "stream",
       "stream": "stdout",
       "text": [
        "\n",
        "[ 238.94887798  308.65173127   56.05751227]"
       ]
      },
      {
       "output_type": "stream",
       "stream": "stdout",
       "text": [
        "\n",
        "[ 238.95189658  308.67229542   56.05411635]"
       ]
      },
      {
       "output_type": "stream",
       "stream": "stdout",
       "text": [
        "\n",
        "[ 238.95482531  308.69224744   56.05082152]"
       ]
      },
      {
       "output_type": "stream",
       "stream": "stdout",
       "text": [
        "\n",
        "[ 238.957664  308.711586   56.047628]"
       ]
      },
      {
       "output_type": "stream",
       "stream": "stdout",
       "text": [
        "\n",
        "[ 238.96041245  308.7303098    56.044536  ]"
       ]
      },
      {
       "output_type": "stream",
       "stream": "stdout",
       "text": [
        "\n",
        "[ 238.96307046  308.74841754   56.04154573]"
       ]
      },
      {
       "output_type": "stream",
       "stream": "stdout",
       "text": [
        "\n",
        "[ 238.96563786  308.76590789   56.03865741]"
       ]
      },
      {
       "output_type": "stream",
       "stream": "stdout",
       "text": [
        "\n",
        "[ 238.96811443  308.78277957   56.03587126]"
       ]
      },
      {
       "output_type": "stream",
       "stream": "stdout",
       "text": [
        "\n",
        "[ 238.9705      308.79903125   56.0331875 ]"
       ]
      },
      {
       "output_type": "stream",
       "stream": "stdout",
       "text": [
        "\n",
        "[ 238.97279437  308.81466163   56.03060634]"
       ]
      },
      {
       "output_type": "stream",
       "stream": "stdout",
       "text": [
        "\n",
        "[ 238.97499734  308.82966941   56.02812799]"
       ]
      },
      {
       "output_type": "stream",
       "stream": "stdout",
       "text": [
        "\n",
        "[ 238.97710874  308.84405326   56.02575267]"
       ]
      },
      {
       "output_type": "stream",
       "stream": "stdout",
       "text": [
        "\n",
        "[ 238.97912835  308.8578119    56.0234806 ]"
       ]
      },
      {
       "output_type": "stream",
       "stream": "stdout",
       "text": [
        "\n",
        "[ 238.981056  308.870944   56.021312]"
       ]
      },
      {
       "output_type": "stream",
       "stream": "stdout",
       "text": [
        "\n",
        "[ 238.98289149  308.88344826   56.01924708]"
       ]
      },
      {
       "output_type": "stream",
       "stream": "stdout",
       "text": [
        "\n",
        "[ 238.98463462  308.89532338   56.01728605]"
       ]
      },
      {
       "output_type": "stream",
       "stream": "stdout",
       "text": [
        "\n",
        "[ 238.98628522  308.90656803   56.01542913]"
       ]
      },
      {
       "output_type": "stream",
       "stream": "stdout",
       "text": [
        "\n",
        "[ 238.98784307  308.91718093   56.01367654]"
       ]
      },
      {
       "output_type": "stream",
       "stream": "stdout",
       "text": [
        "\n",
        "[ 238.989308    308.92716075   56.0120285 ]"
       ]
      },
      {
       "output_type": "stream",
       "stream": "stdout",
       "text": [
        "\n",
        "[ 238.99067981  308.93650619   56.01048522]"
       ]
      },
      {
       "output_type": "stream",
       "stream": "stdout",
       "text": [
        "\n",
        "[ 238.9919583   308.94521595   56.00904691]"
       ]
      },
      {
       "output_type": "stream",
       "stream": "stdout",
       "text": [
        "\n",
        "[ 238.9931433   308.9532887    56.00771379]"
       ]
      },
      {
       "output_type": "stream",
       "stream": "stdout",
       "text": [
        "\n",
        "[ 238.99423459  308.96072316   56.00648608]"
       ]
      },
      {
       "output_type": "stream",
       "stream": "stdout",
       "text": [
        "\n",
        "[ 238.995232  308.967518   56.005364]"
       ]
      },
      {
       "output_type": "stream",
       "stream": "stdout",
       "text": [
        "\n",
        "[ 238.99613533  308.97367192   56.00434776]"
       ]
      },
      {
       "output_type": "stream",
       "stream": "stdout",
       "text": [
        "\n",
        "[ 238.99694438  308.97918362   56.00343757]"
       ]
      },
      {
       "output_type": "stream",
       "stream": "stdout",
       "text": [
        "\n",
        "[ 238.99765898  308.98405177   56.00263365]"
       ]
      },
      {
       "output_type": "stream",
       "stream": "stdout",
       "text": [
        "\n",
        "[ 238.99827891  308.98827509   56.00193622]"
       ]
      },
      {
       "output_type": "stream",
       "stream": "stdout",
       "text": [
        "\n",
        "[ 238.998804    308.99185225   56.0013455 ]"
       ]
      },
      {
       "output_type": "stream",
       "stream": "stdout",
       "text": [
        "\n",
        "[ 238.99923405  308.99478195   56.0008617 ]"
       ]
      },
      {
       "output_type": "stream",
       "stream": "stdout",
       "text": [
        "\n",
        "[ 238.99956886  308.99706289   56.00048503]"
       ]
      },
      {
       "output_type": "stream",
       "stream": "stdout",
       "text": [
        "\n",
        "[ 238.99980826  308.99869374   56.00021571]"
       ]
      },
      {
       "output_type": "stream",
       "stream": "stdout",
       "text": [
        "\n",
        "[ 238.99995203  308.99967322   56.00005396]"
       ]
      },
      {
       "output_type": "stream",
       "stream": "stdout",
       "text": [
        "\n"
       ]
      }
     ],
     "prompt_number": 37
    },
    {
     "cell_type": "code",
     "collapsed": false,
     "input": [
      "import nrrd\n",
      "nrrd.write(\"/media/s1144899/OS/Temp/trackEM2/M2_ouput3.nrrd\",outputImg*255)"
     ],
     "language": "python",
     "metadata": {},
     "outputs": [],
     "prompt_number": 39
    },
    {
     "cell_type": "markdown",
     "metadata": {},
     "source": [
      "This seems to work but is really slow so let's quickly write a C function...."
     ]
    },
    {
     "cell_type": "heading",
     "level": 3,
     "metadata": {},
     "source": [
      "C function"
     ]
    },
    {
     "cell_type": "markdown",
     "metadata": {},
     "source": [
      "gcc -shared -fPIC -I/usr/include/python2.7/ -lpython2.7 -o uniqueVals.so uniqueVals.c"
     ]
    },
    {
     "cell_type": "code",
     "collapsed": false,
     "input": [
      "import ctypes\n",
      "lib = ctypes.cdll.LoadLibrary('./cVersion2.so')\n",
      "cdoCirc = lib.doCirc\n",
      "caddSphere = lib.addSphere"
     ],
     "language": "python",
     "metadata": {},
     "outputs": [],
     "prompt_number": 29
    },
    {
     "cell_type": "code",
     "collapsed": false,
     "input": [
      "def doCrossCircC(i,t,outputImg,radius):\n",
      "    print t\n",
      "    centrePoint = interpBez(bezCurvePoints[i],t)\n",
      "    perpDir = interpBezDer(bezCurvePoints[i],t)\n",
      "    sumD = np.sum(np.power(perpDir,2))\n",
      "    # check it has a length:\n",
      "    if sumD !=0:\n",
      "        rotAmount = 0.01\n",
      "        incAmount = 0.5\n",
      "        # Calculatable things:\n",
      "        outputSize = outputImg.shape\n",
      "        tDir = perpDir.copy()\n",
      "        tMax = np.argmax(np.abs(perpDir))\n",
      "        tDir[tMax] = -perpDir[tMax]\n",
      "        initDir = np.cross(tDir,perpDir)\n",
      "        initDirN = initDir/np.sqrt(np.sum(np.power(initDir,2)))\n",
      "        perpDirN = perpDir/np.sqrt(np.sum(np.power(perpDir,2)))\n",
      "        #print tMax\n",
      "        #print tDir\n",
      "        #print centrePoint\n",
      "        #print initDirN\n",
      "        #print perpDir\n",
      "        #print np.dot(initDirN,perpDir)\n",
      "        # Pointers:\n",
      "        perpDirNP = (ctypes.c_double * len(perpDirN))(*perpDirN)\n",
      "        initDirNP = (ctypes.c_double * len(initDirN))(*initDirN)\n",
      "        centrePointP = (ctypes.c_double * len(centrePoint))(*centrePoint)\n",
      "        outputSizeP = (ctypes.c_int * len(outputSize))(*outputSize)\n",
      "        # Do the function:\n",
      "        cdoCirc(perpDirNP,\n",
      "                initDirNP,\n",
      "                centrePointP,\n",
      "                ctypes.c_void_p(outputImg.ctypes.data),\n",
      "                outputSizeP,\n",
      "                ctypes.c_double(rotAmount),\n",
      "                ctypes.c_double(radius),\n",
      "                ctypes.c_double(incAmount))"
     ],
     "language": "python",
     "metadata": {},
     "outputs": [],
     "prompt_number": 30
    },
    {
     "cell_type": "code",
     "collapsed": false,
     "input": [
      "outputImg = np.zeros(np.array(origImDims)+np.array((20,20,20)),dtype=np.uint8)\n",
      "outputImg = np.ascontiguousarray(outputImg)\n",
      "rotAmount = 0.01\n",
      "incAmount = 0.5\n",
      "radius=10.0\n",
      "for i in range(len(bezCurvePoints)):\n",
      "    for t in np.arange(0.0,1.0,0.001):\n",
      "        doCrossCircC(i,t,outputImg,radius)\n",
      "    if i!=0:\n",
      "        centrePointP = (ctypes.c_double * len(bezCurvePoints[i][0]))(*bezCurvePoints[i][0])\n",
      "        outputSizeP = (ctypes.c_int * len(outputImg.shape))(*outputImg.shape)\n",
      "        caddSphere(centrePointP,\n",
      "        ctypes.c_void_p(outputImg.ctypes.data),\n",
      "        outputSizeP,\n",
      "        ctypes.c_double(rotAmount),\n",
      "        ctypes.c_double(radius),\n",
      "        ctypes.c_double(incAmount))"
     ],
     "language": "python",
     "metadata": {},
     "outputs": [
      {
       "output_type": "stream",
       "stream": "stdout",
       "text": [
        "0.0\n",
        "0.001\n",
        "0.002\n",
        "0.003\n",
        "0.004\n",
        "0.005\n",
        "0.006\n",
        "0.007\n",
        "0.008\n",
        "0.009\n",
        "0.01\n",
        "0.011\n",
        "0.012\n",
        "0.013\n",
        "0.014\n",
        "0.015\n",
        "0.016\n",
        "0.017\n",
        "0.018\n",
        "0.019\n",
        "0.02\n",
        "0.021\n",
        "0.022\n",
        "0.023\n",
        "0.024\n",
        "0.025\n",
        "0.026\n",
        "0.027\n",
        "0.028\n",
        "0.029\n",
        "0.03\n",
        "0.031\n",
        "0.032\n",
        "0.033\n",
        "0.034\n",
        "0.035\n",
        "0.036\n",
        "0.037\n",
        "0.038\n",
        "0.039\n",
        "0.04\n",
        "0.041\n",
        "0.042\n",
        "0.043\n",
        "0.044\n",
        "0.045\n",
        "0.046\n",
        "0.047\n",
        "0.048\n",
        "0.049\n",
        "0.05\n",
        "0.051\n",
        "0.052\n",
        "0.053\n",
        "0.054\n",
        "0.055\n",
        "0.056\n",
        "0.057\n",
        "0.058\n",
        "0.059\n",
        "0.06\n",
        "0.061\n",
        "0.062\n",
        "0.063\n",
        "0.064\n",
        "0.065\n",
        "0.066\n",
        "0.067\n",
        "0.068\n",
        "0.069\n",
        "0.07\n",
        "0.071\n",
        "0.072\n",
        "0.073\n",
        "0.074\n",
        "0.075\n",
        "0.076\n",
        "0.077\n",
        "0.078\n",
        "0.079\n",
        "0.08\n",
        "0.081\n",
        "0.082\n",
        "0.083\n",
        "0.084\n",
        "0.085\n",
        "0.086\n",
        "0.087\n",
        "0.088\n",
        "0.089\n",
        "0.09\n",
        "0.091\n",
        "0.092\n",
        "0.093\n",
        "0.094\n",
        "0.095\n",
        "0.096\n",
        "0.097\n",
        "0.098\n",
        "0.099\n",
        "0.1\n",
        "0.101\n",
        "0.102\n",
        "0.103\n",
        "0.104\n",
        "0.105\n",
        "0.106\n",
        "0.107\n",
        "0.108\n",
        "0.109\n",
        "0.11\n",
        "0.111\n",
        "0.112\n",
        "0.113\n",
        "0.114\n",
        "0.115\n",
        "0.116\n",
        "0.117\n",
        "0.118\n",
        "0.119\n",
        "0.12\n",
        "0.121\n",
        "0.122\n",
        "0.123\n",
        "0.124\n",
        "0.125\n",
        "0.126\n",
        "0.127\n",
        "0.128\n",
        "0.129\n",
        "0.13\n",
        "0.131\n",
        "0.132\n",
        "0.133\n",
        "0.134"
       ]
      },
      {
       "output_type": "stream",
       "stream": "stdout",
       "text": [
        "\n",
        "0.135\n",
        "0.136\n",
        "0.137\n",
        "0.138\n",
        "0.139\n",
        "0.14\n",
        "0.141\n",
        "0.142\n",
        "0.143\n",
        "0.144\n",
        "0.145\n",
        "0.146\n",
        "0.147\n",
        "0.148\n",
        "0.149\n",
        "0.15\n",
        "0.151\n",
        "0.152\n",
        "0.153\n",
        "0.154\n",
        "0.155\n",
        "0.156\n",
        "0.157\n",
        "0.158\n",
        "0.159\n",
        "0.16\n",
        "0.161\n",
        "0.162\n",
        "0.163\n",
        "0.164\n",
        "0.165\n",
        "0.166\n",
        "0.167\n",
        "0.168\n",
        "0.169\n",
        "0.17\n",
        "0.171\n",
        "0.172\n",
        "0.173\n",
        "0.174\n",
        "0.175\n",
        "0.176\n",
        "0.177\n",
        "0.178\n",
        "0.179\n",
        "0.18\n",
        "0.181\n",
        "0.182\n",
        "0.183\n",
        "0.184\n",
        "0.185\n",
        "0.186\n",
        "0.187\n",
        "0.188\n",
        "0.189\n",
        "0.19\n",
        "0.191\n",
        "0.192\n",
        "0.193\n",
        "0.194\n",
        "0.195\n",
        "0.196\n",
        "0.197\n",
        "0.198\n",
        "0.199\n",
        "0.2\n",
        "0.201\n",
        "0.202\n",
        "0.203\n",
        "0.204\n",
        "0.205\n",
        "0.206\n",
        "0.207\n",
        "0.208\n",
        "0.209\n",
        "0.21\n",
        "0.211\n",
        "0.212\n",
        "0.213\n",
        "0.214\n",
        "0.215\n",
        "0.216\n",
        "0.217\n",
        "0.218\n",
        "0.219\n",
        "0.22\n",
        "0.221\n",
        "0.222\n",
        "0.223\n",
        "0.224\n",
        "0.225\n",
        "0.226\n",
        "0.227\n",
        "0.228\n",
        "0.229\n",
        "0.23\n",
        "0.231\n",
        "0.232\n",
        "0.233\n",
        "0.234\n",
        "0.235\n",
        "0.236\n",
        "0.237\n",
        "0.238\n",
        "0.239\n",
        "0.24\n",
        "0.241\n",
        "0.242\n",
        "0.243\n",
        "0.244\n",
        "0.245\n",
        "0.246\n",
        "0.247\n",
        "0.248\n",
        "0.249\n",
        "0.25\n",
        "0.251\n",
        "0.252\n",
        "0.253\n",
        "0.254\n",
        "0.255\n",
        "0.256\n",
        "0.257\n",
        "0.258\n",
        "0.259\n",
        "0.26\n",
        "0.261\n",
        "0.262\n",
        "0.263\n",
        "0.264\n",
        "0.265\n",
        "0.266\n",
        "0.267"
       ]
      },
      {
       "output_type": "stream",
       "stream": "stdout",
       "text": [
        "\n",
        "0.268\n",
        "0.269\n",
        "0.27\n",
        "0.271\n",
        "0.272\n",
        "0.273\n",
        "0.274\n",
        "0.275\n",
        "0.276\n",
        "0.277\n",
        "0.278\n",
        "0.279\n",
        "0.28\n",
        "0.281\n",
        "0.282\n",
        "0.283\n",
        "0.284\n",
        "0.285\n",
        "0.286\n",
        "0.287\n",
        "0.288\n",
        "0.289\n",
        "0.29\n",
        "0.291\n",
        "0.292\n",
        "0.293\n",
        "0.294\n",
        "0.295\n",
        "0.296\n",
        "0.297\n",
        "0.298\n",
        "0.299\n",
        "0.3\n",
        "0.301\n",
        "0.302\n",
        "0.303\n",
        "0.304\n",
        "0.305\n",
        "0.306\n",
        "0.307\n",
        "0.308\n",
        "0.309\n",
        "0.31\n",
        "0.311\n",
        "0.312\n",
        "0.313\n",
        "0.314\n",
        "0.315\n",
        "0.316\n",
        "0.317\n",
        "0.318\n",
        "0.319\n",
        "0.32\n",
        "0.321\n",
        "0.322\n",
        "0.323\n",
        "0.324\n",
        "0.325\n",
        "0.326\n",
        "0.327\n",
        "0.328\n",
        "0.329\n",
        "0.33\n",
        "0.331\n",
        "0.332\n",
        "0.333\n",
        "0.334\n",
        "0.335\n",
        "0.336\n",
        "0.337\n",
        "0.338\n",
        "0.339\n",
        "0.34\n",
        "0.341\n",
        "0.342\n",
        "0.343\n",
        "0.344\n",
        "0.345\n",
        "0.346\n",
        "0.347\n",
        "0.348\n",
        "0.349\n",
        "0.35\n",
        "0.351\n",
        "0.352\n",
        "0.353\n",
        "0.354\n",
        "0.355\n",
        "0.356\n",
        "0.357\n",
        "0.358\n",
        "0.359\n",
        "0.36\n",
        "0.361\n",
        "0.362\n",
        "0.363\n",
        "0.364\n",
        "0.365\n",
        "0.366\n",
        "0.367\n",
        "0.368\n",
        "0.369\n",
        "0.37\n",
        "0.371\n",
        "0.372\n",
        "0.373\n",
        "0.374\n",
        "0.375\n",
        "0.376\n",
        "0.377\n",
        "0.378\n",
        "0.379\n",
        "0.38\n",
        "0.381\n",
        "0.382\n",
        "0.383\n",
        "0.384\n",
        "0.385\n",
        "0.386\n",
        "0.387\n",
        "0.388\n",
        "0.389\n",
        "0.39\n",
        "0.391\n",
        "0.392\n",
        "0.393\n",
        "0.394\n",
        "0.395\n",
        "0.396\n",
        "0.397\n",
        "0.398\n",
        "0.399\n",
        "0.4\n",
        "0.401\n",
        "0.402\n",
        "0.403"
       ]
      },
      {
       "output_type": "stream",
       "stream": "stdout",
       "text": [
        "\n",
        "0.404\n",
        "0.405\n",
        "0.406\n",
        "0.407\n",
        "0.408\n",
        "0.409\n",
        "0.41\n",
        "0.411\n",
        "0.412\n",
        "0.413\n",
        "0.414\n",
        "0.415\n",
        "0.416\n",
        "0.417\n",
        "0.418\n",
        "0.419\n",
        "0.42\n",
        "0.421\n",
        "0.422\n",
        "0.423\n",
        "0.424\n",
        "0.425\n",
        "0.426\n",
        "0.427\n",
        "0.428\n",
        "0.429\n",
        "0.43\n",
        "0.431\n",
        "0.432\n",
        "0.433\n",
        "0.434\n",
        "0.435\n",
        "0.436\n",
        "0.437\n",
        "0.438\n",
        "0.439\n",
        "0.44\n",
        "0.441\n",
        "0.442\n",
        "0.443\n",
        "0.444\n",
        "0.445\n",
        "0.446\n",
        "0.447\n",
        "0.448\n",
        "0.449\n",
        "0.45\n",
        "0.451\n",
        "0.452\n",
        "0.453\n",
        "0.454\n",
        "0.455\n",
        "0.456\n",
        "0.457\n",
        "0.458\n",
        "0.459\n",
        "0.46\n",
        "0.461\n",
        "0.462\n",
        "0.463\n",
        "0.464\n",
        "0.465\n",
        "0.466\n",
        "0.467\n",
        "0.468\n",
        "0.469\n",
        "0.47\n",
        "0.471\n",
        "0.472\n",
        "0.473\n",
        "0.474\n",
        "0.475\n",
        "0.476\n",
        "0.477\n",
        "0.478\n",
        "0.479\n",
        "0.48\n",
        "0.481\n",
        "0.482\n",
        "0.483\n",
        "0.484\n",
        "0.485\n",
        "0.486\n",
        "0.487\n",
        "0.488\n",
        "0.489\n",
        "0.49\n",
        "0.491\n",
        "0.492\n",
        "0.493\n",
        "0.494\n",
        "0.495\n",
        "0.496\n",
        "0.497\n",
        "0.498\n",
        "0.499\n",
        "0.5\n",
        "0.501\n",
        "0.502\n",
        "0.503\n",
        "0.504\n",
        "0.505\n",
        "0.506\n",
        "0.507\n",
        "0.508\n",
        "0.509\n",
        "0.51\n",
        "0.511\n",
        "0.512\n",
        "0.513\n",
        "0.514\n",
        "0.515\n",
        "0.516\n",
        "0.517\n",
        "0.518\n",
        "0.519\n",
        "0.52\n",
        "0.521\n",
        "0.522\n",
        "0.523\n",
        "0.524\n",
        "0.525\n",
        "0.526\n",
        "0.527\n",
        "0.528\n",
        "0.529\n",
        "0.53\n",
        "0.531\n",
        "0.532\n",
        "0.533\n",
        "0.534\n",
        "0.535\n",
        "0.536\n",
        "0.537\n",
        "0.538\n",
        "0.539\n",
        "0.54\n",
        "0.541"
       ]
      },
      {
       "output_type": "stream",
       "stream": "stdout",
       "text": [
        "\n",
        "0.542\n",
        "0.543\n",
        "0.544\n",
        "0.545\n",
        "0.546\n",
        "0.547\n",
        "0.548\n",
        "0.549\n",
        "0.55\n",
        "0.551\n",
        "0.552\n",
        "0.553\n",
        "0.554\n",
        "0.555\n",
        "0.556\n",
        "0.557\n",
        "0.558\n",
        "0.559\n",
        "0.56\n",
        "0.561\n",
        "0.562\n",
        "0.563\n",
        "0.564\n",
        "0.565\n",
        "0.566\n",
        "0.567\n",
        "0.568\n",
        "0.569\n",
        "0.57\n",
        "0.571\n",
        "0.572\n",
        "0.573\n",
        "0.574\n",
        "0.575\n",
        "0.576\n",
        "0.577\n",
        "0.578\n",
        "0.579\n",
        "0.58\n",
        "0.581\n",
        "0.582\n",
        "0.583\n",
        "0.584\n",
        "0.585\n",
        "0.586\n",
        "0.587\n",
        "0.588\n",
        "0.589\n",
        "0.59\n",
        "0.591\n",
        "0.592\n",
        "0.593\n",
        "0.594\n",
        "0.595\n",
        "0.596\n",
        "0.597\n",
        "0.598\n",
        "0.599\n",
        "0.6\n",
        "0.601\n",
        "0.602\n",
        "0.603\n",
        "0.604\n",
        "0.605\n",
        "0.606\n",
        "0.607\n",
        "0.608\n",
        "0.609\n",
        "0.61\n",
        "0.611\n",
        "0.612\n",
        "0.613\n",
        "0.614\n",
        "0.615\n",
        "0.616\n",
        "0.617\n",
        "0.618\n",
        "0.619\n",
        "0.62\n",
        "0.621\n",
        "0.622\n",
        "0.623\n",
        "0.624\n",
        "0.625\n",
        "0.626\n",
        "0.627\n",
        "0.628\n",
        "0.629\n",
        "0.63\n",
        "0.631\n",
        "0.632\n",
        "0.633\n",
        "0.634\n",
        "0.635\n",
        "0.636\n",
        "0.637\n",
        "0.638\n",
        "0.639\n",
        "0.64\n",
        "0.641\n",
        "0.642\n",
        "0.643\n",
        "0.644\n",
        "0.645\n",
        "0.646\n",
        "0.647\n",
        "0.648\n",
        "0.649\n",
        "0.65\n",
        "0.651\n",
        "0.652\n",
        "0.653\n",
        "0.654\n",
        "0.655\n",
        "0.656\n",
        "0.657\n",
        "0.658\n",
        "0.659\n",
        "0.66\n",
        "0.661\n",
        "0.662\n",
        "0.663\n",
        "0.664\n",
        "0.665\n",
        "0.666\n",
        "0.667\n",
        "0.668\n",
        "0.669\n",
        "0.67\n",
        "0.671\n",
        "0.672\n",
        "0.673\n",
        "0.674\n",
        "0.675\n",
        "0.676\n",
        "0.677\n",
        "0.678"
       ]
      },
      {
       "output_type": "stream",
       "stream": "stdout",
       "text": [
        "\n",
        "0.679\n",
        "0.68\n",
        "0.681\n",
        "0.682\n",
        "0.683\n",
        "0.684\n",
        "0.685\n",
        "0.686\n",
        "0.687\n",
        "0.688\n",
        "0.689\n",
        "0.69\n",
        "0.691\n",
        "0.692\n",
        "0.693\n",
        "0.694\n",
        "0.695\n",
        "0.696\n",
        "0.697\n",
        "0.698\n",
        "0.699\n",
        "0.7\n",
        "0.701\n",
        "0.702\n",
        "0.703\n",
        "0.704\n",
        "0.705\n",
        "0.706\n",
        "0.707\n",
        "0.708\n",
        "0.709\n",
        "0.71\n",
        "0.711\n",
        "0.712\n",
        "0.713\n",
        "0.714\n",
        "0.715\n",
        "0.716\n",
        "0.717\n",
        "0.718\n",
        "0.719\n",
        "0.72\n",
        "0.721\n",
        "0.722\n",
        "0.723\n",
        "0.724\n",
        "0.725\n",
        "0.726\n",
        "0.727\n",
        "0.728\n",
        "0.729\n",
        "0.73\n",
        "0.731\n",
        "0.732\n",
        "0.733\n",
        "0.734\n",
        "0.735\n",
        "0.736\n",
        "0.737\n",
        "0.738\n",
        "0.739\n",
        "0.74\n",
        "0.741\n",
        "0.742\n",
        "0.743\n",
        "0.744\n",
        "0.745\n",
        "0.746\n",
        "0.747\n",
        "0.748\n",
        "0.749\n",
        "0.75\n",
        "0.751\n",
        "0.752\n",
        "0.753\n",
        "0.754\n",
        "0.755\n",
        "0.756\n",
        "0.757\n",
        "0.758\n",
        "0.759\n",
        "0.76\n",
        "0.761\n",
        "0.762\n",
        "0.763\n",
        "0.764\n",
        "0.765\n",
        "0.766\n",
        "0.767\n",
        "0.768\n",
        "0.769\n",
        "0.77\n",
        "0.771\n",
        "0.772\n",
        "0.773\n",
        "0.774\n",
        "0.775\n",
        "0.776\n",
        "0.777\n",
        "0.778\n",
        "0.779\n",
        "0.78\n",
        "0.781\n",
        "0.782\n",
        "0.783\n",
        "0.784\n",
        "0.785\n",
        "0.786\n",
        "0.787\n",
        "0.788\n",
        "0.789\n",
        "0.79\n",
        "0.791\n",
        "0.792\n",
        "0.793\n",
        "0.794\n",
        "0.795\n",
        "0.796\n",
        "0.797\n",
        "0.798\n",
        "0.799\n",
        "0.8\n",
        "0.801\n",
        "0.802\n",
        "0.803\n",
        "0.804\n",
        "0.805\n",
        "0.806\n",
        "0.807\n",
        "0.808\n",
        "0.809\n",
        "0.81\n",
        "0.811\n",
        "0.812\n",
        "0.813\n",
        "0.814\n",
        "0.815\n",
        "0.816\n",
        "0.817"
       ]
      },
      {
       "output_type": "stream",
       "stream": "stdout",
       "text": [
        "\n",
        "0.818\n",
        "0.819\n",
        "0.82\n",
        "0.821\n",
        "0.822\n",
        "0.823\n",
        "0.824\n",
        "0.825\n",
        "0.826\n",
        "0.827\n",
        "0.828\n",
        "0.829\n",
        "0.83\n",
        "0.831\n",
        "0.832\n",
        "0.833\n",
        "0.834\n",
        "0.835\n",
        "0.836\n",
        "0.837\n",
        "0.838\n",
        "0.839\n",
        "0.84\n",
        "0.841\n",
        "0.842\n",
        "0.843\n",
        "0.844\n",
        "0.845\n",
        "0.846\n",
        "0.847\n",
        "0.848\n",
        "0.849\n",
        "0.85\n",
        "0.851\n",
        "0.852\n",
        "0.853\n",
        "0.854\n",
        "0.855\n",
        "0.856\n",
        "0.857\n",
        "0.858\n",
        "0.859\n",
        "0.86\n",
        "0.861\n",
        "0.862\n",
        "0.863\n",
        "0.864\n",
        "0.865\n",
        "0.866\n",
        "0.867\n",
        "0.868\n",
        "0.869\n",
        "0.87\n",
        "0.871\n",
        "0.872\n",
        "0.873\n",
        "0.874\n",
        "0.875\n",
        "0.876\n",
        "0.877\n",
        "0.878\n",
        "0.879\n",
        "0.88\n",
        "0.881\n",
        "0.882\n",
        "0.883\n",
        "0.884\n",
        "0.885\n",
        "0.886\n",
        "0.887\n",
        "0.888\n",
        "0.889\n",
        "0.89\n",
        "0.891\n",
        "0.892\n",
        "0.893\n",
        "0.894\n",
        "0.895\n",
        "0.896\n",
        "0.897\n",
        "0.898\n",
        "0.899\n",
        "0.9\n",
        "0.901\n",
        "0.902\n",
        "0.903\n",
        "0.904\n",
        "0.905\n",
        "0.906\n",
        "0.907\n",
        "0.908\n",
        "0.909\n",
        "0.91\n",
        "0.911\n",
        "0.912\n",
        "0.913\n",
        "0.914\n",
        "0.915\n",
        "0.916\n",
        "0.917\n",
        "0.918\n",
        "0.919\n",
        "0.92\n",
        "0.921\n",
        "0.922\n",
        "0.923\n",
        "0.924\n",
        "0.925\n",
        "0.926\n",
        "0.927\n",
        "0.928\n",
        "0.929\n",
        "0.93\n",
        "0.931\n",
        "0.932\n",
        "0.933\n",
        "0.934\n",
        "0.935\n",
        "0.936\n",
        "0.937\n",
        "0.938\n",
        "0.939\n",
        "0.94\n",
        "0.941\n",
        "0.942\n",
        "0.943\n",
        "0.944\n",
        "0.945\n",
        "0.946\n",
        "0.947\n",
        "0.948\n",
        "0.949\n",
        "0.95\n",
        "0.951\n",
        "0.952\n",
        "0.953\n",
        "0.954\n",
        "0.955"
       ]
      },
      {
       "output_type": "stream",
       "stream": "stdout",
       "text": [
        "\n",
        "0.956\n",
        "0.957\n",
        "0.958\n",
        "0.959\n",
        "0.96\n",
        "0.961\n",
        "0.962\n",
        "0.963\n",
        "0.964\n",
        "0.965\n",
        "0.966\n",
        "0.967\n",
        "0.968\n",
        "0.969\n",
        "0.97\n",
        "0.971\n",
        "0.972\n",
        "0.973\n",
        "0.974\n",
        "0.975\n",
        "0.976\n",
        "0.977\n",
        "0.978\n",
        "0.979\n",
        "0.98\n",
        "0.981\n",
        "0.982\n",
        "0.983\n",
        "0.984\n",
        "0.985\n",
        "0.986\n",
        "0.987\n",
        "0.988\n",
        "0.989\n",
        "0.99\n",
        "0.991\n",
        "0.992\n",
        "0.993\n",
        "0.994\n",
        "0.995\n",
        "0.996\n",
        "0.997\n",
        "0.998\n",
        "0.999\n",
        "0.0\n",
        "0.001\n",
        "0.002\n",
        "0.003\n",
        "0.004\n",
        "0.005\n",
        "0.006\n",
        "0.007\n",
        "0.008\n",
        "0.009\n",
        "0.01\n",
        "0.011\n",
        "0.012\n",
        "0.013\n",
        "0.014\n",
        "0.015\n",
        "0.016\n",
        "0.017\n",
        "0.018\n",
        "0.019\n",
        "0.02\n",
        "0.021\n",
        "0.022\n",
        "0.023\n",
        "0.024\n",
        "0.025\n",
        "0.026\n",
        "0.027\n",
        "0.028\n",
        "0.029\n",
        "0.03\n",
        "0.031\n",
        "0.032\n",
        "0.033\n",
        "0.034\n",
        "0.035\n",
        "0.036\n",
        "0.037\n",
        "0.038\n",
        "0.039\n",
        "0.04\n",
        "0.041\n",
        "0.042\n",
        "0.043\n",
        "0.044\n",
        "0.045\n",
        "0.046\n",
        "0.047\n",
        "0.048\n",
        "0.049\n",
        "0.05\n",
        "0.051\n",
        "0.052\n",
        "0.053\n",
        "0.054\n",
        "0.055\n",
        "0.056\n",
        "0.057\n",
        "0.058\n",
        "0.059\n",
        "0.06\n",
        "0.061\n",
        "0.062\n",
        "0.063\n",
        "0.064\n",
        "0.065\n",
        "0.066\n",
        "0.067\n",
        "0.068\n",
        "0.069\n",
        "0.07\n",
        "0.071\n",
        "0.072\n",
        "0.073\n",
        "0.074\n",
        "0.075\n",
        "0.076\n",
        "0.077\n",
        "0.078\n",
        "0.079\n",
        "0.08\n",
        "0.081\n",
        "0.082\n",
        "0.083\n",
        "0.084\n",
        "0.085\n",
        "0.086\n",
        "0.087\n",
        "0.088\n",
        "0.089\n",
        "0.09\n",
        "0.091\n",
        "0.092\n",
        "0.093\n",
        "0.094\n",
        "0.095"
       ]
      },
      {
       "output_type": "stream",
       "stream": "stdout",
       "text": [
        "\n",
        "0.096\n",
        "0.097\n",
        "0.098\n",
        "0.099\n",
        "0.1\n",
        "0.101\n",
        "0.102\n",
        "0.103\n",
        "0.104\n",
        "0.105\n",
        "0.106\n",
        "0.107\n",
        "0.108\n",
        "0.109\n",
        "0.11\n",
        "0.111\n",
        "0.112\n",
        "0.113\n",
        "0.114\n",
        "0.115\n",
        "0.116\n",
        "0.117\n",
        "0.118\n",
        "0.119\n",
        "0.12\n",
        "0.121\n",
        "0.122\n",
        "0.123\n",
        "0.124\n",
        "0.125\n",
        "0.126\n",
        "0.127\n",
        "0.128\n",
        "0.129\n",
        "0.13\n",
        "0.131\n",
        "0.132\n",
        "0.133\n",
        "0.134\n",
        "0.135\n",
        "0.136\n",
        "0.137\n",
        "0.138\n",
        "0.139\n",
        "0.14\n",
        "0.141\n",
        "0.142\n",
        "0.143\n",
        "0.144\n",
        "0.145\n",
        "0.146\n",
        "0.147\n",
        "0.148\n",
        "0.149\n",
        "0.15\n",
        "0.151\n",
        "0.152\n",
        "0.153\n",
        "0.154\n",
        "0.155\n",
        "0.156\n",
        "0.157\n",
        "0.158\n",
        "0.159\n",
        "0.16\n",
        "0.161\n",
        "0.162\n",
        "0.163\n",
        "0.164\n",
        "0.165\n",
        "0.166\n",
        "0.167\n",
        "0.168\n",
        "0.169\n",
        "0.17\n",
        "0.171\n",
        "0.172\n",
        "0.173\n",
        "0.174\n",
        "0.175\n",
        "0.176\n",
        "0.177\n",
        "0.178\n",
        "0.179\n",
        "0.18\n",
        "0.181\n",
        "0.182\n",
        "0.183\n",
        "0.184\n",
        "0.185\n",
        "0.186\n",
        "0.187\n",
        "0.188\n",
        "0.189\n",
        "0.19\n",
        "0.191\n",
        "0.192\n",
        "0.193\n",
        "0.194\n",
        "0.195\n",
        "0.196\n",
        "0.197\n",
        "0.198\n",
        "0.199\n",
        "0.2\n",
        "0.201\n",
        "0.202\n",
        "0.203\n",
        "0.204\n",
        "0.205\n",
        "0.206\n",
        "0.207\n",
        "0.208\n",
        "0.209\n",
        "0.21\n",
        "0.211\n",
        "0.212\n",
        "0.213\n",
        "0.214\n",
        "0.215\n",
        "0.216\n",
        "0.217\n",
        "0.218\n",
        "0.219\n",
        "0.22\n",
        "0.221\n",
        "0.222\n",
        "0.223\n",
        "0.224\n",
        "0.225\n",
        "0.226\n",
        "0.227\n",
        "0.228\n",
        "0.229\n",
        "0.23\n",
        "0.231\n",
        "0.232\n",
        "0.233\n"
       ]
      },
      {
       "output_type": "stream",
       "stream": "stdout",
       "text": [
        "0.234\n",
        "0.235\n",
        "0.236\n",
        "0.237\n",
        "0.238\n",
        "0.239\n",
        "0.24\n",
        "0.241\n",
        "0.242\n",
        "0.243\n",
        "0.244\n",
        "0.245\n",
        "0.246\n",
        "0.247\n",
        "0.248\n",
        "0.249\n",
        "0.25\n",
        "0.251\n",
        "0.252\n",
        "0.253\n",
        "0.254\n",
        "0.255\n",
        "0.256\n",
        "0.257\n",
        "0.258\n",
        "0.259\n",
        "0.26\n",
        "0.261\n",
        "0.262\n",
        "0.263\n",
        "0.264\n",
        "0.265\n",
        "0.266\n",
        "0.267\n",
        "0.268\n",
        "0.269\n",
        "0.27\n",
        "0.271\n",
        "0.272\n",
        "0.273\n",
        "0.274\n",
        "0.275\n",
        "0.276\n",
        "0.277\n",
        "0.278\n",
        "0.279\n",
        "0.28\n",
        "0.281\n",
        "0.282\n",
        "0.283\n",
        "0.284\n",
        "0.285\n",
        "0.286\n",
        "0.287\n",
        "0.288\n",
        "0.289\n",
        "0.29\n",
        "0.291\n",
        "0.292\n",
        "0.293\n",
        "0.294\n",
        "0.295\n",
        "0.296\n",
        "0.297\n",
        "0.298\n",
        "0.299\n",
        "0.3\n",
        "0.301\n",
        "0.302\n",
        "0.303\n",
        "0.304\n",
        "0.305\n",
        "0.306\n",
        "0.307\n",
        "0.308\n",
        "0.309\n",
        "0.31\n",
        "0.311\n",
        "0.312\n",
        "0.313\n",
        "0.314\n",
        "0.315\n",
        "0.316\n",
        "0.317\n",
        "0.318\n",
        "0.319\n",
        "0.32\n",
        "0.321\n",
        "0.322\n",
        "0.323\n",
        "0.324\n",
        "0.325\n",
        "0.326\n",
        "0.327\n",
        "0.328\n",
        "0.329\n",
        "0.33\n",
        "0.331\n",
        "0.332\n",
        "0.333\n",
        "0.334\n",
        "0.335\n",
        "0.336\n",
        "0.337\n",
        "0.338\n",
        "0.339\n",
        "0.34\n",
        "0.341\n",
        "0.342\n",
        "0.343\n",
        "0.344\n",
        "0.345\n",
        "0.346\n",
        "0.347\n",
        "0.348\n",
        "0.349\n",
        "0.35\n",
        "0.351\n",
        "0.352\n",
        "0.353\n",
        "0.354\n",
        "0.355\n",
        "0.356\n",
        "0.357\n",
        "0.358\n",
        "0.359\n",
        "0.36\n",
        "0.361\n",
        "0.362\n",
        "0.363\n",
        "0.364\n",
        "0.365\n",
        "0.366\n",
        "0.367\n",
        "0.368\n",
        "0.369\n",
        "0.37\n",
        "0.371\n",
        "0.372\n",
        "0.373\n",
        "0.374"
       ]
      },
      {
       "output_type": "stream",
       "stream": "stdout",
       "text": [
        "\n",
        "0.375\n",
        "0.376\n",
        "0.377\n",
        "0.378\n",
        "0.379\n",
        "0.38\n",
        "0.381\n",
        "0.382\n",
        "0.383\n",
        "0.384\n",
        "0.385\n",
        "0.386\n",
        "0.387\n",
        "0.388\n",
        "0.389\n",
        "0.39\n",
        "0.391\n",
        "0.392\n",
        "0.393\n",
        "0.394\n",
        "0.395\n",
        "0.396\n",
        "0.397\n",
        "0.398\n",
        "0.399\n",
        "0.4\n",
        "0.401\n",
        "0.402\n",
        "0.403\n",
        "0.404\n",
        "0.405\n",
        "0.406\n",
        "0.407\n",
        "0.408\n",
        "0.409\n",
        "0.41\n",
        "0.411\n",
        "0.412\n",
        "0.413\n",
        "0.414\n",
        "0.415\n",
        "0.416\n",
        "0.417\n",
        "0.418\n",
        "0.419\n",
        "0.42\n",
        "0.421\n",
        "0.422\n",
        "0.423\n",
        "0.424\n",
        "0.425\n",
        "0.426\n",
        "0.427\n",
        "0.428\n",
        "0.429\n",
        "0.43\n",
        "0.431\n",
        "0.432\n",
        "0.433\n",
        "0.434\n",
        "0.435\n",
        "0.436\n",
        "0.437\n",
        "0.438\n",
        "0.439\n",
        "0.44\n",
        "0.441\n",
        "0.442\n",
        "0.443\n",
        "0.444\n",
        "0.445\n",
        "0.446\n",
        "0.447\n",
        "0.448\n",
        "0.449\n",
        "0.45\n",
        "0.451\n",
        "0.452\n",
        "0.453\n",
        "0.454\n",
        "0.455\n",
        "0.456\n",
        "0.457\n",
        "0.458\n",
        "0.459\n",
        "0.46\n",
        "0.461\n",
        "0.462\n",
        "0.463\n",
        "0.464\n",
        "0.465\n",
        "0.466\n",
        "0.467\n",
        "0.468\n",
        "0.469\n",
        "0.47\n",
        "0.471\n",
        "0.472\n",
        "0.473\n",
        "0.474\n",
        "0.475\n",
        "0.476\n",
        "0.477\n",
        "0.478\n",
        "0.479\n",
        "0.48\n",
        "0.481\n",
        "0.482\n",
        "0.483\n",
        "0.484\n",
        "0.485\n",
        "0.486\n",
        "0.487\n",
        "0.488\n",
        "0.489\n",
        "0.49\n",
        "0.491\n",
        "0.492\n",
        "0.493\n",
        "0.494\n",
        "0.495\n",
        "0.496\n",
        "0.497\n",
        "0.498\n",
        "0.499\n",
        "0.5\n",
        "0.501\n",
        "0.502\n",
        "0.503\n",
        "0.504\n",
        "0.505\n",
        "0.506\n",
        "0.507\n",
        "0.508\n",
        "0.509\n",
        "0.51\n",
        "0.511\n",
        "0.512"
       ]
      },
      {
       "output_type": "stream",
       "stream": "stdout",
       "text": [
        "\n",
        "0.513\n",
        "0.514\n",
        "0.515\n",
        "0.516\n",
        "0.517\n",
        "0.518\n",
        "0.519\n",
        "0.52\n",
        "0.521\n",
        "0.522\n",
        "0.523\n",
        "0.524\n",
        "0.525\n",
        "0.526\n",
        "0.527\n",
        "0.528\n",
        "0.529\n",
        "0.53\n",
        "0.531\n",
        "0.532\n",
        "0.533\n",
        "0.534\n",
        "0.535\n",
        "0.536\n",
        "0.537\n",
        "0.538\n",
        "0.539\n",
        "0.54\n",
        "0.541\n",
        "0.542\n",
        "0.543\n",
        "0.544\n",
        "0.545\n",
        "0.546\n",
        "0.547\n",
        "0.548\n",
        "0.549\n",
        "0.55\n",
        "0.551\n",
        "0.552\n",
        "0.553\n",
        "0.554\n",
        "0.555\n",
        "0.556\n",
        "0.557\n",
        "0.558\n",
        "0.559\n",
        "0.56\n",
        "0.561\n",
        "0.562\n",
        "0.563\n",
        "0.564\n",
        "0.565\n",
        "0.566\n",
        "0.567\n",
        "0.568\n",
        "0.569\n",
        "0.57\n",
        "0.571\n",
        "0.572\n",
        "0.573\n",
        "0.574\n",
        "0.575\n",
        "0.576\n",
        "0.577\n",
        "0.578\n",
        "0.579\n",
        "0.58\n",
        "0.581\n",
        "0.582\n",
        "0.583\n",
        "0.584\n",
        "0.585\n",
        "0.586\n",
        "0.587\n",
        "0.588\n",
        "0.589\n",
        "0.59\n",
        "0.591\n",
        "0.592\n",
        "0.593\n",
        "0.594\n",
        "0.595\n",
        "0.596\n",
        "0.597\n",
        "0.598\n",
        "0.599\n",
        "0.6\n",
        "0.601\n",
        "0.602\n",
        "0.603\n",
        "0.604\n",
        "0.605\n",
        "0.606\n",
        "0.607\n",
        "0.608\n",
        "0.609\n",
        "0.61\n",
        "0.611\n",
        "0.612\n",
        "0.613\n",
        "0.614\n",
        "0.615\n",
        "0.616\n",
        "0.617\n",
        "0.618\n",
        "0.619\n",
        "0.62\n",
        "0.621\n",
        "0.622\n",
        "0.623\n",
        "0.624\n",
        "0.625\n",
        "0.626\n",
        "0.627\n",
        "0.628\n",
        "0.629\n",
        "0.63\n",
        "0.631\n",
        "0.632\n",
        "0.633\n",
        "0.634\n",
        "0.635\n",
        "0.636\n",
        "0.637\n",
        "0.638\n",
        "0.639\n",
        "0.64\n",
        "0.641\n",
        "0.642\n",
        "0.643\n",
        "0.644\n",
        "0.645\n",
        "0.646\n",
        "0.647\n",
        "0.648\n",
        "0.649\n",
        "0.65\n",
        "0.651"
       ]
      },
      {
       "output_type": "stream",
       "stream": "stdout",
       "text": [
        "\n",
        "0.652\n",
        "0.653\n",
        "0.654\n",
        "0.655\n",
        "0.656\n",
        "0.657\n",
        "0.658\n",
        "0.659\n",
        "0.66\n",
        "0.661\n",
        "0.662\n",
        "0.663\n",
        "0.664\n",
        "0.665\n",
        "0.666\n",
        "0.667\n",
        "0.668\n",
        "0.669\n",
        "0.67\n",
        "0.671\n",
        "0.672\n",
        "0.673\n",
        "0.674\n",
        "0.675\n",
        "0.676\n",
        "0.677\n",
        "0.678\n",
        "0.679\n",
        "0.68\n",
        "0.681\n",
        "0.682\n",
        "0.683\n",
        "0.684\n",
        "0.685\n",
        "0.686\n",
        "0.687\n",
        "0.688\n",
        "0.689\n",
        "0.69\n",
        "0.691\n",
        "0.692\n",
        "0.693\n",
        "0.694\n",
        "0.695\n",
        "0.696\n",
        "0.697\n",
        "0.698\n",
        "0.699\n",
        "0.7\n",
        "0.701\n",
        "0.702\n",
        "0.703\n",
        "0.704\n",
        "0.705\n",
        "0.706\n",
        "0.707\n",
        "0.708\n",
        "0.709\n",
        "0.71\n",
        "0.711\n",
        "0.712\n",
        "0.713\n",
        "0.714\n",
        "0.715\n",
        "0.716\n",
        "0.717\n",
        "0.718\n",
        "0.719\n",
        "0.72\n",
        "0.721\n",
        "0.722\n",
        "0.723\n",
        "0.724\n",
        "0.725\n",
        "0.726\n",
        "0.727\n",
        "0.728\n",
        "0.729\n",
        "0.73\n",
        "0.731\n",
        "0.732\n",
        "0.733\n",
        "0.734\n",
        "0.735\n",
        "0.736\n",
        "0.737\n",
        "0.738\n",
        "0.739\n",
        "0.74\n",
        "0.741\n",
        "0.742\n",
        "0.743\n",
        "0.744\n",
        "0.745\n",
        "0.746\n",
        "0.747\n",
        "0.748\n",
        "0.749\n",
        "0.75\n",
        "0.751\n",
        "0.752\n",
        "0.753\n",
        "0.754\n",
        "0.755\n",
        "0.756\n",
        "0.757\n",
        "0.758\n",
        "0.759\n",
        "0.76\n",
        "0.761\n",
        "0.762\n",
        "0.763\n",
        "0.764\n",
        "0.765\n",
        "0.766\n",
        "0.767\n",
        "0.768\n",
        "0.769\n",
        "0.77\n",
        "0.771\n",
        "0.772\n",
        "0.773\n",
        "0.774\n",
        "0.775\n",
        "0.776\n",
        "0.777\n",
        "0.778\n",
        "0.779\n",
        "0.78\n",
        "0.781\n",
        "0.782\n",
        "0.783\n",
        "0.784\n",
        "0.785\n",
        "0.786\n",
        "0.787\n",
        "0.788\n",
        "0.789\n",
        "0.79"
       ]
      },
      {
       "output_type": "stream",
       "stream": "stdout",
       "text": [
        "\n",
        "0.791\n",
        "0.792\n",
        "0.793\n",
        "0.794\n",
        "0.795\n",
        "0.796\n",
        "0.797\n",
        "0.798\n",
        "0.799\n",
        "0.8\n",
        "0.801\n",
        "0.802\n",
        "0.803\n",
        "0.804\n",
        "0.805\n",
        "0.806\n",
        "0.807\n",
        "0.808\n",
        "0.809\n",
        "0.81\n",
        "0.811\n",
        "0.812\n",
        "0.813\n",
        "0.814\n",
        "0.815\n",
        "0.816\n",
        "0.817\n",
        "0.818\n",
        "0.819\n",
        "0.82\n",
        "0.821\n",
        "0.822\n",
        "0.823\n",
        "0.824\n",
        "0.825\n",
        "0.826\n",
        "0.827\n",
        "0.828\n",
        "0.829\n",
        "0.83\n",
        "0.831\n",
        "0.832\n",
        "0.833\n",
        "0.834\n",
        "0.835\n",
        "0.836\n",
        "0.837\n",
        "0.838\n",
        "0.839\n",
        "0.84\n",
        "0.841\n",
        "0.842\n",
        "0.843\n",
        "0.844\n",
        "0.845\n",
        "0.846\n",
        "0.847\n",
        "0.848\n",
        "0.849\n",
        "0.85\n",
        "0.851\n",
        "0.852\n",
        "0.853\n",
        "0.854\n",
        "0.855\n",
        "0.856\n",
        "0.857\n",
        "0.858\n",
        "0.859\n",
        "0.86\n",
        "0.861\n",
        "0.862\n",
        "0.863\n",
        "0.864\n",
        "0.865\n",
        "0.866\n",
        "0.867\n",
        "0.868\n",
        "0.869\n",
        "0.87\n",
        "0.871\n",
        "0.872\n",
        "0.873\n",
        "0.874\n",
        "0.875\n",
        "0.876\n",
        "0.877\n",
        "0.878\n",
        "0.879\n",
        "0.88\n",
        "0.881\n",
        "0.882\n",
        "0.883\n",
        "0.884\n",
        "0.885\n",
        "0.886\n",
        "0.887\n",
        "0.888\n",
        "0.889\n",
        "0.89\n",
        "0.891\n",
        "0.892\n",
        "0.893\n",
        "0.894\n",
        "0.895\n",
        "0.896\n",
        "0.897\n",
        "0.898\n",
        "0.899\n",
        "0.9\n",
        "0.901\n",
        "0.902\n",
        "0.903\n",
        "0.904\n",
        "0.905\n",
        "0.906\n",
        "0.907\n",
        "0.908\n",
        "0.909\n",
        "0.91\n",
        "0.911\n",
        "0.912\n",
        "0.913\n",
        "0.914\n",
        "0.915\n",
        "0.916\n",
        "0.917\n",
        "0.918\n",
        "0.919\n",
        "0.92\n",
        "0.921\n",
        "0.922\n",
        "0.923\n",
        "0.924\n",
        "0.925\n",
        "0.926\n",
        "0.927\n",
        "0.928"
       ]
      },
      {
       "output_type": "stream",
       "stream": "stdout",
       "text": [
        "\n",
        "0.929\n",
        "0.93\n",
        "0.931\n",
        "0.932\n",
        "0.933\n",
        "0.934\n",
        "0.935\n",
        "0.936\n",
        "0.937\n",
        "0.938\n",
        "0.939\n",
        "0.94\n",
        "0.941\n",
        "0.942\n",
        "0.943\n",
        "0.944\n",
        "0.945\n",
        "0.946\n",
        "0.947\n",
        "0.948\n",
        "0.949\n",
        "0.95\n",
        "0.951\n",
        "0.952\n",
        "0.953\n",
        "0.954\n",
        "0.955\n",
        "0.956\n",
        "0.957\n",
        "0.958\n",
        "0.959\n",
        "0.96\n",
        "0.961\n",
        "0.962\n",
        "0.963\n",
        "0.964\n",
        "0.965\n",
        "0.966\n",
        "0.967\n",
        "0.968\n",
        "0.969\n",
        "0.97\n",
        "0.971\n",
        "0.972\n",
        "0.973\n",
        "0.974\n",
        "0.975\n",
        "0.976\n",
        "0.977\n",
        "0.978\n",
        "0.979\n",
        "0.98\n",
        "0.981\n",
        "0.982\n",
        "0.983\n",
        "0.984\n",
        "0.985\n",
        "0.986\n",
        "0.987\n",
        "0.988\n",
        "0.989\n",
        "0.99\n",
        "0.991\n",
        "0.992\n",
        "0.993\n",
        "0.994\n",
        "0.995\n",
        "0.996\n",
        "0.997\n",
        "0.998\n",
        "0.999\n",
        "0.0"
       ]
      },
      {
       "output_type": "stream",
       "stream": "stdout",
       "text": [
        "\n",
        "0.001\n",
        "0.002\n",
        "0.003\n",
        "0.004\n",
        "0.005\n",
        "0.006\n",
        "0.007\n",
        "0.008\n",
        "0.009\n",
        "0.01\n",
        "0.011\n",
        "0.012\n",
        "0.013\n",
        "0.014\n",
        "0.015\n",
        "0.016\n",
        "0.017\n",
        "0.018\n",
        "0.019\n",
        "0.02\n",
        "0.021\n",
        "0.022\n",
        "0.023\n",
        "0.024\n",
        "0.025\n",
        "0.026\n",
        "0.027\n",
        "0.028\n",
        "0.029\n",
        "0.03\n",
        "0.031\n",
        "0.032\n",
        "0.033\n",
        "0.034\n",
        "0.035\n",
        "0.036\n",
        "0.037\n",
        "0.038\n",
        "0.039\n",
        "0.04\n",
        "0.041\n",
        "0.042\n",
        "0.043\n",
        "0.044\n",
        "0.045\n",
        "0.046\n",
        "0.047\n",
        "0.048\n",
        "0.049\n",
        "0.05\n",
        "0.051\n",
        "0.052\n",
        "0.053\n",
        "0.054\n",
        "0.055\n",
        "0.056\n",
        "0.057\n",
        "0.058\n",
        "0.059\n",
        "0.06\n",
        "0.061\n",
        "0.062\n",
        "0.063\n",
        "0.064\n",
        "0.065\n",
        "0.066\n",
        "0.067\n",
        "0.068\n",
        "0.069\n",
        "0.07\n",
        "0.071\n",
        "0.072\n",
        "0.073\n",
        "0.074\n",
        "0.075\n",
        "0.076\n",
        "0.077\n",
        "0.078\n",
        "0.079\n",
        "0.08\n",
        "0.081\n",
        "0.082\n",
        "0.083\n",
        "0.084\n",
        "0.085\n",
        "0.086\n",
        "0.087\n",
        "0.088\n",
        "0.089\n",
        "0.09\n",
        "0.091\n",
        "0.092\n",
        "0.093\n",
        "0.094\n",
        "0.095\n",
        "0.096\n",
        "0.097\n",
        "0.098\n",
        "0.099\n",
        "0.1\n",
        "0.101\n",
        "0.102\n",
        "0.103\n",
        "0.104\n",
        "0.105\n",
        "0.106\n",
        "0.107\n",
        "0.108\n",
        "0.109\n",
        "0.11\n",
        "0.111\n",
        "0.112\n",
        "0.113\n",
        "0.114\n",
        "0.115\n",
        "0.116\n",
        "0.117\n",
        "0.118\n",
        "0.119\n",
        "0.12\n",
        "0.121\n",
        "0.122\n",
        "0.123\n",
        "0.124\n",
        "0.125\n",
        "0.126\n",
        "0.127\n",
        "0.128\n",
        "0.129\n",
        "0.13\n",
        "0.131\n",
        "0.132\n",
        "0.133\n",
        "0.134\n",
        "0.135\n",
        "0.136\n",
        "0.137\n",
        "0.138\n",
        "0.139\n",
        "0.14\n",
        "0.141"
       ]
      },
      {
       "output_type": "stream",
       "stream": "stdout",
       "text": [
        "\n",
        "0.142\n",
        "0.143\n",
        "0.144\n",
        "0.145\n",
        "0.146\n",
        "0.147\n",
        "0.148\n",
        "0.149\n",
        "0.15\n",
        "0.151\n",
        "0.152\n",
        "0.153\n",
        "0.154\n",
        "0.155\n",
        "0.156\n",
        "0.157\n",
        "0.158\n",
        "0.159\n",
        "0.16\n",
        "0.161\n",
        "0.162\n",
        "0.163\n",
        "0.164\n",
        "0.165\n",
        "0.166\n",
        "0.167\n",
        "0.168\n",
        "0.169\n",
        "0.17\n",
        "0.171\n",
        "0.172\n",
        "0.173\n",
        "0.174\n",
        "0.175\n",
        "0.176\n",
        "0.177\n",
        "0.178\n",
        "0.179\n",
        "0.18\n",
        "0.181\n",
        "0.182\n",
        "0.183\n",
        "0.184\n",
        "0.185\n",
        "0.186\n",
        "0.187\n",
        "0.188\n",
        "0.189\n",
        "0.19\n",
        "0.191\n",
        "0.192\n",
        "0.193\n",
        "0.194\n",
        "0.195\n",
        "0.196\n",
        "0.197\n",
        "0.198\n",
        "0.199\n",
        "0.2\n",
        "0.201\n",
        "0.202\n",
        "0.203\n",
        "0.204\n",
        "0.205\n",
        "0.206\n",
        "0.207\n",
        "0.208\n",
        "0.209\n",
        "0.21\n",
        "0.211\n",
        "0.212\n",
        "0.213\n",
        "0.214\n",
        "0.215\n",
        "0.216\n",
        "0.217\n",
        "0.218\n",
        "0.219\n",
        "0.22\n",
        "0.221\n",
        "0.222\n",
        "0.223\n",
        "0.224\n",
        "0.225\n",
        "0.226\n",
        "0.227\n",
        "0.228\n",
        "0.229\n",
        "0.23\n",
        "0.231\n",
        "0.232\n",
        "0.233\n",
        "0.234\n",
        "0.235\n",
        "0.236\n",
        "0.237\n",
        "0.238\n",
        "0.239\n",
        "0.24\n",
        "0.241\n",
        "0.242\n",
        "0.243\n",
        "0.244\n",
        "0.245\n",
        "0.246\n",
        "0.247\n",
        "0.248\n",
        "0.249\n",
        "0.25\n",
        "0.251\n",
        "0.252\n",
        "0.253\n",
        "0.254\n",
        "0.255\n",
        "0.256\n",
        "0.257\n",
        "0.258\n",
        "0.259\n",
        "0.26\n",
        "0.261\n",
        "0.262\n",
        "0.263\n",
        "0.264\n",
        "0.265\n",
        "0.266\n",
        "0.267\n",
        "0.268\n",
        "0.269\n",
        "0.27\n",
        "0.271\n",
        "0.272\n",
        "0.273\n",
        "0.274\n",
        "0.275\n",
        "0.276\n",
        "0.277\n",
        "0.278\n",
        "0.279\n",
        "0.28\n",
        "0.281"
       ]
      },
      {
       "output_type": "stream",
       "stream": "stdout",
       "text": [
        "\n",
        "0.282\n",
        "0.283\n",
        "0.284\n",
        "0.285\n",
        "0.286\n",
        "0.287\n",
        "0.288\n",
        "0.289\n",
        "0.29\n",
        "0.291\n",
        "0.292\n",
        "0.293\n",
        "0.294\n",
        "0.295\n",
        "0.296\n",
        "0.297\n",
        "0.298\n",
        "0.299\n",
        "0.3\n",
        "0.301\n",
        "0.302\n",
        "0.303\n",
        "0.304\n",
        "0.305\n",
        "0.306\n",
        "0.307\n",
        "0.308\n",
        "0.309\n",
        "0.31\n",
        "0.311\n",
        "0.312\n",
        "0.313\n",
        "0.314\n",
        "0.315\n",
        "0.316\n",
        "0.317\n",
        "0.318\n",
        "0.319\n",
        "0.32\n",
        "0.321\n",
        "0.322\n",
        "0.323\n",
        "0.324\n",
        "0.325\n",
        "0.326\n",
        "0.327\n",
        "0.328\n",
        "0.329\n",
        "0.33\n",
        "0.331\n",
        "0.332\n",
        "0.333\n",
        "0.334\n",
        "0.335\n",
        "0.336\n",
        "0.337\n",
        "0.338\n",
        "0.339\n",
        "0.34\n",
        "0.341\n",
        "0.342\n",
        "0.343\n",
        "0.344\n",
        "0.345\n",
        "0.346\n",
        "0.347\n",
        "0.348\n",
        "0.349\n",
        "0.35\n",
        "0.351\n",
        "0.352\n",
        "0.353\n",
        "0.354\n",
        "0.355\n",
        "0.356\n",
        "0.357\n",
        "0.358\n",
        "0.359\n",
        "0.36\n",
        "0.361\n",
        "0.362\n",
        "0.363\n",
        "0.364\n",
        "0.365\n",
        "0.366\n",
        "0.367\n",
        "0.368\n",
        "0.369\n",
        "0.37\n",
        "0.371\n",
        "0.372\n",
        "0.373\n",
        "0.374\n",
        "0.375\n",
        "0.376\n",
        "0.377\n",
        "0.378\n",
        "0.379\n",
        "0.38\n",
        "0.381\n",
        "0.382\n",
        "0.383\n",
        "0.384\n",
        "0.385\n",
        "0.386\n",
        "0.387\n",
        "0.388\n",
        "0.389\n",
        "0.39\n",
        "0.391\n",
        "0.392\n",
        "0.393\n",
        "0.394\n",
        "0.395\n",
        "0.396\n",
        "0.397\n",
        "0.398\n",
        "0.399\n",
        "0.4\n",
        "0.401\n",
        "0.402\n",
        "0.403\n",
        "0.404\n",
        "0.405\n",
        "0.406\n",
        "0.407\n",
        "0.408\n",
        "0.409\n",
        "0.41\n",
        "0.411\n",
        "0.412\n",
        "0.413\n",
        "0.414\n",
        "0.415\n",
        "0.416\n",
        "0.417\n",
        "0.418\n",
        "0.419"
       ]
      },
      {
       "output_type": "stream",
       "stream": "stdout",
       "text": [
        "\n",
        "0.42\n",
        "0.421\n",
        "0.422\n",
        "0.423\n",
        "0.424\n",
        "0.425\n",
        "0.426\n",
        "0.427\n",
        "0.428\n",
        "0.429\n",
        "0.43\n",
        "0.431\n",
        "0.432\n",
        "0.433\n",
        "0.434\n",
        "0.435\n",
        "0.436\n",
        "0.437\n",
        "0.438\n",
        "0.439\n",
        "0.44\n",
        "0.441\n",
        "0.442\n",
        "0.443\n",
        "0.444\n",
        "0.445\n",
        "0.446\n",
        "0.447\n",
        "0.448\n",
        "0.449\n",
        "0.45\n",
        "0.451\n",
        "0.452\n",
        "0.453\n",
        "0.454\n",
        "0.455\n",
        "0.456\n",
        "0.457\n",
        "0.458\n",
        "0.459\n",
        "0.46\n",
        "0.461\n",
        "0.462\n",
        "0.463\n",
        "0.464\n",
        "0.465\n",
        "0.466\n",
        "0.467\n",
        "0.468\n",
        "0.469\n",
        "0.47\n",
        "0.471\n",
        "0.472\n",
        "0.473\n",
        "0.474\n",
        "0.475\n",
        "0.476\n",
        "0.477\n",
        "0.478\n",
        "0.479\n",
        "0.48\n",
        "0.481\n",
        "0.482\n",
        "0.483\n",
        "0.484\n",
        "0.485\n",
        "0.486\n",
        "0.487\n",
        "0.488\n",
        "0.489\n",
        "0.49\n",
        "0.491\n",
        "0.492\n",
        "0.493\n",
        "0.494\n",
        "0.495\n",
        "0.496\n",
        "0.497\n",
        "0.498\n",
        "0.499\n",
        "0.5\n",
        "0.501\n",
        "0.502\n",
        "0.503\n",
        "0.504\n",
        "0.505\n",
        "0.506\n",
        "0.507\n",
        "0.508\n",
        "0.509\n",
        "0.51\n",
        "0.511\n",
        "0.512\n",
        "0.513\n",
        "0.514\n",
        "0.515\n",
        "0.516\n",
        "0.517\n",
        "0.518\n",
        "0.519\n",
        "0.52\n",
        "0.521\n",
        "0.522\n",
        "0.523\n",
        "0.524\n",
        "0.525\n",
        "0.526\n",
        "0.527\n",
        "0.528\n",
        "0.529\n",
        "0.53\n",
        "0.531\n",
        "0.532\n",
        "0.533\n",
        "0.534\n",
        "0.535\n",
        "0.536\n",
        "0.537\n",
        "0.538\n",
        "0.539\n",
        "0.54\n",
        "0.541\n",
        "0.542\n",
        "0.543\n",
        "0.544\n",
        "0.545\n",
        "0.546\n",
        "0.547\n",
        "0.548\n",
        "0.549\n",
        "0.55\n",
        "0.551\n",
        "0.552\n",
        "0.553\n",
        "0.554\n",
        "0.555\n",
        "0.556\n",
        "0.557\n",
        "0.558"
       ]
      },
      {
       "output_type": "stream",
       "stream": "stdout",
       "text": [
        "\n",
        "0.559\n",
        "0.56\n",
        "0.561\n",
        "0.562\n",
        "0.563\n",
        "0.564\n",
        "0.565\n",
        "0.566\n",
        "0.567\n",
        "0.568\n",
        "0.569\n",
        "0.57\n",
        "0.571\n",
        "0.572\n",
        "0.573\n",
        "0.574\n",
        "0.575\n",
        "0.576\n",
        "0.577\n",
        "0.578\n",
        "0.579\n",
        "0.58\n",
        "0.581\n",
        "0.582\n",
        "0.583\n",
        "0.584\n",
        "0.585\n",
        "0.586\n",
        "0.587\n",
        "0.588\n",
        "0.589\n",
        "0.59\n",
        "0.591\n",
        "0.592\n",
        "0.593\n",
        "0.594\n",
        "0.595\n",
        "0.596\n",
        "0.597\n",
        "0.598\n",
        "0.599\n",
        "0.6\n",
        "0.601\n",
        "0.602\n",
        "0.603\n",
        "0.604\n",
        "0.605\n",
        "0.606\n",
        "0.607\n",
        "0.608\n",
        "0.609\n",
        "0.61\n",
        "0.611\n",
        "0.612\n",
        "0.613\n",
        "0.614\n",
        "0.615\n",
        "0.616\n",
        "0.617\n",
        "0.618\n",
        "0.619\n",
        "0.62\n",
        "0.621\n",
        "0.622\n",
        "0.623\n",
        "0.624\n",
        "0.625\n",
        "0.626\n",
        "0.627\n",
        "0.628\n",
        "0.629\n",
        "0.63\n",
        "0.631\n",
        "0.632\n",
        "0.633\n",
        "0.634\n",
        "0.635\n",
        "0.636\n",
        "0.637\n",
        "0.638\n",
        "0.639\n",
        "0.64\n",
        "0.641\n",
        "0.642\n",
        "0.643\n",
        "0.644\n",
        "0.645\n",
        "0.646\n",
        "0.647\n",
        "0.648\n",
        "0.649\n",
        "0.65\n",
        "0.651\n",
        "0.652\n",
        "0.653\n",
        "0.654\n",
        "0.655\n",
        "0.656\n",
        "0.657\n",
        "0.658\n",
        "0.659\n",
        "0.66\n",
        "0.661\n",
        "0.662\n",
        "0.663\n",
        "0.664\n",
        "0.665\n",
        "0.666\n",
        "0.667\n",
        "0.668\n",
        "0.669\n",
        "0.67\n",
        "0.671\n",
        "0.672\n",
        "0.673\n",
        "0.674\n",
        "0.675\n",
        "0.676\n",
        "0.677\n",
        "0.678\n",
        "0.679\n",
        "0.68\n",
        "0.681\n",
        "0.682\n",
        "0.683\n",
        "0.684\n",
        "0.685\n",
        "0.686\n",
        "0.687\n",
        "0.688\n",
        "0.689\n",
        "0.69\n",
        "0.691\n",
        "0.692\n",
        "0.693\n",
        "0.694\n",
        "0.695\n",
        "0.696\n",
        "0.697"
       ]
      },
      {
       "output_type": "stream",
       "stream": "stdout",
       "text": [
        "\n",
        "0.698\n",
        "0.699\n",
        "0.7\n",
        "0.701\n",
        "0.702\n",
        "0.703\n",
        "0.704\n",
        "0.705\n",
        "0.706\n",
        "0.707\n",
        "0.708\n",
        "0.709\n",
        "0.71\n",
        "0.711\n",
        "0.712\n",
        "0.713\n",
        "0.714\n",
        "0.715\n",
        "0.716\n",
        "0.717\n",
        "0.718\n",
        "0.719\n",
        "0.72\n",
        "0.721\n",
        "0.722\n",
        "0.723\n",
        "0.724\n",
        "0.725\n",
        "0.726\n",
        "0.727\n",
        "0.728\n",
        "0.729\n",
        "0.73\n",
        "0.731\n",
        "0.732\n",
        "0.733\n",
        "0.734\n",
        "0.735\n",
        "0.736\n",
        "0.737\n",
        "0.738\n",
        "0.739\n",
        "0.74\n",
        "0.741\n",
        "0.742\n",
        "0.743\n",
        "0.744\n",
        "0.745\n",
        "0.746\n",
        "0.747\n",
        "0.748\n",
        "0.749\n",
        "0.75\n",
        "0.751\n",
        "0.752\n",
        "0.753\n",
        "0.754\n",
        "0.755\n",
        "0.756\n",
        "0.757\n",
        "0.758\n",
        "0.759\n",
        "0.76\n",
        "0.761\n",
        "0.762\n",
        "0.763\n",
        "0.764\n",
        "0.765\n",
        "0.766\n",
        "0.767\n",
        "0.768\n",
        "0.769\n",
        "0.77\n",
        "0.771\n",
        "0.772\n",
        "0.773\n",
        "0.774\n",
        "0.775\n",
        "0.776\n",
        "0.777\n",
        "0.778\n",
        "0.779\n",
        "0.78\n",
        "0.781\n",
        "0.782\n",
        "0.783\n",
        "0.784\n",
        "0.785\n",
        "0.786\n",
        "0.787\n",
        "0.788\n",
        "0.789\n",
        "0.79\n",
        "0.791\n",
        "0.792\n",
        "0.793\n",
        "0.794\n",
        "0.795\n",
        "0.796\n",
        "0.797\n",
        "0.798\n",
        "0.799\n",
        "0.8\n",
        "0.801\n",
        "0.802\n",
        "0.803\n",
        "0.804\n",
        "0.805\n",
        "0.806\n",
        "0.807\n",
        "0.808\n",
        "0.809\n",
        "0.81\n",
        "0.811\n",
        "0.812\n",
        "0.813\n",
        "0.814\n",
        "0.815\n",
        "0.816\n",
        "0.817\n",
        "0.818\n",
        "0.819\n",
        "0.82\n",
        "0.821\n",
        "0.822\n",
        "0.823\n",
        "0.824\n",
        "0.825\n",
        "0.826\n",
        "0.827\n",
        "0.828\n",
        "0.829\n",
        "0.83\n",
        "0.831\n",
        "0.832\n",
        "0.833\n",
        "0.834"
       ]
      },
      {
       "output_type": "stream",
       "stream": "stdout",
       "text": [
        "\n",
        "0.835\n",
        "0.836\n",
        "0.837\n",
        "0.838\n",
        "0.839\n",
        "0.84\n",
        "0.841\n",
        "0.842\n",
        "0.843\n",
        "0.844\n",
        "0.845\n",
        "0.846\n",
        "0.847\n",
        "0.848\n",
        "0.849\n",
        "0.85\n",
        "0.851\n",
        "0.852\n",
        "0.853\n",
        "0.854\n",
        "0.855\n",
        "0.856\n",
        "0.857\n",
        "0.858\n",
        "0.859\n",
        "0.86\n",
        "0.861\n",
        "0.862\n",
        "0.863\n",
        "0.864\n",
        "0.865\n",
        "0.866\n",
        "0.867\n",
        "0.868\n",
        "0.869\n",
        "0.87\n",
        "0.871\n",
        "0.872\n",
        "0.873\n",
        "0.874\n",
        "0.875\n",
        "0.876\n",
        "0.877\n",
        "0.878\n",
        "0.879\n",
        "0.88\n",
        "0.881\n",
        "0.882\n",
        "0.883\n",
        "0.884\n",
        "0.885\n",
        "0.886\n",
        "0.887\n",
        "0.888\n",
        "0.889\n",
        "0.89\n",
        "0.891\n",
        "0.892\n",
        "0.893\n",
        "0.894\n",
        "0.895\n",
        "0.896\n",
        "0.897\n",
        "0.898\n",
        "0.899\n",
        "0.9\n",
        "0.901\n",
        "0.902\n",
        "0.903\n",
        "0.904\n",
        "0.905\n",
        "0.906\n",
        "0.907\n",
        "0.908\n",
        "0.909\n",
        "0.91\n",
        "0.911\n",
        "0.912\n",
        "0.913\n",
        "0.914\n",
        "0.915\n",
        "0.916\n",
        "0.917\n",
        "0.918\n",
        "0.919\n",
        "0.92\n",
        "0.921\n",
        "0.922\n",
        "0.923\n",
        "0.924\n",
        "0.925\n",
        "0.926\n",
        "0.927\n",
        "0.928\n",
        "0.929\n",
        "0.93\n",
        "0.931\n",
        "0.932\n",
        "0.933\n",
        "0.934\n",
        "0.935\n",
        "0.936\n",
        "0.937\n",
        "0.938\n",
        "0.939\n",
        "0.94\n",
        "0.941\n",
        "0.942\n",
        "0.943\n",
        "0.944\n",
        "0.945\n",
        "0.946\n",
        "0.947\n",
        "0.948\n",
        "0.949\n",
        "0.95\n",
        "0.951\n",
        "0.952\n",
        "0.953\n",
        "0.954\n",
        "0.955\n",
        "0.956\n",
        "0.957\n",
        "0.958\n",
        "0.959\n",
        "0.96\n",
        "0.961\n",
        "0.962\n",
        "0.963\n",
        "0.964\n",
        "0.965\n",
        "0.966\n",
        "0.967\n",
        "0.968\n",
        "0.969\n",
        "0.97\n",
        "0.971"
       ]
      },
      {
       "output_type": "stream",
       "stream": "stdout",
       "text": [
        "\n",
        "0.972\n",
        "0.973\n",
        "0.974\n",
        "0.975\n",
        "0.976\n",
        "0.977\n",
        "0.978\n",
        "0.979\n",
        "0.98\n",
        "0.981\n",
        "0.982\n",
        "0.983\n",
        "0.984\n",
        "0.985\n",
        "0.986\n",
        "0.987\n",
        "0.988\n",
        "0.989\n",
        "0.99\n",
        "0.991\n",
        "0.992\n",
        "0.993\n",
        "0.994\n",
        "0.995\n",
        "0.996\n",
        "0.997\n",
        "0.998\n",
        "0.999\n"
       ]
      }
     ],
     "prompt_number": 33
    },
    {
     "cell_type": "code",
     "collapsed": false,
     "input": [
      "import nrrd\n",
      "nrrd.write(\"/media/s1144899/OS/Temp/trackEM2/c_ouput3.nrrd\",outputImg*255)"
     ],
     "language": "python",
     "metadata": {},
     "outputs": [],
     "prompt_number": 34
    },
    {
     "cell_type": "code",
     "collapsed": false,
     "input": [
      "bezCurvePoints[i][0]"
     ],
     "language": "python",
     "metadata": {},
     "outputs": [
      {
       "metadata": {},
       "output_type": "pyout",
       "prompt_number": 45,
       "text": [
        "array([ 223.,  200.,   74.])"
       ]
      }
     ],
     "prompt_number": 45
    },
    {
     "cell_type": "code",
     "collapsed": false,
     "input": [],
     "language": "python",
     "metadata": {},
     "outputs": []
    }
   ],
   "metadata": {}
  }
 ]
}